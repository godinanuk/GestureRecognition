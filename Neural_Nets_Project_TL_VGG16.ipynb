{
 "cells": [
  {
   "cell_type": "markdown",
   "metadata": {},
   "source": [
    "# Gesture Recognition\n",
    "In this group project, you are going to build a 3D Conv model that will be able to predict the 5 gestures correctly. Please import the following libraries to get started."
   ]
  },
  {
   "cell_type": "code",
   "execution_count": 1,
   "metadata": {},
   "outputs": [],
   "source": [
    "import numpy as np\n",
    "import pandas as pd\n",
    "import random as rn\n",
    "import os\n",
    "import datetime\n",
    "import os\n",
    "import warnings\n",
    "warnings.filterwarnings('ignore')"
   ]
  },
  {
   "cell_type": "markdown",
   "metadata": {},
   "source": [
    "We set the random seed so that the results don't vary drastically."
   ]
  },
  {
   "cell_type": "code",
   "execution_count": 2,
   "metadata": {},
   "outputs": [
    {
     "name": "stdout",
     "output_type": "stream",
     "text": [
      "Tensorflow version:  2.3.0\n",
      "Please install GPU version of TF\n"
     ]
    }
   ],
   "source": [
    "from keras import backend as K\n",
    "import tensorflow as tf\n",
    "from tensorflow.keras import layers\n",
    "from tensorflow.keras import Model\n",
    "from tensorflow.keras.applications.vgg16 import VGG16\n",
    "from tensorflow.keras.preprocessing.image import ImageDataGenerator\n",
    "\n",
    "print('Tensorflow version: ',tf.__version__)\n",
    "np.random.seed(30)\n",
    "rn.seed(30)\n",
    "tf.random.set_seed(30)\n",
    "\n",
    "if tf.test.gpu_device_name():\n",
    "    print('Default GPU Device:{}'.format(tf.test.gpu_device_name()))\n",
    "else:\n",
    "    print(\"Please install GPU version of TF\")"
   ]
  },
  {
   "cell_type": "markdown",
   "metadata": {},
   "source": [
    "In this block, you read the folder names for training and validation. You also set the `batch_size` here. Note that you set the batch size in such a way that you are able to use the GPU in full capacity. You keep increasing the batch size until the machine throws an error."
   ]
  },
  {
   "cell_type": "code",
   "execution_count": 3,
   "metadata": {},
   "outputs": [],
   "source": [
    "train_doc = np.random.permutation(open('Project_data/train.csv').readlines())\n",
    "val_doc = np.random.permutation(open('Project_data/val.csv').readlines())\n",
    "batch_size = 30 #experiment with the batch size"
   ]
  },
  {
   "cell_type": "code",
   "execution_count": 4,
   "metadata": {
    "scrolled": false
   },
   "outputs": [
    {
     "name": "stdout",
     "output_type": "stream",
     "text": [
      "# training sequences = 663\n",
      "# training batches = 22\n",
      "# validation sequences = 100\n",
      "# epochs = 50\n"
     ]
    }
   ],
   "source": [
    "curr_dt_time = datetime.datetime.now()\n",
    "train_path = 'Project_data/train'\n",
    "val_path = 'Project_data/val'\n",
    "num_train_sequences = len(train_doc)\n",
    "print('# training sequences =', num_train_sequences)\n",
    "print('# training batches =', int(num_train_sequences/30))\n",
    "num_val_sequences = len(val_doc)\n",
    "print('# validation sequences =', num_val_sequences)\n",
    "num_epochs = 50 # choose the number of epochs\n",
    "print ('# epochs =', num_epochs)"
   ]
  },
  {
   "cell_type": "markdown",
   "metadata": {},
   "source": [
    "As we can see we have two shapes of images (160,120) and (360,360).  We will standardize the image shapes to (120,120)"
   ]
  },
  {
   "cell_type": "markdown",
   "metadata": {},
   "source": [
    "## Model"
   ]
  },
  {
   "cell_type": "markdown",
   "metadata": {},
   "source": [
    "### Transfer Learning using MobileNetV2"
   ]
  },
  {
   "cell_type": "code",
   "execution_count": 5,
   "metadata": {
    "scrolled": true
   },
   "outputs": [
    {
     "name": "stdout",
     "output_type": "stream",
     "text": [
      "Downloading data from https://storage.googleapis.com/tensorflow/keras-applications/vgg16/vgg16_weights_tf_dim_ordering_tf_kernels_notop.h5\n",
      "58892288/58889256 [==============================] - 30s 1us/step\n"
     ]
    }
   ],
   "source": [
    "from keras.models import Sequential, Model\n",
    "from keras.layers import Dense, GRU, LSTM, Flatten, TimeDistributed, Flatten, BatchNormalization, Activation, Dropout\n",
    "from keras.layers.convolutional import Conv3D, MaxPooling3D\n",
    "from keras.callbacks import ModelCheckpoint, ReduceLROnPlateau, EarlyStopping\n",
    "from keras import optimizers\n",
    "from keras import initializers\n",
    "\n",
    "#write your model here\n",
    "nb_filters = [8,16,32,64]\n",
    "nb_dense = [1024, 512, 5]\n",
    "\n",
    "pre_trained_model = VGG16(weights='imagenet',input_shape = (160, 160, 3), include_top=False)\n",
    "\n",
    "for layer in pre_trained_model.layers:\n",
    "    layer.trainable = False\n",
    "\n",
    "# Last layer output of pre-trained model\n",
    "last_output = pre_trained_model.output\n",
    "\n",
    "# Flatten the output layer to 1 dimension\n",
    "x = layers.Flatten()(last_output)\n",
    "\n",
    "# Add a fully connected layer with 1,024 hidden units and ReLU activation\n",
    "x = layers.Dense(nb_dense[0], activation='relu')(x)\n",
    "x = layers.Dense(nb_dense[1], activation='relu')(x) \n",
    "\n",
    "# Add a dropout rate of 0.4\n",
    "x = layers.Dropout(0.4)(x) \n",
    "\n",
    "# Add a final sigmoid layer for classification\n",
    "x = layers.Dense  (nb_dense[2], activation='softmax')(x)           \n",
    "\n",
    "model = Model( pre_trained_model.input, x) "
   ]
  },
  {
   "cell_type": "markdown",
   "metadata": {},
   "source": [
    "Now that you have written the model, the next step is to `compile` the model. When you print the `summary` of the model, you'll see the total number of parameters you have to train."
   ]
  },
  {
   "cell_type": "code",
   "execution_count": 6,
   "metadata": {
    "scrolled": true
   },
   "outputs": [
    {
     "name": "stdout",
     "output_type": "stream",
     "text": [
      "Model: \"functional_1\"\n",
      "_________________________________________________________________\n",
      "Layer (type)                 Output Shape              Param #   \n",
      "=================================================================\n",
      "input_1 (InputLayer)         [(None, 160, 160, 3)]     0         \n",
      "_________________________________________________________________\n",
      "block1_conv1 (Conv2D)        (None, 160, 160, 64)      1792      \n",
      "_________________________________________________________________\n",
      "block1_conv2 (Conv2D)        (None, 160, 160, 64)      36928     \n",
      "_________________________________________________________________\n",
      "block1_pool (MaxPooling2D)   (None, 80, 80, 64)        0         \n",
      "_________________________________________________________________\n",
      "block2_conv1 (Conv2D)        (None, 80, 80, 128)       73856     \n",
      "_________________________________________________________________\n",
      "block2_conv2 (Conv2D)        (None, 80, 80, 128)       147584    \n",
      "_________________________________________________________________\n",
      "block2_pool (MaxPooling2D)   (None, 40, 40, 128)       0         \n",
      "_________________________________________________________________\n",
      "block3_conv1 (Conv2D)        (None, 40, 40, 256)       295168    \n",
      "_________________________________________________________________\n",
      "block3_conv2 (Conv2D)        (None, 40, 40, 256)       590080    \n",
      "_________________________________________________________________\n",
      "block3_conv3 (Conv2D)        (None, 40, 40, 256)       590080    \n",
      "_________________________________________________________________\n",
      "block3_pool (MaxPooling2D)   (None, 20, 20, 256)       0         \n",
      "_________________________________________________________________\n",
      "block4_conv1 (Conv2D)        (None, 20, 20, 512)       1180160   \n",
      "_________________________________________________________________\n",
      "block4_conv2 (Conv2D)        (None, 20, 20, 512)       2359808   \n",
      "_________________________________________________________________\n",
      "block4_conv3 (Conv2D)        (None, 20, 20, 512)       2359808   \n",
      "_________________________________________________________________\n",
      "block4_pool (MaxPooling2D)   (None, 10, 10, 512)       0         \n",
      "_________________________________________________________________\n",
      "block5_conv1 (Conv2D)        (None, 10, 10, 512)       2359808   \n",
      "_________________________________________________________________\n",
      "block5_conv2 (Conv2D)        (None, 10, 10, 512)       2359808   \n",
      "_________________________________________________________________\n",
      "block5_conv3 (Conv2D)        (None, 10, 10, 512)       2359808   \n",
      "_________________________________________________________________\n",
      "block5_pool (MaxPooling2D)   (None, 5, 5, 512)         0         \n",
      "_________________________________________________________________\n",
      "flatten (Flatten)            (None, 12800)             0         \n",
      "_________________________________________________________________\n",
      "dense (Dense)                (None, 1024)              13108224  \n",
      "_________________________________________________________________\n",
      "dense_1 (Dense)              (None, 512)               524800    \n",
      "_________________________________________________________________\n",
      "dropout (Dropout)            (None, 512)               0         \n",
      "_________________________________________________________________\n",
      "dense_2 (Dense)              (None, 5)                 2565      \n",
      "=================================================================\n",
      "Total params: 28,350,277\n",
      "Trainable params: 13,635,589\n",
      "Non-trainable params: 14,714,688\n",
      "_________________________________________________________________\n",
      "None\n"
     ]
    }
   ],
   "source": [
    "optimiser = optimizers.Adam(lr=0.01)  #write your optimizer\n",
    "cb = EarlyStopping(monitor='val_loss', mode='min', verbose=1, patience=5)\n",
    "\n",
    "mc = ModelCheckpoint('nats_best_model.h5', monitor='val_loss', mode='min', \n",
    "                     save_best_only=True, save_weights_only=False)\n",
    "\n",
    "LR =  ReduceLROnPlateau(monitor='val_loss', factor=0.1, patience=2, verbose=1, mode='min',\n",
    "                        min_delta=0.0001, cooldown=0, min_lr=0) \n",
    "\n",
    "\n",
    "callbacks_list=[cb, mc, LR]\n",
    "model.compile(optimizer='Adam', loss='categorical_crossentropy', metrics=['categorical_accuracy']) \n",
    "print (model.summary())"
   ]
  },
  {
   "cell_type": "markdown",
   "metadata": {},
   "source": [
    "Let us create the `train_generator` and the `val_generator` which will be used in `.fit_generator`."
   ]
  },
  {
   "cell_type": "code",
   "execution_count": 7,
   "metadata": {},
   "outputs": [
    {
     "name": "stdout",
     "output_type": "stream",
     "text": [
      "Found 19909 images belonging to 5 classes.\n",
      "Found 3000 images belonging to 5 classes.\n"
     ]
    }
   ],
   "source": [
    "# Add our data-augmentation parameters to ImageDataGenerator\n",
    "train_datagen = ImageDataGenerator(rescale = 1./255.,\n",
    "                                   rotation_range = 40,\n",
    "                                   #width_shift_range = 0.2,\n",
    "                                   #height_shift_range = 0.2,\n",
    "                                   shear_range = 0.2,\n",
    "                                   #zoom_range = 0.2,\n",
    "                                   horizontal_flip = True)\n",
    "\n",
    "# Note that the validation data should not be augmented!\n",
    "test_datagen = ImageDataGenerator( rescale = 1./255.)\n",
    "\n",
    "# Flow training images in batches of batch_size using train_datagen generator\n",
    "train_generator = train_datagen.flow_from_directory(train_path,\n",
    "                                                    batch_size = batch_size,\n",
    "                                                    class_mode = 'categorical', \n",
    "                                                    target_size = (160, 160))     \n",
    "\n",
    "# Flow validation images in batches of batch_size using test_datagen generator\n",
    "val_generator =  test_datagen.flow_from_directory(val_path,\n",
    "                                                  batch_size  = batch_size,\n",
    "                                                  class_mode  = 'categorical', \n",
    "                                                  target_size = (160, 160))"
   ]
  },
  {
   "cell_type": "markdown",
   "metadata": {},
   "source": [
    "The `steps_per_epoch` and `validation_steps` are used by `fit_generator` to decide the number of next() calls it need to make."
   ]
  },
  {
   "cell_type": "code",
   "execution_count": 8,
   "metadata": {},
   "outputs": [],
   "source": [
    "if (num_train_sequences%batch_size) == 0:\n",
    "    steps_per_epoch = int(num_train_sequences/batch_size)\n",
    "else:\n",
    "    steps_per_epoch = (num_train_sequences//batch_size) + 1\n",
    "\n",
    "if (num_val_sequences%batch_size) == 0:\n",
    "    validation_steps = int(num_val_sequences/batch_size)\n",
    "else:\n",
    "    validation_steps = (num_val_sequences//batch_size) + 1"
   ]
  },
  {
   "cell_type": "markdown",
   "metadata": {},
   "source": [
    "Let us now fit the model. This will start training the model and with the help of the checkpoints, you'll be able to save the model at the end of each epoch."
   ]
  },
  {
   "cell_type": "code",
   "execution_count": 9,
   "metadata": {},
   "outputs": [
    {
     "name": "stdout",
     "output_type": "stream",
     "text": [
      "Epoch 1/30\n",
      "23/23 [==============================] - 167s 7s/step - loss: 3.3796 - categorical_accuracy: 0.2333 - val_loss: 1.3072 - val_categorical_accuracy: 0.4417\n",
      "Epoch 2/30\n",
      "23/23 [==============================] - 167s 7s/step - loss: 1.4119 - categorical_accuracy: 0.4087 - val_loss: 1.2106 - val_categorical_accuracy: 0.4667\n",
      "Epoch 3/30\n",
      "23/23 [==============================] - 159s 7s/step - loss: 1.2327 - categorical_accuracy: 0.4841 - val_loss: 1.0450 - val_categorical_accuracy: 0.6000\n",
      "Epoch 4/30\n",
      "23/23 [==============================] - 149s 6s/step - loss: 1.0864 - categorical_accuracy: 0.5609 - val_loss: 0.9363 - val_categorical_accuracy: 0.6667\n",
      "Epoch 5/30\n",
      "23/23 [==============================] - 140s 6s/step - loss: 0.8986 - categorical_accuracy: 0.6551 - val_loss: 0.8150 - val_categorical_accuracy: 0.6333\n",
      "Epoch 6/30\n",
      "23/23 [==============================] - 141s 6s/step - loss: 0.7621 - categorical_accuracy: 0.7087 - val_loss: 0.8062 - val_categorical_accuracy: 0.6917\n",
      "Epoch 7/30\n",
      "23/23 [==============================] - 139s 6s/step - loss: 0.7495 - categorical_accuracy: 0.7116 - val_loss: 0.7492 - val_categorical_accuracy: 0.6833\n",
      "Epoch 8/30\n",
      "23/23 [==============================] - 142s 6s/step - loss: 0.7167 - categorical_accuracy: 0.7290 - val_loss: 0.7876 - val_categorical_accuracy: 0.6917\n",
      "Epoch 9/30\n",
      "23/23 [==============================] - 149s 6s/step - loss: 0.7500 - categorical_accuracy: 0.7174 - val_loss: 0.6940 - val_categorical_accuracy: 0.7417\n",
      "Epoch 10/30\n",
      "23/23 [==============================] - 165s 7s/step - loss: 0.6988 - categorical_accuracy: 0.7362 - val_loss: 0.9318 - val_categorical_accuracy: 0.6417\n",
      "Epoch 11/30\n",
      "23/23 [==============================] - ETA: 0s - loss: 0.6160 - categorical_accuracy: 0.7783\n",
      "Epoch 00011: ReduceLROnPlateau reducing learning rate to 0.00010000000474974513.\n",
      "23/23 [==============================] - 138s 6s/step - loss: 0.6160 - categorical_accuracy: 0.7783 - val_loss: 0.7275 - val_categorical_accuracy: 0.7083\n",
      "Epoch 12/30\n",
      "23/23 [==============================] - 138s 6s/step - loss: 0.4844 - categorical_accuracy: 0.8333 - val_loss: 0.7361 - val_categorical_accuracy: 0.7083\n",
      "Epoch 13/30\n",
      "23/23 [==============================] - 147s 6s/step - loss: 0.4953 - categorical_accuracy: 0.8188 - val_loss: 0.6810 - val_categorical_accuracy: 0.7417\n",
      "Epoch 14/30\n",
      "23/23 [==============================] - 145s 6s/step - loss: 0.4409 - categorical_accuracy: 0.8449 - val_loss: 0.7356 - val_categorical_accuracy: 0.6917\n",
      "Epoch 15/30\n",
      "23/23 [==============================] - ETA: 0s - loss: 0.4250 - categorical_accuracy: 0.8435\n",
      "Epoch 00015: ReduceLROnPlateau reducing learning rate to 1.0000000474974514e-05.\n",
      "23/23 [==============================] - 147s 6s/step - loss: 0.4250 - categorical_accuracy: 0.8435 - val_loss: 0.8571 - val_categorical_accuracy: 0.7167\n",
      "Epoch 16/30\n",
      "23/23 [==============================] - 140s 6s/step - loss: 0.4240 - categorical_accuracy: 0.8507 - val_loss: 0.7228 - val_categorical_accuracy: 0.7333\n",
      "Epoch 17/30\n",
      "23/23 [==============================] - 146s 6s/step - loss: 0.4311 - categorical_accuracy: 0.8536 - val_loss: 0.6531 - val_categorical_accuracy: 0.7417\n",
      "Epoch 18/30\n",
      "23/23 [==============================] - 136s 6s/step - loss: 0.4586 - categorical_accuracy: 0.8391 - val_loss: 0.6105 - val_categorical_accuracy: 0.8000\n",
      "Epoch 19/30\n",
      "23/23 [==============================] - 141s 6s/step - loss: 0.4212 - categorical_accuracy: 0.8580 - val_loss: 0.5889 - val_categorical_accuracy: 0.7583\n",
      "Epoch 20/30\n",
      "23/23 [==============================] - 135s 6s/step - loss: 0.4316 - categorical_accuracy: 0.8551 - val_loss: 0.8304 - val_categorical_accuracy: 0.6500\n",
      "Epoch 21/30\n",
      "23/23 [==============================] - ETA: 0s - loss: 0.4829 - categorical_accuracy: 0.8333\n",
      "Epoch 00021: ReduceLROnPlateau reducing learning rate to 1.0000000656873453e-06.\n",
      "23/23 [==============================] - 139s 6s/step - loss: 0.4829 - categorical_accuracy: 0.8333 - val_loss: 0.6887 - val_categorical_accuracy: 0.7583\n",
      "Epoch 22/30\n",
      "23/23 [==============================] - 143s 6s/step - loss: 0.4236 - categorical_accuracy: 0.8478 - val_loss: 0.8126 - val_categorical_accuracy: 0.7000\n",
      "Epoch 23/30\n",
      "23/23 [==============================] - ETA: 0s - loss: 0.4571 - categorical_accuracy: 0.8507\n",
      "Epoch 00023: ReduceLROnPlateau reducing learning rate to 1.0000001111620805e-07.\n",
      "23/23 [==============================] - 136s 6s/step - loss: 0.4571 - categorical_accuracy: 0.8507 - val_loss: 0.7343 - val_categorical_accuracy: 0.7000\n",
      "Epoch 24/30\n",
      "23/23 [==============================] - 143s 6s/step - loss: 0.4044 - categorical_accuracy: 0.8623 - val_loss: 0.8523 - val_categorical_accuracy: 0.7167\n",
      "Epoch 00024: early stopping\n"
     ]
    }
   ],
   "source": [
    "history = model.fit(\n",
    "            train_generator,\n",
    "            validation_data = val_generator,\n",
    "            steps_per_epoch = steps_per_epoch,\n",
    "            epochs = 30,\n",
    "            validation_steps = validation_steps,\n",
    "            callbacks=callbacks_list,\n",
    "            verbose = 1)"
   ]
  },
  {
   "cell_type": "code",
   "execution_count": 10,
   "metadata": {},
   "outputs": [
    {
     "data": {
      "image/png": "[encoded data removed]",
      "text/plain": [
       "<Figure size 432x288 with 1 Axes>"
      ]
     },
     "metadata": {
      "needs_background": "light"
     },
     "output_type": "display_data"
    },
    {
     "data": {
      "image/png": "[encoded data removed]",
      "text/plain": [
       "<Figure size 432x288 with 1 Axes>"
      ]
     },
     "metadata": {
      "needs_background": "light"
     },
     "output_type": "display_data"
    }
   ],
   "source": [
    "# Plot Train and validation loss and accuracies\n",
    "history_frame = pd.DataFrame(history.history)\n",
    "history_frame.loc[:, ['loss', 'val_loss']].plot()\n",
    "history_frame.loc[:, ['categorical_accuracy', 'val_categorical_accuracy']].plot();"
   ]
  },
  {
   "cell_type": "markdown",
   "metadata": {},
   "source": [
    "#### We have seen 80% validation accuracy and a high train accuracy of around 86%.  Model's performance is satisfactory but still opportunities to improve.  "
   ]
  },
  {
   "cell_type": "code",
   "execution_count": null,
   "metadata": {},
   "outputs": [],
   "source": []
  }
 ],
 "metadata": {
  "kernelspec": {
   "display_name": "Python 3",
   "language": "python",
   "name": "python3"
  },
  "language_info": {
   "codemirror_mode": {
    "name": "ipython",
    "version": 3
   },
   "file_extension": ".py",
   "mimetype": "text/x-python",
   "name": "python",
   "nbconvert_exporter": "python",
   "pygments_lexer": "ipython3",
   "version": "3.7.9"
  }
 },
 "nbformat": 4,
 "nbformat_minor": 2
}
