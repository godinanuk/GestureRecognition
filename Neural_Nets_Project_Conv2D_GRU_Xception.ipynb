{
 "cells": [
  {
   "cell_type": "markdown",
   "metadata": {
    "papermill": {
     "duration": 0.014423,
     "end_time": "2021-01-09T08:37:31.752998",
     "exception": false,
     "start_time": "2021-01-09T08:37:31.738575",
     "status": "completed"
    },
    "tags": []
   },
   "source": [
    "# Gesture Recognition\n",
    "In this group project, you are going to build a CNN-RNN model with Xception that will be able to predict the 5 gestures correctly. Please import the following libraries to get started."
   ]
  },
  {
   "cell_type": "code",
   "execution_count": 1,
   "metadata": {
    "execution": {
     "iopub.execute_input": "2021-01-09T08:37:31.786582Z",
     "iopub.status.busy": "2021-01-09T08:37:31.785872Z",
     "iopub.status.idle": "2021-01-09T08:37:31.788799Z",
     "shell.execute_reply": "2021-01-09T08:37:31.788345Z"
    },
    "papermill": {
     "duration": 0.021667,
     "end_time": "2021-01-09T08:37:31.788888",
     "exception": false,
     "start_time": "2021-01-09T08:37:31.767221",
     "status": "completed"
    },
    "tags": []
   },
   "outputs": [],
   "source": [
    "import numpy as np\n",
    "import pandas as pd\n",
    "import os\n",
    "import datetime\n",
    "import time\n",
    "import warnings\n",
    "warnings.filterwarnings('ignore')\n",
    "\n",
    "start_time=time.time()"
   ]
  },
  {
   "cell_type": "markdown",
   "metadata": {
    "papermill": {
     "duration": 0.013793,
     "end_time": "2021-01-09T08:37:31.816027",
     "exception": false,
     "start_time": "2021-01-09T08:37:31.802234",
     "status": "completed"
    },
    "tags": []
   },
   "source": [
    "We set the random seed so that the results don't vary drastically."
   ]
  },
  {
   "cell_type": "code",
   "execution_count": 2,
   "metadata": {
    "execution": {
     "iopub.execute_input": "2021-01-09T08:37:31.848581Z",
     "iopub.status.busy": "2021-01-09T08:37:31.847948Z",
     "iopub.status.idle": "2021-01-09T08:37:38.177331Z",
     "shell.execute_reply": "2021-01-09T08:37:38.177944Z"
    },
    "papermill": {
     "duration": 6.348726,
     "end_time": "2021-01-09T08:37:38.178081",
     "exception": false,
     "start_time": "2021-01-09T08:37:31.829355",
     "status": "completed"
    },
    "tags": []
   },
   "outputs": [
    {
     "name": "stdout",
     "output_type": "stream",
     "text": [
      "Tensorflow version:  2.3.1\n",
      "Default GPU Device:/device:GPU:0\n"
     ]
    }
   ],
   "source": [
    "np.random.seed(30)\n",
    "import random as rn\n",
    "rn.seed(30)\n",
    "from tensorflow.keras import backend as K\n",
    "import tensorflow as tf\n",
    "print('Tensorflow version: ',tf.__version__)\n",
    "tf.random.set_seed(30)\n",
    "if tf.test.gpu_device_name():\n",
    "    print('Default GPU Device:{}'.format(tf.test.gpu_device_name()))\n",
    "else:\n",
    "    print(\"Please install GPU version of TF\")"
   ]
  },
  {
   "cell_type": "markdown",
   "metadata": {
    "papermill": {
     "duration": 0.01528,
     "end_time": "2021-01-09T08:37:38.208121",
     "exception": false,
     "start_time": "2021-01-09T08:37:38.192841",
     "status": "completed"
    },
    "tags": []
   },
   "source": [
    "In this block, you read the folder names for training and validation. You also set the `batch_size` here. Note that you set the batch size in such a way that you are able to use the GPU in full capacity. You keep increasing the batch size until the machine throws an error."
   ]
  },
  {
   "cell_type": "code",
   "execution_count": 3,
   "metadata": {
    "execution": {
     "iopub.execute_input": "2021-01-09T08:37:38.242140Z",
     "iopub.status.busy": "2021-01-09T08:37:38.241641Z",
     "iopub.status.idle": "2021-01-09T08:37:38.274111Z",
     "shell.execute_reply": "2021-01-09T08:37:38.274674Z"
    },
    "papermill": {
     "duration": 0.052631,
     "end_time": "2021-01-09T08:37:38.274815",
     "exception": false,
     "start_time": "2021-01-09T08:37:38.222184",
     "status": "completed"
    },
    "tags": []
   },
   "outputs": [
    {
     "name": "stdout",
     "output_type": "stream",
     "text": [
      "Number of frames being considered : 15\n"
     ]
    }
   ],
   "source": [
    "BASE_PATH='../input/untouched-gesture-dataset'\n",
    "#BASE_PATH='.'\n",
    "train_doc = np.random.permutation(open(BASE_PATH+'/Project_data/train.csv').readlines())\n",
    "val_doc = np.random.permutation(open(BASE_PATH+'/Project_data/val.csv').readlines())\n",
    "BATCH_SIZE = 32 #experiment with the batch size\n",
    "IMG_HEIGHT = 120\n",
    "IMG_WIDTH = 120\n",
    "LEARNING_RATE=0.0001\n",
    "FRAMES=len(list(range(1,30,2)))\n",
    "NUM_EPOCHS = 50\n",
    "print('Number of frames being considered :',FRAMES)"
   ]
  },
  {
   "cell_type": "markdown",
   "metadata": {
    "papermill": {
     "duration": 0.014317,
     "end_time": "2021-01-09T08:37:38.304711",
     "exception": false,
     "start_time": "2021-01-09T08:37:38.290394",
     "status": "completed"
    },
    "tags": []
   },
   "source": [
    "## Generator\n",
    "This is one of the most important part of the code. The overall structure of the generator has been given. In the generator, you are going to preprocess the images as you have images of 2 different dimensions as well as create a batch of video frames. You have to experiment with `img_idx`, `y`,`z` and normalization such that you get high accuracy."
   ]
  },
  {
   "cell_type": "code",
   "execution_count": 4,
   "metadata": {
    "execution": {
     "iopub.execute_input": "2021-01-09T08:37:38.362254Z",
     "iopub.status.busy": "2021-01-09T08:37:38.361630Z",
     "iopub.status.idle": "2021-01-09T08:37:38.364590Z",
     "shell.execute_reply": "2021-01-09T08:37:38.364171Z"
    },
    "papermill": {
     "duration": 0.045431,
     "end_time": "2021-01-09T08:37:38.364676",
     "exception": false,
     "start_time": "2021-01-09T08:37:38.319245",
     "status": "completed"
    },
    "tags": []
   },
   "outputs": [],
   "source": [
    "def generator(source_path, folder_list, batch_size):\n",
    "    #print( 'Source path = ', source_path, '; batch size =', batch_size)\n",
    "    # We will consider frames 10 to 20 for training\n",
    "    img_idx = range(0,30,2) #create a list of image numbers you want to use for a particular video\n",
    "    while True:\n",
    "        t = np.random.permutation(folder_list)\n",
    "        num_batches = int(len(folder_list) / batch_size) # calculate the number of batches\n",
    "        for batch in range(num_batches): # we iterate over the number of batches\n",
    "            # second parameter x set to len(img_idx) list - indicates no. of images we want to use for each video\n",
    "            # third and fourth parameters (y,z) indicate the final size of input image\n",
    "            batch_data = np.zeros((batch_size,len(img_idx),120,120,3)) # x is the number of images you use for each video, (y,z) is the final size of the input images and 3 is the number of channels RGB\n",
    "            batch_labels = np.zeros((batch_size,5)) # batch_labels is the one hot representation of the output\n",
    "            for folder in range(batch_size): # iterate over the batch_size\n",
    "                imgs = os.listdir(source_path+'/'+ t[folder + (batch*batch_size)].split(';')[0]) # read all the images in the folder\n",
    "                for idx,item in enumerate(img_idx): #  Iterate iver the frames/images of a folder to read them in\n",
    "                    image = tf.io.read_file(source_path+'/'+ t[folder + (batch*batch_size)].strip().split(';')[0]+'/'+imgs[item])\n",
    "                    image = tf.io.decode_jpeg(image,channels=3)\n",
    "                    #crop the images and resize them. Note that the images are of 2 different shape \n",
    "                    #and the conv3D will throw error if the inputs in a batch have different shapes\n",
    "                    # We will resize all the images to a standard shape of (120,120)\n",
    "                    # We will use distinct normalization methods for different channel\n",
    "                    im_resized = tf.image.resize(image,size=[IMG_HEIGHT,IMG_WIDTH],method='nearest') \n",
    "                    im_resized = tf.image.resize(tf.image.central_crop(im_resized,0.9),size=[IMG_HEIGHT,IMG_WIDTH],method='nearest')\n",
    "                    im_resized_0 = im_resized[:,:,0]\n",
    "                    im_resized_1 = im_resized[:,:,1]\n",
    "                    im_resized_2 = im_resized[:,:,2]\n",
    "                    batch_data[folder,idx,:,:,0] = (im_resized_0 - np.min(im_resized_0))/ (np.max(im_resized_0) - np.min(im_resized_0)) #normalise and feed in the image\n",
    "                    batch_data[folder,idx,:,:,1] = (im_resized_1 - np.percentile(im_resized_1,5))/ (np.percentile(im_resized_1,95) - np.percentile(im_resized_1,5)) #normalise and feed in the image\n",
    "                    batch_data[folder,idx,:,:,2] = im_resized_2/255 #normalise and feed in the image                    \n",
    "                batch_labels[folder, int(t[folder + (batch*batch_size)].strip().split(';')[2])] = 1\n",
    "            yield batch_data, batch_labels #you yield the batch_data and the batch_labels, remember what does yield do\n",
    "\n",
    "        \n",
    "        # write the code for the remaining data points which are left after full batches\n",
    "        if len(folder_list) != (num_batches * batch_size):\n",
    "            n_batch_size = len(folder_list) - (num_batches * batch_size)\n",
    "            batch_data = np.zeros((n_batch_size,len(img_idx),120,120,3))\n",
    "            batch_labels = np.zeros((n_batch_size,5))\n",
    "            for folder in range(n_batch_size): # iterate over the batch_size\n",
    "                imgs = os.listdir(source_path+'/'+ t[folder + (num_batches*n_batch_size)].split(';')[0]) # read all the images in the folder\n",
    "                for idx,item in enumerate(img_idx): #  Iterate iver the frames/images of a folder to read them in\n",
    "                    image = tf.io.read_file(source_path+'/'+ t[folder + (num_batches*n_batch_size)].strip().split(';')[0]+'/'+imgs[item])\n",
    "                    image = tf.io.decode_jpeg(image,channels=3)\n",
    "                    #crop the images and resize them. Note that the images are of 2 different shape \n",
    "                    #and the conv3D will throw error if the inputs in a batch have different shapes\n",
    "                    # We will resize all the images to a standard shape of (120,120)\n",
    "                    # We will use distinct normalization methods for different channel\n",
    "                    im_resized = tf.image.resize(image,size=[IMG_HEIGHT,IMG_WIDTH],method='nearest') \n",
    "                    im_resized = tf.image.resize(tf.image.central_crop(im_resized,0.9),size=[IMG_HEIGHT,IMG_WIDTH],method='nearest')\n",
    "                    im_resized_0 = im_resized[:,:,0]\n",
    "                    im_resized_1 = im_resized[:,:,1]\n",
    "                    im_resized_2 = im_resized[:,:,2]\n",
    "                    batch_data[folder,idx,:,:,0] = (im_resized_0 - np.min(im_resized_0))/ (np.max(im_resized_0) - np.min(im_resized_0)) #normalise and feed in the image\n",
    "                    batch_data[folder,idx,:,:,1] = (im_resized_1 - np.percentile(im_resized_1,5))/ (np.percentile(im_resized_1,95) - np.percentile(im_resized_1,5)) #normalise and feed in the image\n",
    "                    batch_data[folder,idx,:,:,2] = im_resized_2/255 #normalise and feed in the image   \n",
    "                    \n",
    "                batch_labels[folder, int(t[folder + (num_batches*n_batch_size)].strip().split(';')[2])] = 1\n",
    "            yield batch_data, batch_labels #you yield the batch_data and the batch_labels, remember what does yield do\n",
    "        "
   ]
  },
  {
   "cell_type": "markdown",
   "metadata": {
    "papermill": {
     "duration": 0.01438,
     "end_time": "2021-01-09T08:37:38.393554",
     "exception": false,
     "start_time": "2021-01-09T08:37:38.379174",
     "status": "completed"
    },
    "tags": []
   },
   "source": [
    "Note here that a video is represented above in the generator as (number of images, height, width, number of channels). Take this into consideration while creating the model architecture."
   ]
  },
  {
   "cell_type": "code",
   "execution_count": 5,
   "metadata": {
    "execution": {
     "iopub.execute_input": "2021-01-09T08:37:38.431064Z",
     "iopub.status.busy": "2021-01-09T08:37:38.430488Z",
     "iopub.status.idle": "2021-01-09T08:39:32.123169Z",
     "shell.execute_reply": "2021-01-09T08:39:32.122133Z"
    },
    "papermill": {
     "duration": 113.715109,
     "end_time": "2021-01-09T08:39:32.123308",
     "exception": false,
     "start_time": "2021-01-09T08:37:38.408199",
     "status": "completed"
    },
    "tags": []
   },
   "outputs": [
    {
     "name": "stdout",
     "output_type": "stream",
     "text": [
      "# training sequences = 663\n",
      "# training batches = 22\n",
      "# validation sequences = 100\n"
     ]
    }
   ],
   "source": [
    "from PIL import Image\n",
    "\n",
    "curr_dt_time = datetime.datetime.now()\n",
    "train_path = BASE_PATH+'/Project_data/train'\n",
    "val_path = BASE_PATH+'/Project_data/val'\n",
    "num_train_sequences = len(train_doc)\n",
    "print('# training sequences =', num_train_sequences)\n",
    "print('# training batches =', int(num_train_sequences/30))\n",
    "num_val_sequences = len(val_doc)\n",
    "print('# validation sequences =', num_val_sequences)\n",
    "\n",
    "img_sizes=[]\n",
    "for i in os.listdir(train_path):\n",
    "    if not(i.startswith('.')):\n",
    "        file_path = train_path + \"/\" + i\n",
    "        for j in os.listdir(file_path):\n",
    "            if not(j.startswith('.')):\n",
    "                im_path = file_path + \"/\" + j\n",
    "                im = Image.open(im_path)\n",
    "                img_sizes.append(im.size)"
   ]
  },
  {
   "cell_type": "code",
   "execution_count": 6,
   "metadata": {
    "execution": {
     "iopub.execute_input": "2021-01-09T08:39:32.161180Z",
     "iopub.status.busy": "2021-01-09T08:39:32.160646Z",
     "iopub.status.idle": "2021-01-09T08:39:32.166556Z",
     "shell.execute_reply": "2021-01-09T08:39:32.166113Z"
    },
    "papermill": {
     "duration": 0.027497,
     "end_time": "2021-01-09T08:39:32.166646",
     "exception": false,
     "start_time": "2021-01-09T08:39:32.139149",
     "status": "completed"
    },
    "tags": []
   },
   "outputs": [
    {
     "data": {
      "text/plain": [
       "{(160, 120), (360, 360)}"
      ]
     },
     "execution_count": 6,
     "metadata": {},
     "output_type": "execute_result"
    }
   ],
   "source": [
    "set(img_sizes)"
   ]
  },
  {
   "cell_type": "markdown",
   "metadata": {
    "papermill": {
     "duration": 0.016415,
     "end_time": "2021-01-09T08:39:32.198951",
     "exception": false,
     "start_time": "2021-01-09T08:39:32.182536",
     "status": "completed"
    },
    "tags": []
   },
   "source": [
    "As we can see we have two shapes of images (160,120) and (360,360).  We will standardize the image shapes to (120,120)"
   ]
  },
  {
   "cell_type": "markdown",
   "metadata": {
    "papermill": {
     "duration": 0.015759,
     "end_time": "2021-01-09T08:39:32.231406",
     "exception": false,
     "start_time": "2021-01-09T08:39:32.215647",
     "status": "completed"
    },
    "tags": []
   },
   "source": [
    "## Model\n",
    "Here you make the model using different functionalities that Keras provides. Remember to use `Conv3D` and `MaxPooling3D` and not `Conv2D` and `Maxpooling2D` for a 3D convolution model. You would want to use `TimeDistributed` while building a Conv2D + RNN model. Also remember that the last layer is the softmax. Design the network in such a way that the model is able to give good accuracy on the least number of parameters so that it can fit in the memory of the webcam."
   ]
  },
  {
   "cell_type": "markdown",
   "metadata": {
    "papermill": {
     "duration": 0.015436,
     "end_time": "2021-01-09T08:39:32.262152",
     "exception": false,
     "start_time": "2021-01-09T08:39:32.246716",
     "status": "completed"
    },
    "tags": []
   },
   "source": [
    "#### Conv2D + RNN Model using Xception pretrained model"
   ]
  },
  {
   "cell_type": "code",
   "execution_count": 7,
   "metadata": {
    "execution": {
     "iopub.execute_input": "2021-01-09T08:39:32.307679Z",
     "iopub.status.busy": "2021-01-09T08:39:32.307133Z",
     "iopub.status.idle": "2021-01-09T08:39:37.750707Z",
     "shell.execute_reply": "2021-01-09T08:39:37.749688Z"
    },
    "papermill": {
     "duration": 5.473251,
     "end_time": "2021-01-09T08:39:37.750897",
     "exception": false,
     "start_time": "2021-01-09T08:39:32.277646",
     "status": "completed"
    },
    "tags": []
   },
   "outputs": [
    {
     "name": "stdout",
     "output_type": "stream",
     "text": [
      "Downloading data from https://storage.googleapis.com/tensorflow/keras-applications/xception/xception_weights_tf_dim_ordering_tf_kernels_notop.h5\n",
      "83689472/83683744 [==============================] - 2s 0us/step\n"
     ]
    }
   ],
   "source": [
    "from tensorflow.keras.models import Sequential, Model\n",
    "from tensorflow.keras.layers import Dense, GRU, LSTM, Flatten, TimeDistributed, Flatten, BatchNormalization, Activation, Dropout\n",
    "from tensorflow.keras.layers import Conv3D, MaxPooling3D, Conv2D, MaxPooling2D\n",
    "from tensorflow.keras.callbacks import ModelCheckpoint, ReduceLROnPlateau, EarlyStopping\n",
    "from tensorflow.keras import optimizers\n",
    "from tensorflow.keras import initializers\n",
    "from tensorflow.keras import regularizers\n",
    "from tensorflow.keras.applications import Xception\n",
    "\n",
    "#write your model here\n",
    "nb_filters = [8,16,32,64]\n",
    "nb_dense = [1000, 500, 8, 5]\n",
    "input_shape = (FRAMES, IMG_HEIGHT,IMG_WIDTH, 3)\n",
    "\n",
    "pretrained_model = Xception(include_top=False, weights='imagenet', input_shape=(IMG_HEIGHT,IMG_WIDTH,3))\n",
    "x = pretrained_model.output\n",
    "x = Flatten()(x)\n",
    "\n",
    "features = Dense(64, activation='relu')(x)\n",
    "conv_model = Model(pretrained_model.input, features)\n",
    "\n",
    "for layer in pretrained_model.layers:\n",
    "    layer.trainable = False\n",
    "    \n",
    "model = Sequential()\n",
    "model.add(TimeDistributed(conv_model, input_shape=input_shape))\n",
    "model.add(GRU(32, return_sequences=True, dropout=0.5))\n",
    "model.add(GRU(16, dropout=0.5))\n",
    "model.add(Dense(nb_dense[2], activation='relu'))\n",
    "model.add(Dense(nb_dense[3], activation='sigmoid'))"
   ]
  },
  {
   "cell_type": "markdown",
   "metadata": {
    "papermill": {
     "duration": 0.020428,
     "end_time": "2021-01-09T08:39:37.793145",
     "exception": false,
     "start_time": "2021-01-09T08:39:37.772717",
     "status": "completed"
    },
    "tags": []
   },
   "source": [
    "Now that you have written the model, the next step is to `compile` the model. When you print the `summary` of the model, you'll see the total number of parameters you have to train."
   ]
  },
  {
   "cell_type": "code",
   "execution_count": 8,
   "metadata": {
    "execution": {
     "iopub.execute_input": "2021-01-09T08:39:37.850178Z",
     "iopub.status.busy": "2021-01-09T08:39:37.849213Z",
     "iopub.status.idle": "2021-01-09T08:39:37.877190Z",
     "shell.execute_reply": "2021-01-09T08:39:37.877688Z"
    },
    "papermill": {
     "duration": 0.064187,
     "end_time": "2021-01-09T08:39:37.877803",
     "exception": false,
     "start_time": "2021-01-09T08:39:37.813616",
     "status": "completed"
    },
    "tags": []
   },
   "outputs": [
    {
     "name": "stdout",
     "output_type": "stream",
     "text": [
      "Model: \"sequential\"\n",
      "_________________________________________________________________\n",
      "Layer (type)                 Output Shape              Param #   \n",
      "=================================================================\n",
      "time_distributed (TimeDistri (None, 15, 64)            22958696  \n",
      "_________________________________________________________________\n",
      "gru (GRU)                    (None, 15, 32)            9408      \n",
      "_________________________________________________________________\n",
      "gru_1 (GRU)                  (None, 16)                2400      \n",
      "_________________________________________________________________\n",
      "dense_1 (Dense)              (None, 8)                 136       \n",
      "_________________________________________________________________\n",
      "dense_2 (Dense)              (None, 5)                 45        \n",
      "=================================================================\n",
      "Total params: 22,970,685\n",
      "Trainable params: 2,109,205\n",
      "Non-trainable params: 20,861,480\n",
      "_________________________________________________________________\n",
      "None\n"
     ]
    }
   ],
   "source": [
    "optimizer=optimizers.Adam(lr=LEARNING_RATE)\n",
    "model.compile(optimizer=optimizer, loss='binary_crossentropy', metrics=['binary_accuracy']) \n",
    "print (model.summary())"
   ]
  },
  {
   "cell_type": "markdown",
   "metadata": {
    "papermill": {
     "duration": 0.020994,
     "end_time": "2021-01-09T08:39:37.955118",
     "exception": false,
     "start_time": "2021-01-09T08:39:37.934124",
     "status": "completed"
    },
    "tags": []
   },
   "source": [
    "Let us create the `train_generator` and the `val_generator` which will be used in `.fit_generator`."
   ]
  },
  {
   "cell_type": "code",
   "execution_count": 9,
   "metadata": {
    "execution": {
     "iopub.execute_input": "2021-01-09T08:39:38.003335Z",
     "iopub.status.busy": "2021-01-09T08:39:38.002102Z",
     "iopub.status.idle": "2021-01-09T08:39:38.005176Z",
     "shell.execute_reply": "2021-01-09T08:39:38.004641Z"
    },
    "papermill": {
     "duration": 0.028989,
     "end_time": "2021-01-09T08:39:38.005269",
     "exception": false,
     "start_time": "2021-01-09T08:39:37.976280",
     "status": "completed"
    },
    "tags": []
   },
   "outputs": [],
   "source": [
    "train_generator = generator(train_path, train_doc, BATCH_SIZE)\n",
    "val_generator = generator(val_path, val_doc, BATCH_SIZE)"
   ]
  },
  {
   "cell_type": "code",
   "execution_count": 10,
   "metadata": {
    "execution": {
     "iopub.execute_input": "2021-01-09T08:39:38.054607Z",
     "iopub.status.busy": "2021-01-09T08:39:38.053877Z",
     "iopub.status.idle": "2021-01-09T08:39:38.056954Z",
     "shell.execute_reply": "2021-01-09T08:39:38.056415Z"
    },
    "papermill": {
     "duration": 0.03031,
     "end_time": "2021-01-09T08:39:38.057045",
     "exception": false,
     "start_time": "2021-01-09T08:39:38.026735",
     "status": "completed"
    },
    "tags": []
   },
   "outputs": [],
   "source": [
    "filepath = 'best_model.h5'\n",
    "\n",
    "mc = ModelCheckpoint(filepath, monitor='val_loss', verbose=1, save_best_only=True, save_weights_only=False, mode='min', save_freq=1)\n",
    "es = EarlyStopping(monitor='val_loss', mode='min', verbose=1, patience=10)\n",
    "lr = ReduceLROnPlateau(monitor='val_loss', factor=0.1, patience=3, verbose=1, mode='min',\n",
    "                        min_delta=0.0001, cooldown=0, min_lr=0) \n",
    "callbacks_list = [mc, lr, es]"
   ]
  },
  {
   "cell_type": "markdown",
   "metadata": {
    "papermill": {
     "duration": 0.021224,
     "end_time": "2021-01-09T08:39:38.099615",
     "exception": false,
     "start_time": "2021-01-09T08:39:38.078391",
     "status": "completed"
    },
    "tags": []
   },
   "source": [
    "The `steps_per_epoch` and `validation_steps` are used by `fit_generator` to decide the number of next() calls it need to make."
   ]
  },
  {
   "cell_type": "code",
   "execution_count": 11,
   "metadata": {
    "execution": {
     "iopub.execute_input": "2021-01-09T08:39:38.148865Z",
     "iopub.status.busy": "2021-01-09T08:39:38.147009Z",
     "iopub.status.idle": "2021-01-09T08:39:38.149588Z",
     "shell.execute_reply": "2021-01-09T08:39:38.149986Z"
    },
    "papermill": {
     "duration": 0.029032,
     "end_time": "2021-01-09T08:39:38.150078",
     "exception": false,
     "start_time": "2021-01-09T08:39:38.121046",
     "status": "completed"
    },
    "tags": []
   },
   "outputs": [],
   "source": [
    "if (num_train_sequences%BATCH_SIZE) == 0:\n",
    "    steps_per_epoch = int(num_train_sequences/BATCH_SIZE)\n",
    "else:\n",
    "    steps_per_epoch = (num_train_sequences//BATCH_SIZE) + 1\n",
    "\n",
    "if (num_val_sequences%BATCH_SIZE) == 0:\n",
    "    validation_steps = int(num_val_sequences/BATCH_SIZE)\n",
    "else:\n",
    "    validation_steps = (num_val_sequences//BATCH_SIZE) + 1"
   ]
  },
  {
   "cell_type": "markdown",
   "metadata": {
    "papermill": {
     "duration": 0.021261,
     "end_time": "2021-01-09T08:39:38.193088",
     "exception": false,
     "start_time": "2021-01-09T08:39:38.171827",
     "status": "completed"
    },
    "tags": []
   },
   "source": [
    "Let us now fit the model. This will start training the model and with the help of the checkpoints, you'll be able to save the model at the end of each epoch."
   ]
  },
  {
   "cell_type": "code",
   "execution_count": 12,
   "metadata": {
    "execution": {
     "iopub.execute_input": "2021-01-09T08:39:38.243507Z",
     "iopub.status.busy": "2021-01-09T08:39:38.242753Z",
     "iopub.status.idle": "2021-01-09T10:08:40.633310Z",
     "shell.execute_reply": "2021-01-09T10:08:40.632798Z"
    },
    "papermill": {
     "duration": 5342.41744,
     "end_time": "2021-01-09T10:08:40.633458",
     "exception": false,
     "start_time": "2021-01-09T08:39:38.216018",
     "status": "completed"
    },
    "tags": []
   },
   "outputs": [
    {
     "name": "stdout",
     "output_type": "stream",
     "text": [
      "Epoch 1/50\n",
      "21/21 [==============================] - 117s 6s/step - loss: 0.6783 - binary_accuracy: 0.5611 - val_loss: 0.6696 - val_binary_accuracy: 0.5540\n",
      "Epoch 2/50\n",
      "21/21 [==============================] - 108s 5s/step - loss: 0.6700 - binary_accuracy: 0.5937 - val_loss: 0.6467 - val_binary_accuracy: 0.6120\n",
      "Epoch 3/50\n",
      "21/21 [==============================] - 107s 5s/step - loss: 0.6609 - binary_accuracy: 0.6009 - val_loss: 0.6493 - val_binary_accuracy: 0.5900\n",
      "Epoch 4/50\n",
      "21/21 [==============================] - 103s 5s/step - loss: 0.6506 - binary_accuracy: 0.6175 - val_loss: 0.6371 - val_binary_accuracy: 0.5980\n",
      "Epoch 5/50\n",
      "21/21 [==============================] - 107s 5s/step - loss: 0.6454 - binary_accuracy: 0.6350 - val_loss: 0.6264 - val_binary_accuracy: 0.6340\n",
      "Epoch 6/50\n",
      "21/21 [==============================] - 107s 5s/step - loss: 0.6342 - binary_accuracy: 0.6534 - val_loss: 0.6124 - val_binary_accuracy: 0.6640\n",
      "Epoch 7/50\n",
      "21/21 [==============================] - 107s 5s/step - loss: 0.6245 - binary_accuracy: 0.6833 - val_loss: 0.5991 - val_binary_accuracy: 0.7160\n",
      "Epoch 8/50\n",
      "21/21 [==============================] - 104s 5s/step - loss: 0.6163 - binary_accuracy: 0.6890 - val_loss: 0.6055 - val_binary_accuracy: 0.6960\n",
      "Epoch 9/50\n",
      "21/21 [==============================] - 106s 5s/step - loss: 0.6060 - binary_accuracy: 0.7059 - val_loss: 0.5911 - val_binary_accuracy: 0.7120\n",
      "Epoch 10/50\n",
      "21/21 [==============================] - 106s 5s/step - loss: 0.5975 - binary_accuracy: 0.7173 - val_loss: 0.5853 - val_binary_accuracy: 0.7200\n",
      "Epoch 11/50\n",
      "21/21 [==============================] - 108s 5s/step - loss: 0.5851 - binary_accuracy: 0.7315 - val_loss: 0.5736 - val_binary_accuracy: 0.7400\n",
      "Epoch 12/50\n",
      "21/21 [==============================] - 103s 5s/step - loss: 0.5765 - binary_accuracy: 0.7363 - val_loss: 0.5688 - val_binary_accuracy: 0.7220\n",
      "Epoch 13/50\n",
      "21/21 [==============================] - 105s 5s/step - loss: 0.5703 - binary_accuracy: 0.7502 - val_loss: 0.5659 - val_binary_accuracy: 0.7340\n",
      "Epoch 14/50\n",
      "21/21 [==============================] - 108s 5s/step - loss: 0.5594 - binary_accuracy: 0.7532 - val_loss: 0.5572 - val_binary_accuracy: 0.7500\n",
      "Epoch 15/50\n",
      "21/21 [==============================] - 107s 5s/step - loss: 0.5505 - binary_accuracy: 0.7569 - val_loss: 0.5405 - val_binary_accuracy: 0.7700\n",
      "Epoch 16/50\n",
      "21/21 [==============================] - 103s 5s/step - loss: 0.5453 - binary_accuracy: 0.7532 - val_loss: 0.5511 - val_binary_accuracy: 0.7400\n",
      "Epoch 17/50\n",
      "21/21 [==============================] - 106s 5s/step - loss: 0.5335 - binary_accuracy: 0.7659 - val_loss: 0.5401 - val_binary_accuracy: 0.7580\n",
      "Epoch 18/50\n",
      "21/21 [==============================] - 106s 5s/step - loss: 0.5311 - binary_accuracy: 0.7689 - val_loss: 0.5349 - val_binary_accuracy: 0.7520\n",
      "Epoch 19/50\n",
      "21/21 [==============================] - 107s 5s/step - loss: 0.5182 - binary_accuracy: 0.7828 - val_loss: 0.5264 - val_binary_accuracy: 0.7640\n",
      "Epoch 20/50\n",
      "21/21 [==============================] - 104s 5s/step - loss: 0.5139 - binary_accuracy: 0.7804 - val_loss: 0.5139 - val_binary_accuracy: 0.7740\n",
      "Epoch 21/50\n",
      "21/21 [==============================] - 106s 5s/step - loss: 0.5063 - binary_accuracy: 0.7765 - val_loss: 0.5312 - val_binary_accuracy: 0.7560\n",
      "Epoch 22/50\n",
      "21/21 [==============================] - 106s 5s/step - loss: 0.4953 - binary_accuracy: 0.7922 - val_loss: 0.5058 - val_binary_accuracy: 0.7740\n",
      "Epoch 23/50\n",
      "21/21 [==============================] - 107s 5s/step - loss: 0.4883 - binary_accuracy: 0.7934 - val_loss: 0.5006 - val_binary_accuracy: 0.7680\n",
      "Epoch 24/50\n",
      "21/21 [==============================] - 103s 5s/step - loss: 0.4828 - binary_accuracy: 0.7940 - val_loss: 0.5077 - val_binary_accuracy: 0.7700\n",
      "Epoch 25/50\n",
      "21/21 [==============================] - 107s 5s/step - loss: 0.4763 - binary_accuracy: 0.7955 - val_loss: 0.4943 - val_binary_accuracy: 0.7780\n",
      "Epoch 26/50\n",
      "21/21 [==============================] - 107s 5s/step - loss: 0.4684 - binary_accuracy: 0.7946 - val_loss: 0.5226 - val_binary_accuracy: 0.7500\n",
      "Epoch 27/50\n",
      "21/21 [==============================] - 106s 5s/step - loss: 0.4625 - binary_accuracy: 0.8021 - val_loss: 0.5140 - val_binary_accuracy: 0.7560\n",
      "Epoch 28/50\n",
      "21/21 [==============================] - 104s 5s/step - loss: 0.4559 - binary_accuracy: 0.8060 - val_loss: 0.4905 - val_binary_accuracy: 0.7700\n",
      "Epoch 29/50\n",
      "21/21 [==============================] - 107s 5s/step - loss: 0.4477 - binary_accuracy: 0.8075 - val_loss: 0.4923 - val_binary_accuracy: 0.7720\n",
      "Epoch 30/50\n",
      "21/21 [==============================] - 106s 5s/step - loss: 0.4412 - binary_accuracy: 0.8109 - val_loss: 0.4932 - val_binary_accuracy: 0.7760\n",
      "Epoch 31/50\n",
      "21/21 [==============================] - 107s 5s/step - loss: 0.4360 - binary_accuracy: 0.8097 - val_loss: 0.4754 - val_binary_accuracy: 0.7900\n",
      "Epoch 32/50\n",
      "21/21 [==============================] - 104s 5s/step - loss: 0.4294 - binary_accuracy: 0.8133 - val_loss: 0.4739 - val_binary_accuracy: 0.7860\n",
      "Epoch 33/50\n",
      "21/21 [==============================] - 107s 5s/step - loss: 0.4240 - binary_accuracy: 0.8175 - val_loss: 0.4704 - val_binary_accuracy: 0.8020\n",
      "Epoch 34/50\n",
      "21/21 [==============================] - 107s 5s/step - loss: 0.4185 - binary_accuracy: 0.8208 - val_loss: 0.4616 - val_binary_accuracy: 0.8080\n",
      "Epoch 35/50\n",
      "21/21 [==============================] - 106s 5s/step - loss: 0.4152 - binary_accuracy: 0.8148 - val_loss: 0.4642 - val_binary_accuracy: 0.8000\n",
      "Epoch 36/50\n",
      "21/21 [==============================] - 104s 5s/step - loss: 0.4066 - binary_accuracy: 0.8256 - val_loss: 0.4690 - val_binary_accuracy: 0.7920\n",
      "Epoch 37/50\n",
      "21/21 [==============================] - ETA: 0s - loss: 0.4064 - binary_accuracy: 0.8217\n",
      "Epoch 00037: ReduceLROnPlateau reducing learning rate to 9.999999747378752e-06.\n",
      "21/21 [==============================] - 107s 5s/step - loss: 0.4064 - binary_accuracy: 0.8217 - val_loss: 0.4657 - val_binary_accuracy: 0.7840\n",
      "Epoch 38/50\n",
      "21/21 [==============================] - 108s 5s/step - loss: 0.3991 - binary_accuracy: 0.8302 - val_loss: 0.4532 - val_binary_accuracy: 0.7960\n",
      "Epoch 39/50\n",
      "21/21 [==============================] - 106s 5s/step - loss: 0.3964 - binary_accuracy: 0.8317 - val_loss: 0.4864 - val_binary_accuracy: 0.7640\n",
      "Epoch 40/50\n",
      "21/21 [==============================] - 104s 5s/step - loss: 0.3998 - binary_accuracy: 0.8253 - val_loss: 0.4526 - val_binary_accuracy: 0.7920\n",
      "Epoch 41/50\n",
      "21/21 [==============================] - 107s 5s/step - loss: 0.3960 - binary_accuracy: 0.8284 - val_loss: 0.4601 - val_binary_accuracy: 0.7920\n",
      "Epoch 42/50\n",
      "21/21 [==============================] - 107s 5s/step - loss: 0.3962 - binary_accuracy: 0.8293 - val_loss: 0.4788 - val_binary_accuracy: 0.7620\n",
      "Epoch 43/50\n",
      "21/21 [==============================] - ETA: 0s - loss: 0.3978 - binary_accuracy: 0.8290\n",
      "Epoch 00043: ReduceLROnPlateau reducing learning rate to 9.999999747378752e-07.\n",
      "21/21 [==============================] - 108s 5s/step - loss: 0.3978 - binary_accuracy: 0.8290 - val_loss: 0.4749 - val_binary_accuracy: 0.7800\n",
      "Epoch 44/50\n",
      "21/21 [==============================] - 103s 5s/step - loss: 0.3962 - binary_accuracy: 0.8256 - val_loss: 0.4593 - val_binary_accuracy: 0.7940\n",
      "Epoch 45/50\n",
      "21/21 [==============================] - 107s 5s/step - loss: 0.3955 - binary_accuracy: 0.8287 - val_loss: 0.4596 - val_binary_accuracy: 0.7840\n",
      "Epoch 46/50\n",
      "21/21 [==============================] - ETA: 0s - loss: 0.3954 - binary_accuracy: 0.8275\n",
      "Epoch 00046: ReduceLROnPlateau reducing learning rate to 9.999999974752428e-08.\n",
      "21/21 [==============================] - 107s 5s/step - loss: 0.3954 - binary_accuracy: 0.8275 - val_loss: 0.4574 - val_binary_accuracy: 0.7920\n",
      "Epoch 47/50\n",
      "21/21 [==============================] - 106s 5s/step - loss: 0.3939 - binary_accuracy: 0.8323 - val_loss: 0.4623 - val_binary_accuracy: 0.7840\n",
      "Epoch 48/50\n",
      "21/21 [==============================] - 102s 5s/step - loss: 0.3960 - binary_accuracy: 0.8284 - val_loss: 0.4720 - val_binary_accuracy: 0.7740\n",
      "Epoch 49/50\n",
      "21/21 [==============================] - ETA: 0s - loss: 0.3962 - binary_accuracy: 0.8256\n",
      "Epoch 00049: ReduceLROnPlateau reducing learning rate to 1.0000000116860975e-08.\n",
      "21/21 [==============================] - 108s 5s/step - loss: 0.3962 - binary_accuracy: 0.8256 - val_loss: 0.4652 - val_binary_accuracy: 0.7780\n",
      "Epoch 50/50\n",
      "21/21 [==============================] - 107s 5s/step - loss: 0.3977 - binary_accuracy: 0.8247 - val_loss: 0.4557 - val_binary_accuracy: 0.7920\n",
      "Epoch 00050: early stopping\n"
     ]
    }
   ],
   "source": [
    "history = model.fit_generator(train_generator, steps_per_epoch=steps_per_epoch, epochs=NUM_EPOCHS, verbose=1,\n",
    "                        callbacks=callbacks_list, validation_data=val_generator, \n",
    "                        validation_steps=validation_steps, class_weight=None, workers=1, initial_epoch=0)"
   ]
  },
  {
   "cell_type": "markdown",
   "metadata": {
    "papermill": {
     "duration": 0.340752,
     "end_time": "2021-01-09T10:08:41.308525",
     "exception": false,
     "start_time": "2021-01-09T10:08:40.967773",
     "status": "completed"
    },
    "tags": []
   },
   "source": [
    "Plot the train and validation loss and accuracies"
   ]
  },
  {
   "cell_type": "code",
   "execution_count": 13,
   "metadata": {
    "execution": {
     "iopub.execute_input": "2021-01-09T10:08:41.994508Z",
     "iopub.status.busy": "2021-01-09T10:08:41.993759Z",
     "iopub.status.idle": "2021-01-09T10:08:42.510342Z",
     "shell.execute_reply": "2021-01-09T10:08:42.509508Z"
    },
    "papermill": {
     "duration": 0.867931,
     "end_time": "2021-01-09T10:08:42.510465",
     "exception": false,
     "start_time": "2021-01-09T10:08:41.642534",
     "status": "completed"
    },
    "tags": []
   },
   "outputs": [
    {
     "data": {
      "image/png": "[encoded data removed]",
      "text/plain": [
       "<Figure size 432x288 with 1 Axes>"
      ]
     },
     "metadata": {
      "needs_background": "light"
     },
     "output_type": "display_data"
    },
    {
     "data": {
      "image/png": "[encoded data removed]",
      "text/plain": [
       "<Figure size 432x288 with 1 Axes>"
      ]
     },
     "metadata": {
      "needs_background": "light"
     },
     "output_type": "display_data"
    }
   ],
   "source": [
    "history_frame = pd.DataFrame(history.history)\n",
    "history_frame.loc[:, ['loss', 'val_loss']].plot()\n",
    "history_frame.loc[:, ['binary_accuracy', 'val_binary_accuracy']].plot();"
   ]
  },
  {
   "cell_type": "code",
   "execution_count": 14,
   "metadata": {
    "execution": {
     "iopub.execute_input": "2021-01-09T10:08:43.187229Z",
     "iopub.status.busy": "2021-01-09T10:08:43.186638Z",
     "iopub.status.idle": "2021-01-09T10:08:43.190695Z",
     "shell.execute_reply": "2021-01-09T10:08:43.191469Z"
    },
    "papermill": {
     "duration": 0.345527,
     "end_time": "2021-01-09T10:08:43.191617",
     "exception": false,
     "start_time": "2021-01-09T10:08:42.846090",
     "status": "completed"
    },
    "tags": []
   },
   "outputs": [
    {
     "name": "stdout",
     "output_type": "stream",
     "text": [
      "Total execution time is : 91 minutes\n"
     ]
    }
   ],
   "source": [
    "# Display the exeuction time\n",
    "print('Total execution time is :',round((time.time() - start_time)/60),'minutes')"
   ]
  }
 ],
 "metadata": {
  "kernelspec": {
   "display_name": "Python 3",
   "language": "python",
   "name": "python3"
  },
  "language_info": {
   "codemirror_mode": {
    "name": "ipython",
    "version": 3
   },
   "file_extension": ".py",
   "mimetype": "text/x-python",
   "name": "python",
   "nbconvert_exporter": "python",
   "pygments_lexer": "ipython3",
   "version": "3.7.6"
  },
  "papermill": {
   "duration": 5477.508508,
   "end_time": "2021-01-09T10:08:45.401256",
   "environment_variables": {},
   "exception": null,
   "input_path": "__notebook__.ipynb",
   "output_path": "__notebook__.ipynb",
   "parameters": {},
   "start_time": "2021-01-09T08:37:27.892748",
   "version": "2.1.0"
  }
 },
 "nbformat": 4,
 "nbformat_minor": 4
}
