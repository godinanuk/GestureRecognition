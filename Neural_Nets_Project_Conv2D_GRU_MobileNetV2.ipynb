{
 "cells": [
  {
   "cell_type": "markdown",
   "metadata": {
    "papermill": {
     "duration": 0.017705,
     "end_time": "2021-01-09T12:40:59.235407",
     "exception": false,
     "start_time": "2021-01-09T12:40:59.217702",
     "status": "completed"
    },
    "tags": []
   },
   "source": [
    "# Gesture Recognition\n",
    "In this group project, you are going to build a CNN-RNN model with MobileNetV2 that will be able to predict the 5 gestures correctly. Please import the following libraries to get started."
   ]
  },
  {
   "cell_type": "code",
   "execution_count": 1,
   "metadata": {
    "execution": {
     "iopub.execute_input": "2021-01-09T12:40:59.275318Z",
     "iopub.status.busy": "2021-01-09T12:40:59.274464Z",
     "iopub.status.idle": "2021-01-09T12:40:59.276698Z",
     "shell.execute_reply": "2021-01-09T12:40:59.277195Z"
    },
    "papermill": {
     "duration": 0.025158,
     "end_time": "2021-01-09T12:40:59.277328",
     "exception": false,
     "start_time": "2021-01-09T12:40:59.252170",
     "status": "completed"
    },
    "tags": []
   },
   "outputs": [],
   "source": [
    "import numpy as np\n",
    "import pandas as pd\n",
    "import os\n",
    "import datetime\n",
    "import time\n",
    "import warnings\n",
    "warnings.filterwarnings('ignore')\n",
    "\n",
    "start_time=time.time()"
   ]
  },
  {
   "cell_type": "markdown",
   "metadata": {
    "papermill": {
     "duration": 0.016281,
     "end_time": "2021-01-09T12:40:59.309918",
     "exception": false,
     "start_time": "2021-01-09T12:40:59.293637",
     "status": "completed"
    },
    "tags": []
   },
   "source": [
    "We set the random seed so that the results don't vary drastically."
   ]
  },
  {
   "cell_type": "code",
   "execution_count": 2,
   "metadata": {
    "execution": {
     "iopub.execute_input": "2021-01-09T12:40:59.350048Z",
     "iopub.status.busy": "2021-01-09T12:40:59.349425Z",
     "iopub.status.idle": "2021-01-09T12:41:06.482581Z",
     "shell.execute_reply": "2021-01-09T12:41:06.483218Z"
    },
    "papermill": {
     "duration": 7.1566,
     "end_time": "2021-01-09T12:41:06.483370",
     "exception": false,
     "start_time": "2021-01-09T12:40:59.326770",
     "status": "completed"
    },
    "tags": []
   },
   "outputs": [
    {
     "name": "stdout",
     "output_type": "stream",
     "text": [
      "Tensorflow version:  2.3.1\n",
      "Default GPU Device:/device:GPU:0\n"
     ]
    }
   ],
   "source": [
    "np.random.seed(30)\n",
    "import random as rn\n",
    "rn.seed(30)\n",
    "from tensorflow.keras import backend as K\n",
    "import tensorflow as tf\n",
    "print('Tensorflow version: ',tf.__version__)\n",
    "tf.random.set_seed(30)\n",
    "if tf.test.gpu_device_name():\n",
    "    print('Default GPU Device:{}'.format(tf.test.gpu_device_name()))\n",
    "else:\n",
    "    print(\"Please install GPU version of TF\")"
   ]
  },
  {
   "cell_type": "markdown",
   "metadata": {
    "papermill": {
     "duration": 0.016994,
     "end_time": "2021-01-09T12:41:06.518023",
     "exception": false,
     "start_time": "2021-01-09T12:41:06.501029",
     "status": "completed"
    },
    "tags": []
   },
   "source": [
    "In this block, you read the folder names for training and validation. You also set the `batch_size` here. Note that you set the batch size in such a way that you are able to use the GPU in full capacity. You keep increasing the batch size until the machine throws an error."
   ]
  },
  {
   "cell_type": "code",
   "execution_count": 3,
   "metadata": {
    "execution": {
     "iopub.execute_input": "2021-01-09T12:41:06.558626Z",
     "iopub.status.busy": "2021-01-09T12:41:06.558038Z",
     "iopub.status.idle": "2021-01-09T12:41:06.592718Z",
     "shell.execute_reply": "2021-01-09T12:41:06.592216Z"
    },
    "papermill": {
     "duration": 0.058045,
     "end_time": "2021-01-09T12:41:06.592806",
     "exception": false,
     "start_time": "2021-01-09T12:41:06.534761",
     "status": "completed"
    },
    "tags": []
   },
   "outputs": [
    {
     "name": "stdout",
     "output_type": "stream",
     "text": [
      "Number of frames being considered : 15\n"
     ]
    }
   ],
   "source": [
    "BASE_PATH='../input/untouched-gesture-dataset'\n",
    "#BASE_PATH='.'\n",
    "train_doc = np.random.permutation(open(BASE_PATH+'/Project_data/train.csv').readlines())\n",
    "val_doc = np.random.permutation(open(BASE_PATH+'/Project_data/val.csv').readlines())\n",
    "BATCH_SIZE = 32 #experiment with the batch size\n",
    "IMG_HEIGHT = 120\n",
    "IMG_WIDTH = 120\n",
    "LEARNING_RATE=0.0001\n",
    "FRAMES=len(list(range(1,30,2)))\n",
    "NUM_EPOCHS = 50\n",
    "print('Number of frames being considered :',FRAMES)"
   ]
  },
  {
   "cell_type": "markdown",
   "metadata": {
    "papermill": {
     "duration": 0.017293,
     "end_time": "2021-01-09T12:41:06.627881",
     "exception": false,
     "start_time": "2021-01-09T12:41:06.610588",
     "status": "completed"
    },
    "tags": []
   },
   "source": [
    "## Generator\n",
    "This is one of the most important part of the code. The overall structure of the generator has been given. In the generator, you are going to preprocess the images as you have images of 2 different dimensions as well as create a batch of video frames. You have to experiment with `img_idx`, `y`,`z` and normalization such that you get high accuracy."
   ]
  },
  {
   "cell_type": "code",
   "execution_count": 4,
   "metadata": {
    "execution": {
     "iopub.execute_input": "2021-01-09T12:41:06.691924Z",
     "iopub.status.busy": "2021-01-09T12:41:06.686668Z",
     "iopub.status.idle": "2021-01-09T12:41:06.699140Z",
     "shell.execute_reply": "2021-01-09T12:41:06.699563Z"
    },
    "papermill": {
     "duration": 0.054326,
     "end_time": "2021-01-09T12:41:06.699676",
     "exception": false,
     "start_time": "2021-01-09T12:41:06.645350",
     "status": "completed"
    },
    "tags": []
   },
   "outputs": [],
   "source": [
    "def generator(source_path, folder_list, batch_size):\n",
    "    #print( 'Source path = ', source_path, '; batch size =', batch_size)\n",
    "    # We will consider frames 10 to 20 for training\n",
    "    img_idx = range(0,30,2) #create a list of image numbers you want to use for a particular video\n",
    "    while True:\n",
    "        t = np.random.permutation(folder_list)\n",
    "        num_batches = int(len(folder_list) / batch_size) # calculate the number of batches\n",
    "        for batch in range(num_batches): # we iterate over the number of batches\n",
    "            # second parameter x set to len(img_idx) list - indicates no. of images we want to use for each video\n",
    "            # third and fourth parameters (y,z) indicate the final size of input image\n",
    "            batch_data = np.zeros((batch_size,len(img_idx),120,120,3)) # x is the number of images you use for each video, (y,z) is the final size of the input images and 3 is the number of channels RGB\n",
    "            batch_labels = np.zeros((batch_size,5)) # batch_labels is the one hot representation of the output\n",
    "            for folder in range(batch_size): # iterate over the batch_size\n",
    "                imgs = os.listdir(source_path+'/'+ t[folder + (batch*batch_size)].split(';')[0]) # read all the images in the folder\n",
    "                for idx,item in enumerate(img_idx): #  Iterate iver the frames/images of a folder to read them in\n",
    "                    image = tf.io.read_file(source_path+'/'+ t[folder + (batch*batch_size)].strip().split(';')[0]+'/'+imgs[item])\n",
    "                    image = tf.io.decode_jpeg(image,channels=3)\n",
    "                    #crop the images and resize them. Note that the images are of 2 different shape \n",
    "                    #and the conv3D will throw error if the inputs in a batch have different shapes\n",
    "                    # We will resize all the images to a standard shape of (120,120)\n",
    "                    # We will use distinct normalization methods for different channel\n",
    "                    im_resized = tf.image.resize(image,size=[IMG_HEIGHT,IMG_WIDTH],method='nearest') \n",
    "                    im_resized = tf.image.resize(tf.image.central_crop(im_resized,0.9),size=[IMG_HEIGHT,IMG_WIDTH],method='nearest')\n",
    "                    im_resized_0 = im_resized[:,:,0]\n",
    "                    im_resized_1 = im_resized[:,:,1]\n",
    "                    im_resized_2 = im_resized[:,:,2]\n",
    "                    batch_data[folder,idx,:,:,0] = (im_resized_0 - np.min(im_resized_0))/ (np.max(im_resized_0) - np.min(im_resized_0)) #normalise and feed in the image\n",
    "                    batch_data[folder,idx,:,:,1] = (im_resized_1 - np.percentile(im_resized_1,5))/ (np.percentile(im_resized_1,95) - np.percentile(im_resized_1,5)) #normalise and feed in the image\n",
    "                    batch_data[folder,idx,:,:,2] = im_resized_2/255 #normalise and feed in the image                    \n",
    "                batch_labels[folder, int(t[folder + (batch*batch_size)].strip().split(';')[2])] = 1\n",
    "            yield batch_data, batch_labels #you yield the batch_data and the batch_labels, remember what does yield do\n",
    "\n",
    "        \n",
    "        # write the code for the remaining data points which are left after full batches\n",
    "        if len(folder_list) != (num_batches * batch_size):\n",
    "            n_batch_size = len(folder_list) - (num_batches * batch_size)\n",
    "            batch_data = np.zeros((n_batch_size,len(img_idx),120,120,3))\n",
    "            batch_labels = np.zeros((n_batch_size,5))\n",
    "            for folder in range(n_batch_size): # iterate over the batch_size\n",
    "                imgs = os.listdir(source_path+'/'+ t[folder + (num_batches*n_batch_size)].split(';')[0]) # read all the images in the folder\n",
    "                for idx,item in enumerate(img_idx): #  Iterate iver the frames/images of a folder to read them in\n",
    "                    image = tf.io.read_file(source_path+'/'+ t[folder + (num_batches*n_batch_size)].strip().split(';')[0]+'/'+imgs[item])\n",
    "                    image = tf.io.decode_jpeg(image,channels=3)\n",
    "                    #crop the images and resize them. Note that the images are of 2 different shape \n",
    "                    #and the conv3D will throw error if the inputs in a batch have different shapes\n",
    "                    # We will resize all the images to a standard shape of (120,120)\n",
    "                    # We will use distinct normalization methods for different channel\n",
    "                    im_resized = tf.image.resize(image,size=[IMG_HEIGHT,IMG_WIDTH],method='nearest') \n",
    "                    im_resized = tf.image.resize(tf.image.central_crop(im_resized,0.9),size=[IMG_HEIGHT,IMG_WIDTH],method='nearest')\n",
    "                    im_resized_0 = im_resized[:,:,0]\n",
    "                    im_resized_1 = im_resized[:,:,1]\n",
    "                    im_resized_2 = im_resized[:,:,2]\n",
    "                    batch_data[folder,idx,:,:,0] = (im_resized_0 - np.min(im_resized_0))/ (np.max(im_resized_0) - np.min(im_resized_0)) #normalise and feed in the image\n",
    "                    batch_data[folder,idx,:,:,1] = (im_resized_1 - np.percentile(im_resized_1,5))/ (np.percentile(im_resized_1,95) - np.percentile(im_resized_1,5)) #normalise and feed in the image\n",
    "                    batch_data[folder,idx,:,:,2] = im_resized_2/255 #normalise and feed in the image   \n",
    "                    \n",
    "                batch_labels[folder, int(t[folder + (num_batches*n_batch_size)].strip().split(';')[2])] = 1\n",
    "            yield batch_data, batch_labels #you yield the batch_data and the batch_labels, remember what does yield do\n",
    "        "
   ]
  },
  {
   "cell_type": "markdown",
   "metadata": {
    "papermill": {
     "duration": 0.01761,
     "end_time": "2021-01-09T12:41:06.735209",
     "exception": false,
     "start_time": "2021-01-09T12:41:06.717599",
     "status": "completed"
    },
    "tags": []
   },
   "source": [
    "Note here that a video is represented above in the generator as (number of images, height, width, number of channels). Take this into consideration while creating the model architecture."
   ]
  },
  {
   "cell_type": "code",
   "execution_count": 5,
   "metadata": {
    "execution": {
     "iopub.execute_input": "2021-01-09T12:41:06.782370Z",
     "iopub.status.busy": "2021-01-09T12:41:06.781643Z",
     "iopub.status.idle": "2021-01-09T12:42:46.549697Z",
     "shell.execute_reply": "2021-01-09T12:42:46.548708Z"
    },
    "papermill": {
     "duration": 99.79572,
     "end_time": "2021-01-09T12:42:46.549840",
     "exception": false,
     "start_time": "2021-01-09T12:41:06.754120",
     "status": "completed"
    },
    "tags": []
   },
   "outputs": [
    {
     "name": "stdout",
     "output_type": "stream",
     "text": [
      "# training sequences = 663\n",
      "# training batches = 22\n",
      "# validation sequences = 100\n"
     ]
    }
   ],
   "source": [
    "from PIL import Image\n",
    "\n",
    "curr_dt_time = datetime.datetime.now()\n",
    "train_path = BASE_PATH+'/Project_data/train'\n",
    "val_path = BASE_PATH+'/Project_data/val'\n",
    "num_train_sequences = len(train_doc)\n",
    "print('# training sequences =', num_train_sequences)\n",
    "print('# training batches =', int(num_train_sequences/30))\n",
    "num_val_sequences = len(val_doc)\n",
    "print('# validation sequences =', num_val_sequences)\n",
    "\n",
    "img_sizes=[]\n",
    "for i in os.listdir(train_path):\n",
    "    if not(i.startswith('.')):\n",
    "        file_path = train_path + \"/\" + i\n",
    "        for j in os.listdir(file_path):\n",
    "            if not(j.startswith('.')):\n",
    "                im_path = file_path + \"/\" + j\n",
    "                im = Image.open(im_path)\n",
    "                img_sizes.append(im.size)"
   ]
  },
  {
   "cell_type": "code",
   "execution_count": 6,
   "metadata": {
    "execution": {
     "iopub.execute_input": "2021-01-09T12:42:46.595591Z",
     "iopub.status.busy": "2021-01-09T12:42:46.594924Z",
     "iopub.status.idle": "2021-01-09T12:42:46.601624Z",
     "shell.execute_reply": "2021-01-09T12:42:46.600959Z"
    },
    "papermill": {
     "duration": 0.032864,
     "end_time": "2021-01-09T12:42:46.601721",
     "exception": false,
     "start_time": "2021-01-09T12:42:46.568857",
     "status": "completed"
    },
    "tags": []
   },
   "outputs": [
    {
     "data": {
      "text/plain": [
       "{(160, 120), (360, 360)}"
      ]
     },
     "execution_count": 6,
     "metadata": {},
     "output_type": "execute_result"
    }
   ],
   "source": [
    "set(img_sizes)"
   ]
  },
  {
   "cell_type": "markdown",
   "metadata": {
    "papermill": {
     "duration": 0.01968,
     "end_time": "2021-01-09T12:42:46.641169",
     "exception": false,
     "start_time": "2021-01-09T12:42:46.621489",
     "status": "completed"
    },
    "tags": []
   },
   "source": [
    "As we can see we have two shapes of images (160,120) and (360,360).  We will standardize the image shapes to (120,120)"
   ]
  },
  {
   "cell_type": "markdown",
   "metadata": {
    "papermill": {
     "duration": 0.018936,
     "end_time": "2021-01-09T12:42:46.679341",
     "exception": false,
     "start_time": "2021-01-09T12:42:46.660405",
     "status": "completed"
    },
    "tags": []
   },
   "source": [
    "## Model\n",
    "Here you make the model using different functionalities that Keras provides. Remember to use `Conv3D` and `MaxPooling3D` and not `Conv2D` and `Maxpooling2D` for a 3D convolution model. You would want to use `TimeDistributed` while building a Conv2D + RNN model. Also remember that the last layer is the softmax. Design the network in such a way that the model is able to give good accuracy on the least number of parameters so that it can fit in the memory of the webcam."
   ]
  },
  {
   "cell_type": "markdown",
   "metadata": {
    "papermill": {
     "duration": 0.019102,
     "end_time": "2021-01-09T12:42:46.717317",
     "exception": false,
     "start_time": "2021-01-09T12:42:46.698215",
     "status": "completed"
    },
    "tags": []
   },
   "source": [
    "#### Conv2D + RNN Model using Xception pretrained model"
   ]
  },
  {
   "cell_type": "code",
   "execution_count": 7,
   "metadata": {
    "execution": {
     "iopub.execute_input": "2021-01-09T12:42:46.772544Z",
     "iopub.status.busy": "2021-01-09T12:42:46.771865Z",
     "iopub.status.idle": "2021-01-09T12:42:50.088271Z",
     "shell.execute_reply": "2021-01-09T12:42:50.087684Z"
    },
    "papermill": {
     "duration": 3.352196,
     "end_time": "2021-01-09T12:42:50.088386",
     "exception": false,
     "start_time": "2021-01-09T12:42:46.736190",
     "status": "completed"
    },
    "tags": []
   },
   "outputs": [
    {
     "name": "stdout",
     "output_type": "stream",
     "text": [
      "Downloading data from https://storage.googleapis.com/tensorflow/keras-applications/mobilenet_v2/mobilenet_v2_weights_tf_dim_ordering_tf_kernels_1.0_224_no_top.h5\n",
      "9412608/9406464 [==============================] - 0s 0us/step\n"
     ]
    }
   ],
   "source": [
    "from tensorflow.keras.models import Sequential, Model\n",
    "from tensorflow.keras.layers import Dense, GRU, LSTM, Flatten, TimeDistributed, Flatten, BatchNormalization, Activation, Dropout\n",
    "from tensorflow.keras.layers import Conv3D, MaxPooling3D, Conv2D, MaxPooling2D\n",
    "from tensorflow.keras.callbacks import ModelCheckpoint, ReduceLROnPlateau, EarlyStopping\n",
    "from tensorflow.keras import optimizers\n",
    "from tensorflow.keras import initializers\n",
    "from tensorflow.keras import regularizers\n",
    "from tensorflow.keras.applications import MobileNetV2\n",
    "\n",
    "#write your model here\n",
    "nb_filters = [8,16,32,64]\n",
    "nb_dense = [1000, 500, 8, 5]\n",
    "input_shape = (FRAMES, IMG_HEIGHT,IMG_WIDTH, 3)\n",
    "\n",
    "pretrained_model = MobileNetV2(include_top=False, weights='imagenet', input_shape=(IMG_HEIGHT,IMG_WIDTH,3))\n",
    "x = pretrained_model.output\n",
    "x = Flatten()(x)\n",
    "\n",
    "features = Dense(64, activation='relu')(x)\n",
    "conv_model = Model(pretrained_model.input, features)\n",
    "\n",
    "for layer in pretrained_model.layers:\n",
    "    layer.trainable = False\n",
    "    \n",
    "model = Sequential()\n",
    "model.add(TimeDistributed(conv_model, input_shape=input_shape))\n",
    "model.add(GRU(32, return_sequences=True, dropout=0.5))\n",
    "model.add(GRU(16, dropout=0.5))\n",
    "model.add(Dense(nb_dense[2], activation='relu'))\n",
    "model.add(Dense(nb_dense[3], activation='sigmoid'))"
   ]
  },
  {
   "cell_type": "markdown",
   "metadata": {
    "papermill": {
     "duration": 0.020033,
     "end_time": "2021-01-09T12:42:50.129400",
     "exception": false,
     "start_time": "2021-01-09T12:42:50.109367",
     "status": "completed"
    },
    "tags": []
   },
   "source": [
    "Now that you have written the model, the next step is to `compile` the model. When you print the `summary` of the model, you'll see the total number of parameters you have to train."
   ]
  },
  {
   "cell_type": "code",
   "execution_count": 8,
   "metadata": {
    "execution": {
     "iopub.execute_input": "2021-01-09T12:42:50.187183Z",
     "iopub.status.busy": "2021-01-09T12:42:50.182966Z",
     "iopub.status.idle": "2021-01-09T12:42:50.220671Z",
     "shell.execute_reply": "2021-01-09T12:42:50.219929Z"
    },
    "papermill": {
     "duration": 0.071091,
     "end_time": "2021-01-09T12:42:50.220776",
     "exception": false,
     "start_time": "2021-01-09T12:42:50.149685",
     "status": "completed"
    },
    "tags": []
   },
   "outputs": [
    {
     "name": "stdout",
     "output_type": "stream",
     "text": [
      "Model: \"sequential\"\n",
      "_________________________________________________________________\n",
      "Layer (type)                 Output Shape              Param #   \n",
      "=================================================================\n",
      "time_distributed (TimeDistri (None, 15, 64)            3568768   \n",
      "_________________________________________________________________\n",
      "gru (GRU)                    (None, 15, 32)            9408      \n",
      "_________________________________________________________________\n",
      "gru_1 (GRU)                  (None, 16)                2400      \n",
      "_________________________________________________________________\n",
      "dense_1 (Dense)              (None, 8)                 136       \n",
      "_________________________________________________________________\n",
      "dense_2 (Dense)              (None, 5)                 45        \n",
      "=================================================================\n",
      "Total params: 3,580,757\n",
      "Trainable params: 1,322,773\n",
      "Non-trainable params: 2,257,984\n",
      "_________________________________________________________________\n",
      "None\n"
     ]
    }
   ],
   "source": [
    "optimizer=optimizers.Adam(lr=LEARNING_RATE)\n",
    "model.compile(optimizer=optimizer, loss='binary_crossentropy', metrics=['binary_accuracy']) \n",
    "print (model.summary())"
   ]
  },
  {
   "cell_type": "markdown",
   "metadata": {
    "papermill": {
     "duration": 0.020866,
     "end_time": "2021-01-09T12:42:50.262386",
     "exception": false,
     "start_time": "2021-01-09T12:42:50.241520",
     "status": "completed"
    },
    "tags": []
   },
   "source": [
    "Let us create the `train_generator` and the `val_generator` which will be used in `.fit_generator`."
   ]
  },
  {
   "cell_type": "code",
   "execution_count": 9,
   "metadata": {
    "execution": {
     "iopub.execute_input": "2021-01-09T12:42:50.345876Z",
     "iopub.status.busy": "2021-01-09T12:42:50.345308Z",
     "iopub.status.idle": "2021-01-09T12:42:50.349524Z",
     "shell.execute_reply": "2021-01-09T12:42:50.348599Z"
    },
    "papermill": {
     "duration": 0.029596,
     "end_time": "2021-01-09T12:42:50.349618",
     "exception": false,
     "start_time": "2021-01-09T12:42:50.320022",
     "status": "completed"
    },
    "tags": []
   },
   "outputs": [],
   "source": [
    "train_generator = generator(train_path, train_doc, BATCH_SIZE)\n",
    "val_generator = generator(val_path, val_doc, BATCH_SIZE)"
   ]
  },
  {
   "cell_type": "code",
   "execution_count": 10,
   "metadata": {
    "execution": {
     "iopub.execute_input": "2021-01-09T12:42:50.400158Z",
     "iopub.status.busy": "2021-01-09T12:42:50.398867Z",
     "iopub.status.idle": "2021-01-09T12:42:50.400873Z",
     "shell.execute_reply": "2021-01-09T12:42:50.401367Z"
    },
    "papermill": {
     "duration": 0.030872,
     "end_time": "2021-01-09T12:42:50.401475",
     "exception": false,
     "start_time": "2021-01-09T12:42:50.370603",
     "status": "completed"
    },
    "tags": []
   },
   "outputs": [],
   "source": [
    "filepath = 'best_model.h5'\n",
    "\n",
    "mc = ModelCheckpoint(filepath, monitor='val_loss', verbose=1, save_best_only=True, save_weights_only=False, mode='min', save_freq=1)\n",
    "es = EarlyStopping(monitor='val_loss', mode='min', verbose=1, patience=10)\n",
    "lr = ReduceLROnPlateau(monitor='val_loss', factor=0.1, patience=3, verbose=1, mode='min',\n",
    "                        min_delta=0.0001, cooldown=0, min_lr=0) \n",
    "callbacks_list = [mc, lr, es]"
   ]
  },
  {
   "cell_type": "markdown",
   "metadata": {
    "papermill": {
     "duration": 0.020866,
     "end_time": "2021-01-09T12:42:50.443686",
     "exception": false,
     "start_time": "2021-01-09T12:42:50.422820",
     "status": "completed"
    },
    "tags": []
   },
   "source": [
    "The `steps_per_epoch` and `validation_steps` are used by `fit_generator` to decide the number of next() calls it need to make."
   ]
  },
  {
   "cell_type": "code",
   "execution_count": 11,
   "metadata": {
    "execution": {
     "iopub.execute_input": "2021-01-09T12:42:50.493610Z",
     "iopub.status.busy": "2021-01-09T12:42:50.492814Z",
     "iopub.status.idle": "2021-01-09T12:42:50.496775Z",
     "shell.execute_reply": "2021-01-09T12:42:50.496269Z"
    },
    "papermill": {
     "duration": 0.031433,
     "end_time": "2021-01-09T12:42:50.496872",
     "exception": false,
     "start_time": "2021-01-09T12:42:50.465439",
     "status": "completed"
    },
    "tags": []
   },
   "outputs": [],
   "source": [
    "if (num_train_sequences%BATCH_SIZE) == 0:\n",
    "    steps_per_epoch = int(num_train_sequences/BATCH_SIZE)\n",
    "else:\n",
    "    steps_per_epoch = (num_train_sequences//BATCH_SIZE) + 1\n",
    "\n",
    "if (num_val_sequences%BATCH_SIZE) == 0:\n",
    "    validation_steps = int(num_val_sequences/BATCH_SIZE)\n",
    "else:\n",
    "    validation_steps = (num_val_sequences//BATCH_SIZE) + 1"
   ]
  },
  {
   "cell_type": "markdown",
   "metadata": {
    "papermill": {
     "duration": 0.020899,
     "end_time": "2021-01-09T12:42:50.539680",
     "exception": false,
     "start_time": "2021-01-09T12:42:50.518781",
     "status": "completed"
    },
    "tags": []
   },
   "source": [
    "Let us now fit the model. This will start training the model and with the help of the checkpoints, you'll be able to save the model at the end of each epoch."
   ]
  },
  {
   "cell_type": "code",
   "execution_count": 12,
   "metadata": {
    "execution": {
     "iopub.execute_input": "2021-01-09T12:42:50.589206Z",
     "iopub.status.busy": "2021-01-09T12:42:50.588624Z",
     "iopub.status.idle": "2021-01-09T13:49:54.232773Z",
     "shell.execute_reply": "2021-01-09T13:49:54.231900Z"
    },
    "papermill": {
     "duration": 4023.672182,
     "end_time": "2021-01-09T13:49:54.232958",
     "exception": false,
     "start_time": "2021-01-09T12:42:50.560776",
     "status": "completed"
    },
    "tags": []
   },
   "outputs": [
    {
     "name": "stdout",
     "output_type": "stream",
     "text": [
      "Epoch 1/50\n",
      "21/21 [==============================] - 114s 5s/step - loss: 0.6424 - binary_accuracy: 0.6341 - val_loss: 0.6193 - val_binary_accuracy: 0.6700\n",
      "Epoch 2/50\n",
      "21/21 [==============================] - 113s 5s/step - loss: 0.6304 - binary_accuracy: 0.6658 - val_loss: 0.6256 - val_binary_accuracy: 0.6720\n",
      "Epoch 3/50\n",
      "21/21 [==============================] - 110s 5s/step - loss: 0.6131 - binary_accuracy: 0.6697 - val_loss: 0.5816 - val_binary_accuracy: 0.6880\n",
      "Epoch 4/50\n",
      "21/21 [==============================] - 106s 5s/step - loss: 0.6067 - binary_accuracy: 0.6754 - val_loss: 0.5812 - val_binary_accuracy: 0.6780\n",
      "Epoch 5/50\n",
      "21/21 [==============================] - 109s 5s/step - loss: 0.5947 - binary_accuracy: 0.6769 - val_loss: 0.5702 - val_binary_accuracy: 0.6860\n",
      "Epoch 6/50\n",
      "21/21 [==============================] - 108s 5s/step - loss: 0.5821 - binary_accuracy: 0.6757 - val_loss: 0.5522 - val_binary_accuracy: 0.6780\n",
      "Epoch 7/50\n",
      "21/21 [==============================] - 110s 5s/step - loss: 0.5775 - binary_accuracy: 0.6833 - val_loss: 0.5583 - val_binary_accuracy: 0.6780\n",
      "Epoch 8/50\n",
      "21/21 [==============================] - 102s 5s/step - loss: 0.5634 - binary_accuracy: 0.6796 - val_loss: 0.5461 - val_binary_accuracy: 0.6800\n",
      "Epoch 9/50\n",
      "21/21 [==============================] - 104s 5s/step - loss: 0.5518 - binary_accuracy: 0.6914 - val_loss: 0.5419 - val_binary_accuracy: 0.6780\n",
      "Epoch 10/50\n",
      "21/21 [==============================] - 107s 5s/step - loss: 0.5408 - binary_accuracy: 0.6938 - val_loss: 0.5314 - val_binary_accuracy: 0.6840\n",
      "Epoch 11/50\n",
      "21/21 [==============================] - 105s 5s/step - loss: 0.5401 - binary_accuracy: 0.6935 - val_loss: 0.5378 - val_binary_accuracy: 0.6760\n",
      "Epoch 12/50\n",
      "21/21 [==============================] - 102s 5s/step - loss: 0.5261 - binary_accuracy: 0.7041 - val_loss: 0.5210 - val_binary_accuracy: 0.6880\n",
      "Epoch 13/50\n",
      "21/21 [==============================] - 107s 5s/step - loss: 0.5173 - binary_accuracy: 0.7023 - val_loss: 0.5278 - val_binary_accuracy: 0.6840\n",
      "Epoch 14/50\n",
      "21/21 [==============================] - 106s 5s/step - loss: 0.5124 - binary_accuracy: 0.7092 - val_loss: 0.5305 - val_binary_accuracy: 0.6820\n",
      "Epoch 15/50\n",
      "21/21 [==============================] - ETA: 0s - loss: 0.5016 - binary_accuracy: 0.7149\n",
      "Epoch 00015: ReduceLROnPlateau reducing learning rate to 9.999999747378752e-06.\n",
      "21/21 [==============================] - 105s 5s/step - loss: 0.5016 - binary_accuracy: 0.7149 - val_loss: 0.5403 - val_binary_accuracy: 0.6660\n",
      "Epoch 16/50\n",
      "21/21 [==============================] - 102s 5s/step - loss: 0.4917 - binary_accuracy: 0.7213 - val_loss: 0.5226 - val_binary_accuracy: 0.6880\n",
      "Epoch 17/50\n",
      "21/21 [==============================] - 110s 5s/step - loss: 0.4939 - binary_accuracy: 0.7167 - val_loss: 0.5167 - val_binary_accuracy: 0.6900\n",
      "Epoch 18/50\n",
      "21/21 [==============================] - 108s 5s/step - loss: 0.4901 - binary_accuracy: 0.7173 - val_loss: 0.5172 - val_binary_accuracy: 0.6860\n",
      "Epoch 19/50\n",
      "21/21 [==============================] - 110s 5s/step - loss: 0.4919 - binary_accuracy: 0.7189 - val_loss: 0.5027 - val_binary_accuracy: 0.7000\n",
      "Epoch 20/50\n",
      "21/21 [==============================] - 104s 5s/step - loss: 0.4882 - binary_accuracy: 0.7183 - val_loss: 0.5176 - val_binary_accuracy: 0.6860\n",
      "Epoch 21/50\n",
      "21/21 [==============================] - 108s 5s/step - loss: 0.4854 - binary_accuracy: 0.7207 - val_loss: 0.5117 - val_binary_accuracy: 0.6920\n",
      "Epoch 22/50\n",
      "21/21 [==============================] - ETA: 0s - loss: 0.4823 - binary_accuracy: 0.7282\n",
      "Epoch 00022: ReduceLROnPlateau reducing learning rate to 9.999999747378752e-07.\n",
      "21/21 [==============================] - 108s 5s/step - loss: 0.4823 - binary_accuracy: 0.7282 - val_loss: 0.5069 - val_binary_accuracy: 0.6900\n",
      "Epoch 23/50\n",
      "21/21 [==============================] - 109s 5s/step - loss: 0.4819 - binary_accuracy: 0.7228 - val_loss: 0.5347 - val_binary_accuracy: 0.6700\n",
      "Epoch 24/50\n",
      "21/21 [==============================] - 105s 5s/step - loss: 0.4858 - binary_accuracy: 0.7213 - val_loss: 0.5075 - val_binary_accuracy: 0.6920\n",
      "Epoch 25/50\n",
      "21/21 [==============================] - ETA: 0s - loss: 0.4853 - binary_accuracy: 0.7225\n",
      "Epoch 00025: ReduceLROnPlateau reducing learning rate to 9.999999974752428e-08.\n",
      "21/21 [==============================] - 114s 5s/step - loss: 0.4853 - binary_accuracy: 0.7225 - val_loss: 0.5261 - val_binary_accuracy: 0.6800\n",
      "Epoch 26/50\n",
      "21/21 [==============================] - 119s 6s/step - loss: 0.4831 - binary_accuracy: 0.7252 - val_loss: 0.5096 - val_binary_accuracy: 0.6920\n",
      "Epoch 27/50\n",
      "21/21 [==============================] - 116s 6s/step - loss: 0.4838 - binary_accuracy: 0.7216 - val_loss: 0.4925 - val_binary_accuracy: 0.7120\n",
      "Epoch 28/50\n",
      "21/21 [==============================] - 109s 5s/step - loss: 0.4822 - binary_accuracy: 0.7243 - val_loss: 0.5149 - val_binary_accuracy: 0.6880\n",
      "Epoch 29/50\n",
      "21/21 [==============================] - 109s 5s/step - loss: 0.4831 - binary_accuracy: 0.7246 - val_loss: 0.5116 - val_binary_accuracy: 0.6920\n",
      "Epoch 30/50\n",
      "21/21 [==============================] - ETA: 0s - loss: 0.4834 - binary_accuracy: 0.7201\n",
      "Epoch 00030: ReduceLROnPlateau reducing learning rate to 1.0000000116860975e-08.\n",
      "21/21 [==============================] - 114s 5s/step - loss: 0.4834 - binary_accuracy: 0.7201 - val_loss: 0.5233 - val_binary_accuracy: 0.6860\n",
      "Epoch 31/50\n",
      "21/21 [==============================] - 112s 5s/step - loss: 0.4827 - binary_accuracy: 0.7222 - val_loss: 0.5023 - val_binary_accuracy: 0.7080\n",
      "Epoch 32/50\n",
      "21/21 [==============================] - 105s 5s/step - loss: 0.4860 - binary_accuracy: 0.7222 - val_loss: 0.5074 - val_binary_accuracy: 0.6940\n",
      "Epoch 33/50\n",
      "21/21 [==============================] - ETA: 0s - loss: 0.4851 - binary_accuracy: 0.7189\n",
      "Epoch 00033: ReduceLROnPlateau reducing learning rate to 9.999999939225292e-10.\n",
      "21/21 [==============================] - 109s 5s/step - loss: 0.4851 - binary_accuracy: 0.7189 - val_loss: 0.5125 - val_binary_accuracy: 0.6900\n",
      "Epoch 34/50\n",
      "21/21 [==============================] - 106s 5s/step - loss: 0.4882 - binary_accuracy: 0.7195 - val_loss: 0.5211 - val_binary_accuracy: 0.6860\n",
      "Epoch 35/50\n",
      "21/21 [==============================] - 108s 5s/step - loss: 0.4834 - binary_accuracy: 0.7255 - val_loss: 0.5212 - val_binary_accuracy: 0.6780\n",
      "Epoch 36/50\n",
      "21/21 [==============================] - ETA: 0s - loss: 0.4845 - binary_accuracy: 0.7246\n",
      "Epoch 00036: ReduceLROnPlateau reducing learning rate to 9.999999717180686e-11.\n",
      "21/21 [==============================] - 105s 5s/step - loss: 0.4845 - binary_accuracy: 0.7246 - val_loss: 0.5104 - val_binary_accuracy: 0.6940\n",
      "Epoch 37/50\n",
      "21/21 [==============================] - 107s 5s/step - loss: 0.4849 - binary_accuracy: 0.7186 - val_loss: 0.5096 - val_binary_accuracy: 0.6940\n",
      "Epoch 00037: early stopping\n"
     ]
    }
   ],
   "source": [
    "history = model.fit_generator(train_generator, steps_per_epoch=steps_per_epoch, epochs=NUM_EPOCHS, verbose=1,\n",
    "                        callbacks=callbacks_list, validation_data=val_generator, \n",
    "                        validation_steps=validation_steps, class_weight=None, workers=1, initial_epoch=0)"
   ]
  },
  {
   "cell_type": "markdown",
   "metadata": {
    "papermill": {
     "duration": 0.302823,
     "end_time": "2021-01-09T13:49:54.851896",
     "exception": false,
     "start_time": "2021-01-09T13:49:54.549073",
     "status": "completed"
    },
    "tags": []
   },
   "source": [
    "Plot the train and validation loss and accuracies"
   ]
  },
  {
   "cell_type": "code",
   "execution_count": 13,
   "metadata": {
    "execution": {
     "iopub.execute_input": "2021-01-09T13:49:55.497507Z",
     "iopub.status.busy": "2021-01-09T13:49:55.496706Z",
     "iopub.status.idle": "2021-01-09T13:49:56.148146Z",
     "shell.execute_reply": "2021-01-09T13:49:56.147548Z"
    },
    "papermill": {
     "duration": 0.983128,
     "end_time": "2021-01-09T13:49:56.148268",
     "exception": false,
     "start_time": "2021-01-09T13:49:55.165140",
     "status": "completed"
    },
    "tags": []
   },
   "outputs": [
    {
     "data": {
      "image/png": "[encoded data removed]",
      "text/plain": [
       "<Figure size 432x288 with 1 Axes>"
      ]
     },
     "metadata": {
      "needs_background": "light"
     },
     "output_type": "display_data"
    },
    {
     "data": {
      "image/png": "[encoded data removed]",
      "text/plain": [
       "<Figure size 432x288 with 1 Axes>"
      ]
     },
     "metadata": {
      "needs_background": "light"
     },
     "output_type": "display_data"
    }
   ],
   "source": [
    "history_frame = pd.DataFrame(history.history)\n",
    "history_frame.loc[:, ['loss', 'val_loss']].plot()\n",
    "history_frame.loc[:, ['binary_accuracy', 'val_binary_accuracy']].plot();"
   ]
  },
  {
   "cell_type": "code",
   "execution_count": 14,
   "metadata": {
    "execution": {
     "iopub.execute_input": "2021-01-09T13:49:56.789133Z",
     "iopub.status.busy": "2021-01-09T13:49:56.788321Z",
     "iopub.status.idle": "2021-01-09T13:49:56.792790Z",
     "shell.execute_reply": "2021-01-09T13:49:56.793538Z"
    },
    "papermill": {
     "duration": 0.322184,
     "end_time": "2021-01-09T13:49:56.793700",
     "exception": false,
     "start_time": "2021-01-09T13:49:56.471516",
     "status": "completed"
    },
    "tags": []
   },
   "outputs": [
    {
     "name": "stdout",
     "output_type": "stream",
     "text": [
      "Total execution time is : 69 minutes\n"
     ]
    }
   ],
   "source": [
    "# Display the exeuction time\n",
    "print('Total execution time is :',round((time.time() - start_time)/60),'minutes')"
   ]
  }
 ],
 "metadata": {
  "kernelspec": {
   "display_name": "Python 3",
   "language": "python",
   "name": "python3"
  },
  "language_info": {
   "codemirror_mode": {
    "name": "ipython",
    "version": 3
   },
   "file_extension": ".py",
   "mimetype": "text/x-python",
   "name": "python",
   "nbconvert_exporter": "python",
   "pygments_lexer": "ipython3",
   "version": "3.9.1"
  },
  "papermill": {
   "duration": 4144.077157,
   "end_time": "2021-01-09T13:49:59.058704",
   "environment_variables": {},
   "exception": null,
   "input_path": "__notebook__.ipynb",
   "output_path": "__notebook__.ipynb",
   "parameters": {},
   "start_time": "2021-01-09T12:40:54.981547",
   "version": "2.1.0"
  }
 },
 "nbformat": 4,
 "nbformat_minor": 4
}
