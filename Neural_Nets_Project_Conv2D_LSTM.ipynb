{
  "nbformat": 4,
  "nbformat_minor": 0,
  "metadata": {
    "kernelspec": {
      "display_name": "Python 3",
      "language": "python",
      "name": "python3"
    },
    "language_info": {
      "codemirror_mode": {
        "name": "ipython",
        "version": 3
      },
      "file_extension": ".py",
      "mimetype": "text/x-python",
      "name": "python",
      "nbconvert_exporter": "python",
      "pygments_lexer": "ipython3",
      "version": "3.8.5"
    },
    "papermill": {
      "duration": 5622.878993,
      "end_time": "2020-12-29T17:29:55.688762",
      "environment_variables": {},
      "exception": null,
      "input_path": "__notebook__.ipynb",
      "output_path": "__notebook__.ipynb",
      "parameters": {},
      "start_time": "2020-12-29T15:56:12.809769",
      "version": "2.1.0"
    },
    "colab": {
      "name": "Neural_Nets_Project_Conv3D-Copy1.ipynb",
      "provenance": []
    },
    "accelerator": "GPU"
  },
  "cells": [
    {
      "cell_type": "markdown",
      "metadata": {
        "papermill": {
          "duration": 0.018428,
          "end_time": "2020-12-29T15:56:17.428670",
          "exception": false,
          "start_time": "2020-12-29T15:56:17.410242",
          "status": "completed"
        },
        "tags": [],
        "id": "E4cHfielqQm-"
      },
      "source": [
        "# Gesture Recognition\n",
        "In this group project, you are going to build a CNN-RNN model with LSTM that will be able to predict the 5 gestures correctly. Please import the following libraries to get started."
      ]
    },
    {
      "cell_type": "code",
      "metadata": {
        "colab": {
          "base_uri": "https://localhost:8080/"
        },
        "id": "b0tBj2D7qXS2",
        "outputId": "12e571f7-5e2b-4fbd-8cf0-e061cfde5335"
      },
      "source": [
        "from google.colab import drive\n",
        "drive.mount('/content/drive')"
      ],
      "execution_count": 1,
      "outputs": [
        {
          "output_type": "stream",
          "text": [
            "Mounted at /content/drive\n"
          ],
          "name": "stdout"
        }
      ]
    },
    {
      "cell_type": "code",
      "metadata": {
        "id": "sqEELXHSqjLu"
      },
      "source": [
        "!cp -r '/content/drive/MyDrive/ML_Datasets/Untouched_Gestures/Project_data' ."
      ],
      "execution_count": 2,
      "outputs": []
    },
    {
      "cell_type": "code",
      "metadata": {
        "papermill": {
          "duration": 0.027884,
          "end_time": "2020-12-29T15:56:17.474545",
          "exception": false,
          "start_time": "2020-12-29T15:56:17.446661",
          "status": "completed"
        },
        "tags": [],
        "id": "SSh1ocS2qQnB"
      },
      "source": [
        "import numpy as np\n",
        "import pandas as pd\n",
        "import os\n",
        "import datetime\n",
        "import time\n",
        "import warnings\n",
        "warnings.filterwarnings('ignore')\n",
        "\n",
        "start_time=time.time()"
      ],
      "execution_count": 3,
      "outputs": []
    },
    {
      "cell_type": "markdown",
      "metadata": {
        "papermill": {
          "duration": 0.016937,
          "end_time": "2020-12-29T15:56:17.509192",
          "exception": false,
          "start_time": "2020-12-29T15:56:17.492255",
          "status": "completed"
        },
        "tags": [],
        "id": "Jpt_55c3qQnC"
      },
      "source": [
        "We set the random seed so that the results don't vary drastically."
      ]
    },
    {
      "cell_type": "code",
      "metadata": {
        "papermill": {
          "duration": 7.992611,
          "end_time": "2020-12-29T15:56:25.519303",
          "exception": false,
          "start_time": "2020-12-29T15:56:17.526692",
          "status": "completed"
        },
        "tags": [],
        "colab": {
          "base_uri": "https://localhost:8080/"
        },
        "id": "pJExeq9lqQnC",
        "outputId": "f0549650-a168-4278-b4b2-3967193cc436"
      },
      "source": [
        "np.random.seed(30)\n",
        "import random as rn\n",
        "rn.seed(30)\n",
        "from tensorflow.keras import backend as K\n",
        "import tensorflow as tf\n",
        "print('Tensorflow version: ',tf.__version__)\n",
        "tf.random.set_seed(30)\n",
        "if tf.test.gpu_device_name():\n",
        "    print('Default GPU Device:{}'.format(tf.test.gpu_device_name()))\n",
        "else:\n",
        "    print(\"Please install GPU version of TF\")"
      ],
      "execution_count": 4,
      "outputs": [
        {
          "output_type": "stream",
          "text": [
            "Tensorflow version:  2.4.0\n",
            "Default GPU Device:/device:GPU:0\n"
          ],
          "name": "stdout"
        }
      ]
    },
    {
      "cell_type": "markdown",
      "metadata": {
        "papermill": {
          "duration": 0.01756,
          "end_time": "2020-12-29T15:56:25.555105",
          "exception": false,
          "start_time": "2020-12-29T15:56:25.537545",
          "status": "completed"
        },
        "tags": [],
        "id": "HBEB1Q2hqQnF"
      },
      "source": [
        "In this block, you read the folder names for training and validation. You also set the `batch_size` here. Note that you set the batch size in such a way that you are able to use the GPU in full capacity. You keep increasing the batch size until the machine throws an error."
      ]
    },
    {
      "cell_type": "code",
      "metadata": {
        "papermill": {
          "duration": 0.047577,
          "end_time": "2020-12-29T15:56:25.620158",
          "exception": false,
          "start_time": "2020-12-29T15:56:25.572581",
          "status": "completed"
        },
        "tags": [],
        "colab": {
          "base_uri": "https://localhost:8080/"
        },
        "id": "sgra4h24qQnF",
        "outputId": "8b9ce35b-6394-4355-e90d-bb6aa458d40f"
      },
      "source": [
        "#BASE_PATH='../input/untouched-gesture-dataset'\n",
        "BASE_PATH='.'\n",
        "train_doc = np.random.permutation(open(BASE_PATH+'/Project_data/train.csv').readlines())\n",
        "val_doc = np.random.permutation(open(BASE_PATH+'/Project_data/val.csv').readlines())\n",
        "BATCH_SIZE = 32 #experiment with the batch size\n",
        "IMG_HEIGHT = 120\n",
        "IMG_WIDTH = 120\n",
        "LEARNING_RATE=0.0001\n",
        "FRAMES=len(list(range(1,30,2)))\n",
        "NUM_EPOCHS = 50\n",
        "print('Number of frames being considered :',FRAMES)"
      ],
      "execution_count": 5,
      "outputs": [
        {
          "output_type": "stream",
          "text": [
            "Number of frames being considered : 15\n"
          ],
          "name": "stdout"
        }
      ]
    },
    {
      "cell_type": "markdown",
      "metadata": {
        "papermill": {
          "duration": 0.01768,
          "end_time": "2020-12-29T15:56:25.656848",
          "exception": false,
          "start_time": "2020-12-29T15:56:25.639168",
          "status": "completed"
        },
        "tags": [],
        "id": "I666lZfiqQnG"
      },
      "source": [
        "## Generator\n",
        "This is one of the most important part of the code. The overall structure of the generator has been given. In the generator, you are going to preprocess the images as you have images of 2 different dimensions as well as create a batch of video frames. You have to experiment with `img_idx`, `y`,`z` and normalization such that you get high accuracy."
      ]
    },
    {
      "cell_type": "code",
      "metadata": {
        "papermill": {
          "duration": 0.058302,
          "end_time": "2020-12-29T15:56:25.733355",
          "exception": false,
          "start_time": "2020-12-29T15:56:25.675053",
          "status": "completed"
        },
        "tags": [],
        "id": "uk7Yo0qIqQnH"
      },
      "source": [
        "def generator(source_path, folder_list, batch_size):\n",
        "    #print( 'Source path = ', source_path, '; batch size =', batch_size)\n",
        "    # We will consider frames 10 to 20 for training\n",
        "    img_idx = range(0,30,2) #create a list of image numbers you want to use for a particular video\n",
        "    while True:\n",
        "        t = np.random.permutation(folder_list)\n",
        "        num_batches = int(len(folder_list) / batch_size) # calculate the number of batches\n",
        "        for batch in range(num_batches): # we iterate over the number of batches\n",
        "            # second parameter x set to len(img_idx) list - indicates no. of images we want to use for each video\n",
        "            # third and fourth parameters (y,z) indicate the final size of input image\n",
        "            batch_data = np.zeros((batch_size,len(img_idx),120,120,3)) # x is the number of images you use for each video, (y,z) is the final size of the input images and 3 is the number of channels RGB\n",
        "            batch_labels = np.zeros((batch_size,5)) # batch_labels is the one hot representation of the output\n",
        "            for folder in range(batch_size): # iterate over the batch_size\n",
        "                imgs = os.listdir(source_path+'/'+ t[folder + (batch*batch_size)].split(';')[0]) # read all the images in the folder\n",
        "                for idx,item in enumerate(img_idx): #  Iterate iver the frames/images of a folder to read them in\n",
        "                    image = tf.io.read_file(source_path+'/'+ t[folder + (batch*batch_size)].strip().split(';')[0]+'/'+imgs[item])\n",
        "                    image = tf.io.decode_jpeg(image,channels=3)\n",
        "                    #crop the images and resize them. Note that the images are of 2 different shape \n",
        "                    #and the conv3D will throw error if the inputs in a batch have different shapes\n",
        "                    # We will resize all the images to a standard shape of (120,120)\n",
        "                    # We will use distinct normalization methods for different channel\n",
        "                    im_resized = tf.image.resize(image,size=[IMG_HEIGHT,IMG_WIDTH],method='nearest') \n",
        "                    im_resized = tf.image.resize(tf.image.central_crop(im_resized,0.9),size=[IMG_HEIGHT,IMG_WIDTH],method='nearest')\n",
        "                    im_resized_0 = im_resized[:,:,0]\n",
        "                    im_resized_1 = im_resized[:,:,1]\n",
        "                    im_resized_2 = im_resized[:,:,2]\n",
        "                    batch_data[folder,idx,:,:,0] = (im_resized_0 - np.min(im_resized_0))/ (np.max(im_resized_0) - np.min(im_resized_0)) #normalise and feed in the image\n",
        "                    batch_data[folder,idx,:,:,1] = (im_resized_1 - np.percentile(im_resized_1,5))/ (np.percentile(im_resized_1,95) - np.percentile(im_resized_1,5)) #normalise and feed in the image\n",
        "                    batch_data[folder,idx,:,:,2] = im_resized_2/255 #normalise and feed in the image                    \n",
        "                batch_labels[folder, int(t[folder + (batch*batch_size)].strip().split(';')[2])] = 1\n",
        "            yield batch_data, batch_labels #you yield the batch_data and the batch_labels, remember what does yield do\n",
        "\n",
        "        \n",
        "        # write the code for the remaining data points which are left after full batches\n",
        "        if len(folder_list) != (num_batches * batch_size):\n",
        "            n_batch_size = len(folder_list) - (num_batches * batch_size)\n",
        "            batch_data = np.zeros((n_batch_size,len(img_idx),120,120,3))\n",
        "            batch_labels = np.zeros((n_batch_size,5))\n",
        "            for folder in range(n_batch_size): # iterate over the batch_size\n",
        "                imgs = os.listdir(source_path+'/'+ t[folder + (num_batches*n_batch_size)].split(';')[0]) # read all the images in the folder\n",
        "                for idx,item in enumerate(img_idx): #  Iterate iver the frames/images of a folder to read them in\n",
        "                    image = tf.io.read_file(source_path+'/'+ t[folder + (num_batches*n_batch_size)].strip().split(';')[0]+'/'+imgs[item])\n",
        "                    image = tf.io.decode_jpeg(image,channels=3)\n",
        "                    #crop the images and resize them. Note that the images are of 2 different shape \n",
        "                    #and the conv3D will throw error if the inputs in a batch have different shapes\n",
        "                    # We will resize all the images to a standard shape of (120,120)\n",
        "                    # We will use distinct normalization methods for different channel\n",
        "                    im_resized = tf.image.resize(image,size=[IMG_HEIGHT,IMG_WIDTH],method='nearest') \n",
        "                    im_resized = tf.image.resize(tf.image.central_crop(im_resized,0.9),size=[IMG_HEIGHT,IMG_WIDTH],method='nearest')\n",
        "                    im_resized_0 = im_resized[:,:,0]\n",
        "                    im_resized_1 = im_resized[:,:,1]\n",
        "                    im_resized_2 = im_resized[:,:,2]\n",
        "                    batch_data[folder,idx,:,:,0] = (im_resized_0 - np.min(im_resized_0))/ (np.max(im_resized_0) - np.min(im_resized_0)) #normalise and feed in the image\n",
        "                    batch_data[folder,idx,:,:,1] = (im_resized_1 - np.percentile(im_resized_1,5))/ (np.percentile(im_resized_1,95) - np.percentile(im_resized_1,5)) #normalise and feed in the image\n",
        "                    batch_data[folder,idx,:,:,2] = im_resized_2/255 #normalise and feed in the image   \n",
        "                    \n",
        "                batch_labels[folder, int(t[folder + (num_batches*n_batch_size)].strip().split(';')[2])] = 1\n",
        "            yield batch_data, batch_labels #you yield the batch_data and the batch_labels, remember what does yield do\n",
        "        "
      ],
      "execution_count": 6,
      "outputs": []
    },
    {
      "cell_type": "markdown",
      "metadata": {
        "papermill": {
          "duration": 0.018697,
          "end_time": "2020-12-29T15:56:25.770447",
          "exception": false,
          "start_time": "2020-12-29T15:56:25.751750",
          "status": "completed"
        },
        "tags": [],
        "id": "q1lpAV-aqQnI"
      },
      "source": [
        "Note here that a video is represented above in the generator as (number of images, height, width, number of channels). Take this into consideration while creating the model architecture."
      ]
    },
    {
      "cell_type": "code",
      "metadata": {
        "papermill": {
          "duration": 67.15411,
          "end_time": "2020-12-29T15:57:32.943889",
          "exception": false,
          "start_time": "2020-12-29T15:56:25.789779",
          "status": "completed"
        },
        "tags": [],
        "colab": {
          "base_uri": "https://localhost:8080/"
        },
        "id": "CgFIJMc1qQnI",
        "outputId": "4735fe31-4e50-4a1e-82d7-c0d03f3bf62d"
      },
      "source": [
        "from PIL import Image\n",
        "\n",
        "curr_dt_time = datetime.datetime.now()\n",
        "train_path = BASE_PATH+'/Project_data/train'\n",
        "val_path = BASE_PATH+'/Project_data/val'\n",
        "num_train_sequences = len(train_doc)\n",
        "print('# training sequences =', num_train_sequences)\n",
        "print('# training batches =', int(num_train_sequences/30))\n",
        "num_val_sequences = len(val_doc)\n",
        "print('# validation sequences =', num_val_sequences)\n",
        "\n",
        "img_sizes=[]\n",
        "for i in os.listdir(train_path):\n",
        "    if not(i.startswith('.')):\n",
        "        file_path = train_path + \"/\" + i\n",
        "        for j in os.listdir(file_path):\n",
        "            if not(j.startswith('.')):\n",
        "                im_path = file_path + \"/\" + j\n",
        "                im = Image.open(im_path)\n",
        "                img_sizes.append(im.size)"
      ],
      "execution_count": 7,
      "outputs": [
        {
          "output_type": "stream",
          "text": [
            "# training sequences = 663\n",
            "# training batches = 22\n",
            "# validation sequences = 100\n"
          ],
          "name": "stdout"
        }
      ]
    },
    {
      "cell_type": "code",
      "metadata": {
        "papermill": {
          "duration": 0.031626,
          "end_time": "2020-12-29T15:57:32.994115",
          "exception": false,
          "start_time": "2020-12-29T15:57:32.962489",
          "status": "completed"
        },
        "tags": [],
        "colab": {
          "base_uri": "https://localhost:8080/"
        },
        "id": "zu4WiJLMqQnJ",
        "outputId": "bd93fa8e-ebbc-4da6-c01e-168234d537b6"
      },
      "source": [
        "set(img_sizes)"
      ],
      "execution_count": 8,
      "outputs": [
        {
          "output_type": "execute_result",
          "data": {
            "text/plain": [
              "{(160, 120), (360, 360)}"
            ]
          },
          "metadata": {
            "tags": []
          },
          "execution_count": 8
        }
      ]
    },
    {
      "cell_type": "markdown",
      "metadata": {
        "papermill": {
          "duration": 0.018519,
          "end_time": "2020-12-29T15:57:33.032107",
          "exception": false,
          "start_time": "2020-12-29T15:57:33.013588",
          "status": "completed"
        },
        "tags": [],
        "id": "u_L0S_UCqQnL"
      },
      "source": [
        "As we can see we have two shapes of images (160,120) and (360,360).  We will standardize the image shapes to (120,120)"
      ]
    },
    {
      "cell_type": "markdown",
      "metadata": {
        "papermill": {
          "duration": 0.018869,
          "end_time": "2020-12-29T15:57:33.069649",
          "exception": false,
          "start_time": "2020-12-29T15:57:33.050780",
          "status": "completed"
        },
        "tags": [],
        "id": "eDQ_QEOsqQnL"
      },
      "source": [
        "## Model\n",
        "Here you make the model using different functionalities that Keras provides. Remember to use `Conv3D` and `MaxPooling3D` and not `Conv2D` and `Maxpooling2D` for a 3D convolution model. You would want to use `TimeDistributed` while building a Conv2D + RNN model. Also remember that the last layer is the softmax. Design the network in such a way that the model is able to give good accuracy on the least number of parameters so that it can fit in the memory of the webcam."
      ]
    },
    {
      "cell_type": "markdown",
      "metadata": {
        "papermill": {
          "duration": 0.019565,
          "end_time": "2020-12-29T15:57:33.107616",
          "exception": false,
          "start_time": "2020-12-29T15:57:33.088051",
          "status": "completed"
        },
        "tags": [],
        "id": "QzpEa_KoqQnL"
      },
      "source": [
        "#### Conv3D Model"
      ]
    },
    {
      "cell_type": "code",
      "metadata": {
        "papermill": {
          "duration": 0.598189,
          "end_time": "2020-12-29T15:57:33.724884",
          "exception": false,
          "start_time": "2020-12-29T15:57:33.126695",
          "status": "completed"
        },
        "tags": [],
        "id": "vzqYKLP7qQnL"
      },
      "source": [
        "from tensorflow.keras.models import Sequential, Model\n",
        "from tensorflow.keras.layers import Dense, GRU, LSTM, Flatten, TimeDistributed, Flatten, BatchNormalization, Activation, Dropout\n",
        "from tensorflow.keras.layers import Conv3D, MaxPooling3D, Conv2D, MaxPooling2D\n",
        "from tensorflow.keras.callbacks import ModelCheckpoint, ReduceLROnPlateau, EarlyStopping\n",
        "from tensorflow.keras import optimizers\n",
        "from tensorflow.keras import initializers\n",
        "from tensorflow.keras import regularizers\n",
        "\n",
        "#write your model here\n",
        "nb_filters = [8,16,32,64]\n",
        "nb_dense = [1000, 500, 5]\n",
        "input_shape = (FRAMES, 120, 120, 3)\n",
        "\n",
        "model_b = Sequential()\n",
        "\n",
        "model_b.add(TimeDistributed(Conv2D(32, (3,3), strides=(2,2), activation='relu', padding='same'),\n",
        "                            input_shape=input_shape))\n",
        "model_b.add(TimeDistributed(Conv2D(32, (3,3), kernel_initializer=\"he_normal\", activation='relu')))\n",
        "model_b.add(TimeDistributed(MaxPooling2D((2, 2), strides=(2,2))))\n",
        "\n",
        "model_b.add(TimeDistributed(Conv2D(64, (3,3), padding='same', activation='relu')))\n",
        "model_b.add(TimeDistributed(Conv2D(64, (3,3), padding='same', activation='relu')))\n",
        "model_b.add(TimeDistributed(MaxPooling2D((2,2), strides=(2,2))))\n",
        "\n",
        "model_b.add(TimeDistributed(Conv2D(128, (3,3), padding='same', activation='relu')))\n",
        "model_b.add(TimeDistributed(Conv2D(128, (3,3), padding='same', activation='relu')))\n",
        "model_b.add(TimeDistributed(MaxPooling2D((2,2), strides=(2,2))))\n",
        "\n",
        "model_b.add(TimeDistributed(Conv2D(256, (3,3), padding='same', activation='relu')))\n",
        "model_b.add(TimeDistributed(Conv2D(256, (3,3), padding='same', activation='relu')))\n",
        "model_b.add(TimeDistributed(MaxPooling2D((2,2), strides=(2,2))))\n",
        "        \n",
        "model_b.add(TimeDistributed(Conv2D(512, (3,3), padding='same', activation='relu')))\n",
        "model_b.add(TimeDistributed(Conv2D(512, (3,3), padding='same', activation='relu')))\n",
        "model_b.add(TimeDistributed(MaxPooling2D((2,2), strides=(2,2))))\n",
        "\n",
        "model_b.add(TimeDistributed(Flatten()))\n",
        "\n",
        "model_b.add(Dropout(0.5))\n",
        "model_b.add(LSTM(256, return_sequences=False, dropout=0.5))\n",
        "\n",
        "#output layer\n",
        "model_b.add(Dense(nb_dense[2], activation='sigmoid'))"
      ],
      "execution_count": 9,
      "outputs": []
    },
    {
      "cell_type": "markdown",
      "metadata": {
        "papermill": {
          "duration": 0.019221,
          "end_time": "2020-12-29T15:57:33.763808",
          "exception": false,
          "start_time": "2020-12-29T15:57:33.744587",
          "status": "completed"
        },
        "tags": [],
        "id": "c3PQBxAGqQnM"
      },
      "source": [
        "Now that you have written the model, the next step is to `compile` the model. When you print the `summary` of the model, you'll see the total number of parameters you have to train."
      ]
    },
    {
      "cell_type": "code",
      "metadata": {
        "papermill": {
          "duration": 0.055011,
          "end_time": "2020-12-29T15:57:33.838046",
          "exception": false,
          "start_time": "2020-12-29T15:57:33.783035",
          "status": "completed"
        },
        "tags": [],
        "colab": {
          "base_uri": "https://localhost:8080/"
        },
        "id": "1JSP-JVtqQnM",
        "outputId": "883715fe-8886-4811-f156-69f11779d1e1"
      },
      "source": [
        "optimizer=optimizers.Adam(lr=LEARNING_RATE)\n",
        "model_b.compile(optimizer=optimizer, loss='binary_crossentropy', metrics=['binary_accuracy']) \n",
        "print (model_b.summary())"
      ],
      "execution_count": 10,
      "outputs": [
        {
          "output_type": "stream",
          "text": [
            "Model: \"sequential\"\n",
            "_________________________________________________________________\n",
            "Layer (type)                 Output Shape              Param #   \n",
            "=================================================================\n",
            "time_distributed (TimeDistri (None, 15, 60, 60, 32)    896       \n",
            "_________________________________________________________________\n",
            "time_distributed_1 (TimeDist (None, 15, 58, 58, 32)    9248      \n",
            "_________________________________________________________________\n",
            "time_distributed_2 (TimeDist (None, 15, 29, 29, 32)    0         \n",
            "_________________________________________________________________\n",
            "time_distributed_3 (TimeDist (None, 15, 29, 29, 64)    18496     \n",
            "_________________________________________________________________\n",
            "time_distributed_4 (TimeDist (None, 15, 29, 29, 64)    36928     \n",
            "_________________________________________________________________\n",
            "time_distributed_5 (TimeDist (None, 15, 14, 14, 64)    0         \n",
            "_________________________________________________________________\n",
            "time_distributed_6 (TimeDist (None, 15, 14, 14, 128)   73856     \n",
            "_________________________________________________________________\n",
            "time_distributed_7 (TimeDist (None, 15, 14, 14, 128)   147584    \n",
            "_________________________________________________________________\n",
            "time_distributed_8 (TimeDist (None, 15, 7, 7, 128)     0         \n",
            "_________________________________________________________________\n",
            "time_distributed_9 (TimeDist (None, 15, 7, 7, 256)     295168    \n",
            "_________________________________________________________________\n",
            "time_distributed_10 (TimeDis (None, 15, 7, 7, 256)     590080    \n",
            "_________________________________________________________________\n",
            "time_distributed_11 (TimeDis (None, 15, 3, 3, 256)     0         \n",
            "_________________________________________________________________\n",
            "time_distributed_12 (TimeDis (None, 15, 3, 3, 512)     1180160   \n",
            "_________________________________________________________________\n",
            "time_distributed_13 (TimeDis (None, 15, 3, 3, 512)     2359808   \n",
            "_________________________________________________________________\n",
            "time_distributed_14 (TimeDis (None, 15, 1, 1, 512)     0         \n",
            "_________________________________________________________________\n",
            "time_distributed_15 (TimeDis (None, 15, 512)           0         \n",
            "_________________________________________________________________\n",
            "dropout (Dropout)            (None, 15, 512)           0         \n",
            "_________________________________________________________________\n",
            "lstm (LSTM)                  (None, 256)               787456    \n",
            "_________________________________________________________________\n",
            "dense (Dense)                (None, 5)                 1285      \n",
            "=================================================================\n",
            "Total params: 5,500,965\n",
            "Trainable params: 5,500,965\n",
            "Non-trainable params: 0\n",
            "_________________________________________________________________\n",
            "None\n"
          ],
          "name": "stdout"
        }
      ]
    },
    {
      "cell_type": "markdown",
      "metadata": {
        "papermill": {
          "duration": 0.019343,
          "end_time": "2020-12-29T15:57:33.877561",
          "exception": false,
          "start_time": "2020-12-29T15:57:33.858218",
          "status": "completed"
        },
        "tags": [],
        "id": "0MR6rQmMqQnN"
      },
      "source": [
        "Let us create the `train_generator` and the `val_generator` which will be used in `.fit_generator`."
      ]
    },
    {
      "cell_type": "code",
      "metadata": {
        "papermill": {
          "duration": 0.027786,
          "end_time": "2020-12-29T15:57:33.925548",
          "exception": false,
          "start_time": "2020-12-29T15:57:33.897762",
          "status": "completed"
        },
        "tags": [],
        "id": "gENqSgfwqQnN"
      },
      "source": [
        "train_generator = generator(train_path, train_doc, BATCH_SIZE)\n",
        "val_generator = generator(val_path, val_doc, BATCH_SIZE)"
      ],
      "execution_count": 11,
      "outputs": []
    },
    {
      "cell_type": "code",
      "metadata": {
        "execution": {
          "iopub.execute_input": "2020-12-29T15:57:33.974845Z",
          "iopub.status.busy": "2020-12-29T15:57:33.973148Z",
          "iopub.status.idle": "2020-12-29T15:57:33.975624Z",
          "shell.execute_reply": "2020-12-29T15:57:33.976097Z"
        },
        "papermill": {
          "duration": 0.030089,
          "end_time": "2020-12-29T15:57:33.976203",
          "exception": false,
          "start_time": "2020-12-29T15:57:33.946114",
          "status": "completed"
        },
        "tags": [],
        "id": "wo_x4Wc0qQnN"
      },
      "source": [
        "filepath = 'best_model.h5'\n",
        "\n",
        "mc = ModelCheckpoint(filepath, monitor='val_loss', verbose=1, save_best_only=True, save_weights_only=False, mode='min', save_freq=1)\n",
        "es = EarlyStopping(monitor='val_loss', mode='min', verbose=1, patience=10)\n",
        "lr = ReduceLROnPlateau(monitor='val_loss', factor=0.1, patience=3, verbose=1, mode='min',\n",
        "                        min_delta=0.0001, cooldown=0, min_lr=0) \n",
        "callbacks_list = [mc, lr, es]"
      ],
      "execution_count": 12,
      "outputs": []
    },
    {
      "cell_type": "markdown",
      "metadata": {
        "papermill": {
          "duration": 0.055333,
          "end_time": "2020-12-29T15:57:34.051543",
          "exception": false,
          "start_time": "2020-12-29T15:57:33.996210",
          "status": "completed"
        },
        "tags": [],
        "id": "0mp0iq7LqQnO"
      },
      "source": [
        "The `steps_per_epoch` and `validation_steps` are used by `fit_generator` to decide the number of next() calls it need to make."
      ]
    },
    {
      "cell_type": "code",
      "metadata": {
        "execution": {
          "iopub.execute_input": "2020-12-29T15:57:34.100245Z",
          "iopub.status.busy": "2020-12-29T15:57:34.099525Z",
          "iopub.status.idle": "2020-12-29T15:57:34.103494Z",
          "shell.execute_reply": "2020-12-29T15:57:34.102996Z"
        },
        "papermill": {
          "duration": 0.031201,
          "end_time": "2020-12-29T15:57:34.103592",
          "exception": false,
          "start_time": "2020-12-29T15:57:34.072391",
          "status": "completed"
        },
        "tags": [],
        "id": "BWmcToP_qQnO"
      },
      "source": [
        "if (num_train_sequences%BATCH_SIZE) == 0:\n",
        "    steps_per_epoch = int(num_train_sequences/BATCH_SIZE)\n",
        "else:\n",
        "    steps_per_epoch = (num_train_sequences//BATCH_SIZE) + 1\n",
        "\n",
        "if (num_val_sequences%BATCH_SIZE) == 0:\n",
        "    validation_steps = int(num_val_sequences/BATCH_SIZE)\n",
        "else:\n",
        "    validation_steps = (num_val_sequences//BATCH_SIZE) + 1"
      ],
      "execution_count": 13,
      "outputs": []
    },
    {
      "cell_type": "markdown",
      "metadata": {
        "papermill": {
          "duration": 0.021132,
          "end_time": "2020-12-29T15:57:34.145137",
          "exception": false,
          "start_time": "2020-12-29T15:57:34.124005",
          "status": "completed"
        },
        "tags": [],
        "id": "cwyvN6jsqQnP"
      },
      "source": [
        "Let us now fit the model. This will start training the model and with the help of the checkpoints, you'll be able to save the model at the end of each epoch."
      ]
    },
    {
      "cell_type": "code",
      "metadata": {
        "execution": {
          "iopub.execute_input": "2020-12-29T15:57:34.192197Z",
          "iopub.status.busy": "2020-12-29T15:57:34.191557Z",
          "iopub.status.idle": "2020-12-29T17:29:49.510575Z",
          "shell.execute_reply": "2020-12-29T17:29:49.511451Z"
        },
        "papermill": {
          "duration": 5535.346146,
          "end_time": "2020-12-29T17:29:49.511682",
          "exception": false,
          "start_time": "2020-12-29T15:57:34.165536",
          "status": "completed"
        },
        "tags": [],
        "colab": {
          "base_uri": "https://localhost:8080/"
        },
        "id": "4xGYnsU2qQnP",
        "outputId": "2f96d3e9-a337-4b5e-e5cb-52901b9b234f"
      },
      "source": [
        "history = model_b.fit_generator(train_generator, steps_per_epoch=steps_per_epoch, epochs=NUM_EPOCHS, verbose=1, \n",
        "                        callbacks=callbacks_list, validation_data=val_generator, \n",
        "                        validation_steps=validation_steps, class_weight=None, workers=1, initial_epoch=0)"
      ],
      "execution_count": 15,
      "outputs": [
        {
          "output_type": "stream",
          "text": [
            "Epoch 1/50\n",
            " 1/21 [>.............................] - ETA: 3:37 - loss: 0.6933 - binary_accuracy: 0.4875WARNING:tensorflow:Can save best model only with val_loss available, skipping.\n",
            " 2/21 [=>............................] - ETA: 1:07 - loss: 0.6920 - binary_accuracy: 0.5672WARNING:tensorflow:Can save best model only with val_loss available, skipping.\n",
            " 3/21 [===>..........................] - ETA: 1:08 - loss: 0.6908 - binary_accuracy: 0.6108WARNING:tensorflow:Can save best model only with val_loss available, skipping.\n",
            " 4/21 [====>.........................] - ETA: 1:06 - loss: 0.6893 - binary_accuracy: 0.6389WARNING:tensorflow:Can save best model only with val_loss available, skipping.\n",
            " 5/21 [======>.......................] - ETA: 1:02 - loss: 0.6875 - binary_accuracy: 0.6589WARNING:tensorflow:Can save best model only with val_loss available, skipping.\n",
            " 6/21 [=======>......................] - ETA: 58s - loss: 0.6853 - binary_accuracy: 0.6739 WARNING:tensorflow:Can save best model only with val_loss available, skipping.\n",
            " 7/21 [=========>....................] - ETA: 54s - loss: 0.6824 - binary_accuracy: 0.6857WARNING:tensorflow:Can save best model only with val_loss available, skipping.\n",
            " 8/21 [==========>...................] - ETA: 50s - loss: 0.6791 - binary_accuracy: 0.6952WARNING:tensorflow:Can save best model only with val_loss available, skipping.\n",
            " 9/21 [===========>..................] - ETA: 46s - loss: 0.6752 - binary_accuracy: 0.7030WARNING:tensorflow:Can save best model only with val_loss available, skipping.\n",
            "10/21 [=============>................] - ETA: 43s - loss: 0.6707 - binary_accuracy: 0.7097WARNING:tensorflow:Can save best model only with val_loss available, skipping.\n",
            "11/21 [==============>...............] - ETA: 39s - loss: 0.6661 - binary_accuracy: 0.7154WARNING:tensorflow:Can save best model only with val_loss available, skipping.\n",
            "12/21 [================>.............] - ETA: 35s - loss: 0.6614 - binary_accuracy: 0.7203WARNING:tensorflow:Can save best model only with val_loss available, skipping.\n",
            "13/21 [=================>............] - ETA: 31s - loss: 0.6570 - binary_accuracy: 0.7246WARNING:tensorflow:Can save best model only with val_loss available, skipping.\n",
            "14/21 [===================>..........] - ETA: 28s - loss: 0.6530 - binary_accuracy: 0.7284WARNING:tensorflow:Can save best model only with val_loss available, skipping.\n",
            "15/21 [====================>.........] - ETA: 24s - loss: 0.6491 - binary_accuracy: 0.7318WARNING:tensorflow:Can save best model only with val_loss available, skipping.\n",
            "16/21 [=====================>........] - ETA: 20s - loss: 0.6455 - binary_accuracy: 0.7349WARNING:tensorflow:Can save best model only with val_loss available, skipping.\n",
            "17/21 [=======================>......] - ETA: 16s - loss: 0.6420 - binary_accuracy: 0.7377WARNING:tensorflow:Can save best model only with val_loss available, skipping.\n",
            "18/21 [========================>.....] - ETA: 12s - loss: 0.6387 - binary_accuracy: 0.7402WARNING:tensorflow:Can save best model only with val_loss available, skipping.\n",
            "19/21 [==========================>...] - ETA: 8s - loss: 0.6356 - binary_accuracy: 0.7425 WARNING:tensorflow:Can save best model only with val_loss available, skipping.\n",
            "20/21 [===========================>..] - ETA: 4s - loss: 0.6325 - binary_accuracy: 0.7446WARNING:tensorflow:Can save best model only with val_loss available, skipping.\n",
            "21/21 [==============================] - ETA: 0s - loss: 0.6297 - binary_accuracy: 0.7465WARNING:tensorflow:Can save best model only with val_loss available, skipping.\n",
            "21/21 [==============================] - 115s 5s/step - loss: 0.6271 - binary_accuracy: 0.7483 - val_loss: 0.4995 - val_binary_accuracy: 0.8000\n",
            "Epoch 2/50\n",
            " 1/21 [>.............................] - ETA: 4s - loss: 0.4911 - binary_accuracy: 0.8000WARNING:tensorflow:Can save best model only with val_loss available, skipping.\n",
            " 2/21 [=>............................] - ETA: 1:14 - loss: 0.4938 - binary_accuracy: 0.8000WARNING:tensorflow:Can save best model only with val_loss available, skipping.\n",
            " 3/21 [===>..........................] - ETA: 1:12 - loss: 0.4977 - binary_accuracy: 0.8000WARNING:tensorflow:Can save best model only with val_loss available, skipping.\n",
            " 4/21 [====>.........................] - ETA: 1:07 - loss: 0.4996 - binary_accuracy: 0.8000WARNING:tensorflow:Can save best model only with val_loss available, skipping.\n",
            " 5/21 [======>.......................] - ETA: 1:04 - loss: 0.5012 - binary_accuracy: 0.8000WARNING:tensorflow:Can save best model only with val_loss available, skipping.\n",
            " 6/21 [=======>......................] - ETA: 1:00 - loss: 0.5022 - binary_accuracy: 0.8000WARNING:tensorflow:Can save best model only with val_loss available, skipping.\n",
            " 7/21 [=========>....................] - ETA: 57s - loss: 0.5031 - binary_accuracy: 0.8000 WARNING:tensorflow:Can save best model only with val_loss available, skipping.\n",
            " 8/21 [==========>...................] - ETA: 53s - loss: 0.5036 - binary_accuracy: 0.8000WARNING:tensorflow:Can save best model only with val_loss available, skipping.\n",
            " 9/21 [===========>..................] - ETA: 48s - loss: 0.5039 - binary_accuracy: 0.8000WARNING:tensorflow:Can save best model only with val_loss available, skipping.\n",
            "10/21 [=============>................] - ETA: 44s - loss: 0.5042 - binary_accuracy: 0.8000WARNING:tensorflow:Can save best model only with val_loss available, skipping.\n",
            "11/21 [==============>...............] - ETA: 40s - loss: 0.5042 - binary_accuracy: 0.8000WARNING:tensorflow:Can save best model only with val_loss available, skipping.\n",
            "12/21 [================>.............] - ETA: 36s - loss: 0.5042 - binary_accuracy: 0.8000WARNING:tensorflow:Can save best model only with val_loss available, skipping.\n",
            "13/21 [=================>............] - ETA: 32s - loss: 0.5042 - binary_accuracy: 0.8000WARNING:tensorflow:Can save best model only with val_loss available, skipping.\n",
            "14/21 [===================>..........] - ETA: 28s - loss: 0.5042 - binary_accuracy: 0.8000WARNING:tensorflow:Can save best model only with val_loss available, skipping.\n",
            "15/21 [====================>.........] - ETA: 24s - loss: 0.5042 - binary_accuracy: 0.8000WARNING:tensorflow:Can save best model only with val_loss available, skipping.\n",
            "16/21 [=====================>........] - ETA: 20s - loss: 0.5042 - binary_accuracy: 0.8000WARNING:tensorflow:Can save best model only with val_loss available, skipping.\n",
            "17/21 [=======================>......] - ETA: 16s - loss: 0.5043 - binary_accuracy: 0.8000WARNING:tensorflow:Can save best model only with val_loss available, skipping.\n",
            "18/21 [========================>.....] - ETA: 12s - loss: 0.5042 - binary_accuracy: 0.8000WARNING:tensorflow:Can save best model only with val_loss available, skipping.\n",
            "19/21 [==========================>...] - ETA: 8s - loss: 0.5042 - binary_accuracy: 0.8000 WARNING:tensorflow:Can save best model only with val_loss available, skipping.\n",
            "20/21 [===========================>..] - ETA: 4s - loss: 0.5042 - binary_accuracy: 0.8000WARNING:tensorflow:Can save best model only with val_loss available, skipping.\n",
            "21/21 [==============================] - ETA: 0s - loss: 0.5042 - binary_accuracy: 0.8000WARNING:tensorflow:Can save best model only with val_loss available, skipping.\n",
            "21/21 [==============================] - 97s 5s/step - loss: 0.5041 - binary_accuracy: 0.8000 - val_loss: 0.5092 - val_binary_accuracy: 0.8000\n",
            "Epoch 3/50\n",
            " 1/21 [>.............................] - ETA: 4s - loss: 0.5160 - binary_accuracy: 0.8000WARNING:tensorflow:Can save best model only with val_loss available, skipping.\n",
            " 2/21 [=>............................] - ETA: 1:13 - loss: 0.5167 - binary_accuracy: 0.8000WARNING:tensorflow:Can save best model only with val_loss available, skipping.\n",
            " 3/21 [===>..........................] - ETA: 1:09 - loss: 0.5156 - binary_accuracy: 0.8000WARNING:tensorflow:Can save best model only with val_loss available, skipping.\n",
            " 4/21 [====>.........................] - ETA: 1:06 - loss: 0.5152 - binary_accuracy: 0.8000WARNING:tensorflow:Can save best model only with val_loss available, skipping.\n",
            " 5/21 [======>.......................] - ETA: 1:02 - loss: 0.5145 - binary_accuracy: 0.8000WARNING:tensorflow:Can save best model only with val_loss available, skipping.\n",
            " 6/21 [=======>......................] - ETA: 58s - loss: 0.5139 - binary_accuracy: 0.8000 WARNING:tensorflow:Can save best model only with val_loss available, skipping.\n",
            " 7/21 [=========>....................] - ETA: 54s - loss: 0.5132 - binary_accuracy: 0.8000WARNING:tensorflow:Can save best model only with val_loss available, skipping.\n",
            " 8/21 [==========>...................] - ETA: 50s - loss: 0.5126 - binary_accuracy: 0.8000WARNING:tensorflow:Can save best model only with val_loss available, skipping.\n",
            " 9/21 [===========>..................] - ETA: 46s - loss: 0.5119 - binary_accuracy: 0.8000WARNING:tensorflow:Can save best model only with val_loss available, skipping.\n",
            "10/21 [=============>................] - ETA: 42s - loss: 0.5114 - binary_accuracy: 0.8000WARNING:tensorflow:Can save best model only with val_loss available, skipping.\n",
            "11/21 [==============>...............] - ETA: 38s - loss: 0.5110 - binary_accuracy: 0.8000WARNING:tensorflow:Can save best model only with val_loss available, skipping.\n",
            "12/21 [================>.............] - ETA: 34s - loss: 0.5105 - binary_accuracy: 0.8000WARNING:tensorflow:Can save best model only with val_loss available, skipping.\n",
            "13/21 [=================>............] - ETA: 31s - loss: 0.5101 - binary_accuracy: 0.8000WARNING:tensorflow:Can save best model only with val_loss available, skipping.\n",
            "14/21 [===================>..........] - ETA: 27s - loss: 0.5097 - binary_accuracy: 0.8000WARNING:tensorflow:Can save best model only with val_loss available, skipping.\n",
            "15/21 [====================>.........] - ETA: 23s - loss: 0.5093 - binary_accuracy: 0.8000WARNING:tensorflow:Can save best model only with val_loss available, skipping.\n",
            "16/21 [=====================>........] - ETA: 19s - loss: 0.5090 - binary_accuracy: 0.8000WARNING:tensorflow:Can save best model only with val_loss available, skipping.\n",
            "17/21 [=======================>......] - ETA: 15s - loss: 0.5087 - binary_accuracy: 0.8000WARNING:tensorflow:Can save best model only with val_loss available, skipping.\n",
            "18/21 [========================>.....] - ETA: 11s - loss: 0.5084 - binary_accuracy: 0.8000WARNING:tensorflow:Can save best model only with val_loss available, skipping.\n",
            "19/21 [==========================>...] - ETA: 7s - loss: 0.5081 - binary_accuracy: 0.8000 WARNING:tensorflow:Can save best model only with val_loss available, skipping.\n",
            "20/21 [===========================>..] - ETA: 3s - loss: 0.5078 - binary_accuracy: 0.8000WARNING:tensorflow:Can save best model only with val_loss available, skipping.\n",
            "21/21 [==============================] - ETA: 0s - loss: 0.5076 - binary_accuracy: 0.8000WARNING:tensorflow:Can save best model only with val_loss available, skipping.\n",
            "21/21 [==============================] - 95s 5s/step - loss: 0.5074 - binary_accuracy: 0.8000 - val_loss: 0.4995 - val_binary_accuracy: 0.8000\n",
            "Epoch 4/50\n",
            " 1/21 [>.............................] - ETA: 5s - loss: 0.5007 - binary_accuracy: 0.8000WARNING:tensorflow:Can save best model only with val_loss available, skipping.\n",
            " 2/21 [=>............................] - ETA: 1:13 - loss: 0.5018 - binary_accuracy: 0.8000WARNING:tensorflow:Can save best model only with val_loss available, skipping.\n",
            " 3/21 [===>..........................] - ETA: 1:10 - loss: 0.5020 - binary_accuracy: 0.8000WARNING:tensorflow:Can save best model only with val_loss available, skipping.\n",
            " 4/21 [====>.........................] - ETA: 1:06 - loss: 0.5019 - binary_accuracy: 0.8000WARNING:tensorflow:Can save best model only with val_loss available, skipping.\n",
            " 5/21 [======>.......................] - ETA: 1:02 - loss: 0.5019 - binary_accuracy: 0.8000WARNING:tensorflow:Can save best model only with val_loss available, skipping.\n",
            " 6/21 [=======>......................] - ETA: 57s - loss: 0.5020 - binary_accuracy: 0.8000 WARNING:tensorflow:Can save best model only with val_loss available, skipping.\n",
            " 7/21 [=========>....................] - ETA: 54s - loss: 0.5021 - binary_accuracy: 0.8000WARNING:tensorflow:Can save best model only with val_loss available, skipping.\n",
            " 8/21 [==========>...................] - ETA: 50s - loss: 0.5022 - binary_accuracy: 0.8000WARNING:tensorflow:Can save best model only with val_loss available, skipping.\n",
            " 9/21 [===========>..................] - ETA: 46s - loss: 0.5022 - binary_accuracy: 0.8000WARNING:tensorflow:Can save best model only with val_loss available, skipping.\n",
            "10/21 [=============>................] - ETA: 42s - loss: 0.5023 - binary_accuracy: 0.8000WARNING:tensorflow:Can save best model only with val_loss available, skipping.\n",
            "11/21 [==============>...............] - ETA: 38s - loss: 0.5023 - binary_accuracy: 0.8000WARNING:tensorflow:Can save best model only with val_loss available, skipping.\n",
            "12/21 [================>.............] - ETA: 35s - loss: 0.5023 - binary_accuracy: 0.8000WARNING:tensorflow:Can save best model only with val_loss available, skipping.\n",
            "13/21 [=================>............] - ETA: 31s - loss: 0.5023 - binary_accuracy: 0.8000WARNING:tensorflow:Can save best model only with val_loss available, skipping.\n",
            "14/21 [===================>..........] - ETA: 27s - loss: 0.5023 - binary_accuracy: 0.8000WARNING:tensorflow:Can save best model only with val_loss available, skipping.\n",
            "15/21 [====================>.........] - ETA: 23s - loss: 0.5024 - binary_accuracy: 0.8000WARNING:tensorflow:Can save best model only with val_loss available, skipping.\n",
            "16/21 [=====================>........] - ETA: 19s - loss: 0.5024 - binary_accuracy: 0.8000WARNING:tensorflow:Can save best model only with val_loss available, skipping.\n",
            "17/21 [=======================>......] - ETA: 15s - loss: 0.5025 - binary_accuracy: 0.8000WARNING:tensorflow:Can save best model only with val_loss available, skipping.\n",
            "18/21 [========================>.....] - ETA: 11s - loss: 0.5026 - binary_accuracy: 0.8000WARNING:tensorflow:Can save best model only with val_loss available, skipping.\n",
            "19/21 [==========================>...] - ETA: 7s - loss: 0.5027 - binary_accuracy: 0.8000 WARNING:tensorflow:Can save best model only with val_loss available, skipping.\n",
            "20/21 [===========================>..] - ETA: 3s - loss: 0.5027 - binary_accuracy: 0.8000WARNING:tensorflow:Can save best model only with val_loss available, skipping.\n",
            "21/21 [==============================] - ETA: 0s - loss: 0.5027 - binary_accuracy: 0.8000WARNING:tensorflow:Can save best model only with val_loss available, skipping.\n",
            "21/21 [==============================] - 91s 5s/step - loss: 0.5027 - binary_accuracy: 0.8000 - val_loss: 0.4958 - val_binary_accuracy: 0.8000\n",
            "Epoch 5/50\n",
            " 1/21 [>.............................] - ETA: 4s - loss: 0.4921 - binary_accuracy: 0.8000WARNING:tensorflow:Can save best model only with val_loss available, skipping.\n",
            " 2/21 [=>............................] - ETA: 1:16 - loss: 0.4929 - binary_accuracy: 0.8000WARNING:tensorflow:Can save best model only with val_loss available, skipping.\n",
            " 3/21 [===>..........................] - ETA: 1:11 - loss: 0.4937 - binary_accuracy: 0.8000WARNING:tensorflow:Can save best model only with val_loss available, skipping.\n",
            " 4/21 [====>.........................] - ETA: 1:06 - loss: 0.4940 - binary_accuracy: 0.8000WARNING:tensorflow:Can save best model only with val_loss available, skipping.\n",
            " 5/21 [======>.......................] - ETA: 1:02 - loss: 0.4951 - binary_accuracy: 0.8000WARNING:tensorflow:Can save best model only with val_loss available, skipping.\n",
            " 6/21 [=======>......................] - ETA: 58s - loss: 0.4957 - binary_accuracy: 0.8000 WARNING:tensorflow:Can save best model only with val_loss available, skipping.\n",
            " 7/21 [=========>....................] - ETA: 54s - loss: 0.4961 - binary_accuracy: 0.8000WARNING:tensorflow:Can save best model only with val_loss available, skipping.\n",
            " 8/21 [==========>...................] - ETA: 50s - loss: 0.4966 - binary_accuracy: 0.8000WARNING:tensorflow:Can save best model only with val_loss available, skipping.\n",
            " 9/21 [===========>..................] - ETA: 47s - loss: 0.4971 - binary_accuracy: 0.8000WARNING:tensorflow:Can save best model only with val_loss available, skipping.\n",
            "10/21 [=============>................] - ETA: 43s - loss: 0.4975 - binary_accuracy: 0.8000WARNING:tensorflow:Can save best model only with val_loss available, skipping.\n",
            "11/21 [==============>...............] - ETA: 39s - loss: 0.4980 - binary_accuracy: 0.8000WARNING:tensorflow:Can save best model only with val_loss available, skipping.\n",
            "12/21 [================>.............] - ETA: 35s - loss: 0.4984 - binary_accuracy: 0.8000WARNING:tensorflow:Can save best model only with val_loss available, skipping.\n",
            "13/21 [=================>............] - ETA: 31s - loss: 0.4987 - binary_accuracy: 0.8000WARNING:tensorflow:Can save best model only with val_loss available, skipping.\n",
            "14/21 [===================>..........] - ETA: 27s - loss: 0.4990 - binary_accuracy: 0.8000WARNING:tensorflow:Can save best model only with val_loss available, skipping.\n",
            "15/21 [====================>.........] - ETA: 23s - loss: 0.4992 - binary_accuracy: 0.8000WARNING:tensorflow:Can save best model only with val_loss available, skipping.\n",
            "16/21 [=====================>........] - ETA: 19s - loss: 0.4994 - binary_accuracy: 0.8000WARNING:tensorflow:Can save best model only with val_loss available, skipping.\n",
            "17/21 [=======================>......] - ETA: 15s - loss: 0.4995 - binary_accuracy: 0.8000WARNING:tensorflow:Can save best model only with val_loss available, skipping.\n",
            "18/21 [========================>.....] - ETA: 11s - loss: 0.4996 - binary_accuracy: 0.8000WARNING:tensorflow:Can save best model only with val_loss available, skipping.\n",
            "19/21 [==========================>...] - ETA: 7s - loss: 0.4997 - binary_accuracy: 0.8000 WARNING:tensorflow:Can save best model only with val_loss available, skipping.\n",
            "20/21 [===========================>..] - ETA: 3s - loss: 0.4998 - binary_accuracy: 0.8000WARNING:tensorflow:Can save best model only with val_loss available, skipping.\n",
            "21/21 [==============================] - ETA: 0s - loss: 0.4998 - binary_accuracy: 0.8000WARNING:tensorflow:Can save best model only with val_loss available, skipping.\n",
            "21/21 [==============================] - 96s 5s/step - loss: 0.4998 - binary_accuracy: 0.8000 - val_loss: 0.4944 - val_binary_accuracy: 0.8000\n",
            "Epoch 6/50\n",
            " 1/21 [>.............................] - ETA: 4s - loss: 0.4962 - binary_accuracy: 0.8000WARNING:tensorflow:Can save best model only with val_loss available, skipping.\n",
            " 2/21 [=>............................] - ETA: 1:12 - loss: 0.4949 - binary_accuracy: 0.8000WARNING:tensorflow:Can save best model only with val_loss available, skipping.\n",
            " 3/21 [===>..........................] - ETA: 1:07 - loss: 0.4948 - binary_accuracy: 0.8000WARNING:tensorflow:Can save best model only with val_loss available, skipping.\n",
            " 4/21 [====>.........................] - ETA: 1:04 - loss: 0.4945 - binary_accuracy: 0.8000WARNING:tensorflow:Can save best model only with val_loss available, skipping.\n",
            " 5/21 [======>.......................] - ETA: 1:00 - loss: 0.4946 - binary_accuracy: 0.8000WARNING:tensorflow:Can save best model only with val_loss available, skipping.\n",
            " 6/21 [=======>......................] - ETA: 57s - loss: 0.4949 - binary_accuracy: 0.8000 WARNING:tensorflow:Can save best model only with val_loss available, skipping.\n",
            " 7/21 [=========>....................] - ETA: 53s - loss: 0.4949 - binary_accuracy: 0.8000WARNING:tensorflow:Can save best model only with val_loss available, skipping.\n",
            " 8/21 [==========>...................] - ETA: 50s - loss: 0.4947 - binary_accuracy: 0.8000WARNING:tensorflow:Can save best model only with val_loss available, skipping.\n",
            " 9/21 [===========>..................] - ETA: 46s - loss: 0.4943 - binary_accuracy: 0.8000WARNING:tensorflow:Can save best model only with val_loss available, skipping.\n",
            "10/21 [=============>................] - ETA: 42s - loss: 0.4942 - binary_accuracy: 0.8000WARNING:tensorflow:Can save best model only with val_loss available, skipping.\n",
            "11/21 [==============>...............] - ETA: 38s - loss: 0.4941 - binary_accuracy: 0.8000WARNING:tensorflow:Can save best model only with val_loss available, skipping.\n",
            "12/21 [================>.............] - ETA: 34s - loss: 0.4939 - binary_accuracy: 0.8000WARNING:tensorflow:Can save best model only with val_loss available, skipping.\n",
            "13/21 [=================>............] - ETA: 31s - loss: 0.4938 - binary_accuracy: 0.8000WARNING:tensorflow:Can save best model only with val_loss available, skipping.\n",
            "14/21 [===================>..........] - ETA: 27s - loss: 0.4937 - binary_accuracy: 0.8000WARNING:tensorflow:Can save best model only with val_loss available, skipping.\n",
            "15/21 [====================>.........] - ETA: 23s - loss: 0.4935 - binary_accuracy: 0.8000WARNING:tensorflow:Can save best model only with val_loss available, skipping.\n",
            "16/21 [=====================>........] - ETA: 19s - loss: 0.4933 - binary_accuracy: 0.8000WARNING:tensorflow:Can save best model only with val_loss available, skipping.\n",
            "17/21 [=======================>......] - ETA: 15s - loss: 0.4932 - binary_accuracy: 0.8000WARNING:tensorflow:Can save best model only with val_loss available, skipping.\n",
            "18/21 [========================>.....] - ETA: 11s - loss: 0.4931 - binary_accuracy: 0.8000WARNING:tensorflow:Can save best model only with val_loss available, skipping.\n",
            "19/21 [==========================>...] - ETA: 7s - loss: 0.4929 - binary_accuracy: 0.8000 WARNING:tensorflow:Can save best model only with val_loss available, skipping.\n",
            "20/21 [===========================>..] - ETA: 3s - loss: 0.4927 - binary_accuracy: 0.8000WARNING:tensorflow:Can save best model only with val_loss available, skipping.\n",
            "21/21 [==============================] - ETA: 0s - loss: 0.4925 - binary_accuracy: 0.8000WARNING:tensorflow:Can save best model only with val_loss available, skipping.\n",
            "21/21 [==============================] - 95s 5s/step - loss: 0.4923 - binary_accuracy: 0.8000 - val_loss: 0.4829 - val_binary_accuracy: 0.8100\n",
            "Epoch 7/50\n",
            " 1/21 [>.............................] - ETA: 4s - loss: 0.4935 - binary_accuracy: 0.8000WARNING:tensorflow:Can save best model only with val_loss available, skipping.\n",
            " 2/21 [=>............................] - ETA: 1:16 - loss: 0.4890 - binary_accuracy: 0.7984WARNING:tensorflow:Can save best model only with val_loss available, skipping.\n",
            " 3/21 [===>..........................] - ETA: 1:11 - loss: 0.4856 - binary_accuracy: 0.7983WARNING:tensorflow:Can save best model only with val_loss available, skipping.\n",
            " 4/21 [====>.........................] - ETA: 1:06 - loss: 0.4832 - binary_accuracy: 0.7983WARNING:tensorflow:Can save best model only with val_loss available, skipping.\n",
            " 5/21 [======>.......................] - ETA: 1:02 - loss: 0.4816 - binary_accuracy: 0.7984WARNING:tensorflow:Can save best model only with val_loss available, skipping.\n",
            " 6/21 [=======>......................] - ETA: 58s - loss: 0.4807 - binary_accuracy: 0.7985 WARNING:tensorflow:Can save best model only with val_loss available, skipping.\n",
            " 7/21 [=========>....................] - ETA: 54s - loss: 0.4798 - binary_accuracy: 0.7986WARNING:tensorflow:Can save best model only with val_loss available, skipping.\n",
            " 8/21 [==========>...................] - ETA: 50s - loss: 0.4791 - binary_accuracy: 0.7987WARNING:tensorflow:Can save best model only with val_loss available, skipping.\n",
            " 9/21 [===========>..................] - ETA: 46s - loss: 0.4782 - binary_accuracy: 0.7989WARNING:tensorflow:Can save best model only with val_loss available, skipping.\n",
            "10/21 [=============>................] - ETA: 42s - loss: 0.4778 - binary_accuracy: 0.7989WARNING:tensorflow:Can save best model only with val_loss available, skipping.\n",
            "11/21 [==============>...............] - ETA: 38s - loss: 0.4778 - binary_accuracy: 0.7990WARNING:tensorflow:Can save best model only with val_loss available, skipping.\n",
            "12/21 [================>.............] - ETA: 35s - loss: 0.4776 - binary_accuracy: 0.7992WARNING:tensorflow:Can save best model only with val_loss available, skipping.\n",
            "13/21 [=================>............] - ETA: 31s - loss: 0.4773 - binary_accuracy: 0.7994WARNING:tensorflow:Can save best model only with val_loss available, skipping.\n",
            "14/21 [===================>..........] - ETA: 27s - loss: 0.4768 - binary_accuracy: 0.7995WARNING:tensorflow:Can save best model only with val_loss available, skipping.\n",
            "15/21 [====================>.........] - ETA: 23s - loss: 0.4764 - binary_accuracy: 0.7996WARNING:tensorflow:Can save best model only with val_loss available, skipping.\n",
            "16/21 [=====================>........] - ETA: 19s - loss: 0.4761 - binary_accuracy: 0.7997WARNING:tensorflow:Can save best model only with val_loss available, skipping.\n",
            "17/21 [=======================>......] - ETA: 15s - loss: 0.4757 - binary_accuracy: 0.7998WARNING:tensorflow:Can save best model only with val_loss available, skipping.\n",
            "18/21 [========================>.....] - ETA: 11s - loss: 0.4753 - binary_accuracy: 0.7999WARNING:tensorflow:Can save best model only with val_loss available, skipping.\n",
            "19/21 [==========================>...] - ETA: 7s - loss: 0.4750 - binary_accuracy: 0.8000 WARNING:tensorflow:Can save best model only with val_loss available, skipping.\n",
            "20/21 [===========================>..] - ETA: 3s - loss: 0.4747 - binary_accuracy: 0.8002WARNING:tensorflow:Can save best model only with val_loss available, skipping.\n",
            "21/21 [==============================] - ETA: 0s - loss: 0.4744 - binary_accuracy: 0.8004WARNING:tensorflow:Can save best model only with val_loss available, skipping.\n",
            "21/21 [==============================] - 95s 5s/step - loss: 0.4741 - binary_accuracy: 0.8005 - val_loss: 0.4426 - val_binary_accuracy: 0.8080\n",
            "Epoch 8/50\n",
            " 1/21 [>.............................] - ETA: 5s - loss: 0.4123 - binary_accuracy: 0.8125WARNING:tensorflow:Can save best model only with val_loss available, skipping.\n",
            " 2/21 [=>............................] - ETA: 1:16 - loss: 0.4273 - binary_accuracy: 0.8094WARNING:tensorflow:Can save best model only with val_loss available, skipping.\n",
            " 3/21 [===>..........................] - ETA: 1:10 - loss: 0.4304 - binary_accuracy: 0.8083WARNING:tensorflow:Can save best model only with val_loss available, skipping.\n",
            " 4/21 [====>.........................] - ETA: 1:06 - loss: 0.4336 - binary_accuracy: 0.8086WARNING:tensorflow:Can save best model only with val_loss available, skipping.\n",
            " 5/21 [======>.......................] - ETA: 1:02 - loss: 0.4360 - binary_accuracy: 0.8084WARNING:tensorflow:Can save best model only with val_loss available, skipping.\n",
            " 6/21 [=======>......................] - ETA: 58s - loss: 0.4365 - binary_accuracy: 0.8085 WARNING:tensorflow:Can save best model only with val_loss available, skipping.\n",
            " 7/21 [=========>....................] - ETA: 54s - loss: 0.4364 - binary_accuracy: 0.8089WARNING:tensorflow:Can save best model only with val_loss available, skipping.\n",
            " 8/21 [==========>...................] - ETA: 51s - loss: 0.4368 - binary_accuracy: 0.8090WARNING:tensorflow:Can save best model only with val_loss available, skipping.\n",
            " 9/21 [===========>..................] - ETA: 47s - loss: 0.4374 - binary_accuracy: 0.8090WARNING:tensorflow:Can save best model only with val_loss available, skipping.\n",
            "10/21 [=============>................] - ETA: 43s - loss: 0.4381 - binary_accuracy: 0.8090WARNING:tensorflow:Can save best model only with val_loss available, skipping.\n",
            "11/21 [==============>...............] - ETA: 39s - loss: 0.4386 - binary_accuracy: 0.8093WARNING:tensorflow:Can save best model only with val_loss available, skipping.\n",
            "12/21 [================>.............] - ETA: 35s - loss: 0.4391 - binary_accuracy: 0.8095WARNING:tensorflow:Can save best model only with val_loss available, skipping.\n",
            "13/21 [=================>............] - ETA: 31s - loss: 0.4394 - binary_accuracy: 0.8096WARNING:tensorflow:Can save best model only with val_loss available, skipping.\n",
            "14/21 [===================>..........] - ETA: 27s - loss: 0.4397 - binary_accuracy: 0.8097WARNING:tensorflow:Can save best model only with val_loss available, skipping.\n",
            "15/21 [====================>.........] - ETA: 23s - loss: 0.4401 - binary_accuracy: 0.8097WARNING:tensorflow:Can save best model only with val_loss available, skipping.\n",
            "16/21 [=====================>........] - ETA: 19s - loss: 0.4403 - binary_accuracy: 0.8098WARNING:tensorflow:Can save best model only with val_loss available, skipping.\n",
            "17/21 [=======================>......] - ETA: 15s - loss: 0.4404 - binary_accuracy: 0.8099WARNING:tensorflow:Can save best model only with val_loss available, skipping.\n",
            "18/21 [========================>.....] - ETA: 11s - loss: 0.4405 - binary_accuracy: 0.8100WARNING:tensorflow:Can save best model only with val_loss available, skipping.\n",
            "19/21 [==========================>...] - ETA: 7s - loss: 0.4405 - binary_accuracy: 0.8101 WARNING:tensorflow:Can save best model only with val_loss available, skipping.\n",
            "20/21 [===========================>..] - ETA: 3s - loss: 0.4405 - binary_accuracy: 0.8102WARNING:tensorflow:Can save best model only with val_loss available, skipping.\n",
            "21/21 [==============================] - ETA: 0s - loss: 0.4404 - binary_accuracy: 0.8103WARNING:tensorflow:Can save best model only with val_loss available, skipping.\n",
            "21/21 [==============================] - 92s 5s/step - loss: 0.4404 - binary_accuracy: 0.8103 - val_loss: 0.4254 - val_binary_accuracy: 0.8160\n",
            "Epoch 9/50\n",
            " 1/21 [>.............................] - ETA: 5s - loss: 0.4128 - binary_accuracy: 0.8062WARNING:tensorflow:Can save best model only with val_loss available, skipping.\n",
            " 2/21 [=>............................] - ETA: 1:14 - loss: 0.4248 - binary_accuracy: 0.8047WARNING:tensorflow:Can save best model only with val_loss available, skipping.\n",
            " 3/21 [===>..........................] - ETA: 1:09 - loss: 0.4283 - binary_accuracy: 0.8038WARNING:tensorflow:Can save best model only with val_loss available, skipping.\n",
            " 4/21 [====>.........................] - ETA: 1:06 - loss: 0.4269 - binary_accuracy: 0.8052WARNING:tensorflow:Can save best model only with val_loss available, skipping.\n",
            " 5/21 [======>.......................] - ETA: 1:03 - loss: 0.4247 - binary_accuracy: 0.8067WARNING:tensorflow:Can save best model only with val_loss available, skipping.\n",
            " 6/21 [=======>......................] - ETA: 58s - loss: 0.4245 - binary_accuracy: 0.8071 WARNING:tensorflow:Can save best model only with val_loss available, skipping.\n",
            " 7/21 [=========>....................] - ETA: 54s - loss: 0.4239 - binary_accuracy: 0.8074WARNING:tensorflow:Can save best model only with val_loss available, skipping.\n",
            " 8/21 [==========>...................] - ETA: 50s - loss: 0.4232 - binary_accuracy: 0.8081WARNING:tensorflow:Can save best model only with val_loss available, skipping.\n",
            " 9/21 [===========>..................] - ETA: 46s - loss: 0.4227 - binary_accuracy: 0.8089WARNING:tensorflow:Can save best model only with val_loss available, skipping.\n",
            "10/21 [=============>................] - ETA: 42s - loss: 0.4222 - binary_accuracy: 0.8095WARNING:tensorflow:Can save best model only with val_loss available, skipping.\n",
            "11/21 [==============>...............] - ETA: 38s - loss: 0.4218 - binary_accuracy: 0.8100WARNING:tensorflow:Can save best model only with val_loss available, skipping.\n",
            "12/21 [================>.............] - ETA: 34s - loss: 0.4216 - binary_accuracy: 0.8104WARNING:tensorflow:Can save best model only with val_loss available, skipping.\n",
            "13/21 [=================>............] - ETA: 30s - loss: 0.4217 - binary_accuracy: 0.8106WARNING:tensorflow:Can save best model only with val_loss available, skipping.\n",
            "14/21 [===================>..........] - ETA: 27s - loss: 0.4218 - binary_accuracy: 0.8108WARNING:tensorflow:Can save best model only with val_loss available, skipping.\n",
            "15/21 [====================>.........] - ETA: 23s - loss: 0.4218 - binary_accuracy: 0.8109WARNING:tensorflow:Can save best model only with val_loss available, skipping.\n",
            "16/21 [=====================>........] - ETA: 19s - loss: 0.4218 - binary_accuracy: 0.8110WARNING:tensorflow:Can save best model only with val_loss available, skipping.\n",
            "17/21 [=======================>......] - ETA: 15s - loss: 0.4218 - binary_accuracy: 0.8111WARNING:tensorflow:Can save best model only with val_loss available, skipping.\n",
            "18/21 [========================>.....] - ETA: 11s - loss: 0.4217 - binary_accuracy: 0.8112WARNING:tensorflow:Can save best model only with val_loss available, skipping.\n",
            "19/21 [==========================>...] - ETA: 7s - loss: 0.4214 - binary_accuracy: 0.8114 WARNING:tensorflow:Can save best model only with val_loss available, skipping.\n",
            "20/21 [===========================>..] - ETA: 3s - loss: 0.4210 - binary_accuracy: 0.8116WARNING:tensorflow:Can save best model only with val_loss available, skipping.\n",
            "21/21 [==============================] - ETA: 0s - loss: 0.4207 - binary_accuracy: 0.8117WARNING:tensorflow:Can save best model only with val_loss available, skipping.\n",
            "21/21 [==============================] - 94s 5s/step - loss: 0.4204 - binary_accuracy: 0.8119 - val_loss: 0.3974 - val_binary_accuracy: 0.8220\n",
            "Epoch 10/50\n",
            " 1/21 [>.............................] - ETA: 4s - loss: 0.3961 - binary_accuracy: 0.8375WARNING:tensorflow:Can save best model only with val_loss available, skipping.\n",
            " 2/21 [=>............................] - ETA: 1:17 - loss: 0.3993 - binary_accuracy: 0.8328WARNING:tensorflow:Can save best model only with val_loss available, skipping.\n",
            " 3/21 [===>..........................] - ETA: 1:14 - loss: 0.3981 - binary_accuracy: 0.8281WARNING:tensorflow:Can save best model only with val_loss available, skipping.\n",
            " 4/21 [====>.........................] - ETA: 1:08 - loss: 0.3993 - binary_accuracy: 0.8266WARNING:tensorflow:Can save best model only with val_loss available, skipping.\n",
            " 5/21 [======>.......................] - ETA: 1:04 - loss: 0.3984 - binary_accuracy: 0.8262WARNING:tensorflow:Can save best model only with val_loss available, skipping.\n",
            " 6/21 [=======>......................] - ETA: 59s - loss: 0.3974 - binary_accuracy: 0.8264 WARNING:tensorflow:Can save best model only with val_loss available, skipping.\n",
            " 7/21 [=========>....................] - ETA: 55s - loss: 0.3978 - binary_accuracy: 0.8262WARNING:tensorflow:Can save best model only with val_loss available, skipping.\n",
            " 8/21 [==========>...................] - ETA: 51s - loss: 0.3976 - binary_accuracy: 0.8259WARNING:tensorflow:Can save best model only with val_loss available, skipping.\n",
            " 9/21 [===========>..................] - ETA: 46s - loss: 0.3973 - binary_accuracy: 0.8258WARNING:tensorflow:Can save best model only with val_loss available, skipping.\n",
            "10/21 [=============>................] - ETA: 42s - loss: 0.3970 - binary_accuracy: 0.8258WARNING:tensorflow:Can save best model only with val_loss available, skipping.\n",
            "11/21 [==============>...............] - ETA: 38s - loss: 0.3969 - binary_accuracy: 0.8255WARNING:tensorflow:Can save best model only with val_loss available, skipping.\n",
            "12/21 [================>.............] - ETA: 35s - loss: 0.3973 - binary_accuracy: 0.8251WARNING:tensorflow:Can save best model only with val_loss available, skipping.\n",
            "13/21 [=================>............] - ETA: 31s - loss: 0.3978 - binary_accuracy: 0.8248WARNING:tensorflow:Can save best model only with val_loss available, skipping.\n",
            "14/21 [===================>..........] - ETA: 27s - loss: 0.3978 - binary_accuracy: 0.8246WARNING:tensorflow:Can save best model only with val_loss available, skipping.\n",
            "15/21 [====================>.........] - ETA: 23s - loss: 0.3977 - binary_accuracy: 0.8246WARNING:tensorflow:Can save best model only with val_loss available, skipping.\n",
            "16/21 [=====================>........] - ETA: 19s - loss: 0.3976 - binary_accuracy: 0.8244WARNING:tensorflow:Can save best model only with val_loss available, skipping.\n",
            "17/21 [=======================>......] - ETA: 15s - loss: 0.3977 - binary_accuracy: 0.8243WARNING:tensorflow:Can save best model only with val_loss available, skipping.\n",
            "18/21 [========================>.....] - ETA: 11s - loss: 0.3978 - binary_accuracy: 0.8241WARNING:tensorflow:Can save best model only with val_loss available, skipping.\n",
            "19/21 [==========================>...] - ETA: 7s - loss: 0.3980 - binary_accuracy: 0.8240 WARNING:tensorflow:Can save best model only with val_loss available, skipping.\n",
            "20/21 [===========================>..] - ETA: 3s - loss: 0.3979 - binary_accuracy: 0.8240WARNING:tensorflow:Can save best model only with val_loss available, skipping.\n",
            "21/21 [==============================] - ETA: 0s - loss: 0.3977 - binary_accuracy: 0.8242WARNING:tensorflow:Can save best model only with val_loss available, skipping.\n",
            "21/21 [==============================] - 95s 5s/step - loss: 0.3975 - binary_accuracy: 0.8243 - val_loss: 0.4165 - val_binary_accuracy: 0.8140\n",
            "Epoch 11/50\n",
            " 1/21 [>.............................] - ETA: 4s - loss: 0.3710 - binary_accuracy: 0.8438WARNING:tensorflow:Can save best model only with val_loss available, skipping.\n",
            " 2/21 [=>............................] - ETA: 1:13 - loss: 0.3743 - binary_accuracy: 0.8422WARNING:tensorflow:Can save best model only with val_loss available, skipping.\n",
            " 3/21 [===>..........................] - ETA: 1:10 - loss: 0.3799 - binary_accuracy: 0.8385WARNING:tensorflow:Can save best model only with val_loss available, skipping.\n",
            " 4/21 [====>.........................] - ETA: 1:05 - loss: 0.3875 - binary_accuracy: 0.8340WARNING:tensorflow:Can save best model only with val_loss available, skipping.\n",
            " 5/21 [======>.......................] - ETA: 1:02 - loss: 0.3940 - binary_accuracy: 0.8302WARNING:tensorflow:Can save best model only with val_loss available, skipping.\n",
            " 6/21 [=======>......................] - ETA: 58s - loss: 0.3971 - binary_accuracy: 0.8281 WARNING:tensorflow:Can save best model only with val_loss available, skipping.\n",
            " 7/21 [=========>....................] - ETA: 54s - loss: 0.3997 - binary_accuracy: 0.8266WARNING:tensorflow:Can save best model only with val_loss available, skipping.\n",
            " 8/21 [==========>...................] - ETA: 50s - loss: 0.4009 - binary_accuracy: 0.8259WARNING:tensorflow:Can save best model only with val_loss available, skipping.\n",
            " 9/21 [===========>..................] - ETA: 46s - loss: 0.4013 - binary_accuracy: 0.8256WARNING:tensorflow:Can save best model only with val_loss available, skipping.\n",
            "10/21 [=============>................] - ETA: 42s - loss: 0.4010 - binary_accuracy: 0.8259WARNING:tensorflow:Can save best model only with val_loss available, skipping.\n",
            "11/21 [==============>...............] - ETA: 38s - loss: 0.4004 - binary_accuracy: 0.8260WARNING:tensorflow:Can save best model only with val_loss available, skipping.\n",
            "12/21 [================>.............] - ETA: 35s - loss: 0.3994 - binary_accuracy: 0.8263WARNING:tensorflow:Can save best model only with val_loss available, skipping.\n",
            "13/21 [=================>............] - ETA: 31s - loss: 0.3983 - binary_accuracy: 0.8268WARNING:tensorflow:Can save best model only with val_loss available, skipping.\n",
            "14/21 [===================>..........] - ETA: 27s - loss: 0.3974 - binary_accuracy: 0.8269WARNING:tensorflow:Can save best model only with val_loss available, skipping.\n",
            "15/21 [====================>.........] - ETA: 23s - loss: 0.3969 - binary_accuracy: 0.8270WARNING:tensorflow:Can save best model only with val_loss available, skipping.\n",
            "16/21 [=====================>........] - ETA: 19s - loss: 0.3966 - binary_accuracy: 0.8270WARNING:tensorflow:Can save best model only with val_loss available, skipping.\n",
            "17/21 [=======================>......] - ETA: 15s - loss: 0.3962 - binary_accuracy: 0.8270WARNING:tensorflow:Can save best model only with val_loss available, skipping.\n",
            "18/21 [========================>.....] - ETA: 11s - loss: 0.3958 - binary_accuracy: 0.8270WARNING:tensorflow:Can save best model only with val_loss available, skipping.\n",
            "19/21 [==========================>...] - ETA: 7s - loss: 0.3955 - binary_accuracy: 0.8269 WARNING:tensorflow:Can save best model only with val_loss available, skipping.\n",
            "20/21 [===========================>..] - ETA: 3s - loss: 0.3953 - binary_accuracy: 0.8267WARNING:tensorflow:Can save best model only with val_loss available, skipping.\n",
            "21/21 [==============================] - ETA: 0s - loss: 0.3952 - binary_accuracy: 0.8265WARNING:tensorflow:Can save best model only with val_loss available, skipping.\n",
            "21/21 [==============================] - 94s 5s/step - loss: 0.3951 - binary_accuracy: 0.8263 - val_loss: 0.3718 - val_binary_accuracy: 0.8400\n",
            "Epoch 12/50\n",
            " 1/21 [>.............................] - ETA: 5s - loss: 0.4325 - binary_accuracy: 0.8250WARNING:tensorflow:Can save best model only with val_loss available, skipping.\n",
            " 2/21 [=>............................] - ETA: 1:12 - loss: 0.4189 - binary_accuracy: 0.8141WARNING:tensorflow:Can save best model only with val_loss available, skipping.\n",
            " 3/21 [===>..........................] - ETA: 1:10 - loss: 0.4171 - binary_accuracy: 0.8094WARNING:tensorflow:Can save best model only with val_loss available, skipping.\n",
            " 4/21 [====>.........................] - ETA: 1:08 - loss: 0.4168 - binary_accuracy: 0.8078WARNING:tensorflow:Can save best model only with val_loss available, skipping.\n",
            " 5/21 [======>.......................] - ETA: 1:04 - loss: 0.4152 - binary_accuracy: 0.8088WARNING:tensorflow:Can save best model only with val_loss available, skipping.\n",
            " 6/21 [=======>......................] - ETA: 59s - loss: 0.4136 - binary_accuracy: 0.8102 WARNING:tensorflow:Can save best model only with val_loss available, skipping.\n",
            " 7/21 [=========>....................] - ETA: 55s - loss: 0.4115 - binary_accuracy: 0.8118WARNING:tensorflow:Can save best model only with val_loss available, skipping.\n",
            " 8/21 [==========>...................] - ETA: 51s - loss: 0.4103 - binary_accuracy: 0.8127WARNING:tensorflow:Can save best model only with val_loss available, skipping.\n",
            " 9/21 [===========>..................] - ETA: 46s - loss: 0.4091 - binary_accuracy: 0.8134WARNING:tensorflow:Can save best model only with val_loss available, skipping.\n",
            "10/21 [=============>................] - ETA: 42s - loss: 0.4078 - binary_accuracy: 0.8140WARNING:tensorflow:Can save best model only with val_loss available, skipping.\n",
            "11/21 [==============>...............] - ETA: 39s - loss: 0.4065 - binary_accuracy: 0.8147WARNING:tensorflow:Can save best model only with val_loss available, skipping.\n",
            "12/21 [================>.............] - ETA: 35s - loss: 0.4054 - binary_accuracy: 0.8153WARNING:tensorflow:Can save best model only with val_loss available, skipping.\n",
            "13/21 [=================>............] - ETA: 31s - loss: 0.4043 - binary_accuracy: 0.8159WARNING:tensorflow:Can save best model only with val_loss available, skipping.\n",
            "14/21 [===================>..........] - ETA: 27s - loss: 0.4034 - binary_accuracy: 0.8164WARNING:tensorflow:Can save best model only with val_loss available, skipping.\n",
            "15/21 [====================>.........] - ETA: 23s - loss: 0.4024 - binary_accuracy: 0.8169WARNING:tensorflow:Can save best model only with val_loss available, skipping.\n",
            "16/21 [=====================>........] - ETA: 19s - loss: 0.4015 - binary_accuracy: 0.8174WARNING:tensorflow:Can save best model only with val_loss available, skipping.\n",
            "17/21 [=======================>......] - ETA: 15s - loss: 0.4008 - binary_accuracy: 0.8178WARNING:tensorflow:Can save best model only with val_loss available, skipping.\n",
            "18/21 [========================>.....] - ETA: 11s - loss: 0.4000 - binary_accuracy: 0.8182WARNING:tensorflow:Can save best model only with val_loss available, skipping.\n",
            "19/21 [==========================>...] - ETA: 7s - loss: 0.3992 - binary_accuracy: 0.8186 WARNING:tensorflow:Can save best model only with val_loss available, skipping.\n",
            "20/21 [===========================>..] - ETA: 3s - loss: 0.3984 - binary_accuracy: 0.8190WARNING:tensorflow:Can save best model only with val_loss available, skipping.\n",
            "21/21 [==============================] - ETA: 0s - loss: 0.3976 - binary_accuracy: 0.8194WARNING:tensorflow:Can save best model only with val_loss available, skipping.\n",
            "21/21 [==============================] - 92s 5s/step - loss: 0.3969 - binary_accuracy: 0.8198 - val_loss: 0.3847 - val_binary_accuracy: 0.8200\n",
            "Epoch 13/50\n",
            " 1/21 [>.............................] - ETA: 5s - loss: 0.3504 - binary_accuracy: 0.8375WARNING:tensorflow:Can save best model only with val_loss available, skipping.\n",
            " 2/21 [=>............................] - ETA: 1:11 - loss: 0.3470 - binary_accuracy: 0.8422WARNING:tensorflow:Can save best model only with val_loss available, skipping.\n",
            " 3/21 [===>..........................] - ETA: 1:09 - loss: 0.3435 - binary_accuracy: 0.8455WARNING:tensorflow:Can save best model only with val_loss available, skipping.\n",
            " 4/21 [====>.........................] - ETA: 1:05 - loss: 0.3395 - binary_accuracy: 0.8486WARNING:tensorflow:Can save best model only with val_loss available, skipping.\n",
            " 5/21 [======>.......................] - ETA: 1:01 - loss: 0.3408 - binary_accuracy: 0.8484WARNING:tensorflow:Can save best model only with val_loss available, skipping.\n",
            " 6/21 [=======>......................] - ETA: 57s - loss: 0.3422 - binary_accuracy: 0.8478 WARNING:tensorflow:Can save best model only with val_loss available, skipping.\n",
            " 7/21 [=========>....................] - ETA: 53s - loss: 0.3427 - binary_accuracy: 0.8481WARNING:tensorflow:Can save best model only with val_loss available, skipping.\n",
            " 8/21 [==========>...................] - ETA: 49s - loss: 0.3433 - binary_accuracy: 0.8478WARNING:tensorflow:Can save best model only with val_loss available, skipping.\n",
            " 9/21 [===========>..................] - ETA: 45s - loss: 0.3435 - binary_accuracy: 0.8478WARNING:tensorflow:Can save best model only with val_loss available, skipping.\n",
            "10/21 [=============>................] - ETA: 42s - loss: 0.3435 - binary_accuracy: 0.8478WARNING:tensorflow:Can save best model only with val_loss available, skipping.\n",
            "11/21 [==============>...............] - ETA: 38s - loss: 0.3438 - binary_accuracy: 0.8473WARNING:tensorflow:Can save best model only with val_loss available, skipping.\n",
            "12/21 [================>.............] - ETA: 34s - loss: 0.3442 - binary_accuracy: 0.8469WARNING:tensorflow:Can save best model only with val_loss available, skipping.\n",
            "13/21 [=================>............] - ETA: 30s - loss: 0.3445 - binary_accuracy: 0.8467WARNING:tensorflow:Can save best model only with val_loss available, skipping.\n",
            "14/21 [===================>..........] - ETA: 26s - loss: 0.3447 - binary_accuracy: 0.8464WARNING:tensorflow:Can save best model only with val_loss available, skipping.\n",
            "15/21 [====================>.........] - ETA: 23s - loss: 0.3451 - binary_accuracy: 0.8460WARNING:tensorflow:Can save best model only with val_loss available, skipping.\n",
            "16/21 [=====================>........] - ETA: 19s - loss: 0.3455 - binary_accuracy: 0.8455WARNING:tensorflow:Can save best model only with val_loss available, skipping.\n",
            "17/21 [=======================>......] - ETA: 15s - loss: 0.3458 - binary_accuracy: 0.8452WARNING:tensorflow:Can save best model only with val_loss available, skipping.\n",
            "18/21 [========================>.....] - ETA: 11s - loss: 0.3460 - binary_accuracy: 0.8449WARNING:tensorflow:Can save best model only with val_loss available, skipping.\n",
            "19/21 [==========================>...] - ETA: 7s - loss: 0.3465 - binary_accuracy: 0.8446 WARNING:tensorflow:Can save best model only with val_loss available, skipping.\n",
            "20/21 [===========================>..] - ETA: 3s - loss: 0.3471 - binary_accuracy: 0.8442WARNING:tensorflow:Can save best model only with val_loss available, skipping.\n",
            "21/21 [==============================] - ETA: 0s - loss: 0.3476 - binary_accuracy: 0.8438WARNING:tensorflow:Can save best model only with val_loss available, skipping.\n",
            "21/21 [==============================] - 94s 5s/step - loss: 0.3480 - binary_accuracy: 0.8434 - val_loss: 0.3858 - val_binary_accuracy: 0.8300\n",
            "Epoch 14/50\n",
            " 1/21 [>.............................] - ETA: 5s - loss: 0.3373 - binary_accuracy: 0.8500WARNING:tensorflow:Can save best model only with val_loss available, skipping.\n",
            " 2/21 [=>............................] - ETA: 1:15 - loss: 0.3500 - binary_accuracy: 0.8438WARNING:tensorflow:Can save best model only with val_loss available, skipping.\n",
            " 3/21 [===>..........................] - ETA: 1:10 - loss: 0.3540 - binary_accuracy: 0.8410WARNING:tensorflow:Can save best model only with val_loss available, skipping.\n",
            " 4/21 [====>.........................] - ETA: 1:05 - loss: 0.3511 - binary_accuracy: 0.8413WARNING:tensorflow:Can save best model only with val_loss available, skipping.\n",
            " 5/21 [======>.......................] - ETA: 1:01 - loss: 0.3486 - binary_accuracy: 0.8423WARNING:tensorflow:Can save best model only with val_loss available, skipping.\n",
            " 6/21 [=======>......................] - ETA: 58s - loss: 0.3471 - binary_accuracy: 0.8430 WARNING:tensorflow:Can save best model only with val_loss available, skipping.\n",
            " 7/21 [=========>....................] - ETA: 54s - loss: 0.3453 - binary_accuracy: 0.8439WARNING:tensorflow:Can save best model only with val_loss available, skipping.\n",
            " 8/21 [==========>...................] - ETA: 50s - loss: 0.3448 - binary_accuracy: 0.8442WARNING:tensorflow:Can save best model only with val_loss available, skipping.\n",
            " 9/21 [===========>..................] - ETA: 46s - loss: 0.3447 - binary_accuracy: 0.8444WARNING:tensorflow:Can save best model only with val_loss available, skipping.\n",
            "10/21 [=============>................] - ETA: 42s - loss: 0.3447 - binary_accuracy: 0.8447WARNING:tensorflow:Can save best model only with val_loss available, skipping.\n",
            "11/21 [==============>...............] - ETA: 38s - loss: 0.3445 - binary_accuracy: 0.8449WARNING:tensorflow:Can save best model only with val_loss available, skipping.\n",
            "12/21 [================>.............] - ETA: 34s - loss: 0.3449 - binary_accuracy: 0.8449WARNING:tensorflow:Can save best model only with val_loss available, skipping.\n",
            "13/21 [=================>............] - ETA: 30s - loss: 0.3453 - binary_accuracy: 0.8448WARNING:tensorflow:Can save best model only with val_loss available, skipping.\n",
            "14/21 [===================>..........] - ETA: 27s - loss: 0.3457 - binary_accuracy: 0.8448WARNING:tensorflow:Can save best model only with val_loss available, skipping.\n",
            "15/21 [====================>.........] - ETA: 23s - loss: 0.3462 - binary_accuracy: 0.8446WARNING:tensorflow:Can save best model only with val_loss available, skipping.\n",
            "16/21 [=====================>........] - ETA: 19s - loss: 0.3468 - binary_accuracy: 0.8442WARNING:tensorflow:Can save best model only with val_loss available, skipping.\n",
            "17/21 [=======================>......] - ETA: 15s - loss: 0.3477 - binary_accuracy: 0.8436WARNING:tensorflow:Can save best model only with val_loss available, skipping.\n",
            "18/21 [========================>.....] - ETA: 11s - loss: 0.3487 - binary_accuracy: 0.8431WARNING:tensorflow:Can save best model only with val_loss available, skipping.\n",
            "19/21 [==========================>...] - ETA: 7s - loss: 0.3496 - binary_accuracy: 0.8426 WARNING:tensorflow:Can save best model only with val_loss available, skipping.\n",
            "20/21 [===========================>..] - ETA: 3s - loss: 0.3503 - binary_accuracy: 0.8423WARNING:tensorflow:Can save best model only with val_loss available, skipping.\n",
            "21/21 [==============================] - ETA: 0s - loss: 0.3511 - binary_accuracy: 0.8418WARNING:tensorflow:Can save best model only with val_loss available, skipping.\n",
            "21/21 [==============================] - 94s 5s/step - loss: 0.3518 - binary_accuracy: 0.8414 - val_loss: 0.3637 - val_binary_accuracy: 0.8400\n",
            "Epoch 15/50\n",
            " 1/21 [>.............................] - ETA: 4s - loss: 0.3207 - binary_accuracy: 0.8500WARNING:tensorflow:Can save best model only with val_loss available, skipping.\n",
            " 2/21 [=>............................] - ETA: 1:12 - loss: 0.3234 - binary_accuracy: 0.8500WARNING:tensorflow:Can save best model only with val_loss available, skipping.\n",
            " 3/21 [===>..........................] - ETA: 1:09 - loss: 0.3286 - binary_accuracy: 0.8493WARNING:tensorflow:Can save best model only with val_loss available, skipping.\n",
            " 4/21 [====>.........................] - ETA: 1:06 - loss: 0.3329 - binary_accuracy: 0.8491WARNING:tensorflow:Can save best model only with val_loss available, skipping.\n",
            " 5/21 [======>.......................] - ETA: 1:02 - loss: 0.3356 - binary_accuracy: 0.8488WARNING:tensorflow:Can save best model only with val_loss available, skipping.\n",
            " 6/21 [=======>......................] - ETA: 58s - loss: 0.3370 - binary_accuracy: 0.8486 WARNING:tensorflow:Can save best model only with val_loss available, skipping.\n",
            " 7/21 [=========>....................] - ETA: 54s - loss: 0.3380 - binary_accuracy: 0.8490WARNING:tensorflow:Can save best model only with val_loss available, skipping.\n",
            " 8/21 [==========>...................] - ETA: 50s - loss: 0.3388 - binary_accuracy: 0.8493WARNING:tensorflow:Can save best model only with val_loss available, skipping.\n",
            " 9/21 [===========>..................] - ETA: 46s - loss: 0.3392 - binary_accuracy: 0.8494WARNING:tensorflow:Can save best model only with val_loss available, skipping.\n",
            "10/21 [=============>................] - ETA: 42s - loss: 0.3393 - binary_accuracy: 0.8495WARNING:tensorflow:Can save best model only with val_loss available, skipping.\n",
            "11/21 [==============>...............] - ETA: 39s - loss: 0.3392 - binary_accuracy: 0.8496WARNING:tensorflow:Can save best model only with val_loss available, skipping.\n",
            "12/21 [================>.............] - ETA: 35s - loss: 0.3399 - binary_accuracy: 0.8495WARNING:tensorflow:Can save best model only with val_loss available, skipping.\n",
            "13/21 [=================>............] - ETA: 31s - loss: 0.3410 - binary_accuracy: 0.8489WARNING:tensorflow:Can save best model only with val_loss available, skipping.\n",
            "14/21 [===================>..........] - ETA: 27s - loss: 0.3419 - binary_accuracy: 0.8484WARNING:tensorflow:Can save best model only with val_loss available, skipping.\n",
            "15/21 [====================>.........] - ETA: 23s - loss: 0.3424 - binary_accuracy: 0.8480WARNING:tensorflow:Can save best model only with val_loss available, skipping.\n",
            "16/21 [=====================>........] - ETA: 19s - loss: 0.3430 - binary_accuracy: 0.8476WARNING:tensorflow:Can save best model only with val_loss available, skipping.\n",
            "17/21 [=======================>......] - ETA: 15s - loss: 0.3435 - binary_accuracy: 0.8473WARNING:tensorflow:Can save best model only with val_loss available, skipping.\n",
            "18/21 [========================>.....] - ETA: 11s - loss: 0.3437 - binary_accuracy: 0.8471WARNING:tensorflow:Can save best model only with val_loss available, skipping.\n",
            "19/21 [==========================>...] - ETA: 7s - loss: 0.3438 - binary_accuracy: 0.8471 WARNING:tensorflow:Can save best model only with val_loss available, skipping.\n",
            "20/21 [===========================>..] - ETA: 3s - loss: 0.3438 - binary_accuracy: 0.8470WARNING:tensorflow:Can save best model only with val_loss available, skipping.\n",
            "21/21 [==============================] - ETA: 0s - loss: 0.3438 - binary_accuracy: 0.8469WARNING:tensorflow:Can save best model only with val_loss available, skipping.\n",
            "21/21 [==============================] - 95s 5s/step - loss: 0.3437 - binary_accuracy: 0.8469 - val_loss: 0.3720 - val_binary_accuracy: 0.8240\n",
            "Epoch 16/50\n",
            " 1/21 [>.............................] - ETA: 5s - loss: 0.3379 - binary_accuracy: 0.8500WARNING:tensorflow:Can save best model only with val_loss available, skipping.\n",
            " 2/21 [=>............................] - ETA: 1:14 - loss: 0.3298 - binary_accuracy: 0.8563WARNING:tensorflow:Can save best model only with val_loss available, skipping.\n",
            " 3/21 [===>..........................] - ETA: 1:10 - loss: 0.3253 - binary_accuracy: 0.8604WARNING:tensorflow:Can save best model only with val_loss available, skipping.\n",
            " 4/21 [====>.........................] - ETA: 1:06 - loss: 0.3238 - binary_accuracy: 0.8617WARNING:tensorflow:Can save best model only with val_loss available, skipping.\n",
            " 5/21 [======>.......................] - ETA: 1:02 - loss: 0.3222 - binary_accuracy: 0.8624WARNING:tensorflow:Can save best model only with val_loss available, skipping.\n",
            " 6/21 [=======>......................] - ETA: 58s - loss: 0.3204 - binary_accuracy: 0.8627 WARNING:tensorflow:Can save best model only with val_loss available, skipping.\n",
            " 7/21 [=========>....................] - ETA: 54s - loss: 0.3193 - binary_accuracy: 0.8623WARNING:tensorflow:Can save best model only with val_loss available, skipping.\n",
            " 8/21 [==========>...................] - ETA: 50s - loss: 0.3182 - binary_accuracy: 0.8622WARNING:tensorflow:Can save best model only with val_loss available, skipping.\n",
            " 9/21 [===========>..................] - ETA: 46s - loss: 0.3176 - binary_accuracy: 0.8619WARNING:tensorflow:Can save best model only with val_loss available, skipping.\n",
            "10/21 [=============>................] - ETA: 42s - loss: 0.3169 - binary_accuracy: 0.8621WARNING:tensorflow:Can save best model only with val_loss available, skipping.\n",
            "11/21 [==============>...............] - ETA: 38s - loss: 0.3166 - binary_accuracy: 0.8621WARNING:tensorflow:Can save best model only with val_loss available, skipping.\n",
            "12/21 [================>.............] - ETA: 34s - loss: 0.3157 - binary_accuracy: 0.8623WARNING:tensorflow:Can save best model only with val_loss available, skipping.\n",
            "13/21 [=================>............] - ETA: 30s - loss: 0.3158 - binary_accuracy: 0.8622WARNING:tensorflow:Can save best model only with val_loss available, skipping.\n",
            "14/21 [===================>..........] - ETA: 27s - loss: 0.3159 - binary_accuracy: 0.8621WARNING:tensorflow:Can save best model only with val_loss available, skipping.\n",
            "15/21 [====================>.........] - ETA: 23s - loss: 0.3161 - binary_accuracy: 0.8618WARNING:tensorflow:Can save best model only with val_loss available, skipping.\n",
            "16/21 [=====================>........] - ETA: 19s - loss: 0.3163 - binary_accuracy: 0.8617WARNING:tensorflow:Can save best model only with val_loss available, skipping.\n",
            "17/21 [=======================>......] - ETA: 15s - loss: 0.3166 - binary_accuracy: 0.8615WARNING:tensorflow:Can save best model only with val_loss available, skipping.\n",
            "18/21 [========================>.....] - ETA: 11s - loss: 0.3168 - binary_accuracy: 0.8614WARNING:tensorflow:Can save best model only with val_loss available, skipping.\n",
            "19/21 [==========================>...] - ETA: 7s - loss: 0.3173 - binary_accuracy: 0.8610 WARNING:tensorflow:Can save best model only with val_loss available, skipping.\n",
            "20/21 [===========================>..] - ETA: 3s - loss: 0.3176 - binary_accuracy: 0.8607WARNING:tensorflow:Can save best model only with val_loss available, skipping.\n",
            "21/21 [==============================] - ETA: 0s - loss: 0.3179 - binary_accuracy: 0.8605WARNING:tensorflow:Can save best model only with val_loss available, skipping.\n",
            "21/21 [==============================] - 91s 5s/step - loss: 0.3182 - binary_accuracy: 0.8603 - val_loss: 0.3712 - val_binary_accuracy: 0.8360\n",
            "Epoch 17/50\n",
            " 1/21 [>.............................] - ETA: 4s - loss: 0.2910 - binary_accuracy: 0.8625WARNING:tensorflow:Can save best model only with val_loss available, skipping.\n",
            " 2/21 [=>............................] - ETA: 1:15 - loss: 0.3054 - binary_accuracy: 0.8578WARNING:tensorflow:Can save best model only with val_loss available, skipping.\n",
            " 3/21 [===>..........................] - ETA: 1:10 - loss: 0.3106 - binary_accuracy: 0.8566WARNING:tensorflow:Can save best model only with val_loss available, skipping.\n",
            " 4/21 [====>.........................] - ETA: 1:05 - loss: 0.3155 - binary_accuracy: 0.8557WARNING:tensorflow:Can save best model only with val_loss available, skipping.\n",
            " 5/21 [======>.......................] - ETA: 1:01 - loss: 0.3205 - binary_accuracy: 0.8528WARNING:tensorflow:Can save best model only with val_loss available, skipping.\n",
            " 6/21 [=======>......................] - ETA: 57s - loss: 0.3231 - binary_accuracy: 0.8515 WARNING:tensorflow:Can save best model only with val_loss available, skipping.\n",
            " 7/21 [=========>....................] - ETA: 54s - loss: 0.3247 - binary_accuracy: 0.8509WARNING:tensorflow:Can save best model only with val_loss available, skipping.\n",
            " 8/21 [==========>...................] - ETA: 50s - loss: 0.3260 - binary_accuracy: 0.8501WARNING:tensorflow:Can save best model only with val_loss available, skipping.\n",
            " 9/21 [===========>..................] - ETA: 46s - loss: 0.3273 - binary_accuracy: 0.8492WARNING:tensorflow:Can save best model only with val_loss available, skipping.\n",
            "10/21 [=============>................] - ETA: 42s - loss: 0.3274 - binary_accuracy: 0.8491WARNING:tensorflow:Can save best model only with val_loss available, skipping.\n",
            "11/21 [==============>...............] - ETA: 38s - loss: 0.3269 - binary_accuracy: 0.8495WARNING:tensorflow:Can save best model only with val_loss available, skipping.\n",
            "12/21 [================>.............] - ETA: 34s - loss: 0.3264 - binary_accuracy: 0.8499WARNING:tensorflow:Can save best model only with val_loss available, skipping.\n",
            "13/21 [=================>............] - ETA: 31s - loss: 0.3264 - binary_accuracy: 0.8500WARNING:tensorflow:Can save best model only with val_loss available, skipping.\n",
            "14/21 [===================>..........] - ETA: 27s - loss: 0.3262 - binary_accuracy: 0.8501WARNING:tensorflow:Can save best model only with val_loss available, skipping.\n",
            "15/21 [====================>.........] - ETA: 23s - loss: 0.3261 - binary_accuracy: 0.8501WARNING:tensorflow:Can save best model only with val_loss available, skipping.\n",
            "16/21 [=====================>........] - ETA: 19s - loss: 0.3263 - binary_accuracy: 0.8500WARNING:tensorflow:Can save best model only with val_loss available, skipping.\n",
            "17/21 [=======================>......] - ETA: 15s - loss: 0.3262 - binary_accuracy: 0.8499WARNING:tensorflow:Can save best model only with val_loss available, skipping.\n",
            "18/21 [========================>.....] - ETA: 11s - loss: 0.3262 - binary_accuracy: 0.8498WARNING:tensorflow:Can save best model only with val_loss available, skipping.\n",
            "19/21 [==========================>...] - ETA: 7s - loss: 0.3263 - binary_accuracy: 0.8496 WARNING:tensorflow:Can save best model only with val_loss available, skipping.\n",
            "20/21 [===========================>..] - ETA: 3s - loss: 0.3263 - binary_accuracy: 0.8494WARNING:tensorflow:Can save best model only with val_loss available, skipping.\n",
            "21/21 [==============================] - ETA: 0s - loss: 0.3263 - binary_accuracy: 0.8493WARNING:tensorflow:Can save best model only with val_loss available, skipping.\n",
            "21/21 [==============================] - 94s 5s/step - loss: 0.3263 - binary_accuracy: 0.8492 - val_loss: 0.3555 - val_binary_accuracy: 0.8520\n",
            "Epoch 18/50\n",
            " 1/21 [>.............................] - ETA: 5s - loss: 0.2597 - binary_accuracy: 0.8938WARNING:tensorflow:Can save best model only with val_loss available, skipping.\n",
            " 2/21 [=>............................] - ETA: 1:15 - loss: 0.2863 - binary_accuracy: 0.8828WARNING:tensorflow:Can save best model only with val_loss available, skipping.\n",
            " 3/21 [===>..........................] - ETA: 1:10 - loss: 0.2953 - binary_accuracy: 0.8795WARNING:tensorflow:Can save best model only with val_loss available, skipping.\n",
            " 4/21 [====>.........................] - ETA: 1:04 - loss: 0.2978 - binary_accuracy: 0.8788WARNING:tensorflow:Can save best model only with val_loss available, skipping.\n",
            " 5/21 [======>.......................] - ETA: 1:01 - loss: 0.2966 - binary_accuracy: 0.8793WARNING:tensorflow:Can save best model only with val_loss available, skipping.\n",
            " 6/21 [=======>......................] - ETA: 58s - loss: 0.2964 - binary_accuracy: 0.8796 WARNING:tensorflow:Can save best model only with val_loss available, skipping.\n",
            " 7/21 [=========>....................] - ETA: 54s - loss: 0.2968 - binary_accuracy: 0.8793WARNING:tensorflow:Can save best model only with val_loss available, skipping.\n",
            " 8/21 [==========>...................] - ETA: 50s - loss: 0.2976 - binary_accuracy: 0.8787WARNING:tensorflow:Can save best model only with val_loss available, skipping.\n",
            " 9/21 [===========>..................] - ETA: 46s - loss: 0.2985 - binary_accuracy: 0.8778WARNING:tensorflow:Can save best model only with val_loss available, skipping.\n",
            "10/21 [=============>................] - ETA: 42s - loss: 0.2990 - binary_accuracy: 0.8775WARNING:tensorflow:Can save best model only with val_loss available, skipping.\n",
            "11/21 [==============>...............] - ETA: 38s - loss: 0.3000 - binary_accuracy: 0.8769WARNING:tensorflow:Can save best model only with val_loss available, skipping.\n",
            "12/21 [================>.............] - ETA: 34s - loss: 0.3005 - binary_accuracy: 0.8764WARNING:tensorflow:Can save best model only with val_loss available, skipping.\n",
            "13/21 [=================>............] - ETA: 30s - loss: 0.3008 - binary_accuracy: 0.8759WARNING:tensorflow:Can save best model only with val_loss available, skipping.\n",
            "14/21 [===================>..........] - ETA: 27s - loss: 0.3009 - binary_accuracy: 0.8756WARNING:tensorflow:Can save best model only with val_loss available, skipping.\n",
            "15/21 [====================>.........] - ETA: 23s - loss: 0.3012 - binary_accuracy: 0.8751WARNING:tensorflow:Can save best model only with val_loss available, skipping.\n",
            "16/21 [=====================>........] - ETA: 19s - loss: 0.3015 - binary_accuracy: 0.8746WARNING:tensorflow:Can save best model only with val_loss available, skipping.\n",
            "17/21 [=======================>......] - ETA: 15s - loss: 0.3019 - binary_accuracy: 0.8740WARNING:tensorflow:Can save best model only with val_loss available, skipping.\n",
            "18/21 [========================>.....] - ETA: 11s - loss: 0.3025 - binary_accuracy: 0.8733WARNING:tensorflow:Can save best model only with val_loss available, skipping.\n",
            "19/21 [==========================>...] - ETA: 7s - loss: 0.3030 - binary_accuracy: 0.8727 WARNING:tensorflow:Can save best model only with val_loss available, skipping.\n",
            "20/21 [===========================>..] - ETA: 3s - loss: 0.3034 - binary_accuracy: 0.8722WARNING:tensorflow:Can save best model only with val_loss available, skipping.\n",
            "21/21 [==============================] - ETA: 0s - loss: 0.3038 - binary_accuracy: 0.8717WARNING:tensorflow:Can save best model only with val_loss available, skipping.\n",
            "21/21 [==============================] - 95s 5s/step - loss: 0.3042 - binary_accuracy: 0.8712 - val_loss: 0.3577 - val_binary_accuracy: 0.8660\n",
            "Epoch 19/50\n",
            " 1/21 [>.............................] - ETA: 4s - loss: 0.2921 - binary_accuracy: 0.8750WARNING:tensorflow:Can save best model only with val_loss available, skipping.\n",
            " 2/21 [=>............................] - ETA: 1:12 - loss: 0.2983 - binary_accuracy: 0.8750WARNING:tensorflow:Can save best model only with val_loss available, skipping.\n",
            " 3/21 [===>..........................] - ETA: 1:07 - loss: 0.3037 - binary_accuracy: 0.8708WARNING:tensorflow:Can save best model only with val_loss available, skipping.\n",
            " 4/21 [====>.........................] - ETA: 1:05 - loss: 0.3072 - binary_accuracy: 0.8699WARNING:tensorflow:Can save best model only with val_loss available, skipping.\n",
            " 5/21 [======>.......................] - ETA: 1:01 - loss: 0.3096 - binary_accuracy: 0.8682WARNING:tensorflow:Can save best model only with val_loss available, skipping.\n",
            " 6/21 [=======>......................] - ETA: 57s - loss: 0.3102 - binary_accuracy: 0.8681 WARNING:tensorflow:Can save best model only with val_loss available, skipping.\n",
            " 7/21 [=========>....................] - ETA: 53s - loss: 0.3096 - binary_accuracy: 0.8683WARNING:tensorflow:Can save best model only with val_loss available, skipping.\n",
            " 8/21 [==========>...................] - ETA: 49s - loss: 0.3084 - binary_accuracy: 0.8689WARNING:tensorflow:Can save best model only with val_loss available, skipping.\n",
            " 9/21 [===========>..................] - ETA: 46s - loss: 0.3069 - binary_accuracy: 0.8695WARNING:tensorflow:Can save best model only with val_loss available, skipping.\n",
            "10/21 [=============>................] - ETA: 42s - loss: 0.3057 - binary_accuracy: 0.8698WARNING:tensorflow:Can save best model only with val_loss available, skipping.\n",
            "11/21 [==============>...............] - ETA: 38s - loss: 0.3049 - binary_accuracy: 0.8702WARNING:tensorflow:Can save best model only with val_loss available, skipping.\n",
            "12/21 [================>.............] - ETA: 34s - loss: 0.3040 - binary_accuracy: 0.8705WARNING:tensorflow:Can save best model only with val_loss available, skipping.\n",
            "13/21 [=================>............] - ETA: 30s - loss: 0.3030 - binary_accuracy: 0.8707WARNING:tensorflow:Can save best model only with val_loss available, skipping.\n",
            "14/21 [===================>..........] - ETA: 27s - loss: 0.3022 - binary_accuracy: 0.8709WARNING:tensorflow:Can save best model only with val_loss available, skipping.\n",
            "15/21 [====================>.........] - ETA: 23s - loss: 0.3027 - binary_accuracy: 0.8705WARNING:tensorflow:Can save best model only with val_loss available, skipping.\n",
            "16/21 [=====================>........] - ETA: 19s - loss: 0.3032 - binary_accuracy: 0.8701WARNING:tensorflow:Can save best model only with val_loss available, skipping.\n",
            "17/21 [=======================>......] - ETA: 15s - loss: 0.3036 - binary_accuracy: 0.8698WARNING:tensorflow:Can save best model only with val_loss available, skipping.\n",
            "18/21 [========================>.....] - ETA: 11s - loss: 0.3040 - binary_accuracy: 0.8696WARNING:tensorflow:Can save best model only with val_loss available, skipping.\n",
            "19/21 [==========================>...] - ETA: 7s - loss: 0.3043 - binary_accuracy: 0.8694 WARNING:tensorflow:Can save best model only with val_loss available, skipping.\n",
            "20/21 [===========================>..] - ETA: 3s - loss: 0.3045 - binary_accuracy: 0.8691WARNING:tensorflow:Can save best model only with val_loss available, skipping.\n",
            "21/21 [==============================] - ETA: 0s - loss: 0.3048 - binary_accuracy: 0.8689WARNING:tensorflow:Can save best model only with val_loss available, skipping.\n",
            "21/21 [==============================] - 94s 5s/step - loss: 0.3051 - binary_accuracy: 0.8687 - val_loss: 0.3651 - val_binary_accuracy: 0.8360\n",
            "Epoch 20/50\n",
            " 1/21 [>.............................] - ETA: 5s - loss: 0.3150 - binary_accuracy: 0.8687WARNING:tensorflow:Can save best model only with val_loss available, skipping.\n",
            " 2/21 [=>............................] - ETA: 1:09 - loss: 0.3314 - binary_accuracy: 0.8594WARNING:tensorflow:Can save best model only with val_loss available, skipping.\n",
            " 3/21 [===>..........................] - ETA: 1:08 - loss: 0.3349 - binary_accuracy: 0.8556WARNING:tensorflow:Can save best model only with val_loss available, skipping.\n",
            " 4/21 [====>.........................] - ETA: 1:04 - loss: 0.3324 - binary_accuracy: 0.8569WARNING:tensorflow:Can save best model only with val_loss available, skipping.\n",
            " 5/21 [======>.......................] - ETA: 1:00 - loss: 0.3285 - binary_accuracy: 0.8590WARNING:tensorflow:Can save best model only with val_loss available, skipping.\n",
            " 6/21 [=======>......................] - ETA: 56s - loss: 0.3270 - binary_accuracy: 0.8593 WARNING:tensorflow:Can save best model only with val_loss available, skipping.\n",
            " 7/21 [=========>....................] - ETA: 53s - loss: 0.3249 - binary_accuracy: 0.8596WARNING:tensorflow:Can save best model only with val_loss available, skipping.\n",
            " 8/21 [==========>...................] - ETA: 49s - loss: 0.3222 - binary_accuracy: 0.8606WARNING:tensorflow:Can save best model only with val_loss available, skipping.\n",
            " 9/21 [===========>..................] - ETA: 45s - loss: 0.3196 - binary_accuracy: 0.8617WARNING:tensorflow:Can save best model only with val_loss available, skipping.\n",
            "10/21 [=============>................] - ETA: 42s - loss: 0.3174 - binary_accuracy: 0.8623WARNING:tensorflow:Can save best model only with val_loss available, skipping.\n",
            "11/21 [==============>...............] - ETA: 38s - loss: 0.3158 - binary_accuracy: 0.8629WARNING:tensorflow:Can save best model only with val_loss available, skipping.\n",
            "12/21 [================>.............] - ETA: 34s - loss: 0.3144 - binary_accuracy: 0.8631WARNING:tensorflow:Can save best model only with val_loss available, skipping.\n",
            "13/21 [=================>............] - ETA: 30s - loss: 0.3130 - binary_accuracy: 0.8634WARNING:tensorflow:Can save best model only with val_loss available, skipping.\n",
            "14/21 [===================>..........] - ETA: 26s - loss: 0.3115 - binary_accuracy: 0.8638WARNING:tensorflow:Can save best model only with val_loss available, skipping.\n",
            "15/21 [====================>.........] - ETA: 23s - loss: 0.3102 - binary_accuracy: 0.8642WARNING:tensorflow:Can save best model only with val_loss available, skipping.\n",
            "16/21 [=====================>........] - ETA: 19s - loss: 0.3091 - binary_accuracy: 0.8644WARNING:tensorflow:Can save best model only with val_loss available, skipping.\n",
            "17/21 [=======================>......] - ETA: 15s - loss: 0.3078 - binary_accuracy: 0.8648WARNING:tensorflow:Can save best model only with val_loss available, skipping.\n",
            "18/21 [========================>.....] - ETA: 11s - loss: 0.3065 - binary_accuracy: 0.8653WARNING:tensorflow:Can save best model only with val_loss available, skipping.\n",
            "19/21 [==========================>...] - ETA: 7s - loss: 0.3052 - binary_accuracy: 0.8658 WARNING:tensorflow:Can save best model only with val_loss available, skipping.\n",
            "20/21 [===========================>..] - ETA: 3s - loss: 0.3039 - binary_accuracy: 0.8662WARNING:tensorflow:Can save best model only with val_loss available, skipping.\n",
            "21/21 [==============================] - ETA: 0s - loss: 0.3027 - binary_accuracy: 0.8667WARNING:tensorflow:Can save best model only with val_loss available, skipping.\n",
            "21/21 [==============================] - 91s 5s/step - loss: 0.3017 - binary_accuracy: 0.8670 - val_loss: 0.3614 - val_binary_accuracy: 0.8460\n",
            "\n",
            "Epoch 00020: ReduceLROnPlateau reducing learning rate to 9.999999747378752e-06.\n",
            "Epoch 21/50\n",
            " 1/21 [>.............................] - ETA: 4s - loss: 0.2477 - binary_accuracy: 0.8812WARNING:tensorflow:Can save best model only with val_loss available, skipping.\n",
            " 2/21 [=>............................] - ETA: 1:11 - loss: 0.2358 - binary_accuracy: 0.8937WARNING:tensorflow:Can save best model only with val_loss available, skipping.\n",
            " 3/21 [===>..........................] - ETA: 1:09 - loss: 0.2361 - binary_accuracy: 0.8958WARNING:tensorflow:Can save best model only with val_loss available, skipping.\n",
            " 4/21 [====>.........................] - ETA: 1:06 - loss: 0.2358 - binary_accuracy: 0.8977WARNING:tensorflow:Can save best model only with val_loss available, skipping.\n",
            " 5/21 [======>.......................] - ETA: 1:01 - loss: 0.2382 - binary_accuracy: 0.8979WARNING:tensorflow:Can save best model only with val_loss available, skipping.\n",
            " 6/21 [=======>......................] - ETA: 57s - loss: 0.2411 - binary_accuracy: 0.8970 WARNING:tensorflow:Can save best model only with val_loss available, skipping.\n",
            " 7/21 [=========>....................] - ETA: 53s - loss: 0.2443 - binary_accuracy: 0.8953WARNING:tensorflow:Can save best model only with val_loss available, skipping.\n",
            " 8/21 [==========>...................] - ETA: 49s - loss: 0.2466 - binary_accuracy: 0.8940WARNING:tensorflow:Can save best model only with val_loss available, skipping.\n",
            " 9/21 [===========>..................] - ETA: 46s - loss: 0.2478 - binary_accuracy: 0.8934WARNING:tensorflow:Can save best model only with val_loss available, skipping.\n",
            "10/21 [=============>................] - ETA: 42s - loss: 0.2489 - binary_accuracy: 0.8927WARNING:tensorflow:Can save best model only with val_loss available, skipping.\n",
            "11/21 [==============>...............] - ETA: 38s - loss: 0.2499 - binary_accuracy: 0.8921WARNING:tensorflow:Can save best model only with val_loss available, skipping.\n",
            "12/21 [================>.............] - ETA: 34s - loss: 0.2509 - binary_accuracy: 0.8917WARNING:tensorflow:Can save best model only with val_loss available, skipping.\n",
            "13/21 [=================>............] - ETA: 30s - loss: 0.2517 - binary_accuracy: 0.8914WARNING:tensorflow:Can save best model only with val_loss available, skipping.\n",
            "14/21 [===================>..........] - ETA: 27s - loss: 0.2521 - binary_accuracy: 0.8913WARNING:tensorflow:Can save best model only with val_loss available, skipping.\n",
            "15/21 [====================>.........] - ETA: 23s - loss: 0.2524 - binary_accuracy: 0.8912WARNING:tensorflow:Can save best model only with val_loss available, skipping.\n",
            "16/21 [=====================>........] - ETA: 19s - loss: 0.2526 - binary_accuracy: 0.8912WARNING:tensorflow:Can save best model only with val_loss available, skipping.\n",
            "17/21 [=======================>......] - ETA: 15s - loss: 0.2528 - binary_accuracy: 0.8911WARNING:tensorflow:Can save best model only with val_loss available, skipping.\n",
            "18/21 [========================>.....] - ETA: 11s - loss: 0.2530 - binary_accuracy: 0.8908WARNING:tensorflow:Can save best model only with val_loss available, skipping.\n",
            "19/21 [==========================>...] - ETA: 7s - loss: 0.2533 - binary_accuracy: 0.8906 WARNING:tensorflow:Can save best model only with val_loss available, skipping.\n",
            "20/21 [===========================>..] - ETA: 3s - loss: 0.2536 - binary_accuracy: 0.8903WARNING:tensorflow:Can save best model only with val_loss available, skipping.\n",
            "21/21 [==============================] - ETA: 0s - loss: 0.2538 - binary_accuracy: 0.8902WARNING:tensorflow:Can save best model only with val_loss available, skipping.\n",
            "21/21 [==============================] - 94s 5s/step - loss: 0.2540 - binary_accuracy: 0.8900 - val_loss: 0.3530 - val_binary_accuracy: 0.8300\n",
            "Epoch 22/50\n",
            " 1/21 [>.............................] - ETA: 5s - loss: 0.2236 - binary_accuracy: 0.9062WARNING:tensorflow:Can save best model only with val_loss available, skipping.\n",
            " 2/21 [=>............................] - ETA: 1:14 - loss: 0.2246 - binary_accuracy: 0.9031WARNING:tensorflow:Can save best model only with val_loss available, skipping.\n",
            " 3/21 [===>..........................] - ETA: 1:14 - loss: 0.2254 - binary_accuracy: 0.9035WARNING:tensorflow:Can save best model only with val_loss available, skipping.\n",
            " 4/21 [====>.........................] - ETA: 1:09 - loss: 0.2292 - binary_accuracy: 0.9010WARNING:tensorflow:Can save best model only with val_loss available, skipping.\n",
            " 5/21 [======>.......................] - ETA: 1:05 - loss: 0.2326 - binary_accuracy: 0.8993WARNING:tensorflow:Can save best model only with val_loss available, skipping.\n",
            " 6/21 [=======>......................] - ETA: 1:01 - loss: 0.2340 - binary_accuracy: 0.8989WARNING:tensorflow:Can save best model only with val_loss available, skipping.\n",
            " 7/21 [=========>....................] - ETA: 56s - loss: 0.2356 - binary_accuracy: 0.8983 WARNING:tensorflow:Can save best model only with val_loss available, skipping.\n",
            " 8/21 [==========>...................] - ETA: 52s - loss: 0.2377 - binary_accuracy: 0.8973WARNING:tensorflow:Can save best model only with val_loss available, skipping.\n",
            " 9/21 [===========>..................] - ETA: 48s - loss: 0.2393 - binary_accuracy: 0.8965WARNING:tensorflow:Can save best model only with val_loss available, skipping.\n",
            "10/21 [=============>................] - ETA: 43s - loss: 0.2409 - binary_accuracy: 0.8958WARNING:tensorflow:Can save best model only with val_loss available, skipping.\n",
            "11/21 [==============>...............] - ETA: 39s - loss: 0.2423 - binary_accuracy: 0.8951WARNING:tensorflow:Can save best model only with val_loss available, skipping.\n",
            "12/21 [================>.............] - ETA: 35s - loss: 0.2434 - binary_accuracy: 0.8946WARNING:tensorflow:Can save best model only with val_loss available, skipping.\n",
            "13/21 [=================>............] - ETA: 31s - loss: 0.2441 - binary_accuracy: 0.8943WARNING:tensorflow:Can save best model only with val_loss available, skipping.\n",
            "14/21 [===================>..........] - ETA: 27s - loss: 0.2446 - binary_accuracy: 0.8942WARNING:tensorflow:Can save best model only with val_loss available, skipping.\n",
            "15/21 [====================>.........] - ETA: 23s - loss: 0.2448 - binary_accuracy: 0.8942WARNING:tensorflow:Can save best model only with val_loss available, skipping.\n",
            "16/21 [=====================>........] - ETA: 19s - loss: 0.2450 - binary_accuracy: 0.8943WARNING:tensorflow:Can save best model only with val_loss available, skipping.\n",
            "17/21 [=======================>......] - ETA: 15s - loss: 0.2452 - binary_accuracy: 0.8943WARNING:tensorflow:Can save best model only with val_loss available, skipping.\n",
            "18/21 [========================>.....] - ETA: 11s - loss: 0.2453 - binary_accuracy: 0.8945WARNING:tensorflow:Can save best model only with val_loss available, skipping.\n",
            "19/21 [==========================>...] - ETA: 7s - loss: 0.2455 - binary_accuracy: 0.8945 WARNING:tensorflow:Can save best model only with val_loss available, skipping.\n",
            "20/21 [===========================>..] - ETA: 3s - loss: 0.2456 - binary_accuracy: 0.8946WARNING:tensorflow:Can save best model only with val_loss available, skipping.\n",
            "21/21 [==============================] - ETA: 0s - loss: 0.2457 - binary_accuracy: 0.8947WARNING:tensorflow:Can save best model only with val_loss available, skipping.\n",
            "21/21 [==============================] - 95s 5s/step - loss: 0.2457 - binary_accuracy: 0.8948 - val_loss: 0.3568 - val_binary_accuracy: 0.8440\n",
            "Epoch 23/50\n",
            " 1/21 [>.............................] - ETA: 4s - loss: 0.3073 - binary_accuracy: 0.8563WARNING:tensorflow:Can save best model only with val_loss available, skipping.\n",
            " 2/21 [=>............................] - ETA: 1:13 - loss: 0.2883 - binary_accuracy: 0.8688WARNING:tensorflow:Can save best model only with val_loss available, skipping.\n",
            " 3/21 [===>..........................] - ETA: 1:10 - loss: 0.2734 - binary_accuracy: 0.8785WARNING:tensorflow:Can save best model only with val_loss available, skipping.\n",
            " 4/21 [====>.........................] - ETA: 1:06 - loss: 0.2661 - binary_accuracy: 0.8827WARNING:tensorflow:Can save best model only with val_loss available, skipping.\n",
            " 5/21 [======>.......................] - ETA: 1:02 - loss: 0.2624 - binary_accuracy: 0.8846WARNING:tensorflow:Can save best model only with val_loss available, skipping.\n",
            " 6/21 [=======>......................] - ETA: 58s - loss: 0.2579 - binary_accuracy: 0.8865 WARNING:tensorflow:Can save best model only with val_loss available, skipping.\n",
            " 7/21 [=========>....................] - ETA: 54s - loss: 0.2565 - binary_accuracy: 0.8875WARNING:tensorflow:Can save best model only with val_loss available, skipping.\n",
            " 8/21 [==========>...................] - ETA: 51s - loss: 0.2554 - binary_accuracy: 0.8887WARNING:tensorflow:Can save best model only with val_loss available, skipping.\n",
            " 9/21 [===========>..................] - ETA: 47s - loss: 0.2545 - binary_accuracy: 0.8896WARNING:tensorflow:Can save best model only with val_loss available, skipping.\n",
            "10/21 [=============>................] - ETA: 43s - loss: 0.2535 - binary_accuracy: 0.8904WARNING:tensorflow:Can save best model only with val_loss available, skipping.\n",
            "11/21 [==============>...............] - ETA: 39s - loss: 0.2524 - binary_accuracy: 0.8910WARNING:tensorflow:Can save best model only with val_loss available, skipping.\n",
            "12/21 [================>.............] - ETA: 35s - loss: 0.2516 - binary_accuracy: 0.8916WARNING:tensorflow:Can save best model only with val_loss available, skipping.\n",
            "13/21 [=================>............] - ETA: 31s - loss: 0.2507 - binary_accuracy: 0.8923WARNING:tensorflow:Can save best model only with val_loss available, skipping.\n",
            "14/21 [===================>..........] - ETA: 27s - loss: 0.2504 - binary_accuracy: 0.8927WARNING:tensorflow:Can save best model only with val_loss available, skipping.\n",
            "15/21 [====================>.........] - ETA: 23s - loss: 0.2500 - binary_accuracy: 0.8929WARNING:tensorflow:Can save best model only with val_loss available, skipping.\n",
            "16/21 [=====================>........] - ETA: 19s - loss: 0.2497 - binary_accuracy: 0.8933WARNING:tensorflow:Can save best model only with val_loss available, skipping.\n",
            "17/21 [=======================>......] - ETA: 15s - loss: 0.2495 - binary_accuracy: 0.8936WARNING:tensorflow:Can save best model only with val_loss available, skipping.\n",
            "18/21 [========================>.....] - ETA: 11s - loss: 0.2491 - binary_accuracy: 0.8941WARNING:tensorflow:Can save best model only with val_loss available, skipping.\n",
            "19/21 [==========================>...] - ETA: 7s - loss: 0.2489 - binary_accuracy: 0.8944 WARNING:tensorflow:Can save best model only with val_loss available, skipping.\n",
            "20/21 [===========================>..] - ETA: 3s - loss: 0.2486 - binary_accuracy: 0.8947WARNING:tensorflow:Can save best model only with val_loss available, skipping.\n",
            "21/21 [==============================] - ETA: 0s - loss: 0.2483 - binary_accuracy: 0.8949WARNING:tensorflow:Can save best model only with val_loss available, skipping.\n",
            "21/21 [==============================] - 94s 5s/step - loss: 0.2480 - binary_accuracy: 0.8951 - val_loss: 0.3127 - val_binary_accuracy: 0.8720\n",
            "Epoch 24/50\n",
            " 1/21 [>.............................] - ETA: 4s - loss: 0.2747 - binary_accuracy: 0.8562WARNING:tensorflow:Can save best model only with val_loss available, skipping.\n",
            " 2/21 [=>............................] - ETA: 1:12 - loss: 0.2698 - binary_accuracy: 0.8656WARNING:tensorflow:Can save best model only with val_loss available, skipping.\n",
            " 3/21 [===>..........................] - ETA: 1:07 - loss: 0.2774 - binary_accuracy: 0.8611WARNING:tensorflow:Can save best model only with val_loss available, skipping.\n",
            " 4/21 [====>.........................] - ETA: 1:05 - loss: 0.2774 - binary_accuracy: 0.8626WARNING:tensorflow:Can save best model only with val_loss available, skipping.\n",
            " 5/21 [======>.......................] - ETA: 1:01 - loss: 0.2746 - binary_accuracy: 0.8656WARNING:tensorflow:Can save best model only with val_loss available, skipping.\n",
            " 6/21 [=======>......................] - ETA: 58s - loss: 0.2716 - binary_accuracy: 0.8684 WARNING:tensorflow:Can save best model only with val_loss available, skipping.\n",
            " 7/21 [=========>....................] - ETA: 54s - loss: 0.2697 - binary_accuracy: 0.8702WARNING:tensorflow:Can save best model only with val_loss available, skipping.\n",
            " 8/21 [==========>...................] - ETA: 50s - loss: 0.2678 - binary_accuracy: 0.8724WARNING:tensorflow:Can save best model only with val_loss available, skipping.\n",
            " 9/21 [===========>..................] - ETA: 46s - loss: 0.2669 - binary_accuracy: 0.8738WARNING:tensorflow:Can save best model only with val_loss available, skipping.\n",
            "10/21 [=============>................] - ETA: 42s - loss: 0.2658 - binary_accuracy: 0.8748WARNING:tensorflow:Can save best model only with val_loss available, skipping.\n",
            "11/21 [==============>...............] - ETA: 38s - loss: 0.2647 - binary_accuracy: 0.8758WARNING:tensorflow:Can save best model only with val_loss available, skipping.\n",
            "12/21 [================>.............] - ETA: 34s - loss: 0.2634 - binary_accuracy: 0.8770WARNING:tensorflow:Can save best model only with val_loss available, skipping.\n",
            "13/21 [=================>............] - ETA: 30s - loss: 0.2622 - binary_accuracy: 0.8779WARNING:tensorflow:Can save best model only with val_loss available, skipping.\n",
            "14/21 [===================>..........] - ETA: 26s - loss: 0.2611 - binary_accuracy: 0.8788WARNING:tensorflow:Can save best model only with val_loss available, skipping.\n",
            "15/21 [====================>.........] - ETA: 23s - loss: 0.2602 - binary_accuracy: 0.8797WARNING:tensorflow:Can save best model only with val_loss available, skipping.\n",
            "16/21 [=====================>........] - ETA: 19s - loss: 0.2591 - binary_accuracy: 0.8807WARNING:tensorflow:Can save best model only with val_loss available, skipping.\n",
            "17/21 [=======================>......] - ETA: 15s - loss: 0.2579 - binary_accuracy: 0.8817WARNING:tensorflow:Can save best model only with val_loss available, skipping.\n",
            "18/21 [========================>.....] - ETA: 11s - loss: 0.2568 - binary_accuracy: 0.8827WARNING:tensorflow:Can save best model only with val_loss available, skipping.\n",
            "19/21 [==========================>...] - ETA: 7s - loss: 0.2559 - binary_accuracy: 0.8835 WARNING:tensorflow:Can save best model only with val_loss available, skipping.\n",
            "20/21 [===========================>..] - ETA: 3s - loss: 0.2552 - binary_accuracy: 0.8842WARNING:tensorflow:Can save best model only with val_loss available, skipping.\n",
            "21/21 [==============================] - ETA: 0s - loss: 0.2545 - binary_accuracy: 0.8848WARNING:tensorflow:Can save best model only with val_loss available, skipping.\n",
            "21/21 [==============================] - 91s 5s/step - loss: 0.2540 - binary_accuracy: 0.8854 - val_loss: 0.3532 - val_binary_accuracy: 0.8460\n",
            "Epoch 25/50\n",
            " 1/21 [>.............................] - ETA: 4s - loss: 0.2437 - binary_accuracy: 0.9062WARNING:tensorflow:Can save best model only with val_loss available, skipping.\n",
            " 2/21 [=>............................] - ETA: 1:16 - loss: 0.2418 - binary_accuracy: 0.9000WARNING:tensorflow:Can save best model only with val_loss available, skipping.\n",
            " 3/21 [===>..........................] - ETA: 1:11 - loss: 0.2406 - binary_accuracy: 0.8986WARNING:tensorflow:Can save best model only with val_loss available, skipping.\n",
            " 4/21 [====>.........................] - ETA: 1:06 - loss: 0.2407 - binary_accuracy: 0.8990WARNING:tensorflow:Can save best model only with val_loss available, skipping.\n",
            " 5/21 [======>.......................] - ETA: 1:01 - loss: 0.2384 - binary_accuracy: 0.9007WARNING:tensorflow:Can save best model only with val_loss available, skipping.\n",
            " 6/21 [=======>......................] - ETA: 57s - loss: 0.2382 - binary_accuracy: 0.9009 WARNING:tensorflow:Can save best model only with val_loss available, skipping.\n",
            " 7/21 [=========>....................] - ETA: 54s - loss: 0.2386 - binary_accuracy: 0.9008WARNING:tensorflow:Can save best model only with val_loss available, skipping.\n",
            " 8/21 [==========>...................] - ETA: 50s - loss: 0.2376 - binary_accuracy: 0.9014WARNING:tensorflow:Can save best model only with val_loss available, skipping.\n",
            " 9/21 [===========>..................] - ETA: 46s - loss: 0.2376 - binary_accuracy: 0.9014WARNING:tensorflow:Can save best model only with val_loss available, skipping.\n",
            "10/21 [=============>................] - ETA: 42s - loss: 0.2373 - binary_accuracy: 0.9017WARNING:tensorflow:Can save best model only with val_loss available, skipping.\n",
            "11/21 [==============>...............] - ETA: 38s - loss: 0.2373 - binary_accuracy: 0.9017WARNING:tensorflow:Can save best model only with val_loss available, skipping.\n",
            "12/21 [================>.............] - ETA: 35s - loss: 0.2373 - binary_accuracy: 0.9017WARNING:tensorflow:Can save best model only with val_loss available, skipping.\n",
            "13/21 [=================>............] - ETA: 31s - loss: 0.2375 - binary_accuracy: 0.9015WARNING:tensorflow:Can save best model only with val_loss available, skipping.\n",
            "14/21 [===================>..........] - ETA: 27s - loss: 0.2374 - binary_accuracy: 0.9015WARNING:tensorflow:Can save best model only with val_loss available, skipping.\n",
            "15/21 [====================>.........] - ETA: 23s - loss: 0.2373 - binary_accuracy: 0.9015WARNING:tensorflow:Can save best model only with val_loss available, skipping.\n",
            "16/21 [=====================>........] - ETA: 19s - loss: 0.2373 - binary_accuracy: 0.9014WARNING:tensorflow:Can save best model only with val_loss available, skipping.\n",
            "17/21 [=======================>......] - ETA: 15s - loss: 0.2372 - binary_accuracy: 0.9013WARNING:tensorflow:Can save best model only with val_loss available, skipping.\n",
            "18/21 [========================>.....] - ETA: 11s - loss: 0.2371 - binary_accuracy: 0.9013WARNING:tensorflow:Can save best model only with val_loss available, skipping.\n",
            "19/21 [==========================>...] - ETA: 7s - loss: 0.2369 - binary_accuracy: 0.9013 WARNING:tensorflow:Can save best model only with val_loss available, skipping.\n",
            "20/21 [===========================>..] - ETA: 3s - loss: 0.2367 - binary_accuracy: 0.9012WARNING:tensorflow:Can save best model only with val_loss available, skipping.\n",
            "21/21 [==============================] - ETA: 0s - loss: 0.2367 - binary_accuracy: 0.9012WARNING:tensorflow:Can save best model only with val_loss available, skipping.\n",
            "21/21 [==============================] - 94s 5s/step - loss: 0.2366 - binary_accuracy: 0.9011 - val_loss: 0.3524 - val_binary_accuracy: 0.8440\n",
            "Epoch 26/50\n",
            " 1/21 [>.............................] - ETA: 5s - loss: 0.1957 - binary_accuracy: 0.9187WARNING:tensorflow:Can save best model only with val_loss available, skipping.\n",
            " 2/21 [=>............................] - ETA: 1:14 - loss: 0.2047 - binary_accuracy: 0.9156WARNING:tensorflow:Can save best model only with val_loss available, skipping.\n",
            " 3/21 [===>..........................] - ETA: 1:11 - loss: 0.2030 - binary_accuracy: 0.9167WARNING:tensorflow:Can save best model only with val_loss available, skipping.\n",
            " 4/21 [====>.........................] - ETA: 1:06 - loss: 0.2042 - binary_accuracy: 0.9152WARNING:tensorflow:Can save best model only with val_loss available, skipping.\n",
            " 5/21 [======>.......................] - ETA: 1:02 - loss: 0.2051 - binary_accuracy: 0.9154WARNING:tensorflow:Can save best model only with val_loss available, skipping.\n",
            " 6/21 [=======>......................] - ETA: 58s - loss: 0.2064 - binary_accuracy: 0.9151 WARNING:tensorflow:Can save best model only with val_loss available, skipping.\n",
            " 7/21 [=========>....................] - ETA: 54s - loss: 0.2075 - binary_accuracy: 0.9145WARNING:tensorflow:Can save best model only with val_loss available, skipping.\n",
            " 8/21 [==========>...................] - ETA: 50s - loss: 0.2101 - binary_accuracy: 0.9130WARNING:tensorflow:Can save best model only with val_loss available, skipping.\n",
            " 9/21 [===========>..................] - ETA: 46s - loss: 0.2122 - binary_accuracy: 0.9120WARNING:tensorflow:Can save best model only with val_loss available, skipping.\n",
            "10/21 [=============>................] - ETA: 42s - loss: 0.2143 - binary_accuracy: 0.9110WARNING:tensorflow:Can save best model only with val_loss available, skipping.\n",
            "11/21 [==============>...............] - ETA: 38s - loss: 0.2161 - binary_accuracy: 0.9102WARNING:tensorflow:Can save best model only with val_loss available, skipping.\n",
            "12/21 [================>.............] - ETA: 34s - loss: 0.2177 - binary_accuracy: 0.9095WARNING:tensorflow:Can save best model only with val_loss available, skipping.\n",
            "13/21 [=================>............] - ETA: 30s - loss: 0.2190 - binary_accuracy: 0.9089WARNING:tensorflow:Can save best model only with val_loss available, skipping.\n",
            "14/21 [===================>..........] - ETA: 26s - loss: 0.2199 - binary_accuracy: 0.9087WARNING:tensorflow:Can save best model only with val_loss available, skipping.\n",
            "15/21 [====================>.........] - ETA: 22s - loss: 0.2206 - binary_accuracy: 0.9085WARNING:tensorflow:Can save best model only with val_loss available, skipping.\n",
            "16/21 [=====================>........] - ETA: 19s - loss: 0.2215 - binary_accuracy: 0.9082WARNING:tensorflow:Can save best model only with val_loss available, skipping.\n",
            "17/21 [=======================>......] - ETA: 15s - loss: 0.2222 - binary_accuracy: 0.9079WARNING:tensorflow:Can save best model only with val_loss available, skipping.\n",
            "18/21 [========================>.....] - ETA: 11s - loss: 0.2228 - binary_accuracy: 0.9076WARNING:tensorflow:Can save best model only with val_loss available, skipping.\n",
            "19/21 [==========================>...] - ETA: 7s - loss: 0.2233 - binary_accuracy: 0.9073 WARNING:tensorflow:Can save best model only with val_loss available, skipping.\n",
            "20/21 [===========================>..] - ETA: 3s - loss: 0.2238 - binary_accuracy: 0.9070WARNING:tensorflow:Can save best model only with val_loss available, skipping.\n",
            "21/21 [==============================] - ETA: 0s - loss: 0.2242 - binary_accuracy: 0.9067WARNING:tensorflow:Can save best model only with val_loss available, skipping.\n",
            "21/21 [==============================] - 94s 5s/step - loss: 0.2246 - binary_accuracy: 0.9064 - val_loss: 0.3413 - val_binary_accuracy: 0.8460\n",
            "\n",
            "Epoch 00026: ReduceLROnPlateau reducing learning rate to 9.999999747378752e-07.\n",
            "Epoch 27/50\n",
            " 1/21 [>.............................] - ETA: 5s - loss: 0.2365 - binary_accuracy: 0.9000WARNING:tensorflow:Can save best model only with val_loss available, skipping.\n",
            " 2/21 [=>............................] - ETA: 1:13 - loss: 0.2414 - binary_accuracy: 0.8969WARNING:tensorflow:Can save best model only with val_loss available, skipping.\n",
            " 3/21 [===>..........................] - ETA: 1:08 - loss: 0.2356 - binary_accuracy: 0.9021WARNING:tensorflow:Can save best model only with val_loss available, skipping.\n",
            " 4/21 [====>.........................] - ETA: 1:05 - loss: 0.2329 - binary_accuracy: 0.9055WARNING:tensorflow:Can save best model only with val_loss available, skipping.\n",
            " 5/21 [======>.......................] - ETA: 1:01 - loss: 0.2316 - binary_accuracy: 0.9071WARNING:tensorflow:Can save best model only with val_loss available, skipping.\n",
            " 6/21 [=======>......................] - ETA: 57s - loss: 0.2323 - binary_accuracy: 0.9070 WARNING:tensorflow:Can save best model only with val_loss available, skipping.\n",
            " 7/21 [=========>....................] - ETA: 53s - loss: 0.2334 - binary_accuracy: 0.9065WARNING:tensorflow:Can save best model only with val_loss available, skipping.\n",
            " 8/21 [==========>...................] - ETA: 49s - loss: 0.2344 - binary_accuracy: 0.9060WARNING:tensorflow:Can save best model only with val_loss available, skipping.\n",
            " 9/21 [===========>..................] - ETA: 46s - loss: 0.2350 - binary_accuracy: 0.9059WARNING:tensorflow:Can save best model only with val_loss available, skipping.\n",
            "10/21 [=============>................] - ETA: 42s - loss: 0.2354 - binary_accuracy: 0.9053WARNING:tensorflow:Can save best model only with val_loss available, skipping.\n",
            "11/21 [==============>...............] - ETA: 38s - loss: 0.2361 - binary_accuracy: 0.9048WARNING:tensorflow:Can save best model only with val_loss available, skipping.\n",
            "12/21 [================>.............] - ETA: 34s - loss: 0.2365 - binary_accuracy: 0.9043WARNING:tensorflow:Can save best model only with val_loss available, skipping.\n",
            "13/21 [=================>............] - ETA: 30s - loss: 0.2366 - binary_accuracy: 0.9040WARNING:tensorflow:Can save best model only with val_loss available, skipping.\n",
            "14/21 [===================>..........] - ETA: 26s - loss: 0.2368 - binary_accuracy: 0.9037WARNING:tensorflow:Can save best model only with val_loss available, skipping.\n",
            "15/21 [====================>.........] - ETA: 23s - loss: 0.2367 - binary_accuracy: 0.9036WARNING:tensorflow:Can save best model only with val_loss available, skipping.\n",
            "16/21 [=====================>........] - ETA: 19s - loss: 0.2365 - binary_accuracy: 0.9036WARNING:tensorflow:Can save best model only with val_loss available, skipping.\n",
            "17/21 [=======================>......] - ETA: 15s - loss: 0.2363 - binary_accuracy: 0.9035WARNING:tensorflow:Can save best model only with val_loss available, skipping.\n",
            "18/21 [========================>.....] - ETA: 11s - loss: 0.2361 - binary_accuracy: 0.9035WARNING:tensorflow:Can save best model only with val_loss available, skipping.\n",
            "19/21 [==========================>...] - ETA: 7s - loss: 0.2359 - binary_accuracy: 0.9035 WARNING:tensorflow:Can save best model only with val_loss available, skipping.\n",
            "20/21 [===========================>..] - ETA: 3s - loss: 0.2356 - binary_accuracy: 0.9036WARNING:tensorflow:Can save best model only with val_loss available, skipping.\n",
            "21/21 [==============================] - ETA: 0s - loss: 0.2353 - binary_accuracy: 0.9037WARNING:tensorflow:Can save best model only with val_loss available, skipping.\n",
            "21/21 [==============================] - 93s 5s/step - loss: 0.2351 - binary_accuracy: 0.9038 - val_loss: 0.3798 - val_binary_accuracy: 0.8400\n",
            "Epoch 28/50\n",
            " 1/21 [>.............................] - ETA: 4s - loss: 0.2152 - binary_accuracy: 0.8937WARNING:tensorflow:Can save best model only with val_loss available, skipping.\n",
            " 2/21 [=>............................] - ETA: 1:11 - loss: 0.2199 - binary_accuracy: 0.8937WARNING:tensorflow:Can save best model only with val_loss available, skipping.\n",
            " 3/21 [===>..........................] - ETA: 1:08 - loss: 0.2206 - binary_accuracy: 0.8944WARNING:tensorflow:Can save best model only with val_loss available, skipping.\n",
            " 4/21 [====>.........................] - ETA: 1:04 - loss: 0.2210 - binary_accuracy: 0.8954WARNING:tensorflow:Can save best model only with val_loss available, skipping.\n",
            " 5/21 [======>.......................] - ETA: 1:01 - loss: 0.2227 - binary_accuracy: 0.8944WARNING:tensorflow:Can save best model only with val_loss available, skipping.\n",
            " 6/21 [=======>......................] - ETA: 57s - loss: 0.2243 - binary_accuracy: 0.8941 WARNING:tensorflow:Can save best model only with val_loss available, skipping.\n",
            " 7/21 [=========>....................] - ETA: 53s - loss: 0.2250 - binary_accuracy: 0.8942WARNING:tensorflow:Can save best model only with val_loss available, skipping.\n",
            " 8/21 [==========>...................] - ETA: 49s - loss: 0.2246 - binary_accuracy: 0.8951WARNING:tensorflow:Can save best model only with val_loss available, skipping.\n",
            " 9/21 [===========>..................] - ETA: 45s - loss: 0.2242 - binary_accuracy: 0.8962WARNING:tensorflow:Can save best model only with val_loss available, skipping.\n",
            "10/21 [=============>................] - ETA: 41s - loss: 0.2240 - binary_accuracy: 0.8969WARNING:tensorflow:Can save best model only with val_loss available, skipping.\n",
            "11/21 [==============>...............] - ETA: 37s - loss: 0.2237 - binary_accuracy: 0.8976WARNING:tensorflow:Can save best model only with val_loss available, skipping.\n",
            "12/21 [================>.............] - ETA: 34s - loss: 0.2237 - binary_accuracy: 0.8979WARNING:tensorflow:Can save best model only with val_loss available, skipping.\n",
            "13/21 [=================>............] - ETA: 30s - loss: 0.2238 - binary_accuracy: 0.8982WARNING:tensorflow:Can save best model only with val_loss available, skipping.\n",
            "14/21 [===================>..........] - ETA: 26s - loss: 0.2239 - binary_accuracy: 0.8984WARNING:tensorflow:Can save best model only with val_loss available, skipping.\n",
            "15/21 [====================>.........] - ETA: 23s - loss: 0.2240 - binary_accuracy: 0.8987WARNING:tensorflow:Can save best model only with val_loss available, skipping.\n",
            "16/21 [=====================>........] - ETA: 19s - loss: 0.2239 - binary_accuracy: 0.8992WARNING:tensorflow:Can save best model only with val_loss available, skipping.\n",
            "17/21 [=======================>......] - ETA: 15s - loss: 0.2241 - binary_accuracy: 0.8994WARNING:tensorflow:Can save best model only with val_loss available, skipping.\n",
            "18/21 [========================>.....] - ETA: 11s - loss: 0.2242 - binary_accuracy: 0.8996WARNING:tensorflow:Can save best model only with val_loss available, skipping.\n",
            "19/21 [==========================>...] - ETA: 7s - loss: 0.2241 - binary_accuracy: 0.8998 WARNING:tensorflow:Can save best model only with val_loss available, skipping.\n",
            "20/21 [===========================>..] - ETA: 3s - loss: 0.2243 - binary_accuracy: 0.8999WARNING:tensorflow:Can save best model only with val_loss available, skipping.\n",
            "21/21 [==============================] - ETA: 0s - loss: 0.2246 - binary_accuracy: 0.8999WARNING:tensorflow:Can save best model only with val_loss available, skipping.\n",
            "21/21 [==============================] - 91s 5s/step - loss: 0.2248 - binary_accuracy: 0.9000 - val_loss: 0.3241 - val_binary_accuracy: 0.8500\n",
            "Epoch 29/50\n",
            " 1/21 [>.............................] - ETA: 5s - loss: 0.2585 - binary_accuracy: 0.8937WARNING:tensorflow:Can save best model only with val_loss available, skipping.\n",
            " 2/21 [=>............................] - ETA: 1:09 - loss: 0.2490 - binary_accuracy: 0.9031WARNING:tensorflow:Can save best model only with val_loss available, skipping.\n",
            " 3/21 [===>..........................] - ETA: 1:06 - loss: 0.2461 - binary_accuracy: 0.9056WARNING:tensorflow:Can save best model only with val_loss available, skipping.\n",
            " 4/21 [====>.........................] - ETA: 1:04 - loss: 0.2477 - binary_accuracy: 0.9049WARNING:tensorflow:Can save best model only with val_loss available, skipping.\n",
            " 5/21 [======>.......................] - ETA: 1:01 - loss: 0.2483 - binary_accuracy: 0.9040WARNING:tensorflow:Can save best model only with val_loss available, skipping.\n",
            " 6/21 [=======>......................] - ETA: 57s - loss: 0.2485 - binary_accuracy: 0.9031 WARNING:tensorflow:Can save best model only with val_loss available, skipping.\n",
            " 7/21 [=========>....................] - ETA: 53s - loss: 0.2477 - binary_accuracy: 0.9029WARNING:tensorflow:Can save best model only with val_loss available, skipping.\n",
            " 8/21 [==========>...................] - ETA: 50s - loss: 0.2466 - binary_accuracy: 0.9028WARNING:tensorflow:Can save best model only with val_loss available, skipping.\n",
            " 9/21 [===========>..................] - ETA: 46s - loss: 0.2458 - binary_accuracy: 0.9026WARNING:tensorflow:Can save best model only with val_loss available, skipping.\n",
            "10/21 [=============>................] - ETA: 42s - loss: 0.2449 - binary_accuracy: 0.9025WARNING:tensorflow:Can save best model only with val_loss available, skipping.\n",
            "11/21 [==============>...............] - ETA: 38s - loss: 0.2439 - binary_accuracy: 0.9027WARNING:tensorflow:Can save best model only with val_loss available, skipping.\n",
            "12/21 [================>.............] - ETA: 34s - loss: 0.2431 - binary_accuracy: 0.9029WARNING:tensorflow:Can save best model only with val_loss available, skipping.\n",
            "13/21 [=================>............] - ETA: 30s - loss: 0.2423 - binary_accuracy: 0.9032WARNING:tensorflow:Can save best model only with val_loss available, skipping.\n",
            "14/21 [===================>..........] - ETA: 26s - loss: 0.2416 - binary_accuracy: 0.9033WARNING:tensorflow:Can save best model only with val_loss available, skipping.\n",
            "15/21 [====================>.........] - ETA: 23s - loss: 0.2408 - binary_accuracy: 0.9035WARNING:tensorflow:Can save best model only with val_loss available, skipping.\n",
            "16/21 [=====================>........] - ETA: 19s - loss: 0.2402 - binary_accuracy: 0.9037WARNING:tensorflow:Can save best model only with val_loss available, skipping.\n",
            "17/21 [=======================>......] - ETA: 15s - loss: 0.2396 - binary_accuracy: 0.9039WARNING:tensorflow:Can save best model only with val_loss available, skipping.\n",
            "18/21 [========================>.....] - ETA: 11s - loss: 0.2390 - binary_accuracy: 0.9042WARNING:tensorflow:Can save best model only with val_loss available, skipping.\n",
            "19/21 [==========================>...] - ETA: 7s - loss: 0.2385 - binary_accuracy: 0.9045 WARNING:tensorflow:Can save best model only with val_loss available, skipping.\n",
            "20/21 [===========================>..] - ETA: 3s - loss: 0.2380 - binary_accuracy: 0.9048WARNING:tensorflow:Can save best model only with val_loss available, skipping.\n",
            "21/21 [==============================] - ETA: 0s - loss: 0.2375 - binary_accuracy: 0.9050WARNING:tensorflow:Can save best model only with val_loss available, skipping.\n",
            "21/21 [==============================] - 94s 5s/step - loss: 0.2371 - binary_accuracy: 0.9052 - val_loss: 0.3598 - val_binary_accuracy: 0.8380\n",
            "\n",
            "Epoch 00029: ReduceLROnPlateau reducing learning rate to 9.999999974752428e-08.\n",
            "Epoch 30/50\n",
            " 1/21 [>.............................] - ETA: 5s - loss: 0.2212 - binary_accuracy: 0.8875WARNING:tensorflow:Can save best model only with val_loss available, skipping.\n",
            " 2/21 [=>............................] - ETA: 1:14 - loss: 0.2272 - binary_accuracy: 0.8859WARNING:tensorflow:Can save best model only with val_loss available, skipping.\n",
            " 3/21 [===>..........................] - ETA: 1:10 - loss: 0.2251 - binary_accuracy: 0.8920WARNING:tensorflow:Can save best model only with val_loss available, skipping.\n",
            " 4/21 [====>.........................] - ETA: 1:06 - loss: 0.2259 - binary_accuracy: 0.8952WARNING:tensorflow:Can save best model only with val_loss available, skipping.\n",
            " 5/21 [======>.......................] - ETA: 1:02 - loss: 0.2275 - binary_accuracy: 0.8959WARNING:tensorflow:Can save best model only with val_loss available, skipping.\n",
            " 6/21 [=======>......................] - ETA: 58s - loss: 0.2296 - binary_accuracy: 0.8957 WARNING:tensorflow:Can save best model only with val_loss available, skipping.\n",
            " 7/21 [=========>....................] - ETA: 54s - loss: 0.2318 - binary_accuracy: 0.8948WARNING:tensorflow:Can save best model only with val_loss available, skipping.\n",
            " 8/21 [==========>...................] - ETA: 50s - loss: 0.2322 - binary_accuracy: 0.8952WARNING:tensorflow:Can save best model only with val_loss available, skipping.\n",
            " 9/21 [===========>..................] - ETA: 46s - loss: 0.2336 - binary_accuracy: 0.8945WARNING:tensorflow:Can save best model only with val_loss available, skipping.\n",
            "10/21 [=============>................] - ETA: 42s - loss: 0.2339 - binary_accuracy: 0.8946WARNING:tensorflow:Can save best model only with val_loss available, skipping.\n",
            "11/21 [==============>...............] - ETA: 38s - loss: 0.2335 - binary_accuracy: 0.8951WARNING:tensorflow:Can save best model only with val_loss available, skipping.\n",
            "12/21 [================>.............] - ETA: 34s - loss: 0.2331 - binary_accuracy: 0.8957WARNING:tensorflow:Can save best model only with val_loss available, skipping.\n",
            "13/21 [=================>............] - ETA: 30s - loss: 0.2331 - binary_accuracy: 0.8958WARNING:tensorflow:Can save best model only with val_loss available, skipping.\n",
            "14/21 [===================>..........] - ETA: 27s - loss: 0.2330 - binary_accuracy: 0.8961WARNING:tensorflow:Can save best model only with val_loss available, skipping.\n",
            "15/21 [====================>.........] - ETA: 23s - loss: 0.2333 - binary_accuracy: 0.8962WARNING:tensorflow:Can save best model only with val_loss available, skipping.\n",
            "16/21 [=====================>........] - ETA: 19s - loss: 0.2335 - binary_accuracy: 0.8963WARNING:tensorflow:Can save best model only with val_loss available, skipping.\n",
            "17/21 [=======================>......] - ETA: 15s - loss: 0.2337 - binary_accuracy: 0.8966WARNING:tensorflow:Can save best model only with val_loss available, skipping.\n",
            "18/21 [========================>.....] - ETA: 11s - loss: 0.2336 - binary_accuracy: 0.8969WARNING:tensorflow:Can save best model only with val_loss available, skipping.\n",
            "19/21 [==========================>...] - ETA: 7s - loss: 0.2334 - binary_accuracy: 0.8972 WARNING:tensorflow:Can save best model only with val_loss available, skipping.\n",
            "20/21 [===========================>..] - ETA: 3s - loss: 0.2332 - binary_accuracy: 0.8975WARNING:tensorflow:Can save best model only with val_loss available, skipping.\n",
            "21/21 [==============================] - ETA: 0s - loss: 0.2331 - binary_accuracy: 0.8978WARNING:tensorflow:Can save best model only with val_loss available, skipping.\n",
            "21/21 [==============================] - 93s 5s/step - loss: 0.2330 - binary_accuracy: 0.8981 - val_loss: 0.3313 - val_binary_accuracy: 0.8480\n",
            "Epoch 31/50\n",
            " 1/21 [>.............................] - ETA: 4s - loss: 0.2007 - binary_accuracy: 0.9187WARNING:tensorflow:Can save best model only with val_loss available, skipping.\n",
            " 2/21 [=>............................] - ETA: 1:14 - loss: 0.2145 - binary_accuracy: 0.9047WARNING:tensorflow:Can save best model only with val_loss available, skipping.\n",
            " 3/21 [===>..........................] - ETA: 1:10 - loss: 0.2104 - binary_accuracy: 0.9094WARNING:tensorflow:Can save best model only with val_loss available, skipping.\n",
            " 4/21 [====>.........................] - ETA: 1:05 - loss: 0.2102 - binary_accuracy: 0.9094WARNING:tensorflow:Can save best model only with val_loss available, skipping.\n",
            " 5/21 [======>.......................] - ETA: 1:02 - loss: 0.2111 - binary_accuracy: 0.9102WARNING:tensorflow:Can save best model only with val_loss available, skipping.\n",
            " 6/21 [=======>......................] - ETA: 58s - loss: 0.2128 - binary_accuracy: 0.9110 WARNING:tensorflow:Can save best model only with val_loss available, skipping.\n",
            " 7/21 [=========>....................] - ETA: 54s - loss: 0.2138 - binary_accuracy: 0.9111WARNING:tensorflow:Can save best model only with val_loss available, skipping.\n",
            " 8/21 [==========>...................] - ETA: 50s - loss: 0.2141 - binary_accuracy: 0.9114WARNING:tensorflow:Can save best model only with val_loss available, skipping.\n",
            " 9/21 [===========>..................] - ETA: 46s - loss: 0.2150 - binary_accuracy: 0.9112WARNING:tensorflow:Can save best model only with val_loss available, skipping.\n",
            "10/21 [=============>................] - ETA: 42s - loss: 0.2160 - binary_accuracy: 0.9109WARNING:tensorflow:Can save best model only with val_loss available, skipping.\n",
            "11/21 [==============>...............] - ETA: 38s - loss: 0.2165 - binary_accuracy: 0.9107WARNING:tensorflow:Can save best model only with val_loss available, skipping.\n",
            "12/21 [================>.............] - ETA: 34s - loss: 0.2175 - binary_accuracy: 0.9103WARNING:tensorflow:Can save best model only with val_loss available, skipping.\n",
            "13/21 [=================>............] - ETA: 30s - loss: 0.2184 - binary_accuracy: 0.9098WARNING:tensorflow:Can save best model only with val_loss available, skipping.\n",
            "14/21 [===================>..........] - ETA: 26s - loss: 0.2192 - binary_accuracy: 0.9094WARNING:tensorflow:Can save best model only with val_loss available, skipping.\n",
            "15/21 [====================>.........] - ETA: 23s - loss: 0.2199 - binary_accuracy: 0.9090WARNING:tensorflow:Can save best model only with val_loss available, skipping.\n",
            "16/21 [=====================>........] - ETA: 19s - loss: 0.2204 - binary_accuracy: 0.9087WARNING:tensorflow:Can save best model only with val_loss available, skipping.\n",
            "17/21 [=======================>......] - ETA: 15s - loss: 0.2209 - binary_accuracy: 0.9084WARNING:tensorflow:Can save best model only with val_loss available, skipping.\n",
            "18/21 [========================>.....] - ETA: 11s - loss: 0.2215 - binary_accuracy: 0.9080WARNING:tensorflow:Can save best model only with val_loss available, skipping.\n",
            "19/21 [==========================>...] - ETA: 7s - loss: 0.2221 - binary_accuracy: 0.9076 WARNING:tensorflow:Can save best model only with val_loss available, skipping.\n",
            "20/21 [===========================>..] - ETA: 3s - loss: 0.2226 - binary_accuracy: 0.9073WARNING:tensorflow:Can save best model only with val_loss available, skipping.\n",
            "21/21 [==============================] - ETA: 0s - loss: 0.2231 - binary_accuracy: 0.9070WARNING:tensorflow:Can save best model only with val_loss available, skipping.\n",
            "21/21 [==============================] - 94s 5s/step - loss: 0.2235 - binary_accuracy: 0.9068 - val_loss: 0.3843 - val_binary_accuracy: 0.8340\n",
            "Epoch 32/50\n",
            " 1/21 [>.............................] - ETA: 4s - loss: 0.1700 - binary_accuracy: 0.9688WARNING:tensorflow:Can save best model only with val_loss available, skipping.\n",
            " 2/21 [=>............................] - ETA: 1:21 - loss: 0.1869 - binary_accuracy: 0.9516WARNING:tensorflow:Can save best model only with val_loss available, skipping.\n",
            " 3/21 [===>..........................] - ETA: 1:15 - loss: 0.1933 - binary_accuracy: 0.9434WARNING:tensorflow:Can save best model only with val_loss available, skipping.\n",
            " 4/21 [====>.........................] - ETA: 1:10 - loss: 0.1973 - binary_accuracy: 0.9380WARNING:tensorflow:Can save best model only with val_loss available, skipping.\n",
            " 5/21 [======>.......................] - ETA: 1:06 - loss: 0.2007 - binary_accuracy: 0.9342WARNING:tensorflow:Can save best model only with val_loss available, skipping.\n",
            " 6/21 [=======>......................] - ETA: 1:01 - loss: 0.2025 - binary_accuracy: 0.9318WARNING:tensorflow:Can save best model only with val_loss available, skipping.\n",
            " 7/21 [=========>....................] - ETA: 56s - loss: 0.2036 - binary_accuracy: 0.9303 WARNING:tensorflow:Can save best model only with val_loss available, skipping.\n",
            " 8/21 [==========>...................] - ETA: 51s - loss: 0.2040 - binary_accuracy: 0.9292WARNING:tensorflow:Can save best model only with val_loss available, skipping.\n",
            " 9/21 [===========>..................] - ETA: 47s - loss: 0.2044 - binary_accuracy: 0.9282WARNING:tensorflow:Can save best model only with val_loss available, skipping.\n",
            "10/21 [=============>................] - ETA: 43s - loss: 0.2049 - binary_accuracy: 0.9274WARNING:tensorflow:Can save best model only with val_loss available, skipping.\n",
            "11/21 [==============>...............] - ETA: 39s - loss: 0.2053 - binary_accuracy: 0.9266WARNING:tensorflow:Can save best model only with val_loss available, skipping.\n",
            "12/21 [================>.............] - ETA: 35s - loss: 0.2058 - binary_accuracy: 0.9257WARNING:tensorflow:Can save best model only with val_loss available, skipping.\n",
            "13/21 [=================>............] - ETA: 31s - loss: 0.2070 - binary_accuracy: 0.9247WARNING:tensorflow:Can save best model only with val_loss available, skipping.\n",
            "14/21 [===================>..........] - ETA: 27s - loss: 0.2084 - binary_accuracy: 0.9236WARNING:tensorflow:Can save best model only with val_loss available, skipping.\n",
            "15/21 [====================>.........] - ETA: 23s - loss: 0.2096 - binary_accuracy: 0.9227WARNING:tensorflow:Can save best model only with val_loss available, skipping.\n",
            "16/21 [=====================>........] - ETA: 19s - loss: 0.2108 - binary_accuracy: 0.9218WARNING:tensorflow:Can save best model only with val_loss available, skipping.\n",
            "17/21 [=======================>......] - ETA: 15s - loss: 0.2118 - binary_accuracy: 0.9210WARNING:tensorflow:Can save best model only with val_loss available, skipping.\n",
            "18/21 [========================>.....] - ETA: 11s - loss: 0.2128 - binary_accuracy: 0.9202WARNING:tensorflow:Can save best model only with val_loss available, skipping.\n",
            "19/21 [==========================>...] - ETA: 7s - loss: 0.2135 - binary_accuracy: 0.9195 WARNING:tensorflow:Can save best model only with val_loss available, skipping.\n",
            "20/21 [===========================>..] - ETA: 3s - loss: 0.2142 - binary_accuracy: 0.9189WARNING:tensorflow:Can save best model only with val_loss available, skipping.\n",
            "21/21 [==============================] - ETA: 0s - loss: 0.2149 - binary_accuracy: 0.9183WARNING:tensorflow:Can save best model only with val_loss available, skipping.\n",
            "21/21 [==============================] - 91s 5s/step - loss: 0.2155 - binary_accuracy: 0.9178 - val_loss: 0.3479 - val_binary_accuracy: 0.8440\n",
            "\n",
            "Epoch 00032: ReduceLROnPlateau reducing learning rate to 1.0000000116860975e-08.\n",
            "Epoch 33/50\n",
            " 1/21 [>.............................] - ETA: 4s - loss: 0.2550 - binary_accuracy: 0.8938WARNING:tensorflow:Can save best model only with val_loss available, skipping.\n",
            " 2/21 [=>............................] - ETA: 1:11 - loss: 0.2433 - binary_accuracy: 0.9000WARNING:tensorflow:Can save best model only with val_loss available, skipping.\n",
            " 3/21 [===>..........................] - ETA: 1:10 - loss: 0.2416 - binary_accuracy: 0.9000WARNING:tensorflow:Can save best model only with val_loss available, skipping.\n",
            " 4/21 [====>.........................] - ETA: 1:05 - loss: 0.2386 - binary_accuracy: 0.9016WARNING:tensorflow:Can save best model only with val_loss available, skipping.\n",
            " 5/21 [======>.......................] - ETA: 1:01 - loss: 0.2360 - binary_accuracy: 0.9033WARNING:tensorflow:Can save best model only with val_loss available, skipping.\n",
            " 6/21 [=======>......................] - ETA: 58s - loss: 0.2361 - binary_accuracy: 0.9032 WARNING:tensorflow:Can save best model only with val_loss available, skipping.\n",
            " 7/21 [=========>....................] - ETA: 54s - loss: 0.2350 - binary_accuracy: 0.9037WARNING:tensorflow:Can save best model only with val_loss available, skipping.\n",
            " 8/21 [==========>...................] - ETA: 50s - loss: 0.2346 - binary_accuracy: 0.9036WARNING:tensorflow:Can save best model only with val_loss available, skipping.\n",
            " 9/21 [===========>..................] - ETA: 46s - loss: 0.2346 - binary_accuracy: 0.9034WARNING:tensorflow:Can save best model only with val_loss available, skipping.\n",
            "10/21 [=============>................] - ETA: 42s - loss: 0.2346 - binary_accuracy: 0.9035WARNING:tensorflow:Can save best model only with val_loss available, skipping.\n",
            "11/21 [==============>...............] - ETA: 38s - loss: 0.2344 - binary_accuracy: 0.9036WARNING:tensorflow:Can save best model only with val_loss available, skipping.\n",
            "12/21 [================>.............] - ETA: 34s - loss: 0.2339 - binary_accuracy: 0.9040WARNING:tensorflow:Can save best model only with val_loss available, skipping.\n",
            "13/21 [=================>............] - ETA: 31s - loss: 0.2336 - binary_accuracy: 0.9042WARNING:tensorflow:Can save best model only with val_loss available, skipping.\n",
            "14/21 [===================>..........] - ETA: 27s - loss: 0.2335 - binary_accuracy: 0.9042WARNING:tensorflow:Can save best model only with val_loss available, skipping.\n",
            "15/21 [====================>.........] - ETA: 23s - loss: 0.2335 - binary_accuracy: 0.9041WARNING:tensorflow:Can save best model only with val_loss available, skipping.\n",
            "16/21 [=====================>........] - ETA: 19s - loss: 0.2333 - binary_accuracy: 0.9040WARNING:tensorflow:Can save best model only with val_loss available, skipping.\n",
            "17/21 [=======================>......] - ETA: 15s - loss: 0.2332 - binary_accuracy: 0.9038WARNING:tensorflow:Can save best model only with val_loss available, skipping.\n",
            "18/21 [========================>.....] - ETA: 11s - loss: 0.2331 - binary_accuracy: 0.9037WARNING:tensorflow:Can save best model only with val_loss available, skipping.\n",
            "19/21 [==========================>...] - ETA: 7s - loss: 0.2331 - binary_accuracy: 0.9036 WARNING:tensorflow:Can save best model only with val_loss available, skipping.\n",
            "20/21 [===========================>..] - ETA: 3s - loss: 0.2330 - binary_accuracy: 0.9036WARNING:tensorflow:Can save best model only with val_loss available, skipping.\n",
            "21/21 [==============================] - ETA: 0s - loss: 0.2329 - binary_accuracy: 0.9036WARNING:tensorflow:Can save best model only with val_loss available, skipping.\n",
            "21/21 [==============================] - 93s 5s/step - loss: 0.2329 - binary_accuracy: 0.9037 - val_loss: 0.3292 - val_binary_accuracy: 0.8540\n",
            "Epoch 00033: early stopping\n"
          ],
          "name": "stdout"
        }
      ]
    },
    {
      "cell_type": "markdown",
      "metadata": {
        "papermill": {
          "duration": 0.436901,
          "end_time": "2020-12-29T17:29:50.362885",
          "exception": false,
          "start_time": "2020-12-29T17:29:49.925984",
          "status": "completed"
        },
        "tags": [],
        "id": "ZABi-svnqQnP"
      },
      "source": [
        "Plot the train and validation loss and accuracies"
      ]
    },
    {
      "cell_type": "code",
      "metadata": {
        "execution": {
          "iopub.execute_input": "2020-12-29T17:29:51.248904Z",
          "iopub.status.busy": "2020-12-29T17:29:51.247652Z",
          "iopub.status.idle": "2020-12-29T17:29:51.921053Z",
          "shell.execute_reply": "2020-12-29T17:29:51.919981Z"
        },
        "papermill": {
          "duration": 1.144244,
          "end_time": "2020-12-29T17:29:51.921190",
          "exception": false,
          "start_time": "2020-12-29T17:29:50.776946",
          "status": "completed"
        },
        "tags": [],
        "colab": {
          "base_uri": "https://localhost:8080/",
          "height": 513
        },
        "id": "4p6XSFPiqQnQ",
        "outputId": "5c966940-d119-4f80-dfa9-bd7f05ca4e7a"
      },
      "source": [
        "history_frame = pd.DataFrame(history.history)\n",
        "history_frame.loc[:, ['loss', 'val_loss']].plot()\n",
        "history_frame.loc[:, ['binary_accuracy', 'val_binary_accuracy']].plot();"
      ],
      "execution_count": 16,
      "outputs": [
        {
          "output_type": "display_data",
          "data": {
            "image/png": "[encoded data removed]",
            "text/plain": [
              "<Figure size 432x288 with 1 Axes>"
            ]
          },
          "metadata": {
            "tags": [],
            "needs_background": "light"
          }
        },
        {
          "output_type": "display_data",
          "data": {
            "image/png": "[encoded data removed]",
            "text/plain": [
              "<Figure size 432x288 with 1 Axes>"
            ]
          },
          "metadata": {
            "tags": [],
            "needs_background": "light"
          }
        }
      ]
    },
    {
      "cell_type": "code",
      "metadata": {
        "execution": {
          "iopub.execute_input": "2020-12-29T17:29:52.776812Z",
          "iopub.status.busy": "2020-12-29T17:29:52.775676Z",
          "iopub.status.idle": "2020-12-29T17:29:52.779919Z",
          "shell.execute_reply": "2020-12-29T17:29:52.777416Z"
        },
        "papermill": {
          "duration": 0.427651,
          "end_time": "2020-12-29T17:29:52.780035",
          "exception": false,
          "start_time": "2020-12-29T17:29:52.352384",
          "status": "completed"
        },
        "tags": [],
        "colab": {
          "base_uri": "https://localhost:8080/"
        },
        "id": "Qq2T10XYqQnR",
        "outputId": "2713340c-ee95-4348-8f97-798fbd46f25f"
      },
      "source": [
        "# Display the exeuction time\n",
        "print('Total execution time is :',round((time.time() - start_time)/60),'minutes')"
      ],
      "execution_count": 17,
      "outputs": [
        {
          "output_type": "stream",
          "text": [
            "Total execution time is : 52 minutes\n"
          ],
          "name": "stdout"
        }
      ]
    },
    {
      "cell_type": "code",
      "metadata": {
        "papermill": {
          "duration": 0.41847,
          "end_time": "2020-12-29T17:29:53.627028",
          "exception": false,
          "start_time": "2020-12-29T17:29:53.208558",
          "status": "completed"
        },
        "tags": [],
        "colab": {
          "base_uri": "https://localhost:8080/"
        },
        "id": "0ja8MyY9qQnR",
        "outputId": "7ea5a0c3-4b28-4c3e-ce4f-fcfd05c0ad5b"
      },
      "source": [
        "print(tf.__version__)"
      ],
      "execution_count": 18,
      "outputs": [
        {
          "output_type": "stream",
          "text": [
            "2.4.0\n"
          ],
          "name": "stdout"
        }
      ]
    },
    {
      "cell_type": "code",
      "metadata": {
        "id": "HldF9JxpVAVl"
      },
      "source": [
        ""
      ],
      "execution_count": null,
      "outputs": []
    }
  ]
}