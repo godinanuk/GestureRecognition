{
 "cells": [
  {
   "cell_type": "markdown",
   "metadata": {
    "papermill": {
     "duration": 0.020484,
     "end_time": "2021-01-09T14:33:25.194134",
     "exception": false,
     "start_time": "2021-01-09T14:33:25.173650",
     "status": "completed"
    },
    "tags": []
   },
   "source": [
    "# Gesture Recognition\n",
    "In this group project, you are going to build a CNN-RNN model with EfficientNetB7 that will be able to predict the 5 gestures correctly. Please import the following libraries to get started."
   ]
  },
  {
   "cell_type": "code",
   "execution_count": 1,
   "metadata": {
    "execution": {
     "iopub.execute_input": "2021-01-09T14:33:25.244675Z",
     "iopub.status.busy": "2021-01-09T14:33:25.242551Z",
     "iopub.status.idle": "2021-01-09T14:33:25.245437Z",
     "shell.execute_reply": "2021-01-09T14:33:25.245971Z"
    },
    "papermill": {
     "duration": 0.031917,
     "end_time": "2021-01-09T14:33:25.246177",
     "exception": false,
     "start_time": "2021-01-09T14:33:25.214260",
     "status": "completed"
    },
    "tags": []
   },
   "outputs": [],
   "source": [
    "import numpy as np\n",
    "import pandas as pd\n",
    "import os\n",
    "import datetime\n",
    "import time\n",
    "import warnings\n",
    "warnings.filterwarnings('ignore')\n",
    "\n",
    "start_time=time.time()"
   ]
  },
  {
   "cell_type": "markdown",
   "metadata": {
    "papermill": {
     "duration": 0.01907,
     "end_time": "2021-01-09T14:33:25.284800",
     "exception": false,
     "start_time": "2021-01-09T14:33:25.265730",
     "status": "completed"
    },
    "tags": []
   },
   "source": [
    "We set the random seed so that the results don't vary drastically."
   ]
  },
  {
   "cell_type": "code",
   "execution_count": 2,
   "metadata": {
    "execution": {
     "iopub.execute_input": "2021-01-09T14:33:25.332587Z",
     "iopub.status.busy": "2021-01-09T14:33:25.331846Z",
     "iopub.status.idle": "2021-01-09T14:33:34.683496Z",
     "shell.execute_reply": "2021-01-09T14:33:34.682821Z"
    },
    "papermill": {
     "duration": 9.379347,
     "end_time": "2021-01-09T14:33:34.683624",
     "exception": false,
     "start_time": "2021-01-09T14:33:25.304277",
     "status": "completed"
    },
    "tags": []
   },
   "outputs": [
    {
     "name": "stdout",
     "output_type": "stream",
     "text": [
      "Tensorflow version:  2.3.1\n",
      "Default GPU Device:/device:GPU:0\n"
     ]
    }
   ],
   "source": [
    "np.random.seed(30)\n",
    "import random as rn\n",
    "rn.seed(30)\n",
    "from tensorflow.keras import backend as K\n",
    "import tensorflow as tf\n",
    "print('Tensorflow version: ',tf.__version__)\n",
    "tf.random.set_seed(30)\n",
    "if tf.test.gpu_device_name():\n",
    "    print('Default GPU Device:{}'.format(tf.test.gpu_device_name()))\n",
    "else:\n",
    "    print(\"Please install GPU version of TF\")"
   ]
  },
  {
   "cell_type": "markdown",
   "metadata": {
    "papermill": {
     "duration": 0.020291,
     "end_time": "2021-01-09T14:33:34.725508",
     "exception": false,
     "start_time": "2021-01-09T14:33:34.705217",
     "status": "completed"
    },
    "tags": []
   },
   "source": [
    "In this block, you read the folder names for training and validation. You also set the `batch_size` here. Note that you set the batch size in such a way that you are able to use the GPU in full capacity. You keep increasing the batch size until the machine throws an error."
   ]
  },
  {
   "cell_type": "code",
   "execution_count": 3,
   "metadata": {
    "execution": {
     "iopub.execute_input": "2021-01-09T14:33:34.776427Z",
     "iopub.status.busy": "2021-01-09T14:33:34.775624Z",
     "iopub.status.idle": "2021-01-09T14:33:34.813617Z",
     "shell.execute_reply": "2021-01-09T14:33:34.812641Z"
    },
    "papermill": {
     "duration": 0.067545,
     "end_time": "2021-01-09T14:33:34.813741",
     "exception": false,
     "start_time": "2021-01-09T14:33:34.746196",
     "status": "completed"
    },
    "tags": []
   },
   "outputs": [
    {
     "name": "stdout",
     "output_type": "stream",
     "text": [
      "Number of frames being considered : 15\n"
     ]
    }
   ],
   "source": [
    "BASE_PATH='../input/untouched-gesture-dataset'\n",
    "#BASE_PATH='.'\n",
    "train_doc = np.random.permutation(open(BASE_PATH+'/Project_data/train.csv').readlines())\n",
    "val_doc = np.random.permutation(open(BASE_PATH+'/Project_data/val.csv').readlines())\n",
    "BATCH_SIZE = 32 #experiment with the batch size\n",
    "IMG_HEIGHT = 120\n",
    "IMG_WIDTH = 120\n",
    "LEARNING_RATE=0.0001\n",
    "FRAMES=len(list(range(1,30,2)))\n",
    "NUM_EPOCHS = 50\n",
    "print('Number of frames being considered :',FRAMES)"
   ]
  },
  {
   "cell_type": "markdown",
   "metadata": {
    "papermill": {
     "duration": 0.020439,
     "end_time": "2021-01-09T14:33:34.856280",
     "exception": false,
     "start_time": "2021-01-09T14:33:34.835841",
     "status": "completed"
    },
    "tags": []
   },
   "source": [
    "## Generator\n",
    "This is one of the most important part of the code. The overall structure of the generator has been given. In the generator, you are going to preprocess the images as you have images of 2 different dimensions as well as create a batch of video frames. You have to experiment with `img_idx`, `y`,`z` and normalization such that you get high accuracy."
   ]
  },
  {
   "cell_type": "code",
   "execution_count": 4,
   "metadata": {
    "execution": {
     "iopub.execute_input": "2021-01-09T14:33:34.937334Z",
     "iopub.status.busy": "2021-01-09T14:33:34.917444Z",
     "iopub.status.idle": "2021-01-09T14:33:34.941053Z",
     "shell.execute_reply": "2021-01-09T14:33:34.941663Z"
    },
    "papermill": {
     "duration": 0.064916,
     "end_time": "2021-01-09T14:33:34.941824",
     "exception": false,
     "start_time": "2021-01-09T14:33:34.876908",
     "status": "completed"
    },
    "tags": []
   },
   "outputs": [],
   "source": [
    "def generator(source_path, folder_list, batch_size):\n",
    "    #print( 'Source path = ', source_path, '; batch size =', batch_size)\n",
    "    # We will consider frames 10 to 20 for training\n",
    "    img_idx = range(0,30,2) #create a list of image numbers you want to use for a particular video\n",
    "    while True:\n",
    "        t = np.random.permutation(folder_list)\n",
    "        num_batches = int(len(folder_list) / batch_size) # calculate the number of batches\n",
    "        for batch in range(num_batches): # we iterate over the number of batches\n",
    "            # second parameter x set to len(img_idx) list - indicates no. of images we want to use for each video\n",
    "            # third and fourth parameters (y,z) indicate the final size of input image\n",
    "            batch_data = np.zeros((batch_size,len(img_idx),120,120,3)) # x is the number of images you use for each video, (y,z) is the final size of the input images and 3 is the number of channels RGB\n",
    "            batch_labels = np.zeros((batch_size,5)) # batch_labels is the one hot representation of the output\n",
    "            for folder in range(batch_size): # iterate over the batch_size\n",
    "                imgs = os.listdir(source_path+'/'+ t[folder + (batch*batch_size)].split(';')[0]) # read all the images in the folder\n",
    "                for idx,item in enumerate(img_idx): #  Iterate iver the frames/images of a folder to read them in\n",
    "                    image = tf.io.read_file(source_path+'/'+ t[folder + (batch*batch_size)].strip().split(';')[0]+'/'+imgs[item])\n",
    "                    image = tf.io.decode_jpeg(image,channels=3)\n",
    "                    #crop the images and resize them. Note that the images are of 2 different shape \n",
    "                    #and the conv3D will throw error if the inputs in a batch have different shapes\n",
    "                    # We will resize all the images to a standard shape of (120,120)\n",
    "                    # We will use distinct normalization methods for different channel\n",
    "                    im_resized = tf.image.resize(image,size=[IMG_HEIGHT,IMG_WIDTH],method='nearest') \n",
    "                    im_resized = tf.image.resize(tf.image.central_crop(im_resized,0.9),size=[IMG_HEIGHT,IMG_WIDTH],method='nearest')\n",
    "                    im_resized_0 = im_resized[:,:,0]\n",
    "                    im_resized_1 = im_resized[:,:,1]\n",
    "                    im_resized_2 = im_resized[:,:,2]\n",
    "                    batch_data[folder,idx,:,:,0] = (im_resized_0 - np.min(im_resized_0))/ (np.max(im_resized_0) - np.min(im_resized_0)) #normalise and feed in the image\n",
    "                    batch_data[folder,idx,:,:,1] = (im_resized_1 - np.percentile(im_resized_1,5))/ (np.percentile(im_resized_1,95) - np.percentile(im_resized_1,5)) #normalise and feed in the image\n",
    "                    batch_data[folder,idx,:,:,2] = im_resized_2/255 #normalise and feed in the image                    \n",
    "                batch_labels[folder, int(t[folder + (batch*batch_size)].strip().split(';')[2])] = 1\n",
    "            yield batch_data, batch_labels #you yield the batch_data and the batch_labels, remember what does yield do\n",
    "\n",
    "        \n",
    "        # write the code for the remaining data points which are left after full batches\n",
    "        if len(folder_list) != (num_batches * batch_size):\n",
    "            n_batch_size = len(folder_list) - (num_batches * batch_size)\n",
    "            batch_data = np.zeros((n_batch_size,len(img_idx),120,120,3))\n",
    "            batch_labels = np.zeros((n_batch_size,5))\n",
    "            for folder in range(n_batch_size): # iterate over the batch_size\n",
    "                imgs = os.listdir(source_path+'/'+ t[folder + (num_batches*n_batch_size)].split(';')[0]) # read all the images in the folder\n",
    "                for idx,item in enumerate(img_idx): #  Iterate iver the frames/images of a folder to read them in\n",
    "                    image = tf.io.read_file(source_path+'/'+ t[folder + (num_batches*n_batch_size)].strip().split(';')[0]+'/'+imgs[item])\n",
    "                    image = tf.io.decode_jpeg(image,channels=3)\n",
    "                    #crop the images and resize them. Note that the images are of 2 different shape \n",
    "                    #and the conv3D will throw error if the inputs in a batch have different shapes\n",
    "                    # We will resize all the images to a standard shape of (120,120)\n",
    "                    # We will use distinct normalization methods for different channel\n",
    "                    im_resized = tf.image.resize(image,size=[IMG_HEIGHT,IMG_WIDTH],method='nearest') \n",
    "                    im_resized = tf.image.resize(tf.image.central_crop(im_resized,0.9),size=[IMG_HEIGHT,IMG_WIDTH],method='nearest')\n",
    "                    im_resized_0 = im_resized[:,:,0]\n",
    "                    im_resized_1 = im_resized[:,:,1]\n",
    "                    im_resized_2 = im_resized[:,:,2]\n",
    "                    batch_data[folder,idx,:,:,0] = (im_resized_0 - np.min(im_resized_0))/ (np.max(im_resized_0) - np.min(im_resized_0)) #normalise and feed in the image\n",
    "                    batch_data[folder,idx,:,:,1] = (im_resized_1 - np.percentile(im_resized_1,5))/ (np.percentile(im_resized_1,95) - np.percentile(im_resized_1,5)) #normalise and feed in the image\n",
    "                    batch_data[folder,idx,:,:,2] = im_resized_2/255 #normalise and feed in the image   \n",
    "                    \n",
    "                batch_labels[folder, int(t[folder + (num_batches*n_batch_size)].strip().split(';')[2])] = 1\n",
    "            yield batch_data, batch_labels #you yield the batch_data and the batch_labels, remember what does yield do\n",
    "        "
   ]
  },
  {
   "cell_type": "markdown",
   "metadata": {
    "papermill": {
     "duration": 0.020411,
     "end_time": "2021-01-09T14:33:34.983519",
     "exception": false,
     "start_time": "2021-01-09T14:33:34.963108",
     "status": "completed"
    },
    "tags": []
   },
   "source": [
    "Note here that a video is represented above in the generator as (number of images, height, width, number of channels). Take this into consideration while creating the model architecture."
   ]
  },
  {
   "cell_type": "code",
   "execution_count": 5,
   "metadata": {
    "execution": {
     "iopub.execute_input": "2021-01-09T14:33:35.038593Z",
     "iopub.status.busy": "2021-01-09T14:33:35.037787Z",
     "iopub.status.idle": "2021-01-09T14:35:30.162814Z",
     "shell.execute_reply": "2021-01-09T14:35:30.161474Z"
    },
    "papermill": {
     "duration": 115.157738,
     "end_time": "2021-01-09T14:35:30.162968",
     "exception": false,
     "start_time": "2021-01-09T14:33:35.005230",
     "status": "completed"
    },
    "tags": []
   },
   "outputs": [
    {
     "name": "stdout",
     "output_type": "stream",
     "text": [
      "# training sequences = 663\n",
      "# training batches = 22\n",
      "# validation sequences = 100\n"
     ]
    }
   ],
   "source": [
    "from PIL import Image\n",
    "\n",
    "curr_dt_time = datetime.datetime.now()\n",
    "train_path = BASE_PATH+'/Project_data/train'\n",
    "val_path = BASE_PATH+'/Project_data/val'\n",
    "num_train_sequences = len(train_doc)\n",
    "print('# training sequences =', num_train_sequences)\n",
    "print('# training batches =', int(num_train_sequences/30))\n",
    "num_val_sequences = len(val_doc)\n",
    "print('# validation sequences =', num_val_sequences)\n",
    "\n",
    "img_sizes=[]\n",
    "for i in os.listdir(train_path):\n",
    "    if not(i.startswith('.')):\n",
    "        file_path = train_path + \"/\" + i\n",
    "        for j in os.listdir(file_path):\n",
    "            if not(j.startswith('.')):\n",
    "                im_path = file_path + \"/\" + j\n",
    "                im = Image.open(im_path)\n",
    "                img_sizes.append(im.size)"
   ]
  },
  {
   "cell_type": "code",
   "execution_count": 6,
   "metadata": {
    "execution": {
     "iopub.execute_input": "2021-01-09T14:35:30.218279Z",
     "iopub.status.busy": "2021-01-09T14:35:30.216921Z",
     "iopub.status.idle": "2021-01-09T14:35:30.221620Z",
     "shell.execute_reply": "2021-01-09T14:35:30.222127Z"
    },
    "papermill": {
     "duration": 0.037111,
     "end_time": "2021-01-09T14:35:30.222262",
     "exception": false,
     "start_time": "2021-01-09T14:35:30.185151",
     "status": "completed"
    },
    "tags": []
   },
   "outputs": [
    {
     "data": {
      "text/plain": [
       "{(160, 120), (360, 360)}"
      ]
     },
     "execution_count": 6,
     "metadata": {},
     "output_type": "execute_result"
    }
   ],
   "source": [
    "set(img_sizes)"
   ]
  },
  {
   "cell_type": "markdown",
   "metadata": {
    "papermill": {
     "duration": 0.023266,
     "end_time": "2021-01-09T14:35:30.267566",
     "exception": false,
     "start_time": "2021-01-09T14:35:30.244300",
     "status": "completed"
    },
    "tags": []
   },
   "source": [
    "As we can see we have two shapes of images (160,120) and (360,360).  We will standardize the image shapes to (120,120)"
   ]
  },
  {
   "cell_type": "markdown",
   "metadata": {
    "papermill": {
     "duration": 0.021358,
     "end_time": "2021-01-09T14:35:30.311144",
     "exception": false,
     "start_time": "2021-01-09T14:35:30.289786",
     "status": "completed"
    },
    "tags": []
   },
   "source": [
    "## Model\n",
    "Here you make the model using different functionalities that Keras provides. Remember to use `Conv3D` and `MaxPooling3D` and not `Conv2D` and `Maxpooling2D` for a 3D convolution model. You would want to use `TimeDistributed` while building a Conv2D + RNN model. Also remember that the last layer is the softmax. Design the network in such a way that the model is able to give good accuracy on the least number of parameters so that it can fit in the memory of the webcam."
   ]
  },
  {
   "cell_type": "markdown",
   "metadata": {
    "papermill": {
     "duration": 0.022138,
     "end_time": "2021-01-09T14:35:30.355770",
     "exception": false,
     "start_time": "2021-01-09T14:35:30.333632",
     "status": "completed"
    },
    "tags": []
   },
   "source": [
    "#### Conv2D + RNN Model using EfficientNetB7 pretrained model"
   ]
  },
  {
   "cell_type": "code",
   "execution_count": 7,
   "metadata": {
    "execution": {
     "iopub.execute_input": "2021-01-09T14:35:30.421187Z",
     "iopub.status.busy": "2021-01-09T14:35:30.420431Z",
     "iopub.status.idle": "2021-01-09T14:35:48.947359Z",
     "shell.execute_reply": "2021-01-09T14:35:48.946561Z"
    },
    "papermill": {
     "duration": 18.569191,
     "end_time": "2021-01-09T14:35:48.947501",
     "exception": false,
     "start_time": "2021-01-09T14:35:30.378310",
     "status": "completed"
    },
    "tags": []
   },
   "outputs": [
    {
     "name": "stdout",
     "output_type": "stream",
     "text": [
      "Downloading data from https://storage.googleapis.com/keras-applications/efficientnetb7_notop.h5\n",
      "258080768/258076736 [==============================] - 2s 0us/step\n"
     ]
    }
   ],
   "source": [
    "from tensorflow.keras.models import Sequential, Model\n",
    "from tensorflow.keras.layers import Dense, GRU, LSTM, Flatten, TimeDistributed, Flatten, BatchNormalization, Activation, Dropout\n",
    "from tensorflow.keras.layers import Conv3D, MaxPooling3D, Conv2D, MaxPooling2D\n",
    "from tensorflow.keras.callbacks import ModelCheckpoint, ReduceLROnPlateau, EarlyStopping\n",
    "from tensorflow.keras import optimizers\n",
    "from tensorflow.keras import initializers\n",
    "from tensorflow.keras import regularizers\n",
    "from tensorflow.keras.applications import EfficientNetB7\n",
    "\n",
    "#write your model here\n",
    "nb_filters = [8,16,32,64]\n",
    "nb_dense = [1000, 500, 8, 5]\n",
    "input_shape = (FRAMES, IMG_HEIGHT,IMG_WIDTH, 3)\n",
    "\n",
    "pretrained_model = EfficientNetB7(include_top=False, weights='imagenet', input_shape=(IMG_HEIGHT,IMG_WIDTH,3))\n",
    "x = pretrained_model.output\n",
    "x = Flatten()(x)\n",
    "\n",
    "features = Dense(64, activation='relu')(x)\n",
    "conv_model = Model(pretrained_model.input, features)\n",
    "\n",
    "for layer in pretrained_model.layers:\n",
    "    layer.trainable = False\n",
    "    \n",
    "model = Sequential()\n",
    "model.add(TimeDistributed(conv_model, input_shape=input_shape))\n",
    "model.add(GRU(32, return_sequences=True, dropout=0.5))\n",
    "model.add(GRU(16, dropout=0.5))\n",
    "model.add(Dense(nb_dense[2], activation='relu'))\n",
    "model.add(Dense(nb_dense[3], activation='sigmoid'))"
   ]
  },
  {
   "cell_type": "markdown",
   "metadata": {
    "papermill": {
     "duration": 0.043285,
     "end_time": "2021-01-09T14:35:49.080502",
     "exception": false,
     "start_time": "2021-01-09T14:35:49.037217",
     "status": "completed"
    },
    "tags": []
   },
   "source": [
    "Now that you have written the model, the next step is to `compile` the model. When you print the `summary` of the model, you'll see the total number of parameters you have to train."
   ]
  },
  {
   "cell_type": "code",
   "execution_count": 8,
   "metadata": {
    "execution": {
     "iopub.execute_input": "2021-01-09T14:35:49.203142Z",
     "iopub.status.busy": "2021-01-09T14:35:49.182081Z",
     "iopub.status.idle": "2021-01-09T14:35:49.304368Z",
     "shell.execute_reply": "2021-01-09T14:35:49.303663Z"
    },
    "papermill": {
     "duration": 0.179805,
     "end_time": "2021-01-09T14:35:49.304515",
     "exception": false,
     "start_time": "2021-01-09T14:35:49.124710",
     "status": "completed"
    },
    "tags": []
   },
   "outputs": [
    {
     "name": "stdout",
     "output_type": "stream",
     "text": [
      "Model: \"sequential\"\n",
      "_________________________________________________________________\n",
      "Layer (type)                 Output Shape              Param #   \n",
      "=================================================================\n",
      "time_distributed (TimeDistri (None, 15, 64)            66719191  \n",
      "_________________________________________________________________\n",
      "gru (GRU)                    (None, 15, 32)            9408      \n",
      "_________________________________________________________________\n",
      "gru_1 (GRU)                  (None, 16)                2400      \n",
      "_________________________________________________________________\n",
      "dense_1 (Dense)              (None, 8)                 136       \n",
      "_________________________________________________________________\n",
      "dense_2 (Dense)              (None, 5)                 45        \n",
      "=================================================================\n",
      "Total params: 66,731,180\n",
      "Trainable params: 2,633,493\n",
      "Non-trainable params: 64,097,687\n",
      "_________________________________________________________________\n",
      "None\n"
     ]
    }
   ],
   "source": [
    "optimizer=optimizers.Adam(lr=LEARNING_RATE)\n",
    "model.compile(optimizer=optimizer, loss='binary_crossentropy', metrics=['binary_accuracy']) \n",
    "print (model.summary())"
   ]
  },
  {
   "cell_type": "markdown",
   "metadata": {
    "papermill": {
     "duration": 0.044369,
     "end_time": "2021-01-09T14:35:49.393360",
     "exception": false,
     "start_time": "2021-01-09T14:35:49.348991",
     "status": "completed"
    },
    "tags": []
   },
   "source": [
    "Let us create the `train_generator` and the `val_generator` which will be used in `.fit_generator`."
   ]
  },
  {
   "cell_type": "code",
   "execution_count": 9,
   "metadata": {
    "execution": {
     "iopub.execute_input": "2021-01-09T14:35:49.488321Z",
     "iopub.status.busy": "2021-01-09T14:35:49.487223Z",
     "iopub.status.idle": "2021-01-09T14:35:49.490519Z",
     "shell.execute_reply": "2021-01-09T14:35:49.489936Z"
    },
    "papermill": {
     "duration": 0.052793,
     "end_time": "2021-01-09T14:35:49.490639",
     "exception": false,
     "start_time": "2021-01-09T14:35:49.437846",
     "status": "completed"
    },
    "tags": []
   },
   "outputs": [],
   "source": [
    "train_generator = generator(train_path, train_doc, BATCH_SIZE)\n",
    "val_generator = generator(val_path, val_doc, BATCH_SIZE)"
   ]
  },
  {
   "cell_type": "code",
   "execution_count": 10,
   "metadata": {
    "execution": {
     "iopub.execute_input": "2021-01-09T14:35:49.588207Z",
     "iopub.status.busy": "2021-01-09T14:35:49.587104Z",
     "iopub.status.idle": "2021-01-09T14:35:49.589884Z",
     "shell.execute_reply": "2021-01-09T14:35:49.590532Z"
    },
    "papermill": {
     "duration": 0.055924,
     "end_time": "2021-01-09T14:35:49.590690",
     "exception": false,
     "start_time": "2021-01-09T14:35:49.534766",
     "status": "completed"
    },
    "tags": []
   },
   "outputs": [],
   "source": [
    "filepath = 'best_model.h5'\n",
    "\n",
    "mc = ModelCheckpoint(filepath, monitor='val_loss', verbose=1, save_best_only=True, save_weights_only=False, mode='min', save_freq=1)\n",
    "es = EarlyStopping(monitor='val_loss', mode='min', verbose=1, patience=10)\n",
    "lr = ReduceLROnPlateau(monitor='val_loss', factor=0.1, patience=3, verbose=1, mode='min',\n",
    "                        min_delta=0.0001, cooldown=0, min_lr=0) \n",
    "callbacks_list = [mc, lr, es]"
   ]
  },
  {
   "cell_type": "markdown",
   "metadata": {
    "papermill": {
     "duration": 0.0438,
     "end_time": "2021-01-09T14:35:49.678497",
     "exception": false,
     "start_time": "2021-01-09T14:35:49.634697",
     "status": "completed"
    },
    "tags": []
   },
   "source": [
    "The `steps_per_epoch` and `validation_steps` are used by `fit_generator` to decide the number of next() calls it need to make."
   ]
  },
  {
   "cell_type": "code",
   "execution_count": 11,
   "metadata": {
    "execution": {
     "iopub.execute_input": "2021-01-09T14:35:49.775359Z",
     "iopub.status.busy": "2021-01-09T14:35:49.774244Z",
     "iopub.status.idle": "2021-01-09T14:35:49.776986Z",
     "shell.execute_reply": "2021-01-09T14:35:49.777599Z"
    },
    "papermill": {
     "duration": 0.054856,
     "end_time": "2021-01-09T14:35:49.777742",
     "exception": false,
     "start_time": "2021-01-09T14:35:49.722886",
     "status": "completed"
    },
    "tags": []
   },
   "outputs": [],
   "source": [
    "if (num_train_sequences%BATCH_SIZE) == 0:\n",
    "    steps_per_epoch = int(num_train_sequences/BATCH_SIZE)\n",
    "else:\n",
    "    steps_per_epoch = (num_train_sequences//BATCH_SIZE) + 1\n",
    "\n",
    "if (num_val_sequences%BATCH_SIZE) == 0:\n",
    "    validation_steps = int(num_val_sequences/BATCH_SIZE)\n",
    "else:\n",
    "    validation_steps = (num_val_sequences//BATCH_SIZE) + 1"
   ]
  },
  {
   "cell_type": "markdown",
   "metadata": {
    "papermill": {
     "duration": 0.044237,
     "end_time": "2021-01-09T14:35:49.866564",
     "exception": false,
     "start_time": "2021-01-09T14:35:49.822327",
     "status": "completed"
    },
    "tags": []
   },
   "source": [
    "Let us now fit the model. This will start training the model and with the help of the checkpoints, you'll be able to save the model at the end of each epoch."
   ]
  },
  {
   "cell_type": "code",
   "execution_count": 12,
   "metadata": {
    "execution": {
     "iopub.execute_input": "2021-01-09T14:35:49.968671Z",
     "iopub.status.busy": "2021-01-09T14:35:49.967458Z",
     "iopub.status.idle": "2021-01-09T15:54:37.492599Z",
     "shell.execute_reply": "2021-01-09T15:54:37.491616Z"
    },
    "papermill": {
     "duration": 4727.581418,
     "end_time": "2021-01-09T15:54:37.492769",
     "exception": false,
     "start_time": "2021-01-09T14:35:49.911351",
     "status": "completed"
    },
    "tags": []
   },
   "outputs": [
    {
     "name": "stdout",
     "output_type": "stream",
     "text": [
      "Epoch 1/50\n",
      "21/21 [==============================] - 162s 8s/step - loss: 0.6533 - binary_accuracy: 0.6462 - val_loss: 0.6371 - val_binary_accuracy: 0.5640\n",
      "Epoch 2/50\n",
      "21/21 [==============================] - 143s 7s/step - loss: 0.6463 - binary_accuracy: 0.6637 - val_loss: 0.6386 - val_binary_accuracy: 0.5600\n",
      "Epoch 3/50\n",
      "21/21 [==============================] - 144s 7s/step - loss: 0.6394 - binary_accuracy: 0.6796 - val_loss: 0.6339 - val_binary_accuracy: 0.7040\n",
      "Epoch 4/50\n",
      "21/21 [==============================] - 138s 7s/step - loss: 0.6345 - binary_accuracy: 0.6808 - val_loss: 0.6301 - val_binary_accuracy: 0.6920\n",
      "Epoch 5/50\n",
      "21/21 [==============================] - 145s 7s/step - loss: 0.6329 - binary_accuracy: 0.6811 - val_loss: 0.6328 - val_binary_accuracy: 0.6880\n",
      "Epoch 6/50\n",
      "21/21 [==============================] - 144s 7s/step - loss: 0.6308 - binary_accuracy: 0.6884 - val_loss: 0.6316 - val_binary_accuracy: 0.6880\n",
      "Epoch 7/50\n",
      "21/21 [==============================] - ETA: 0s - loss: 0.6237 - binary_accuracy: 0.7053\n",
      "Epoch 00007: ReduceLROnPlateau reducing learning rate to 9.999999747378752e-06.\n",
      "21/21 [==============================] - 145s 7s/step - loss: 0.6237 - binary_accuracy: 0.7053 - val_loss: 0.6342 - val_binary_accuracy: 0.6920\n",
      "Epoch 8/50\n",
      "21/21 [==============================] - 138s 7s/step - loss: 0.6230 - binary_accuracy: 0.7017 - val_loss: 0.6332 - val_binary_accuracy: 0.6960\n",
      "Epoch 9/50\n",
      "21/21 [==============================] - 143s 7s/step - loss: 0.6221 - binary_accuracy: 0.7086 - val_loss: 0.6349 - val_binary_accuracy: 0.6840\n",
      "Epoch 10/50\n",
      "21/21 [==============================] - ETA: 0s - loss: 0.6170 - binary_accuracy: 0.7158\n",
      "Epoch 00010: ReduceLROnPlateau reducing learning rate to 9.999999747378752e-07.\n",
      "21/21 [==============================] - 143s 7s/step - loss: 0.6170 - binary_accuracy: 0.7158 - val_loss: 0.6335 - val_binary_accuracy: 0.6840\n",
      "Epoch 11/50\n",
      "21/21 [==============================] - 145s 7s/step - loss: 0.6137 - binary_accuracy: 0.7279 - val_loss: 0.6330 - val_binary_accuracy: 0.6960\n",
      "Epoch 12/50\n",
      "21/21 [==============================] - 137s 7s/step - loss: 0.6163 - binary_accuracy: 0.7158 - val_loss: 0.6321 - val_binary_accuracy: 0.6920\n",
      "Epoch 13/50\n",
      "21/21 [==============================] - 139s 7s/step - loss: 0.6200 - binary_accuracy: 0.7101 - val_loss: 0.6293 - val_binary_accuracy: 0.7000\n",
      "Epoch 14/50\n",
      "21/21 [==============================] - 138s 7s/step - loss: 0.6159 - binary_accuracy: 0.7146 - val_loss: 0.6284 - val_binary_accuracy: 0.7000\n",
      "Epoch 15/50\n",
      "21/21 [==============================] - 139s 7s/step - loss: 0.6166 - binary_accuracy: 0.7179 - val_loss: 0.6313 - val_binary_accuracy: 0.6880\n",
      "Epoch 16/50\n",
      "21/21 [==============================] - 137s 7s/step - loss: 0.6147 - binary_accuracy: 0.7164 - val_loss: 0.6316 - val_binary_accuracy: 0.6960\n",
      "Epoch 17/50\n",
      "21/21 [==============================] - ETA: 0s - loss: 0.6153 - binary_accuracy: 0.7216\n",
      "Epoch 00017: ReduceLROnPlateau reducing learning rate to 9.999999974752428e-08.\n",
      "21/21 [==============================] - 139s 7s/step - loss: 0.6153 - binary_accuracy: 0.7216 - val_loss: 0.6334 - val_binary_accuracy: 0.6880\n",
      "Epoch 18/50\n",
      "21/21 [==============================] - 141s 7s/step - loss: 0.6165 - binary_accuracy: 0.7198 - val_loss: 0.6320 - val_binary_accuracy: 0.7040\n",
      "Epoch 19/50\n",
      "21/21 [==============================] - 139s 7s/step - loss: 0.6155 - binary_accuracy: 0.7234 - val_loss: 0.6311 - val_binary_accuracy: 0.6840\n",
      "Epoch 20/50\n",
      "21/21 [==============================] - ETA: 0s - loss: 0.6183 - binary_accuracy: 0.7122\n",
      "Epoch 00020: ReduceLROnPlateau reducing learning rate to 1.0000000116860975e-08.\n",
      "21/21 [==============================] - 136s 6s/step - loss: 0.6183 - binary_accuracy: 0.7122 - val_loss: 0.6326 - val_binary_accuracy: 0.6920\n",
      "Epoch 21/50\n",
      "21/21 [==============================] - 140s 7s/step - loss: 0.6155 - binary_accuracy: 0.7183 - val_loss: 0.6313 - val_binary_accuracy: 0.6920\n",
      "Epoch 22/50\n",
      "21/21 [==============================] - 142s 7s/step - loss: 0.6184 - binary_accuracy: 0.7201 - val_loss: 0.6323 - val_binary_accuracy: 0.6800\n",
      "Epoch 23/50\n",
      "21/21 [==============================] - 140s 7s/step - loss: 0.6187 - binary_accuracy: 0.7179 - val_loss: 0.6262 - val_binary_accuracy: 0.7200\n",
      "Epoch 24/50\n",
      "21/21 [==============================] - 135s 6s/step - loss: 0.6149 - binary_accuracy: 0.7134 - val_loss: 0.6330 - val_binary_accuracy: 0.6920\n",
      "Epoch 25/50\n",
      "21/21 [==============================] - 141s 7s/step - loss: 0.6183 - binary_accuracy: 0.7122 - val_loss: 0.6304 - val_binary_accuracy: 0.6960\n",
      "Epoch 26/50\n",
      "21/21 [==============================] - ETA: 0s - loss: 0.6152 - binary_accuracy: 0.7234\n",
      "Epoch 00026: ReduceLROnPlateau reducing learning rate to 9.999999939225292e-10.\n",
      "21/21 [==============================] - 139s 7s/step - loss: 0.6152 - binary_accuracy: 0.7234 - val_loss: 0.6342 - val_binary_accuracy: 0.6840\n",
      "Epoch 27/50\n",
      "21/21 [==============================] - 141s 7s/step - loss: 0.6150 - binary_accuracy: 0.7198 - val_loss: 0.6351 - val_binary_accuracy: 0.6840\n",
      "Epoch 28/50\n",
      "21/21 [==============================] - 135s 6s/step - loss: 0.6176 - binary_accuracy: 0.7131 - val_loss: 0.6286 - val_binary_accuracy: 0.6920\n",
      "Epoch 29/50\n",
      "21/21 [==============================] - ETA: 0s - loss: 0.6177 - binary_accuracy: 0.7155\n",
      "Epoch 00029: ReduceLROnPlateau reducing learning rate to 9.999999717180686e-11.\n",
      "21/21 [==============================] - 142s 7s/step - loss: 0.6177 - binary_accuracy: 0.7155 - val_loss: 0.6317 - val_binary_accuracy: 0.6920\n",
      "Epoch 30/50\n",
      "21/21 [==============================] - 140s 7s/step - loss: 0.6187 - binary_accuracy: 0.7101 - val_loss: 0.6298 - val_binary_accuracy: 0.7040\n",
      "Epoch 31/50\n",
      "21/21 [==============================] - 142s 7s/step - loss: 0.6194 - binary_accuracy: 0.7098 - val_loss: 0.6376 - val_binary_accuracy: 0.6800\n",
      "Epoch 32/50\n",
      "21/21 [==============================] - ETA: 0s - loss: 0.6189 - binary_accuracy: 0.7107\n",
      "Epoch 00032: ReduceLROnPlateau reducing learning rate to 9.99999943962493e-12.\n",
      "21/21 [==============================] - 137s 7s/step - loss: 0.6189 - binary_accuracy: 0.7107 - val_loss: 0.6309 - val_binary_accuracy: 0.6960\n",
      "Epoch 33/50\n",
      "21/21 [==============================] - 142s 7s/step - loss: 0.6181 - binary_accuracy: 0.7056 - val_loss: 0.6309 - val_binary_accuracy: 0.6960\n",
      "Epoch 00033: early stopping\n"
     ]
    }
   ],
   "source": [
    "history = model.fit_generator(train_generator, steps_per_epoch=steps_per_epoch, epochs=NUM_EPOCHS, verbose=1,\n",
    "                        callbacks=callbacks_list, validation_data=val_generator, \n",
    "                        validation_steps=validation_steps, class_weight=None, workers=1, initial_epoch=0)"
   ]
  },
  {
   "cell_type": "markdown",
   "metadata": {
    "papermill": {
     "duration": 0.344765,
     "end_time": "2021-01-09T15:54:38.181372",
     "exception": false,
     "start_time": "2021-01-09T15:54:37.836607",
     "status": "completed"
    },
    "tags": []
   },
   "source": [
    "Plot the train and validation loss and accuracies"
   ]
  },
  {
   "cell_type": "code",
   "execution_count": 13,
   "metadata": {
    "execution": {
     "iopub.execute_input": "2021-01-09T15:54:38.888854Z",
     "iopub.status.busy": "2021-01-09T15:54:38.887840Z",
     "iopub.status.idle": "2021-01-09T15:54:39.416959Z",
     "shell.execute_reply": "2021-01-09T15:54:39.417571Z"
    },
    "papermill": {
     "duration": 0.895369,
     "end_time": "2021-01-09T15:54:39.417739",
     "exception": false,
     "start_time": "2021-01-09T15:54:38.522370",
     "status": "completed"
    },
    "tags": []
   },
   "outputs": [
    {
     "data": {
      "image/png": "[encoded data removed]",
      "text/plain": [
       "<Figure size 432x288 with 1 Axes>"
      ]
     },
     "metadata": {
      "needs_background": "light"
     },
     "output_type": "display_data"
    },
    {
     "data": {
      "image/png": "[encoded data removed]",
      "text/plain": [
       "<Figure size 432x288 with 1 Axes>"
      ]
     },
     "metadata": {
      "needs_background": "light"
     },
     "output_type": "display_data"
    }
   ],
   "source": [
    "history_frame = pd.DataFrame(history.history)\n",
    "history_frame.loc[:, ['loss', 'val_loss']].plot()\n",
    "history_frame.loc[:, ['binary_accuracy', 'val_binary_accuracy']].plot();"
   ]
  },
  {
   "cell_type": "code",
   "execution_count": 14,
   "metadata": {
    "execution": {
     "iopub.execute_input": "2021-01-09T15:54:40.196430Z",
     "iopub.status.busy": "2021-01-09T15:54:40.195571Z",
     "iopub.status.idle": "2021-01-09T15:54:40.200618Z",
     "shell.execute_reply": "2021-01-09T15:54:40.201155Z"
    },
    "papermill": {
     "duration": 0.397673,
     "end_time": "2021-01-09T15:54:40.201304",
     "exception": false,
     "start_time": "2021-01-09T15:54:39.803631",
     "status": "completed"
    },
    "tags": []
   },
   "outputs": [
    {
     "name": "stdout",
     "output_type": "stream",
     "text": [
      "Total execution time is : 81 minutes\n"
     ]
    }
   ],
   "source": [
    "# Display the exeuction time\n",
    "print('Total execution time is :',round((time.time() - start_time)/60),'minutes')"
   ]
  }
 ],
 "metadata": {
  "kernelspec": {
   "display_name": "Python 3",
   "language": "python",
   "name": "python3"
  },
  "language_info": {
   "codemirror_mode": {
    "name": "ipython",
    "version": 3
   },
   "file_extension": ".py",
   "mimetype": "text/x-python",
   "name": "python",
   "nbconvert_exporter": "python",
   "pygments_lexer": "ipython3",
   "version": "3.7.6"
  },
  "papermill": {
   "duration": 4881.72662,
   "end_time": "2021-01-09T15:54:41.907620",
   "environment_variables": {},
   "exception": null,
   "input_path": "__notebook__.ipynb",
   "output_path": "__notebook__.ipynb",
   "parameters": {},
   "start_time": "2021-01-09T14:33:20.181000",
   "version": "2.1.0"
  }
 },
 "nbformat": 4,
 "nbformat_minor": 4
}
