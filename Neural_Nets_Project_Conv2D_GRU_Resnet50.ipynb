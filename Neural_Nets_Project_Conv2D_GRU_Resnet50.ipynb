{
 "cells": [
  {
   "cell_type": "markdown",
   "metadata": {
    "papermill": {
     "duration": 0.017708,
     "end_time": "2021-01-09T00:14:56.470298",
     "exception": false,
     "start_time": "2021-01-09T00:14:56.452590",
     "status": "completed"
    },
    "tags": []
   },
   "source": [
    "# Gesture Recognition\n",
    "In this group project, you are going to build a CNN-RNN model with Resnet50 that will be able to predict the 5 gestures correctly. Please import the following libraries to get started."
   ]
  },
  {
   "cell_type": "code",
   "execution_count": 1,
   "metadata": {
    "execution": {
     "iopub.execute_input": "2021-01-09T00:14:56.511099Z",
     "iopub.status.busy": "2021-01-09T00:14:56.510265Z",
     "iopub.status.idle": "2021-01-09T00:14:56.513290Z",
     "shell.execute_reply": "2021-01-09T00:14:56.512806Z"
    },
    "papermill": {
     "duration": 0.026207,
     "end_time": "2021-01-09T00:14:56.513403",
     "exception": false,
     "start_time": "2021-01-09T00:14:56.487196",
     "status": "completed"
    },
    "tags": []
   },
   "outputs": [],
   "source": [
    "import numpy as np\n",
    "import pandas as pd\n",
    "import os\n",
    "import datetime\n",
    "import time\n",
    "import warnings\n",
    "warnings.filterwarnings('ignore')\n",
    "\n",
    "start_time=time.time()"
   ]
  },
  {
   "cell_type": "markdown",
   "metadata": {
    "papermill": {
     "duration": 0.016295,
     "end_time": "2021-01-09T00:14:56.546134",
     "exception": false,
     "start_time": "2021-01-09T00:14:56.529839",
     "status": "completed"
    },
    "tags": []
   },
   "source": [
    "We set the random seed so that the results don't vary drastically."
   ]
  },
  {
   "cell_type": "code",
   "execution_count": 2,
   "metadata": {
    "execution": {
     "iopub.execute_input": "2021-01-09T00:14:56.586233Z",
     "iopub.status.busy": "2021-01-09T00:14:56.585599Z",
     "iopub.status.idle": "2021-01-09T00:15:03.595977Z",
     "shell.execute_reply": "2021-01-09T00:15:03.596469Z"
    },
    "papermill": {
     "duration": 7.03414,
     "end_time": "2021-01-09T00:15:03.596625",
     "exception": false,
     "start_time": "2021-01-09T00:14:56.562485",
     "status": "completed"
    },
    "tags": []
   },
   "outputs": [
    {
     "name": "stdout",
     "output_type": "stream",
     "text": [
      "Tensorflow version:  2.3.1\n",
      "Default GPU Device:/device:GPU:0\n"
     ]
    }
   ],
   "source": [
    "np.random.seed(30)\n",
    "import random as rn\n",
    "rn.seed(30)\n",
    "from tensorflow.keras import backend as K\n",
    "import tensorflow as tf\n",
    "print('Tensorflow version: ',tf.__version__)\n",
    "tf.random.set_seed(30)\n",
    "if tf.test.gpu_device_name():\n",
    "    print('Default GPU Device:{}'.format(tf.test.gpu_device_name()))\n",
    "else:\n",
    "    print(\"Please install GPU version of TF\")"
   ]
  },
  {
   "cell_type": "markdown",
   "metadata": {
    "papermill": {
     "duration": 0.016505,
     "end_time": "2021-01-09T00:15:03.630181",
     "exception": false,
     "start_time": "2021-01-09T00:15:03.613676",
     "status": "completed"
    },
    "tags": []
   },
   "source": [
    "In this block, you read the folder names for training and validation. You also set the `batch_size` here. Note that you set the batch size in such a way that you are able to use the GPU in full capacity. You keep increasing the batch size until the machine throws an error."
   ]
  },
  {
   "cell_type": "code",
   "execution_count": 3,
   "metadata": {
    "execution": {
     "iopub.execute_input": "2021-01-09T00:15:03.670579Z",
     "iopub.status.busy": "2021-01-09T00:15:03.669873Z",
     "iopub.status.idle": "2021-01-09T00:15:03.687820Z",
     "shell.execute_reply": "2021-01-09T00:15:03.687153Z"
    },
    "papermill": {
     "duration": 0.041044,
     "end_time": "2021-01-09T00:15:03.687937",
     "exception": false,
     "start_time": "2021-01-09T00:15:03.646893",
     "status": "completed"
    },
    "tags": []
   },
   "outputs": [
    {
     "name": "stdout",
     "output_type": "stream",
     "text": [
      "Number of frames being considered : 15\n"
     ]
    }
   ],
   "source": [
    "BASE_PATH='../input/untouched-gesture-dataset'\n",
    "#BASE_PATH='.'\n",
    "train_doc = np.random.permutation(open(BASE_PATH+'/Project_data/train.csv').readlines())\n",
    "val_doc = np.random.permutation(open(BASE_PATH+'/Project_data/val.csv').readlines())\n",
    "BATCH_SIZE = 32 #experiment with the batch size\n",
    "IMG_HEIGHT = 120\n",
    "IMG_WIDTH = 120\n",
    "LEARNING_RATE=0.0001\n",
    "FRAMES=len(list(range(1,30,2)))\n",
    "NUM_EPOCHS = 50\n",
    "print('Number of frames being considered :',FRAMES)"
   ]
  },
  {
   "cell_type": "markdown",
   "metadata": {
    "papermill": {
     "duration": 0.017087,
     "end_time": "2021-01-09T00:15:03.725203",
     "exception": false,
     "start_time": "2021-01-09T00:15:03.708116",
     "status": "completed"
    },
    "tags": []
   },
   "source": [
    "## Generator\n",
    "This is one of the most important part of the code. The overall structure of the generator has been given. In the generator, you are going to preprocess the images as you have images of 2 different dimensions as well as create a batch of video frames. You have to experiment with `img_idx`, `y`,`z` and normalization such that you get high accuracy."
   ]
  },
  {
   "cell_type": "code",
   "execution_count": 4,
   "metadata": {
    "execution": {
     "iopub.execute_input": "2021-01-09T00:15:03.774728Z",
     "iopub.status.busy": "2021-01-09T00:15:03.764228Z",
     "iopub.status.idle": "2021-01-09T00:15:03.801297Z",
     "shell.execute_reply": "2021-01-09T00:15:03.800737Z"
    },
    "papermill": {
     "duration": 0.05861,
     "end_time": "2021-01-09T00:15:03.801434",
     "exception": false,
     "start_time": "2021-01-09T00:15:03.742824",
     "status": "completed"
    },
    "tags": []
   },
   "outputs": [],
   "source": [
    "def generator(source_path, folder_list, batch_size):\n",
    "    #print( 'Source path = ', source_path, '; batch size =', batch_size)\n",
    "    # We will consider frames 10 to 20 for training\n",
    "    img_idx = range(0,30,2) #create a list of image numbers you want to use for a particular video\n",
    "    while True:\n",
    "        t = np.random.permutation(folder_list)\n",
    "        num_batches = int(len(folder_list) / batch_size) # calculate the number of batches\n",
    "        for batch in range(num_batches): # we iterate over the number of batches\n",
    "            # second parameter x set to len(img_idx) list - indicates no. of images we want to use for each video\n",
    "            # third and fourth parameters (y,z) indicate the final size of input image\n",
    "            batch_data = np.zeros((batch_size,len(img_idx),120,120,3)) # x is the number of images you use for each video, (y,z) is the final size of the input images and 3 is the number of channels RGB\n",
    "            batch_labels = np.zeros((batch_size,5)) # batch_labels is the one hot representation of the output\n",
    "            for folder in range(batch_size): # iterate over the batch_size\n",
    "                imgs = os.listdir(source_path+'/'+ t[folder + (batch*batch_size)].split(';')[0]) # read all the images in the folder\n",
    "                for idx,item in enumerate(img_idx): #  Iterate iver the frames/images of a folder to read them in\n",
    "                    image = tf.io.read_file(source_path+'/'+ t[folder + (batch*batch_size)].strip().split(';')[0]+'/'+imgs[item])\n",
    "                    image = tf.io.decode_jpeg(image,channels=3)\n",
    "                    #crop the images and resize them. Note that the images are of 2 different shape \n",
    "                    #and the conv3D will throw error if the inputs in a batch have different shapes\n",
    "                    # We will resize all the images to a standard shape of (120,120)\n",
    "                    # We will use distinct normalization methods for different channel\n",
    "                    im_resized = tf.image.resize(image,size=[IMG_HEIGHT,IMG_WIDTH],method='nearest') \n",
    "                    im_resized = tf.image.resize(tf.image.central_crop(im_resized,0.9),size=[IMG_HEIGHT,IMG_WIDTH],method='nearest')\n",
    "                    im_resized_0 = im_resized[:,:,0]\n",
    "                    im_resized_1 = im_resized[:,:,1]\n",
    "                    im_resized_2 = im_resized[:,:,2]\n",
    "                    batch_data[folder,idx,:,:,0] = (im_resized_0 - np.min(im_resized_0))/ (np.max(im_resized_0) - np.min(im_resized_0)) #normalise and feed in the image\n",
    "                    batch_data[folder,idx,:,:,1] = (im_resized_1 - np.percentile(im_resized_1,5))/ (np.percentile(im_resized_1,95) - np.percentile(im_resized_1,5)) #normalise and feed in the image\n",
    "                    batch_data[folder,idx,:,:,2] = im_resized_2/255 #normalise and feed in the image                    \n",
    "                batch_labels[folder, int(t[folder + (batch*batch_size)].strip().split(';')[2])] = 1\n",
    "            yield batch_data, batch_labels #you yield the batch_data and the batch_labels, remember what does yield do\n",
    "\n",
    "        \n",
    "        # write the code for the remaining data points which are left after full batches\n",
    "        if len(folder_list) != (num_batches * batch_size):\n",
    "            n_batch_size = len(folder_list) - (num_batches * batch_size)\n",
    "            batch_data = np.zeros((n_batch_size,len(img_idx),120,120,3))\n",
    "            batch_labels = np.zeros((n_batch_size,5))\n",
    "            for folder in range(n_batch_size): # iterate over the batch_size\n",
    "                imgs = os.listdir(source_path+'/'+ t[folder + (num_batches*n_batch_size)].split(';')[0]) # read all the images in the folder\n",
    "                for idx,item in enumerate(img_idx): #  Iterate iver the frames/images of a folder to read them in\n",
    "                    image = tf.io.read_file(source_path+'/'+ t[folder + (num_batches*n_batch_size)].strip().split(';')[0]+'/'+imgs[item])\n",
    "                    image = tf.io.decode_jpeg(image,channels=3)\n",
    "                    #crop the images and resize them. Note that the images are of 2 different shape \n",
    "                    #and the conv3D will throw error if the inputs in a batch have different shapes\n",
    "                    # We will resize all the images to a standard shape of (120,120)\n",
    "                    # We will use distinct normalization methods for different channel\n",
    "                    im_resized = tf.image.resize(image,size=[IMG_HEIGHT,IMG_WIDTH],method='nearest') \n",
    "                    im_resized = tf.image.resize(tf.image.central_crop(im_resized,0.9),size=[IMG_HEIGHT,IMG_WIDTH],method='nearest')\n",
    "                    im_resized_0 = im_resized[:,:,0]\n",
    "                    im_resized_1 = im_resized[:,:,1]\n",
    "                    im_resized_2 = im_resized[:,:,2]\n",
    "                    batch_data[folder,idx,:,:,0] = (im_resized_0 - np.min(im_resized_0))/ (np.max(im_resized_0) - np.min(im_resized_0)) #normalise and feed in the image\n",
    "                    batch_data[folder,idx,:,:,1] = (im_resized_1 - np.percentile(im_resized_1,5))/ (np.percentile(im_resized_1,95) - np.percentile(im_resized_1,5)) #normalise and feed in the image\n",
    "                    batch_data[folder,idx,:,:,2] = im_resized_2/255 #normalise and feed in the image   \n",
    "                    \n",
    "                batch_labels[folder, int(t[folder + (num_batches*n_batch_size)].strip().split(';')[2])] = 1\n",
    "            yield batch_data, batch_labels #you yield the batch_data and the batch_labels, remember what does yield do\n",
    "        "
   ]
  },
  {
   "cell_type": "markdown",
   "metadata": {
    "papermill": {
     "duration": 0.017068,
     "end_time": "2021-01-09T00:15:03.835949",
     "exception": false,
     "start_time": "2021-01-09T00:15:03.818881",
     "status": "completed"
    },
    "tags": []
   },
   "source": [
    "Note here that a video is represented above in the generator as (number of images, height, width, number of channels). Take this into consideration while creating the model architecture."
   ]
  },
  {
   "cell_type": "code",
   "execution_count": 5,
   "metadata": {
    "execution": {
     "iopub.execute_input": "2021-01-09T00:15:03.880768Z",
     "iopub.status.busy": "2021-01-09T00:15:03.880087Z",
     "iopub.status.idle": "2021-01-09T00:15:55.923397Z",
     "shell.execute_reply": "2021-01-09T00:15:55.921873Z"
    },
    "papermill": {
     "duration": 52.070102,
     "end_time": "2021-01-09T00:15:55.923525",
     "exception": false,
     "start_time": "2021-01-09T00:15:03.853423",
     "status": "completed"
    },
    "tags": []
   },
   "outputs": [
    {
     "name": "stdout",
     "output_type": "stream",
     "text": [
      "# training sequences = 663\n",
      "# training batches = 22\n",
      "# validation sequences = 100\n"
     ]
    }
   ],
   "source": [
    "from PIL import Image\n",
    "\n",
    "curr_dt_time = datetime.datetime.now()\n",
    "train_path = BASE_PATH+'/Project_data/train'\n",
    "val_path = BASE_PATH+'/Project_data/val'\n",
    "num_train_sequences = len(train_doc)\n",
    "print('# training sequences =', num_train_sequences)\n",
    "print('# training batches =', int(num_train_sequences/30))\n",
    "num_val_sequences = len(val_doc)\n",
    "print('# validation sequences =', num_val_sequences)\n",
    "\n",
    "img_sizes=[]\n",
    "for i in os.listdir(train_path):\n",
    "    if not(i.startswith('.')):\n",
    "        file_path = train_path + \"/\" + i\n",
    "        for j in os.listdir(file_path):\n",
    "            if not(j.startswith('.')):\n",
    "                im_path = file_path + \"/\" + j\n",
    "                im = Image.open(im_path)\n",
    "                img_sizes.append(im.size)"
   ]
  },
  {
   "cell_type": "code",
   "execution_count": 6,
   "metadata": {
    "execution": {
     "iopub.execute_input": "2021-01-09T00:15:55.970225Z",
     "iopub.status.busy": "2021-01-09T00:15:55.968679Z",
     "iopub.status.idle": "2021-01-09T00:15:55.973280Z",
     "shell.execute_reply": "2021-01-09T00:15:55.972797Z"
    },
    "papermill": {
     "duration": 0.030714,
     "end_time": "2021-01-09T00:15:55.973390",
     "exception": false,
     "start_time": "2021-01-09T00:15:55.942676",
     "status": "completed"
    },
    "tags": []
   },
   "outputs": [
    {
     "data": {
      "text/plain": [
       "{(160, 120), (360, 360)}"
      ]
     },
     "execution_count": 6,
     "metadata": {},
     "output_type": "execute_result"
    }
   ],
   "source": [
    "set(img_sizes)"
   ]
  },
  {
   "cell_type": "markdown",
   "metadata": {
    "papermill": {
     "duration": 0.018229,
     "end_time": "2021-01-09T00:15:56.009978",
     "exception": false,
     "start_time": "2021-01-09T00:15:55.991749",
     "status": "completed"
    },
    "tags": []
   },
   "source": [
    "As we can see we have two shapes of images (160,120) and (360,360).  We will standardize the image shapes to (120,120)"
   ]
  },
  {
   "cell_type": "markdown",
   "metadata": {
    "papermill": {
     "duration": 0.018043,
     "end_time": "2021-01-09T00:15:56.046631",
     "exception": false,
     "start_time": "2021-01-09T00:15:56.028588",
     "status": "completed"
    },
    "tags": []
   },
   "source": [
    "## Model\n",
    "Here you make the model using different functionalities that Keras provides. Remember to use `Conv3D` and `MaxPooling3D` and not `Conv2D` and `Maxpooling2D` for a 3D convolution model. You would want to use `TimeDistributed` while building a Conv2D + RNN model. Also remember that the last layer is the softmax. Design the network in such a way that the model is able to give good accuracy on the least number of parameters so that it can fit in the memory of the webcam."
   ]
  },
  {
   "cell_type": "markdown",
   "metadata": {
    "papermill": {
     "duration": 0.018164,
     "end_time": "2021-01-09T00:15:56.084588",
     "exception": false,
     "start_time": "2021-01-09T00:15:56.066424",
     "status": "completed"
    },
    "tags": []
   },
   "source": [
    "#### Conv2D + RNN Model using ResNet50 pretrained model"
   ]
  },
  {
   "cell_type": "code",
   "execution_count": 7,
   "metadata": {
    "execution": {
     "iopub.execute_input": "2021-01-09T00:15:56.139818Z",
     "iopub.status.busy": "2021-01-09T00:15:56.139204Z",
     "iopub.status.idle": "2021-01-09T00:16:00.537062Z",
     "shell.execute_reply": "2021-01-09T00:16:00.535980Z"
    },
    "papermill": {
     "duration": 4.434038,
     "end_time": "2021-01-09T00:16:00.537196",
     "exception": false,
     "start_time": "2021-01-09T00:15:56.103158",
     "status": "completed"
    },
    "tags": []
   },
   "outputs": [
    {
     "name": "stdout",
     "output_type": "stream",
     "text": [
      "Downloading data from https://storage.googleapis.com/tensorflow/keras-applications/resnet/resnet50_weights_tf_dim_ordering_tf_kernels_notop.h5\n",
      "94773248/94765736 [==============================] - 1s 0us/step\n"
     ]
    }
   ],
   "source": [
    "from tensorflow.keras.models import Sequential, Model\n",
    "from tensorflow.keras.layers import Dense, GRU, LSTM, Flatten, TimeDistributed, Flatten, BatchNormalization, Activation, Dropout\n",
    "from tensorflow.keras.layers import Conv3D, MaxPooling3D, Conv2D, MaxPooling2D\n",
    "from tensorflow.keras.callbacks import ModelCheckpoint, ReduceLROnPlateau, EarlyStopping\n",
    "from tensorflow.keras import optimizers\n",
    "from tensorflow.keras import initializers\n",
    "from tensorflow.keras import regularizers\n",
    "from tensorflow.keras.applications.resnet50 import ResNet50\n",
    "\n",
    "#write your model here\n",
    "nb_filters = [8,16,32,64]\n",
    "nb_dense = [1000, 500, 8, 5]\n",
    "input_shape = (FRAMES, IMG_HEIGHT,IMG_WIDTH, 3)\n",
    "\n",
    "pretrained_model = ResNet50(include_top=False, weights='imagenet', input_shape=(IMG_HEIGHT,IMG_WIDTH,3))\n",
    "x = pretrained_model.output\n",
    "x = Flatten()(x)\n",
    "\n",
    "features = Dense(64, activation='relu')(x)\n",
    "conv_model = Model(pretrained_model.input, features)\n",
    "\n",
    "for layer in pretrained_model.layers:\n",
    "    layer.trainable = False\n",
    "    \n",
    "model = Sequential()\n",
    "model.add(TimeDistributed(conv_model, input_shape=input_shape))\n",
    "model.add(GRU(32, return_sequences=True, dropout=0.5))\n",
    "model.add(GRU(16, dropout=0.5))\n",
    "model.add(Dense(nb_dense[2], activation='relu'))\n",
    "model.add(Dense(nb_dense[3], activation='sigmoid'))"
   ]
  },
  {
   "cell_type": "markdown",
   "metadata": {
    "papermill": {
     "duration": 0.022702,
     "end_time": "2021-01-09T00:16:00.583297",
     "exception": false,
     "start_time": "2021-01-09T00:16:00.560595",
     "status": "completed"
    },
    "tags": []
   },
   "source": [
    "Now that you have written the model, the next step is to `compile` the model. When you print the `summary` of the model, you'll see the total number of parameters you have to train."
   ]
  },
  {
   "cell_type": "code",
   "execution_count": 8,
   "metadata": {
    "execution": {
     "iopub.execute_input": "2021-01-09T00:16:00.645177Z",
     "iopub.status.busy": "2021-01-09T00:16:00.644298Z",
     "iopub.status.idle": "2021-01-09T00:16:00.677562Z",
     "shell.execute_reply": "2021-01-09T00:16:00.678077Z"
    },
    "papermill": {
     "duration": 0.071738,
     "end_time": "2021-01-09T00:16:00.678202",
     "exception": false,
     "start_time": "2021-01-09T00:16:00.606464",
     "status": "completed"
    },
    "tags": []
   },
   "outputs": [
    {
     "name": "stdout",
     "output_type": "stream",
     "text": [
      "Model: \"sequential\"\n",
      "_________________________________________________________________\n",
      "Layer (type)                 Output Shape              Param #   \n",
      "=================================================================\n",
      "time_distributed (TimeDistri (None, 15, 64)            25684928  \n",
      "_________________________________________________________________\n",
      "gru (GRU)                    (None, 15, 32)            9408      \n",
      "_________________________________________________________________\n",
      "gru_1 (GRU)                  (None, 16)                2400      \n",
      "_________________________________________________________________\n",
      "dense_1 (Dense)              (None, 8)                 136       \n",
      "_________________________________________________________________\n",
      "dense_2 (Dense)              (None, 5)                 45        \n",
      "=================================================================\n",
      "Total params: 25,696,917\n",
      "Trainable params: 2,109,205\n",
      "Non-trainable params: 23,587,712\n",
      "_________________________________________________________________\n",
      "None\n"
     ]
    }
   ],
   "source": [
    "optimizer=optimizers.Adam(lr=LEARNING_RATE)\n",
    "model.compile(optimizer=optimizer, loss='binary_crossentropy', metrics=['binary_accuracy']) \n",
    "print (model.summary())"
   ]
  },
  {
   "cell_type": "markdown",
   "metadata": {
    "papermill": {
     "duration": 0.102014,
     "end_time": "2021-01-09T00:16:00.803582",
     "exception": false,
     "start_time": "2021-01-09T00:16:00.701568",
     "status": "completed"
    },
    "tags": []
   },
   "source": [
    "Let us create the `train_generator` and the `val_generator` which will be used in `.fit_generator`."
   ]
  },
  {
   "cell_type": "code",
   "execution_count": 9,
   "metadata": {
    "execution": {
     "iopub.execute_input": "2021-01-09T00:16:00.898831Z",
     "iopub.status.busy": "2021-01-09T00:16:00.897933Z",
     "iopub.status.idle": "2021-01-09T00:16:00.902041Z",
     "shell.execute_reply": "2021-01-09T00:16:00.902738Z"
    },
    "papermill": {
     "duration": 0.049325,
     "end_time": "2021-01-09T00:16:00.902936",
     "exception": false,
     "start_time": "2021-01-09T00:16:00.853611",
     "status": "completed"
    },
    "tags": []
   },
   "outputs": [],
   "source": [
    "train_generator = generator(train_path, train_doc, BATCH_SIZE)\n",
    "val_generator = generator(val_path, val_doc, BATCH_SIZE)"
   ]
  },
  {
   "cell_type": "code",
   "execution_count": 10,
   "metadata": {
    "execution": {
     "iopub.execute_input": "2021-01-09T00:16:00.990763Z",
     "iopub.status.busy": "2021-01-09T00:16:00.989849Z",
     "iopub.status.idle": "2021-01-09T00:16:00.995838Z",
     "shell.execute_reply": "2021-01-09T00:16:00.994972Z"
    },
    "papermill": {
     "duration": 0.056274,
     "end_time": "2021-01-09T00:16:00.995996",
     "exception": false,
     "start_time": "2021-01-09T00:16:00.939722",
     "status": "completed"
    },
    "tags": []
   },
   "outputs": [],
   "source": [
    "filepath = 'best_model.h5'\n",
    "\n",
    "mc = ModelCheckpoint(filepath, monitor='val_loss', verbose=1, save_best_only=True, save_weights_only=False, mode='min', save_freq=1)\n",
    "es = EarlyStopping(monitor='val_loss', mode='min', verbose=1, patience=10)\n",
    "lr = ReduceLROnPlateau(monitor='val_loss', factor=0.1, patience=3, verbose=1, mode='min',\n",
    "                        min_delta=0.0001, cooldown=0, min_lr=0) \n",
    "callbacks_list = [mc, lr, es]"
   ]
  },
  {
   "cell_type": "markdown",
   "metadata": {
    "papermill": {
     "duration": 0.085065,
     "end_time": "2021-01-09T00:16:01.123305",
     "exception": false,
     "start_time": "2021-01-09T00:16:01.038240",
     "status": "completed"
    },
    "tags": []
   },
   "source": [
    "The `steps_per_epoch` and `validation_steps` are used by `fit_generator` to decide the number of next() calls it need to make."
   ]
  },
  {
   "cell_type": "code",
   "execution_count": 11,
   "metadata": {
    "execution": {
     "iopub.execute_input": "2021-01-09T00:16:01.205858Z",
     "iopub.status.busy": "2021-01-09T00:16:01.204017Z",
     "iopub.status.idle": "2021-01-09T00:16:01.209671Z",
     "shell.execute_reply": "2021-01-09T00:16:01.210338Z"
    },
    "papermill": {
     "duration": 0.048053,
     "end_time": "2021-01-09T00:16:01.210531",
     "exception": false,
     "start_time": "2021-01-09T00:16:01.162478",
     "status": "completed"
    },
    "tags": []
   },
   "outputs": [],
   "source": [
    "if (num_train_sequences%BATCH_SIZE) == 0:\n",
    "    steps_per_epoch = int(num_train_sequences/BATCH_SIZE)\n",
    "else:\n",
    "    steps_per_epoch = (num_train_sequences//BATCH_SIZE) + 1\n",
    "\n",
    "if (num_val_sequences%BATCH_SIZE) == 0:\n",
    "    validation_steps = int(num_val_sequences/BATCH_SIZE)\n",
    "else:\n",
    "    validation_steps = (num_val_sequences//BATCH_SIZE) + 1"
   ]
  },
  {
   "cell_type": "markdown",
   "metadata": {
    "papermill": {
     "duration": 0.034977,
     "end_time": "2021-01-09T00:16:01.281261",
     "exception": false,
     "start_time": "2021-01-09T00:16:01.246284",
     "status": "completed"
    },
    "tags": []
   },
   "source": [
    "Let us now fit the model. This will start training the model and with the help of the checkpoints, you'll be able to save the model at the end of each epoch."
   ]
  },
  {
   "cell_type": "code",
   "execution_count": 12,
   "metadata": {
    "execution": {
     "iopub.execute_input": "2021-01-09T00:16:01.359914Z",
     "iopub.status.busy": "2021-01-09T00:16:01.359033Z",
     "iopub.status.idle": "2021-01-09T01:24:07.550049Z",
     "shell.execute_reply": "2021-01-09T01:24:07.549298Z"
    },
    "papermill": {
     "duration": 4086.234024,
     "end_time": "2021-01-09T01:24:07.550192",
     "exception": false,
     "start_time": "2021-01-09T00:16:01.316168",
     "status": "completed"
    },
    "tags": []
   },
   "outputs": [
    {
     "name": "stdout",
     "output_type": "stream",
     "text": [
      "Epoch 1/50\n",
      "21/21 [==============================] - 114s 5s/step - loss: 0.6130 - binary_accuracy: 0.6778 - val_loss: 0.5676 - val_binary_accuracy: 0.6840\n",
      "Epoch 2/50\n",
      "21/21 [==============================] - 112s 5s/step - loss: 0.5772 - binary_accuracy: 0.7282 - val_loss: 0.5724 - val_binary_accuracy: 0.6720\n",
      "Epoch 3/50\n",
      "21/21 [==============================] - 109s 5s/step - loss: 0.5648 - binary_accuracy: 0.7578 - val_loss: 0.5488 - val_binary_accuracy: 0.7960\n",
      "Epoch 4/50\n",
      "21/21 [==============================] - 105s 5s/step - loss: 0.5605 - binary_accuracy: 0.7701 - val_loss: 0.5475 - val_binary_accuracy: 0.8000\n",
      "Epoch 5/50\n",
      "21/21 [==============================] - 111s 5s/step - loss: 0.5500 - binary_accuracy: 0.7665 - val_loss: 0.5359 - val_binary_accuracy: 0.8000\n",
      "Epoch 6/50\n",
      "21/21 [==============================] - 110s 5s/step - loss: 0.5456 - binary_accuracy: 0.7885 - val_loss: 0.5273 - val_binary_accuracy: 0.8000\n",
      "Epoch 7/50\n",
      "21/21 [==============================] - 110s 5s/step - loss: 0.5407 - binary_accuracy: 0.7879 - val_loss: 0.5320 - val_binary_accuracy: 0.8000\n",
      "Epoch 8/50\n",
      "21/21 [==============================] - 104s 5s/step - loss: 0.5318 - binary_accuracy: 0.7949 - val_loss: 0.5262 - val_binary_accuracy: 0.8000\n",
      "Epoch 9/50\n",
      "21/21 [==============================] - 110s 5s/step - loss: 0.5295 - binary_accuracy: 0.7961 - val_loss: 0.5227 - val_binary_accuracy: 0.8000\n",
      "Epoch 10/50\n",
      "21/21 [==============================] - 111s 5s/step - loss: 0.5247 - binary_accuracy: 0.7961 - val_loss: 0.5156 - val_binary_accuracy: 0.8000\n",
      "Epoch 11/50\n",
      "21/21 [==============================] - 111s 5s/step - loss: 0.5214 - binary_accuracy: 0.8003 - val_loss: 0.5212 - val_binary_accuracy: 0.8000\n",
      "Epoch 12/50\n",
      "21/21 [==============================] - 106s 5s/step - loss: 0.5178 - binary_accuracy: 0.8003 - val_loss: 0.5104 - val_binary_accuracy: 0.8000\n",
      "Epoch 13/50\n",
      "21/21 [==============================] - 112s 5s/step - loss: 0.5154 - binary_accuracy: 0.7994 - val_loss: 0.5107 - val_binary_accuracy: 0.8000\n",
      "Epoch 14/50\n",
      "21/21 [==============================] - 111s 5s/step - loss: 0.5132 - binary_accuracy: 0.8000 - val_loss: 0.5107 - val_binary_accuracy: 0.8000\n",
      "Epoch 15/50\n",
      "21/21 [==============================] - ETA: 0s - loss: 0.5112 - binary_accuracy: 0.8000\n",
      "Epoch 00015: ReduceLROnPlateau reducing learning rate to 9.999999747378752e-06.\n",
      "21/21 [==============================] - 113s 5s/step - loss: 0.5112 - binary_accuracy: 0.8000 - val_loss: 0.5191 - val_binary_accuracy: 0.8000\n",
      "Epoch 16/50\n",
      "21/21 [==============================] - 110s 5s/step - loss: 0.5074 - binary_accuracy: 0.8009 - val_loss: 0.5088 - val_binary_accuracy: 0.8000\n",
      "Epoch 17/50\n",
      "21/21 [==============================] - 114s 5s/step - loss: 0.5086 - binary_accuracy: 0.7997 - val_loss: 0.5085 - val_binary_accuracy: 0.8000\n",
      "Epoch 18/50\n",
      "21/21 [==============================] - 112s 5s/step - loss: 0.5090 - binary_accuracy: 0.8009 - val_loss: 0.5052 - val_binary_accuracy: 0.8000\n",
      "Epoch 19/50\n",
      "21/21 [==============================] - 114s 5s/step - loss: 0.5101 - binary_accuracy: 0.8003 - val_loss: 0.5016 - val_binary_accuracy: 0.8000\n",
      "Epoch 20/50\n",
      "21/21 [==============================] - 106s 5s/step - loss: 0.5086 - binary_accuracy: 0.8003 - val_loss: 0.5078 - val_binary_accuracy: 0.8000\n",
      "Epoch 21/50\n",
      "21/21 [==============================] - 109s 5s/step - loss: 0.5097 - binary_accuracy: 0.8000 - val_loss: 0.5053 - val_binary_accuracy: 0.8000\n",
      "Epoch 22/50\n",
      "21/21 [==============================] - ETA: 0s - loss: 0.5069 - binary_accuracy: 0.8006\n",
      "Epoch 00022: ReduceLROnPlateau reducing learning rate to 9.999999747378752e-07.\n",
      "21/21 [==============================] - 108s 5s/step - loss: 0.5069 - binary_accuracy: 0.8006 - val_loss: 0.5072 - val_binary_accuracy: 0.8000\n",
      "Epoch 23/50\n",
      "21/21 [==============================] - 109s 5s/step - loss: 0.5088 - binary_accuracy: 0.7991 - val_loss: 0.5060 - val_binary_accuracy: 0.8000\n",
      "Epoch 24/50\n",
      "21/21 [==============================] - 105s 5s/step - loss: 0.5077 - binary_accuracy: 0.8006 - val_loss: 0.5037 - val_binary_accuracy: 0.8000\n",
      "Epoch 25/50\n",
      "21/21 [==============================] - ETA: 0s - loss: 0.5057 - binary_accuracy: 0.7994\n",
      "Epoch 00025: ReduceLROnPlateau reducing learning rate to 9.999999974752428e-08.\n",
      "21/21 [==============================] - 107s 5s/step - loss: 0.5057 - binary_accuracy: 0.7994 - val_loss: 0.5101 - val_binary_accuracy: 0.8000\n",
      "Epoch 26/50\n",
      "21/21 [==============================] - 107s 5s/step - loss: 0.5046 - binary_accuracy: 0.8012 - val_loss: 0.5042 - val_binary_accuracy: 0.8000\n",
      "Epoch 27/50\n",
      "21/21 [==============================] - 107s 5s/step - loss: 0.5087 - binary_accuracy: 0.8000 - val_loss: 0.4973 - val_binary_accuracy: 0.8000\n",
      "Epoch 28/50\n",
      "21/21 [==============================] - 104s 5s/step - loss: 0.5063 - binary_accuracy: 0.7994 - val_loss: 0.5070 - val_binary_accuracy: 0.8000\n",
      "Epoch 29/50\n",
      "21/21 [==============================] - 111s 5s/step - loss: 0.5077 - binary_accuracy: 0.8003 - val_loss: 0.5051 - val_binary_accuracy: 0.8000\n",
      "Epoch 30/50\n",
      "21/21 [==============================] - ETA: 0s - loss: 0.5070 - binary_accuracy: 0.7991\n",
      "Epoch 00030: ReduceLROnPlateau reducing learning rate to 1.0000000116860975e-08.\n",
      "21/21 [==============================] - 112s 5s/step - loss: 0.5070 - binary_accuracy: 0.7991 - val_loss: 0.5036 - val_binary_accuracy: 0.8000\n",
      "Epoch 31/50\n",
      "21/21 [==============================] - 111s 5s/step - loss: 0.5099 - binary_accuracy: 0.7997 - val_loss: 0.5035 - val_binary_accuracy: 0.8000\n",
      "Epoch 32/50\n",
      "21/21 [==============================] - 108s 5s/step - loss: 0.5101 - binary_accuracy: 0.8000 - val_loss: 0.5010 - val_binary_accuracy: 0.8000\n",
      "Epoch 33/50\n",
      "21/21 [==============================] - ETA: 0s - loss: 0.5092 - binary_accuracy: 0.7997\n",
      "Epoch 00033: ReduceLROnPlateau reducing learning rate to 9.999999939225292e-10.\n",
      "21/21 [==============================] - 113s 5s/step - loss: 0.5092 - binary_accuracy: 0.7997 - val_loss: 0.5054 - val_binary_accuracy: 0.8000\n",
      "Epoch 34/50\n",
      "21/21 [==============================] - 112s 5s/step - loss: 0.5060 - binary_accuracy: 0.8000 - val_loss: 0.5110 - val_binary_accuracy: 0.8000\n",
      "Epoch 35/50\n",
      "21/21 [==============================] - 112s 5s/step - loss: 0.5082 - binary_accuracy: 0.8003 - val_loss: 0.5091 - val_binary_accuracy: 0.8000\n",
      "Epoch 36/50\n",
      "21/21 [==============================] - ETA: 0s - loss: 0.5033 - binary_accuracy: 0.8003\n",
      "Epoch 00036: ReduceLROnPlateau reducing learning rate to 9.999999717180686e-11.\n",
      "21/21 [==============================] - 110s 5s/step - loss: 0.5033 - binary_accuracy: 0.8003 - val_loss: 0.5050 - val_binary_accuracy: 0.8000\n",
      "Epoch 37/50\n",
      "21/21 [==============================] - 112s 5s/step - loss: 0.5077 - binary_accuracy: 0.8006 - val_loss: 0.5047 - val_binary_accuracy: 0.8000\n",
      "Epoch 00037: early stopping\n"
     ]
    }
   ],
   "source": [
    "history = model.fit_generator(train_generator, steps_per_epoch=steps_per_epoch, epochs=NUM_EPOCHS, verbose=1,\n",
    "                        callbacks=callbacks_list, validation_data=val_generator, \n",
    "                        validation_steps=validation_steps, class_weight=None, workers=1, initial_epoch=0)"
   ]
  },
  {
   "cell_type": "markdown",
   "metadata": {
    "papermill": {
     "duration": 0.328978,
     "end_time": "2021-01-09T01:24:08.217859",
     "exception": false,
     "start_time": "2021-01-09T01:24:07.888881",
     "status": "completed"
    },
    "tags": []
   },
   "source": [
    "Plot the train and validation loss and accuracies"
   ]
  },
  {
   "cell_type": "code",
   "execution_count": 13,
   "metadata": {
    "execution": {
     "iopub.execute_input": "2021-01-09T01:24:08.938931Z",
     "iopub.status.busy": "2021-01-09T01:24:08.936337Z",
     "iopub.status.idle": "2021-01-09T01:24:09.573947Z",
     "shell.execute_reply": "2021-01-09T01:24:09.574908Z"
    },
    "papermill": {
     "duration": 1.033497,
     "end_time": "2021-01-09T01:24:09.575073",
     "exception": false,
     "start_time": "2021-01-09T01:24:08.541576",
     "status": "completed"
    },
    "tags": []
   },
   "outputs": [
    {
     "data": {
      "image/png": "[encoded data removed]",
      "text/plain": [
       "<Figure size 432x288 with 1 Axes>"
      ]
     },
     "metadata": {
      "needs_background": "light"
     },
     "output_type": "display_data"
    },
    {
     "data": {
      "image/png": "[encoded data removed]",
      "text/plain": [
       "<Figure size 432x288 with 1 Axes>"
      ]
     },
     "metadata": {
      "needs_background": "light"
     },
     "output_type": "display_data"
    }
   ],
   "source": [
    "history_frame = pd.DataFrame(history.history)\n",
    "history_frame.loc[:, ['loss', 'val_loss']].plot()\n",
    "history_frame.loc[:, ['binary_accuracy', 'val_binary_accuracy']].plot();"
   ]
  },
  {
   "cell_type": "code",
   "execution_count": 14,
   "metadata": {
    "execution": {
     "iopub.execute_input": "2021-01-09T01:24:10.264343Z",
     "iopub.status.busy": "2021-01-09T01:24:10.263677Z",
     "iopub.status.idle": "2021-01-09T01:24:10.268133Z",
     "shell.execute_reply": "2021-01-09T01:24:10.268794Z"
    },
    "papermill": {
     "duration": 0.343064,
     "end_time": "2021-01-09T01:24:10.268952",
     "exception": false,
     "start_time": "2021-01-09T01:24:09.925888",
     "status": "completed"
    },
    "tags": []
   },
   "outputs": [
    {
     "name": "stdout",
     "output_type": "stream",
     "text": [
      "Total execution time is : 69 minutes\n"
     ]
    }
   ],
   "source": [
    "# Display the exeuction time\n",
    "print('Total execution time is :',round((time.time() - start_time)/60),'minutes')"
   ]
  }
 ],
 "metadata": {
  "kernelspec": {
   "display_name": "Python 3",
   "language": "python",
   "name": "python3"
  },
  "language_info": {
   "codemirror_mode": {
    "name": "ipython",
    "version": 3
   },
   "file_extension": ".py",
   "mimetype": "text/x-python",
   "name": "python",
   "nbconvert_exporter": "python",
   "pygments_lexer": "ipython3",
   "version": "3.9.1"
  },
  "papermill": {
   "duration": 4160.200422,
   "end_time": "2021-01-09T01:24:12.444954",
   "environment_variables": {},
   "exception": null,
   "input_path": "__notebook__.ipynb",
   "output_path": "__notebook__.ipynb",
   "parameters": {},
   "start_time": "2021-01-09T00:14:52.244532",
   "version": "2.1.0"
  }
 },
 "nbformat": 4,
 "nbformat_minor": 4
}
