{
 "cells": [
  {
   "cell_type": "markdown",
   "metadata": {
    "papermill": {
     "duration": 0.018031,
     "end_time": "2020-12-29T17:48:55.776923",
     "exception": false,
     "start_time": "2020-12-29T17:48:55.758892",
     "status": "completed"
    },
    "tags": []
   },
   "source": [
    "# Gesture Recognition\n",
    "In this group project, you are going to build a 3D Conv model that will be able to predict the 5 gestures correctly. Please import the following libraries to get started."
   ]
  },
  {
   "cell_type": "code",
   "execution_count": 1,
   "metadata": {
    "execution": {
     "iopub.execute_input": "2020-12-29T17:48:55.817139Z",
     "iopub.status.busy": "2020-12-29T17:48:55.816249Z",
     "iopub.status.idle": "2020-12-29T17:48:55.818727Z",
     "shell.execute_reply": "2020-12-29T17:48:55.819311Z"
    },
    "papermill": {
     "duration": 0.025528,
     "end_time": "2020-12-29T17:48:55.819461",
     "exception": false,
     "start_time": "2020-12-29T17:48:55.793933",
     "status": "completed"
    },
    "tags": []
   },
   "outputs": [],
   "source": [
    "import numpy as np\n",
    "import pandas as pd\n",
    "import os\n",
    "import datetime\n",
    "import time\n",
    "import warnings\n",
    "warnings.filterwarnings('ignore')\n",
    "\n",
    "start_time=time.time()"
   ]
  },
  {
   "cell_type": "markdown",
   "metadata": {
    "papermill": {
     "duration": 0.017267,
     "end_time": "2020-12-29T17:48:55.853794",
     "exception": false,
     "start_time": "2020-12-29T17:48:55.836527",
     "status": "completed"
    },
    "tags": []
   },
   "source": [
    "We set the random seed so that the results don't vary drastically."
   ]
  },
  {
   "cell_type": "code",
   "execution_count": 2,
   "metadata": {
    "execution": {
     "iopub.execute_input": "2020-12-29T17:48:55.895980Z",
     "iopub.status.busy": "2020-12-29T17:48:55.895345Z",
     "iopub.status.idle": "2020-12-29T17:49:02.923722Z",
     "shell.execute_reply": "2020-12-29T17:49:02.922832Z"
    },
    "papermill": {
     "duration": 7.052123,
     "end_time": "2020-12-29T17:49:02.923850",
     "exception": false,
     "start_time": "2020-12-29T17:48:55.871727",
     "status": "completed"
    },
    "tags": []
   },
   "outputs": [
    {
     "name": "stdout",
     "output_type": "stream",
     "text": [
      "Tensorflow version:  2.3.1\n",
      "Default GPU Device:/device:GPU:0\n"
     ]
    }
   ],
   "source": [
    "np.random.seed(30)\n",
    "import random as rn\n",
    "rn.seed(30)\n",
    "from tensorflow.keras import backend as K\n",
    "import tensorflow as tf\n",
    "print('Tensorflow version: ',tf.__version__)\n",
    "tf.random.set_seed(30)\n",
    "if tf.test.gpu_device_name():\n",
    "    print('Default GPU Device:{}'.format(tf.test.gpu_device_name()))\n",
    "else:\n",
    "    print(\"Please install GPU version of TF\")"
   ]
  },
  {
   "cell_type": "markdown",
   "metadata": {
    "papermill": {
     "duration": 0.017603,
     "end_time": "2020-12-29T17:49:02.959658",
     "exception": false,
     "start_time": "2020-12-29T17:49:02.942055",
     "status": "completed"
    },
    "tags": []
   },
   "source": [
    "In this block, you read the folder names for training and validation. You also set the `batch_size` here. Note that you set the batch size in such a way that you are able to use the GPU in full capacity. You keep increasing the batch size until the machine throws an error."
   ]
  },
  {
   "cell_type": "code",
   "execution_count": 3,
   "metadata": {
    "execution": {
     "iopub.execute_input": "2020-12-29T17:49:03.004764Z",
     "iopub.status.busy": "2020-12-29T17:49:03.003975Z",
     "iopub.status.idle": "2020-12-29T17:49:03.027229Z",
     "shell.execute_reply": "2020-12-29T17:49:03.028005Z"
    },
    "papermill": {
     "duration": 0.05109,
     "end_time": "2020-12-29T17:49:03.028156",
     "exception": false,
     "start_time": "2020-12-29T17:49:02.977066",
     "status": "completed"
    },
    "tags": []
   },
   "outputs": [
    {
     "name": "stdout",
     "output_type": "stream",
     "text": [
      "Number of frames being considered : 15\n"
     ]
    }
   ],
   "source": [
    "#train_doc = np.random.permutation(open('Project_data/train.csv').readlines())\n",
    "#val_doc = np.random.permutation(open('Project_data/val.csv').readlines())\n",
    "BASE_PATH='../input/untouched-gesture-dataset'\n",
    "train_doc = np.random.permutation(open(BASE_PATH+'/Project_data/train.csv').readlines())\n",
    "val_doc = np.random.permutation(open(BASE_PATH+'/Project_data/val.csv').readlines())\n",
    "BATCH_SIZE = 32 #experiment with the batch size\n",
    "IMG_HEIGHT = 120\n",
    "IMG_WIDTH = 120\n",
    "LEARNING_RATE=0.0001\n",
    "FRAMES=len(list(range(1,30,2)))\n",
    "NUM_EPOCHS = 50\n",
    "print('Number of frames being considered :',FRAMES)"
   ]
  },
  {
   "cell_type": "markdown",
   "metadata": {
    "papermill": {
     "duration": 0.018227,
     "end_time": "2020-12-29T17:49:03.065492",
     "exception": false,
     "start_time": "2020-12-29T17:49:03.047265",
     "status": "completed"
    },
    "tags": []
   },
   "source": [
    "## Generator\n",
    "This is one of the most important part of the code. The overall structure of the generator has been given. In the generator, you are going to preprocess the images as you have images of 2 different dimensions as well as create a batch of video frames. You have to experiment with `img_idx`, `y`,`z` and normalization such that you get high accuracy."
   ]
  },
  {
   "cell_type": "code",
   "execution_count": 4,
   "metadata": {
    "execution": {
     "iopub.execute_input": "2020-12-29T17:49:03.127815Z",
     "iopub.status.busy": "2020-12-29T17:49:03.106309Z",
     "iopub.status.idle": "2020-12-29T17:49:03.142479Z",
     "shell.execute_reply": "2020-12-29T17:49:03.141917Z"
    },
    "papermill": {
     "duration": 0.058448,
     "end_time": "2020-12-29T17:49:03.142595",
     "exception": false,
     "start_time": "2020-12-29T17:49:03.084147",
     "status": "completed"
    },
    "tags": []
   },
   "outputs": [],
   "source": [
    "def generator(source_path, folder_list, batch_size):\n",
    "    #print( 'Source path = ', source_path, '; batch size =', batch_size)\n",
    "    # We will consider frames 10 to 20 for training\n",
    "    img_idx = range(0,30,2) #create a list of image numbers you want to use for a particular video\n",
    "    while True:\n",
    "        t = np.random.permutation(folder_list)\n",
    "        num_batches = int(len(folder_list) / batch_size) # calculate the number of batches\n",
    "        for batch in range(num_batches): # we iterate over the number of batches\n",
    "            # second parameter x set to len(img_idx) list - indicates no. of images we want to use for each video\n",
    "            # third and fourth parameters (y,z) indicate the final size of input image\n",
    "            batch_data = np.zeros((batch_size,len(img_idx),120,120,3)) # x is the number of images you use for each video, (y,z) is the final size of the input images and 3 is the number of channels RGB\n",
    "            batch_labels = np.zeros((batch_size,5)) # batch_labels is the one hot representation of the output\n",
    "            for folder in range(batch_size): # iterate over the batch_size\n",
    "                imgs = os.listdir(source_path+'/'+ t[folder + (batch*batch_size)].split(';')[0]) # read all the images in the folder\n",
    "                for idx,item in enumerate(img_idx): #  Iterate iver the frames/images of a folder to read them in\n",
    "                    image = tf.io.read_file(source_path+'/'+ t[folder + (batch*batch_size)].strip().split(';')[0]+'/'+imgs[item])\n",
    "                    image = tf.io.decode_jpeg(image,channels=3)\n",
    "                    #crop the images and resize them. Note that the images are of 2 different shape \n",
    "                    #and the conv3D will throw error if the inputs in a batch have different shapes\n",
    "                    # We will resize all the images to a standard shape of (120,120)\n",
    "                    # We will use distinct normalization methods for different channel\n",
    "                    im_resized = tf.image.resize(image,size=[IMG_HEIGHT,IMG_WIDTH],method='nearest') \n",
    "                    im_resized = tf.image.resize(tf.image.central_crop(im_resized,0.9),size=[IMG_HEIGHT,IMG_WIDTH],method='nearest')\n",
    "                    im_resized_0 = im_resized[:,:,0]\n",
    "                    im_resized_1 = im_resized[:,:,1]\n",
    "                    im_resized_2 = im_resized[:,:,2]\n",
    "                    batch_data[folder,idx,:,:,0] = (im_resized_0 - np.min(im_resized_0))/ (np.max(im_resized_0) - np.min(im_resized_0)) #normalise and feed in the image\n",
    "                    batch_data[folder,idx,:,:,1] = (im_resized_1 - np.percentile(im_resized_1,5))/ (np.percentile(im_resized_1,95) - np.percentile(im_resized_1,5)) #normalise and feed in the image\n",
    "                    batch_data[folder,idx,:,:,2] = im_resized_2/255 #normalise and feed in the image                    \n",
    "                batch_labels[folder, int(t[folder + (batch*batch_size)].strip().split(';')[2])] = 1\n",
    "            yield batch_data, batch_labels #you yield the batch_data and the batch_labels, remember what does yield do\n",
    "\n",
    "        \n",
    "        # write the code for the remaining data points which are left after full batches\n",
    "        if len(folder_list) != (num_batches * batch_size):\n",
    "            n_batch_size = len(folder_list) - (num_batches * batch_size)\n",
    "            batch_data = np.zeros((n_batch_size,len(img_idx),120,120,3))\n",
    "            batch_labels = np.zeros((n_batch_size,5))\n",
    "            for folder in range(n_batch_size): # iterate over the batch_size\n",
    "                imgs = os.listdir(source_path+'/'+ t[folder + (num_batches*n_batch_size)].split(';')[0]) # read all the images in the folder\n",
    "                for idx,item in enumerate(img_idx): #  Iterate iver the frames/images of a folder to read them in\n",
    "                    image = tf.io.read_file(source_path+'/'+ t[folder + (num_batches*n_batch_size)].strip().split(';')[0]+'/'+imgs[item])\n",
    "                    image = tf.io.decode_jpeg(image,channels=3)\n",
    "                    #crop the images and resize them. Note that the images are of 2 different shape \n",
    "                    #and the conv3D will throw error if the inputs in a batch have different shapes\n",
    "                    # We will resize all the images to a standard shape of (120,120)\n",
    "                    # We will use distinct normalization methods for different channel\n",
    "                    im_resized = tf.image.resize(image,size=[IMG_HEIGHT,IMG_WIDTH],method='nearest') \n",
    "                    im_resized = tf.image.resize(tf.image.central_crop(im_resized,0.9),size=[IMG_HEIGHT,IMG_WIDTH],method='nearest')\n",
    "                    im_resized_0 = im_resized[:,:,0]\n",
    "                    im_resized_1 = im_resized[:,:,1]\n",
    "                    im_resized_2 = im_resized[:,:,2]\n",
    "                    batch_data[folder,idx,:,:,0] = (im_resized_0 - np.min(im_resized_0))/ (np.max(im_resized_0) - np.min(im_resized_0)) #normalise and feed in the image\n",
    "                    batch_data[folder,idx,:,:,1] = (im_resized_1 - np.percentile(im_resized_1,5))/ (np.percentile(im_resized_1,95) - np.percentile(im_resized_1,5)) #normalise and feed in the image\n",
    "                    batch_data[folder,idx,:,:,2] = im_resized_2/255 #normalise and feed in the image   \n",
    "                    \n",
    "                batch_labels[folder, int(t[folder + (num_batches*n_batch_size)].strip().split(';')[2])] = 1\n",
    "            yield batch_data, batch_labels #you yield the batch_data and the batch_labels, remember what does yield do\n",
    "        "
   ]
  },
  {
   "cell_type": "markdown",
   "metadata": {
    "papermill": {
     "duration": 0.018257,
     "end_time": "2020-12-29T17:49:03.179186",
     "exception": false,
     "start_time": "2020-12-29T17:49:03.160929",
     "status": "completed"
    },
    "tags": []
   },
   "source": [
    "Note here that a video is represented above in the generator as (number of images, height, width, number of channels). Take this into consideration while creating the model architecture."
   ]
  },
  {
   "cell_type": "code",
   "execution_count": 5,
   "metadata": {
    "execution": {
     "iopub.execute_input": "2020-12-29T17:49:03.228206Z",
     "iopub.status.busy": "2020-12-29T17:49:03.227563Z",
     "iopub.status.idle": "2020-12-29T17:50:44.178421Z",
     "shell.execute_reply": "2020-12-29T17:50:44.176812Z"
    },
    "papermill": {
     "duration": 100.980405,
     "end_time": "2020-12-29T17:50:44.178567",
     "exception": false,
     "start_time": "2020-12-29T17:49:03.198162",
     "status": "completed"
    },
    "tags": []
   },
   "outputs": [
    {
     "name": "stdout",
     "output_type": "stream",
     "text": [
      "# training sequences = 663\n",
      "# training batches = 22\n",
      "# validation sequences = 100\n"
     ]
    }
   ],
   "source": [
    "from PIL import Image\n",
    "\n",
    "curr_dt_time = datetime.datetime.now()\n",
    "train_path = BASE_PATH+'/Project_data/train'\n",
    "val_path = BASE_PATH+'/Project_data/val'\n",
    "num_train_sequences = len(train_doc)\n",
    "print('# training sequences =', num_train_sequences)\n",
    "print('# training batches =', int(num_train_sequences/30))\n",
    "num_val_sequences = len(val_doc)\n",
    "print('# validation sequences =', num_val_sequences)\n",
    "\n",
    "img_sizes=[]\n",
    "for i in os.listdir(train_path):\n",
    "    if not(i.startswith('.')):\n",
    "        file_path = train_path + \"/\" + i\n",
    "        for j in os.listdir(file_path):\n",
    "            if not(j.startswith('.')):\n",
    "                im_path = file_path + \"/\" + j\n",
    "                im = Image.open(im_path)\n",
    "                img_sizes.append(im.size)"
   ]
  },
  {
   "cell_type": "code",
   "execution_count": 6,
   "metadata": {
    "execution": {
     "iopub.execute_input": "2020-12-29T17:50:44.228501Z",
     "iopub.status.busy": "2020-12-29T17:50:44.227253Z",
     "iopub.status.idle": "2020-12-29T17:50:44.231399Z",
     "shell.execute_reply": "2020-12-29T17:50:44.231889Z"
    },
    "papermill": {
     "duration": 0.03329,
     "end_time": "2020-12-29T17:50:44.232005",
     "exception": false,
     "start_time": "2020-12-29T17:50:44.198715",
     "status": "completed"
    },
    "tags": []
   },
   "outputs": [
    {
     "data": {
      "text/plain": [
       "{(160, 120), (360, 360)}"
      ]
     },
     "execution_count": 6,
     "metadata": {},
     "output_type": "execute_result"
    }
   ],
   "source": [
    "set(img_sizes)"
   ]
  },
  {
   "cell_type": "markdown",
   "metadata": {
    "papermill": {
     "duration": 0.021069,
     "end_time": "2020-12-29T17:50:44.273157",
     "exception": false,
     "start_time": "2020-12-29T17:50:44.252088",
     "status": "completed"
    },
    "tags": []
   },
   "source": [
    "As we can see we have two shapes of images (160,120) and (360,360).  We will standardize the image shapes to (120,120)"
   ]
  },
  {
   "cell_type": "markdown",
   "metadata": {
    "papermill": {
     "duration": 0.019728,
     "end_time": "2020-12-29T17:50:44.312918",
     "exception": false,
     "start_time": "2020-12-29T17:50:44.293190",
     "status": "completed"
    },
    "tags": []
   },
   "source": [
    "## Model\n",
    "Here you make the model using different functionalities that Keras provides. Remember to use `Conv3D` and `MaxPooling3D` and not `Conv2D` and `Maxpooling2D` for a 3D convolution model. You would want to use `TimeDistributed` while building a Conv2D + RNN model. Also remember that the last layer is the softmax. Design the network in such a way that the model is able to give good accuracy on the least number of parameters so that it can fit in the memory of the webcam."
   ]
  },
  {
   "cell_type": "markdown",
   "metadata": {
    "papermill": {
     "duration": 0.019362,
     "end_time": "2020-12-29T17:50:44.352356",
     "exception": false,
     "start_time": "2020-12-29T17:50:44.332994",
     "status": "completed"
    },
    "tags": []
   },
   "source": [
    "#### Conv3D Model"
   ]
  },
  {
   "cell_type": "code",
   "execution_count": 7,
   "metadata": {
    "execution": {
     "iopub.execute_input": "2020-12-29T17:50:44.412761Z",
     "iopub.status.busy": "2020-12-29T17:50:44.412110Z",
     "iopub.status.idle": "2020-12-29T17:50:45.004464Z",
     "shell.execute_reply": "2020-12-29T17:50:45.002891Z"
    },
    "papermill": {
     "duration": 0.631807,
     "end_time": "2020-12-29T17:50:45.004595",
     "exception": false,
     "start_time": "2020-12-29T17:50:44.372788",
     "status": "completed"
    },
    "tags": []
   },
   "outputs": [],
   "source": [
    "from tensorflow.keras.models import Sequential, Model\n",
    "from tensorflow.keras.layers import Dense, GRU, LSTM, Flatten, TimeDistributed, Flatten, BatchNormalization, Activation, Dropout\n",
    "from tensorflow.keras.layers import Conv3D, MaxPooling3D\n",
    "from tensorflow.keras.callbacks import ModelCheckpoint, ReduceLROnPlateau, EarlyStopping\n",
    "from tensorflow.keras import optimizers\n",
    "from tensorflow.keras import initializers\n",
    "from tensorflow.keras import regularizers\n",
    "\n",
    "#write your model here\n",
    "nb_filters = [8,16,32,64]\n",
    "nb_dense = [1000, 500, 5]\n",
    "input_shape = (FRAMES, 120, 120, 3)\n",
    "\n",
    "model_a = Sequential()\n",
    "\n",
    "model_a.add(Conv3D(nb_filters[0], \n",
    "                 kernel_size=(3,3,3), \n",
    "                 input_shape=input_shape,\n",
    "                 padding='same', kernel_regularizer=regularizers.l2(0.01)))\n",
    "model_a.add(BatchNormalization())\n",
    "model_a.add(Activation('relu'))\n",
    "\n",
    "model_a.add(MaxPooling3D(pool_size=(2,2,2)))\n",
    "\n",
    "model_a.add(Conv3D(nb_filters[1], \n",
    "                 kernel_size=(3,3,3), \n",
    "                 padding='same', kernel_regularizer=regularizers.l2(0.01)))\n",
    "model_a.add(BatchNormalization())\n",
    "model_a.add(Activation('relu'))\n",
    "\n",
    "model_a.add(MaxPooling3D(pool_size=(2,2,2)))\n",
    "\n",
    "model_a.add(Conv3D(nb_filters[2], \n",
    "                 kernel_size=(3,3,3), \n",
    "                 padding='same', kernel_regularizer=regularizers.l2(0.01)))\n",
    "model_a.add(BatchNormalization())\n",
    "model_a.add(Activation('relu'))\n",
    "\n",
    "model_a.add(MaxPooling3D(pool_size=(2,2,2)))\n",
    "\n",
    "#Flatten Layers\n",
    "model_a.add(Flatten())\n",
    "\n",
    "model_a.add(Dense(nb_dense[0], activation='relu'))\n",
    "model_a.add(Dropout(0.5))\n",
    "\n",
    "model_a.add(Dense(nb_dense[1], activation='relu'))\n",
    "model_a.add(Dropout(0.5))\n",
    "\n",
    "#softmax layer\n",
    "model_a.add(Dense(nb_dense[2], activation='sigmoid'))"
   ]
  },
  {
   "cell_type": "markdown",
   "metadata": {
    "papermill": {
     "duration": 0.021752,
     "end_time": "2020-12-29T17:50:45.046875",
     "exception": false,
     "start_time": "2020-12-29T17:50:45.025123",
     "status": "completed"
    },
    "tags": []
   },
   "source": [
    "Now that you have written the model, the next step is to `compile` the model. When you print the `summary` of the model, you'll see the total number of parameters you have to train."
   ]
  },
  {
   "cell_type": "code",
   "execution_count": 8,
   "metadata": {
    "execution": {
     "iopub.execute_input": "2020-12-29T17:50:45.101837Z",
     "iopub.status.busy": "2020-12-29T17:50:45.100725Z",
     "iopub.status.idle": "2020-12-29T17:50:45.132733Z",
     "shell.execute_reply": "2020-12-29T17:50:45.131823Z"
    },
    "papermill": {
     "duration": 0.065854,
     "end_time": "2020-12-29T17:50:45.132846",
     "exception": false,
     "start_time": "2020-12-29T17:50:45.066992",
     "status": "completed"
    },
    "tags": []
   },
   "outputs": [
    {
     "name": "stdout",
     "output_type": "stream",
     "text": [
      "Model: \"sequential\"\n",
      "_________________________________________________________________\n",
      "Layer (type)                 Output Shape              Param #   \n",
      "=================================================================\n",
      "conv3d (Conv3D)              (None, 15, 120, 120, 8)   656       \n",
      "_________________________________________________________________\n",
      "batch_normalization (BatchNo (None, 15, 120, 120, 8)   32        \n",
      "_________________________________________________________________\n",
      "activation (Activation)      (None, 15, 120, 120, 8)   0         \n",
      "_________________________________________________________________\n",
      "max_pooling3d (MaxPooling3D) (None, 7, 60, 60, 8)      0         \n",
      "_________________________________________________________________\n",
      "conv3d_1 (Conv3D)            (None, 7, 60, 60, 16)     3472      \n",
      "_________________________________________________________________\n",
      "batch_normalization_1 (Batch (None, 7, 60, 60, 16)     64        \n",
      "_________________________________________________________________\n",
      "activation_1 (Activation)    (None, 7, 60, 60, 16)     0         \n",
      "_________________________________________________________________\n",
      "max_pooling3d_1 (MaxPooling3 (None, 3, 30, 30, 16)     0         \n",
      "_________________________________________________________________\n",
      "conv3d_2 (Conv3D)            (None, 3, 30, 30, 32)     13856     \n",
      "_________________________________________________________________\n",
      "batch_normalization_2 (Batch (None, 3, 30, 30, 32)     128       \n",
      "_________________________________________________________________\n",
      "activation_2 (Activation)    (None, 3, 30, 30, 32)     0         \n",
      "_________________________________________________________________\n",
      "max_pooling3d_2 (MaxPooling3 (None, 1, 15, 15, 32)     0         \n",
      "_________________________________________________________________\n",
      "flatten (Flatten)            (None, 7200)              0         \n",
      "_________________________________________________________________\n",
      "dense (Dense)                (None, 1000)              7201000   \n",
      "_________________________________________________________________\n",
      "dropout (Dropout)            (None, 1000)              0         \n",
      "_________________________________________________________________\n",
      "dense_1 (Dense)              (None, 500)               500500    \n",
      "_________________________________________________________________\n",
      "dropout_1 (Dropout)          (None, 500)               0         \n",
      "_________________________________________________________________\n",
      "dense_2 (Dense)              (None, 5)                 2505      \n",
      "=================================================================\n",
      "Total params: 7,722,213\n",
      "Trainable params: 7,722,101\n",
      "Non-trainable params: 112\n",
      "_________________________________________________________________\n",
      "None\n"
     ]
    }
   ],
   "source": [
    "optimizer=optimizers.Adam(lr=LEARNING_RATE)\n",
    "model_a.compile(optimizer=optimizer, loss='binary_crossentropy', metrics=['binary_accuracy']) \n",
    "print (model_a.summary())"
   ]
  },
  {
   "cell_type": "markdown",
   "metadata": {
    "papermill": {
     "duration": 0.02049,
     "end_time": "2020-12-29T17:50:45.173619",
     "exception": false,
     "start_time": "2020-12-29T17:50:45.153129",
     "status": "completed"
    },
    "tags": []
   },
   "source": [
    "Let us create the `train_generator` and the `val_generator` which will be used in `.fit_generator`."
   ]
  },
  {
   "cell_type": "code",
   "execution_count": 9,
   "metadata": {
    "execution": {
     "iopub.execute_input": "2020-12-29T17:50:45.219901Z",
     "iopub.status.busy": "2020-12-29T17:50:45.219056Z",
     "iopub.status.idle": "2020-12-29T17:50:45.223566Z",
     "shell.execute_reply": "2020-12-29T17:50:45.222928Z"
    },
    "papermill": {
     "duration": 0.029459,
     "end_time": "2020-12-29T17:50:45.223669",
     "exception": false,
     "start_time": "2020-12-29T17:50:45.194210",
     "status": "completed"
    },
    "tags": []
   },
   "outputs": [],
   "source": [
    "train_generator = generator(train_path, train_doc, BATCH_SIZE)\n",
    "val_generator = generator(val_path, val_doc, BATCH_SIZE)"
   ]
  },
  {
   "cell_type": "code",
   "execution_count": 10,
   "metadata": {
    "execution": {
     "iopub.execute_input": "2020-12-29T17:50:45.315654Z",
     "iopub.status.busy": "2020-12-29T17:50:45.313636Z",
     "iopub.status.idle": "2020-12-29T17:50:45.316395Z",
     "shell.execute_reply": "2020-12-29T17:50:45.316925Z"
    },
    "papermill": {
     "duration": 0.032807,
     "end_time": "2020-12-29T17:50:45.317047",
     "exception": false,
     "start_time": "2020-12-29T17:50:45.284240",
     "status": "completed"
    },
    "tags": []
   },
   "outputs": [],
   "source": [
    "filepath = 'best_model.h5'\n",
    "\n",
    "mc = ModelCheckpoint(filepath, monitor='val_loss', verbose=1, save_best_only=True, save_weights_only=False, mode='min', save_freq=1)\n",
    "es = EarlyStopping(monitor='val_loss', mode='min', verbose=1, patience=10)\n",
    "lr = ReduceLROnPlateau(monitor='val_loss', factor=0.1, patience=3, verbose=1, mode='min',\n",
    "                        min_delta=0.0001, cooldown=0, min_lr=0) \n",
    "callbacks_list = [mc, lr, es]"
   ]
  },
  {
   "cell_type": "markdown",
   "metadata": {
    "papermill": {
     "duration": 0.02194,
     "end_time": "2020-12-29T17:50:45.360994",
     "exception": false,
     "start_time": "2020-12-29T17:50:45.339054",
     "status": "completed"
    },
    "tags": []
   },
   "source": [
    "The `steps_per_epoch` and `validation_steps` are used by `fit_generator` to decide the number of next() calls it need to make."
   ]
  },
  {
   "cell_type": "code",
   "execution_count": 11,
   "metadata": {
    "execution": {
     "iopub.execute_input": "2020-12-29T17:50:45.411654Z",
     "iopub.status.busy": "2020-12-29T17:50:45.410148Z",
     "iopub.status.idle": "2020-12-29T17:50:45.412873Z",
     "shell.execute_reply": "2020-12-29T17:50:45.413425Z"
    },
    "papermill": {
     "duration": 0.030953,
     "end_time": "2020-12-29T17:50:45.413539",
     "exception": false,
     "start_time": "2020-12-29T17:50:45.382586",
     "status": "completed"
    },
    "tags": []
   },
   "outputs": [],
   "source": [
    "if (num_train_sequences%BATCH_SIZE) == 0:\n",
    "    steps_per_epoch = int(num_train_sequences/BATCH_SIZE)\n",
    "else:\n",
    "    steps_per_epoch = (num_train_sequences//BATCH_SIZE) + 1\n",
    "\n",
    "if (num_val_sequences%BATCH_SIZE) == 0:\n",
    "    validation_steps = int(num_val_sequences/BATCH_SIZE)\n",
    "else:\n",
    "    validation_steps = (num_val_sequences//BATCH_SIZE) + 1"
   ]
  },
  {
   "cell_type": "markdown",
   "metadata": {
    "papermill": {
     "duration": 0.021378,
     "end_time": "2020-12-29T17:50:45.456380",
     "exception": false,
     "start_time": "2020-12-29T17:50:45.435002",
     "status": "completed"
    },
    "tags": []
   },
   "source": [
    "Let us now fit the model. This will start training the model and with the help of the checkpoints, you'll be able to save the model at the end of each epoch."
   ]
  },
  {
   "cell_type": "code",
   "execution_count": 12,
   "metadata": {
    "execution": {
     "iopub.execute_input": "2020-12-29T17:50:45.506376Z",
     "iopub.status.busy": "2020-12-29T17:50:45.505730Z",
     "iopub.status.idle": "2020-12-29T19:18:52.607940Z",
     "shell.execute_reply": "2020-12-29T19:18:52.608684Z"
    },
    "papermill": {
     "duration": 5287.130279,
     "end_time": "2020-12-29T19:18:52.608878",
     "exception": false,
     "start_time": "2020-12-29T17:50:45.478599",
     "status": "completed"
    },
    "tags": []
   },
   "outputs": [
    {
     "name": "stdout",
     "output_type": "stream",
     "text": [
      "Epoch 1/50\n",
      "21/21 [==============================] - 123s 6s/step - loss: 1.1395 - binary_accuracy: 0.6977 - val_loss: 0.9834 - val_binary_accuracy: 0.8000\n",
      "Epoch 2/50\n",
      "21/21 [==============================] - 110s 5s/step - loss: 0.9312 - binary_accuracy: 0.7599 - val_loss: 0.9875 - val_binary_accuracy: 0.7560\n",
      "Epoch 3/50\n",
      "21/21 [==============================] - 106s 5s/step - loss: 0.8626 - binary_accuracy: 0.7831 - val_loss: 0.9587 - val_binary_accuracy: 0.8080\n",
      "Epoch 4/50\n",
      "21/21 [==============================] - 105s 5s/step - loss: 0.8162 - binary_accuracy: 0.8039 - val_loss: 0.9328 - val_binary_accuracy: 0.7420\n",
      "Epoch 5/50\n",
      "21/21 [==============================] - 107s 5s/step - loss: 0.7942 - binary_accuracy: 0.8118 - val_loss: 0.9304 - val_binary_accuracy: 0.7300\n",
      "Epoch 6/50\n",
      "21/21 [==============================] - 108s 5s/step - loss: 0.7621 - binary_accuracy: 0.8271 - val_loss: 0.9123 - val_binary_accuracy: 0.7380\n",
      "Epoch 7/50\n",
      "21/21 [==============================] - 107s 5s/step - loss: 0.7237 - binary_accuracy: 0.8344 - val_loss: 0.8985 - val_binary_accuracy: 0.7320\n",
      "Epoch 8/50\n",
      "21/21 [==============================] - 101s 5s/step - loss: 0.7051 - binary_accuracy: 0.8443 - val_loss: 0.9015 - val_binary_accuracy: 0.7440\n",
      "Epoch 9/50\n",
      "21/21 [==============================] - 105s 5s/step - loss: 0.6692 - binary_accuracy: 0.8561 - val_loss: 0.9163 - val_binary_accuracy: 0.7060\n",
      "Epoch 10/50\n",
      "21/21 [==============================] - ETA: 0s - loss: 0.6485 - binary_accuracy: 0.8664\n",
      "Epoch 00010: ReduceLROnPlateau reducing learning rate to 9.999999747378752e-06.\n",
      "21/21 [==============================] - 104s 5s/step - loss: 0.6485 - binary_accuracy: 0.8664 - val_loss: 0.9168 - val_binary_accuracy: 0.7200\n",
      "Epoch 11/50\n",
      "21/21 [==============================] - 108s 5s/step - loss: 0.6326 - binary_accuracy: 0.8766 - val_loss: 0.8740 - val_binary_accuracy: 0.7560\n",
      "Epoch 12/50\n",
      "21/21 [==============================] - 104s 5s/step - loss: 0.6133 - binary_accuracy: 0.8790 - val_loss: 0.8430 - val_binary_accuracy: 0.7520\n",
      "Epoch 13/50\n",
      "21/21 [==============================] - 106s 5s/step - loss: 0.6155 - binary_accuracy: 0.8799 - val_loss: 0.8220 - val_binary_accuracy: 0.7800\n",
      "Epoch 14/50\n",
      "21/21 [==============================] - 105s 5s/step - loss: 0.5923 - binary_accuracy: 0.8938 - val_loss: 0.7848 - val_binary_accuracy: 0.7780\n",
      "Epoch 15/50\n",
      "21/21 [==============================] - 105s 5s/step - loss: 0.5954 - binary_accuracy: 0.8917 - val_loss: 0.8143 - val_binary_accuracy: 0.7700\n",
      "Epoch 16/50\n",
      "21/21 [==============================] - 103s 5s/step - loss: 0.6011 - binary_accuracy: 0.8932 - val_loss: 0.7695 - val_binary_accuracy: 0.8100\n",
      "Epoch 17/50\n",
      "21/21 [==============================] - 104s 5s/step - loss: 0.5805 - binary_accuracy: 0.9044 - val_loss: 0.7227 - val_binary_accuracy: 0.8300\n",
      "Epoch 18/50\n",
      "21/21 [==============================] - 106s 5s/step - loss: 0.5795 - binary_accuracy: 0.8992 - val_loss: 0.7196 - val_binary_accuracy: 0.8420\n",
      "Epoch 19/50\n",
      "21/21 [==============================] - 104s 5s/step - loss: 0.5831 - binary_accuracy: 0.9026 - val_loss: 0.6974 - val_binary_accuracy: 0.8500\n",
      "Epoch 20/50\n",
      "21/21 [==============================] - 100s 5s/step - loss: 0.5643 - binary_accuracy: 0.9092 - val_loss: 0.6823 - val_binary_accuracy: 0.8520\n",
      "Epoch 21/50\n",
      "21/21 [==============================] - 105s 5s/step - loss: 0.5692 - binary_accuracy: 0.9104 - val_loss: 0.6808 - val_binary_accuracy: 0.8580\n",
      "Epoch 22/50\n",
      "21/21 [==============================] - 105s 5s/step - loss: 0.5632 - binary_accuracy: 0.9098 - val_loss: 0.6801 - val_binary_accuracy: 0.8500\n",
      "Epoch 23/50\n",
      "21/21 [==============================] - 103s 5s/step - loss: 0.5692 - binary_accuracy: 0.9089 - val_loss: 0.6605 - val_binary_accuracy: 0.8660\n",
      "Epoch 24/50\n",
      "21/21 [==============================] - 102s 5s/step - loss: 0.5707 - binary_accuracy: 0.9104 - val_loss: 0.6655 - val_binary_accuracy: 0.8640\n",
      "Epoch 25/50\n",
      "21/21 [==============================] - 108s 5s/step - loss: 0.5548 - binary_accuracy: 0.9131 - val_loss: 0.6536 - val_binary_accuracy: 0.8760\n",
      "Epoch 26/50\n",
      "21/21 [==============================] - 104s 5s/step - loss: 0.5519 - binary_accuracy: 0.9131 - val_loss: 0.6570 - val_binary_accuracy: 0.8560\n",
      "Epoch 27/50\n",
      "21/21 [==============================] - 104s 5s/step - loss: 0.5476 - binary_accuracy: 0.9167 - val_loss: 0.6502 - val_binary_accuracy: 0.8740\n",
      "Epoch 28/50\n",
      "21/21 [==============================] - 111s 5s/step - loss: 0.5440 - binary_accuracy: 0.9146 - val_loss: 0.6369 - val_binary_accuracy: 0.8780\n",
      "Epoch 29/50\n",
      "21/21 [==============================] - 105s 5s/step - loss: 0.5486 - binary_accuracy: 0.9143 - val_loss: 0.6413 - val_binary_accuracy: 0.8820\n",
      "Epoch 30/50\n",
      "21/21 [==============================] - 105s 5s/step - loss: 0.5378 - binary_accuracy: 0.9231 - val_loss: 0.6391 - val_binary_accuracy: 0.8760\n",
      "Epoch 31/50\n",
      "21/21 [==============================] - ETA: 0s - loss: 0.5339 - binary_accuracy: 0.9183\n",
      "Epoch 00031: ReduceLROnPlateau reducing learning rate to 9.999999747378752e-07.\n",
      "21/21 [==============================] - 104s 5s/step - loss: 0.5339 - binary_accuracy: 0.9183 - val_loss: 0.6423 - val_binary_accuracy: 0.8760\n",
      "Epoch 32/50\n",
      "21/21 [==============================] - 101s 5s/step - loss: 0.5348 - binary_accuracy: 0.9228 - val_loss: 0.6395 - val_binary_accuracy: 0.8760\n",
      "Epoch 33/50\n",
      "21/21 [==============================] - 107s 5s/step - loss: 0.5389 - binary_accuracy: 0.9234 - val_loss: 0.6310 - val_binary_accuracy: 0.8800\n",
      "Epoch 34/50\n",
      "21/21 [==============================] - 105s 5s/step - loss: 0.5206 - binary_accuracy: 0.9264 - val_loss: 0.6456 - val_binary_accuracy: 0.8800\n",
      "Epoch 35/50\n",
      "21/21 [==============================] - 104s 5s/step - loss: 0.5345 - binary_accuracy: 0.9225 - val_loss: 0.6300 - val_binary_accuracy: 0.8880\n",
      "Epoch 36/50\n",
      "21/21 [==============================] - 101s 5s/step - loss: 0.5302 - binary_accuracy: 0.9207 - val_loss: 0.6488 - val_binary_accuracy: 0.8700\n",
      "Epoch 37/50\n",
      "21/21 [==============================] - 106s 5s/step - loss: 0.5356 - binary_accuracy: 0.9219 - val_loss: 0.6452 - val_binary_accuracy: 0.8760\n",
      "Epoch 38/50\n",
      "21/21 [==============================] - ETA: 0s - loss: 0.5364 - binary_accuracy: 0.9207\n",
      "Epoch 00038: ReduceLROnPlateau reducing learning rate to 9.999999974752428e-08.\n",
      "21/21 [==============================] - 103s 5s/step - loss: 0.5364 - binary_accuracy: 0.9207 - val_loss: 0.6498 - val_binary_accuracy: 0.8780\n",
      "Epoch 39/50\n",
      "21/21 [==============================] - 104s 5s/step - loss: 0.5288 - binary_accuracy: 0.9219 - val_loss: 0.6449 - val_binary_accuracy: 0.8760\n",
      "Epoch 40/50\n",
      "21/21 [==============================] - 105s 5s/step - loss: 0.5335 - binary_accuracy: 0.9207 - val_loss: 0.6492 - val_binary_accuracy: 0.8820\n",
      "Epoch 41/50\n",
      "21/21 [==============================] - ETA: 0s - loss: 0.5326 - binary_accuracy: 0.9228\n",
      "Epoch 00041: ReduceLROnPlateau reducing learning rate to 1.0000000116860975e-08.\n",
      "21/21 [==============================] - 107s 5s/step - loss: 0.5326 - binary_accuracy: 0.9228 - val_loss: 0.6356 - val_binary_accuracy: 0.8800\n",
      "Epoch 42/50\n",
      "21/21 [==============================] - 110s 5s/step - loss: 0.5442 - binary_accuracy: 0.9134 - val_loss: 0.6455 - val_binary_accuracy: 0.8820\n",
      "Epoch 43/50\n",
      "21/21 [==============================] - 102s 5s/step - loss: 0.5231 - binary_accuracy: 0.9267 - val_loss: 0.6023 - val_binary_accuracy: 0.8920\n",
      "Epoch 44/50\n",
      "21/21 [==============================] - 100s 5s/step - loss: 0.5315 - binary_accuracy: 0.9222 - val_loss: 0.6450 - val_binary_accuracy: 0.8740\n",
      "Epoch 45/50\n",
      "21/21 [==============================] - 108s 5s/step - loss: 0.5288 - binary_accuracy: 0.9288 - val_loss: 0.6403 - val_binary_accuracy: 0.8760\n",
      "Epoch 46/50\n",
      "21/21 [==============================] - ETA: 0s - loss: 0.5365 - binary_accuracy: 0.9204\n",
      "Epoch 00046: ReduceLROnPlateau reducing learning rate to 9.999999939225292e-10.\n",
      "21/21 [==============================] - 104s 5s/step - loss: 0.5365 - binary_accuracy: 0.9204 - val_loss: 0.6623 - val_binary_accuracy: 0.8780\n",
      "Epoch 47/50\n",
      "21/21 [==============================] - 106s 5s/step - loss: 0.5369 - binary_accuracy: 0.9170 - val_loss: 0.6190 - val_binary_accuracy: 0.8820\n",
      "Epoch 48/50\n",
      "21/21 [==============================] - 108s 5s/step - loss: 0.5282 - binary_accuracy: 0.9222 - val_loss: 0.6472 - val_binary_accuracy: 0.8700\n",
      "Epoch 49/50\n",
      "21/21 [==============================] - ETA: 0s - loss: 0.5361 - binary_accuracy: 0.9195\n",
      "Epoch 00049: ReduceLROnPlateau reducing learning rate to 9.999999717180686e-11.\n",
      "21/21 [==============================] - 106s 5s/step - loss: 0.5361 - binary_accuracy: 0.9195 - val_loss: 0.6387 - val_binary_accuracy: 0.8760\n",
      "Epoch 50/50\n",
      "21/21 [==============================] - 107s 5s/step - loss: 0.5363 - binary_accuracy: 0.9222 - val_loss: 0.6179 - val_binary_accuracy: 0.8740\n"
     ]
    }
   ],
   "source": [
    "history = model_a.fit_generator(train_generator, steps_per_epoch=steps_per_epoch, epochs=NUM_EPOCHS, verbose=1, \n",
    "                        callbacks=callbacks_list, validation_data=val_generator, \n",
    "                        validation_steps=validation_steps, class_weight=None, workers=1, initial_epoch=0)"
   ]
  },
  {
   "cell_type": "markdown",
   "metadata": {
    "papermill": {
     "duration": 0.401633,
     "end_time": "2020-12-29T19:18:53.414434",
     "exception": false,
     "start_time": "2020-12-29T19:18:53.012801",
     "status": "completed"
    },
    "tags": []
   },
   "source": [
    "Plot the train and validation loss and accuracies"
   ]
  },
  {
   "cell_type": "code",
   "execution_count": 13,
   "metadata": {
    "execution": {
     "iopub.execute_input": "2020-12-29T19:18:54.244383Z",
     "iopub.status.busy": "2020-12-29T19:18:54.243741Z",
     "iopub.status.idle": "2020-12-29T19:18:54.651673Z",
     "shell.execute_reply": "2020-12-29T19:18:54.650790Z"
    },
    "papermill": {
     "duration": 0.838446,
     "end_time": "2020-12-29T19:18:54.651798",
     "exception": false,
     "start_time": "2020-12-29T19:18:53.813352",
     "status": "completed"
    },
    "tags": []
   },
   "outputs": [
    {
     "data": {
      "image/png": "[encoded data removed]",
      "text/plain": [
       "<Figure size 432x288 with 1 Axes>"
      ]
     },
     "metadata": {
      "needs_background": "light"
     },
     "output_type": "display_data"
    },
    {
     "data": {
      "image/png": "[encoded data removed]",
      "text/plain": [
       "<Figure size 432x288 with 1 Axes>"
      ]
     },
     "metadata": {
      "needs_background": "light"
     },
     "output_type": "display_data"
    }
   ],
   "source": [
    "history_frame = pd.DataFrame(history.history)\n",
    "history_frame.loc[:, ['loss', 'val_loss']].plot()\n",
    "history_frame.loc[:, ['binary_accuracy', 'val_binary_accuracy']].plot();"
   ]
  },
  {
   "cell_type": "code",
   "execution_count": 14,
   "metadata": {
    "execution": {
     "iopub.execute_input": "2020-12-29T19:18:55.477297Z",
     "iopub.status.busy": "2020-12-29T19:18:55.476441Z",
     "iopub.status.idle": "2020-12-29T19:18:55.480525Z",
     "shell.execute_reply": "2020-12-29T19:18:55.481083Z"
    },
    "papermill": {
     "duration": 0.408723,
     "end_time": "2020-12-29T19:18:55.481213",
     "exception": false,
     "start_time": "2020-12-29T19:18:55.072490",
     "status": "completed"
    },
    "tags": []
   },
   "outputs": [
    {
     "name": "stdout",
     "output_type": "stream",
     "text": [
      "Total execution time is : 90 minutes\n"
     ]
    }
   ],
   "source": [
    "# Display the exeuction time\n",
    "print('Total execution time is :',round((time.time() - start_time)/60),'minutes')"
   ]
  },
  {
   "cell_type": "code",
   "execution_count": null,
   "metadata": {
    "papermill": {
     "duration": 0.398074,
     "end_time": "2020-12-29T19:18:56.282003",
     "exception": false,
     "start_time": "2020-12-29T19:18:55.883929",
     "status": "completed"
    },
    "tags": []
   },
   "outputs": [],
   "source": []
  }
 ],
 "metadata": {
  "kernelspec": {
   "display_name": "Python 3",
   "language": "python",
   "name": "python3"
  },
  "language_info": {
   "codemirror_mode": {
    "name": "ipython",
    "version": 3
   },
   "file_extension": ".py",
   "mimetype": "text/x-python",
   "name": "python",
   "nbconvert_exporter": "python",
   "pygments_lexer": "ipython3",
   "version": "3.7.6"
  },
  "papermill": {
   "duration": 5406.606299,
   "end_time": "2020-12-29T19:18:58.080502",
   "environment_variables": {},
   "exception": null,
   "input_path": "__notebook__.ipynb",
   "output_path": "__notebook__.ipynb",
   "parameters": {},
   "start_time": "2020-12-29T17:48:51.474203",
   "version": "2.1.0"
  }
 },
 "nbformat": 4,
 "nbformat_minor": 4
}
