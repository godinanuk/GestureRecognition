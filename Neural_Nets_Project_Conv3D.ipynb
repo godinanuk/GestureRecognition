{
 "cells": [
  {
   "cell_type": "markdown",
   "metadata": {
    "papermill": {
     "duration": 0.018428,
     "end_time": "2020-12-29T15:56:17.428670",
     "exception": false,
     "start_time": "2020-12-29T15:56:17.410242",
     "status": "completed"
    },
    "tags": []
   },
   "source": [
    "# Gesture Recognition\n",
    "In this group project, you are going to build a 3D Conv model that will be able to predict the 5 gestures correctly. Please import the following libraries to get started."
   ]
  },
  {
   "cell_type": "code",
   "execution_count": 1,
   "metadata": {
    "execution": {
     "iopub.execute_input": "2020-12-29T15:56:17.472306Z",
     "iopub.status.busy": "2020-12-29T15:56:17.471358Z",
     "iopub.status.idle": "2020-12-29T15:56:17.473862Z",
     "shell.execute_reply": "2020-12-29T15:56:17.474381Z"
    },
    "papermill": {
     "duration": 0.027884,
     "end_time": "2020-12-29T15:56:17.474545",
     "exception": false,
     "start_time": "2020-12-29T15:56:17.446661",
     "status": "completed"
    },
    "tags": []
   },
   "outputs": [],
   "source": [
    "import numpy as np\n",
    "import pandas as pd\n",
    "import os\n",
    "import datetime\n",
    "import time\n",
    "import warnings\n",
    "warnings.filterwarnings('ignore')\n",
    "\n",
    "start_time=time.time()"
   ]
  },
  {
   "cell_type": "markdown",
   "metadata": {
    "papermill": {
     "duration": 0.016937,
     "end_time": "2020-12-29T15:56:17.509192",
     "exception": false,
     "start_time": "2020-12-29T15:56:17.492255",
     "status": "completed"
    },
    "tags": []
   },
   "source": [
    "We set the random seed so that the results don't vary drastically."
   ]
  },
  {
   "cell_type": "code",
   "execution_count": 2,
   "metadata": {
    "execution": {
     "iopub.execute_input": "2020-12-29T15:56:17.550734Z",
     "iopub.status.busy": "2020-12-29T15:56:17.550118Z",
     "iopub.status.idle": "2020-12-29T15:56:25.519194Z",
     "shell.execute_reply": "2020-12-29T15:56:25.518071Z"
    },
    "papermill": {
     "duration": 7.992611,
     "end_time": "2020-12-29T15:56:25.519303",
     "exception": false,
     "start_time": "2020-12-29T15:56:17.526692",
     "status": "completed"
    },
    "tags": []
   },
   "outputs": [
    {
     "name": "stdout",
     "output_type": "stream",
     "text": [
      "Tensorflow version:  2.3.1\n",
      "Default GPU Device:/device:GPU:0\n"
     ]
    }
   ],
   "source": [
    "np.random.seed(30)\n",
    "import random as rn\n",
    "rn.seed(30)\n",
    "from tensorflow.keras import backend as K\n",
    "import tensorflow as tf\n",
    "print('Tensorflow version: ',tf.__version__)\n",
    "tf.random.set_seed(30)\n",
    "if tf.test.gpu_device_name():\n",
    "    print('Default GPU Device:{}'.format(tf.test.gpu_device_name()))\n",
    "else:\n",
    "    print(\"Please install GPU version of TF\")"
   ]
  },
  {
   "cell_type": "markdown",
   "metadata": {
    "papermill": {
     "duration": 0.01756,
     "end_time": "2020-12-29T15:56:25.555105",
     "exception": false,
     "start_time": "2020-12-29T15:56:25.537545",
     "status": "completed"
    },
    "tags": []
   },
   "source": [
    "In this block, you read the folder names for training and validation. You also set the `batch_size` here. Note that you set the batch size in such a way that you are able to use the GPU in full capacity. You keep increasing the batch size until the machine throws an error."
   ]
  },
  {
   "cell_type": "code",
   "execution_count": 3,
   "metadata": {
    "execution": {
     "iopub.execute_input": "2020-12-29T15:56:25.597159Z",
     "iopub.status.busy": "2020-12-29T15:56:25.596572Z",
     "iopub.status.idle": "2020-12-29T15:56:25.620030Z",
     "shell.execute_reply": "2020-12-29T15:56:25.619331Z"
    },
    "papermill": {
     "duration": 0.047577,
     "end_time": "2020-12-29T15:56:25.620158",
     "exception": false,
     "start_time": "2020-12-29T15:56:25.572581",
     "status": "completed"
    },
    "tags": []
   },
   "outputs": [
    {
     "name": "stdout",
     "output_type": "stream",
     "text": [
      "Number of frames being considered : 15\n"
     ]
    }
   ],
   "source": [
    "#train_doc = np.random.permutation(open('Project_data/train.csv').readlines())\n",
    "#val_doc = np.random.permutation(open('Project_data/val.csv').readlines())\n",
    "BASE_PATH='../input/untouched-gesture-dataset'\n",
    "train_doc = np.random.permutation(open(BASE_PATH+'/Project_data/train.csv').readlines())\n",
    "val_doc = np.random.permutation(open(BASE_PATH+'/Project_data/val.csv').readlines())\n",
    "BATCH_SIZE = 32 #experiment with the batch size\n",
    "IMG_HEIGHT = 120\n",
    "IMG_WIDTH = 120\n",
    "LEARNING_RATE=0.0001\n",
    "FRAMES=len(list(range(1,30,2)))\n",
    "NUM_EPOCHS = 50\n",
    "print('Number of frames being considered :',FRAMES)"
   ]
  },
  {
   "cell_type": "markdown",
   "metadata": {
    "papermill": {
     "duration": 0.01768,
     "end_time": "2020-12-29T15:56:25.656848",
     "exception": false,
     "start_time": "2020-12-29T15:56:25.639168",
     "status": "completed"
    },
    "tags": []
   },
   "source": [
    "## Generator\n",
    "This is one of the most important part of the code. The overall structure of the generator has been given. In the generator, you are going to preprocess the images as you have images of 2 different dimensions as well as create a batch of video frames. You have to experiment with `img_idx`, `y`,`z` and normalization such that you get high accuracy."
   ]
  },
  {
   "cell_type": "code",
   "execution_count": 4,
   "metadata": {
    "execution": {
     "iopub.execute_input": "2020-12-29T15:56:25.708939Z",
     "iopub.status.busy": "2020-12-29T15:56:25.697643Z",
     "iopub.status.idle": "2020-12-29T15:56:25.733253Z",
     "shell.execute_reply": "2020-12-29T15:56:25.732731Z"
    },
    "papermill": {
     "duration": 0.058302,
     "end_time": "2020-12-29T15:56:25.733355",
     "exception": false,
     "start_time": "2020-12-29T15:56:25.675053",
     "status": "completed"
    },
    "tags": []
   },
   "outputs": [],
   "source": [
    "def generator(source_path, folder_list, batch_size):\n",
    "    #print( 'Source path = ', source_path, '; batch size =', batch_size)\n",
    "    # We will consider frames 10 to 20 for training\n",
    "    img_idx = range(0,30,2) #create a list of image numbers you want to use for a particular video\n",
    "    while True:\n",
    "        t = np.random.permutation(folder_list)\n",
    "        num_batches = int(len(folder_list) / batch_size) # calculate the number of batches\n",
    "        for batch in range(num_batches): # we iterate over the number of batches\n",
    "            # second parameter x set to len(img_idx) list - indicates no. of images we want to use for each video\n",
    "            # third and fourth parameters (y,z) indicate the final size of input image\n",
    "            batch_data = np.zeros((batch_size,len(img_idx),120,120,3)) # x is the number of images you use for each video, (y,z) is the final size of the input images and 3 is the number of channels RGB\n",
    "            batch_labels = np.zeros((batch_size,5)) # batch_labels is the one hot representation of the output\n",
    "            for folder in range(batch_size): # iterate over the batch_size\n",
    "                imgs = os.listdir(source_path+'/'+ t[folder + (batch*batch_size)].split(';')[0]) # read all the images in the folder\n",
    "                for idx,item in enumerate(img_idx): #  Iterate iver the frames/images of a folder to read them in\n",
    "                    image = tf.io.read_file(source_path+'/'+ t[folder + (batch*batch_size)].strip().split(';')[0]+'/'+imgs[item])\n",
    "                    image = tf.io.decode_jpeg(image,channels=3)\n",
    "                    #crop the images and resize them. Note that the images are of 2 different shape \n",
    "                    #and the conv3D will throw error if the inputs in a batch have different shapes\n",
    "                    # We will resize all the images to a standard shape of (120,120)\n",
    "                    # We will use distinct normalization methods for different channel\n",
    "                    im_resized = tf.image.resize(image,size=[IMG_HEIGHT,IMG_WIDTH],method='nearest') \n",
    "                    im_resized = tf.image.resize(tf.image.central_crop(im_resized,0.9),size=[IMG_HEIGHT,IMG_WIDTH],method='nearest')\n",
    "                    im_resized_0 = im_resized[:,:,0]\n",
    "                    im_resized_1 = im_resized[:,:,1]\n",
    "                    im_resized_2 = im_resized[:,:,2]\n",
    "                    batch_data[folder,idx,:,:,0] = (im_resized_0 - np.min(im_resized_0))/ (np.max(im_resized_0) - np.min(im_resized_0)) #normalise and feed in the image\n",
    "                    batch_data[folder,idx,:,:,1] = (im_resized_1 - np.percentile(im_resized_1,5))/ (np.percentile(im_resized_1,95) - np.percentile(im_resized_1,5)) #normalise and feed in the image\n",
    "                    batch_data[folder,idx,:,:,2] = im_resized_2/255 #normalise and feed in the image                    \n",
    "                batch_labels[folder, int(t[folder + (batch*batch_size)].strip().split(';')[2])] = 1\n",
    "            yield batch_data, batch_labels #you yield the batch_data and the batch_labels, remember what does yield do\n",
    "\n",
    "        \n",
    "        # write the code for the remaining data points which are left after full batches\n",
    "        if len(folder_list) != (num_batches * batch_size):\n",
    "            n_batch_size = len(folder_list) - (num_batches * batch_size)\n",
    "            batch_data = np.zeros((n_batch_size,len(img_idx),120,120,3))\n",
    "            batch_labels = np.zeros((n_batch_size,5))\n",
    "            for folder in range(n_batch_size): # iterate over the batch_size\n",
    "                imgs = os.listdir(source_path+'/'+ t[folder + (num_batches*n_batch_size)].split(';')[0]) # read all the images in the folder\n",
    "                for idx,item in enumerate(img_idx): #  Iterate iver the frames/images of a folder to read them in\n",
    "                    image = tf.io.read_file(source_path+'/'+ t[folder + (num_batches*n_batch_size)].strip().split(';')[0]+'/'+imgs[item])\n",
    "                    image = tf.io.decode_jpeg(image,channels=3)\n",
    "                    #crop the images and resize them. Note that the images are of 2 different shape \n",
    "                    #and the conv3D will throw error if the inputs in a batch have different shapes\n",
    "                    # We will resize all the images to a standard shape of (120,120)\n",
    "                    # We will use distinct normalization methods for different channel\n",
    "                    im_resized = tf.image.resize(image,size=[IMG_HEIGHT,IMG_WIDTH],method='nearest') \n",
    "                    im_resized = tf.image.resize(tf.image.central_crop(im_resized,0.9),size=[IMG_HEIGHT,IMG_WIDTH],method='nearest')\n",
    "                    im_resized_0 = im_resized[:,:,0]\n",
    "                    im_resized_1 = im_resized[:,:,1]\n",
    "                    im_resized_2 = im_resized[:,:,2]\n",
    "                    batch_data[folder,idx,:,:,0] = (im_resized_0 - np.min(im_resized_0))/ (np.max(im_resized_0) - np.min(im_resized_0)) #normalise and feed in the image\n",
    "                    batch_data[folder,idx,:,:,1] = (im_resized_1 - np.percentile(im_resized_1,5))/ (np.percentile(im_resized_1,95) - np.percentile(im_resized_1,5)) #normalise and feed in the image\n",
    "                    batch_data[folder,idx,:,:,2] = im_resized_2/255 #normalise and feed in the image   \n",
    "                    \n",
    "                batch_labels[folder, int(t[folder + (num_batches*n_batch_size)].strip().split(';')[2])] = 1\n",
    "            yield batch_data, batch_labels #you yield the batch_data and the batch_labels, remember what does yield do\n",
    "        "
   ]
  },
  {
   "cell_type": "markdown",
   "metadata": {
    "papermill": {
     "duration": 0.018697,
     "end_time": "2020-12-29T15:56:25.770447",
     "exception": false,
     "start_time": "2020-12-29T15:56:25.751750",
     "status": "completed"
    },
    "tags": []
   },
   "source": [
    "Note here that a video is represented above in the generator as (number of images, height, width, number of channels). Take this into consideration while creating the model architecture."
   ]
  },
  {
   "cell_type": "code",
   "execution_count": 5,
   "metadata": {
    "execution": {
     "iopub.execute_input": "2020-12-29T15:56:25.818140Z",
     "iopub.status.busy": "2020-12-29T15:56:25.817488Z",
     "iopub.status.idle": "2020-12-29T15:57:32.943681Z",
     "shell.execute_reply": "2020-12-29T15:57:32.942623Z"
    },
    "papermill": {
     "duration": 67.15411,
     "end_time": "2020-12-29T15:57:32.943889",
     "exception": false,
     "start_time": "2020-12-29T15:56:25.789779",
     "status": "completed"
    },
    "tags": []
   },
   "outputs": [
    {
     "name": "stdout",
     "output_type": "stream",
     "text": [
      "# training sequences = 663\n",
      "# training batches = 22\n",
      "# validation sequences = 100\n"
     ]
    }
   ],
   "source": [
    "from PIL import Image\n",
    "\n",
    "curr_dt_time = datetime.datetime.now()\n",
    "train_path = BASE_PATH+'/Project_data/train'\n",
    "val_path = BASE_PATH+'/Project_data/val'\n",
    "num_train_sequences = len(train_doc)\n",
    "print('# training sequences =', num_train_sequences)\n",
    "print('# training batches =', int(num_train_sequences/30))\n",
    "num_val_sequences = len(val_doc)\n",
    "print('# validation sequences =', num_val_sequences)\n",
    "\n",
    "img_sizes=[]\n",
    "for i in os.listdir(train_path):\n",
    "    if not(i.startswith('.')):\n",
    "        file_path = train_path + \"/\" + i\n",
    "        for j in os.listdir(file_path):\n",
    "            if not(j.startswith('.')):\n",
    "                im_path = file_path + \"/\" + j\n",
    "                im = Image.open(im_path)\n",
    "                img_sizes.append(im.size)"
   ]
  },
  {
   "cell_type": "code",
   "execution_count": 6,
   "metadata": {
    "execution": {
     "iopub.execute_input": "2020-12-29T15:57:32.988179Z",
     "iopub.status.busy": "2020-12-29T15:57:32.987570Z",
     "iopub.status.idle": "2020-12-29T15:57:32.994022Z",
     "shell.execute_reply": "2020-12-29T15:57:32.993510Z"
    },
    "papermill": {
     "duration": 0.031626,
     "end_time": "2020-12-29T15:57:32.994115",
     "exception": false,
     "start_time": "2020-12-29T15:57:32.962489",
     "status": "completed"
    },
    "tags": []
   },
   "outputs": [
    {
     "data": {
      "text/plain": [
       "{(160, 120), (360, 360)}"
      ]
     },
     "execution_count": 6,
     "metadata": {},
     "output_type": "execute_result"
    }
   ],
   "source": [
    "set(img_sizes)"
   ]
  },
  {
   "cell_type": "markdown",
   "metadata": {
    "papermill": {
     "duration": 0.018519,
     "end_time": "2020-12-29T15:57:33.032107",
     "exception": false,
     "start_time": "2020-12-29T15:57:33.013588",
     "status": "completed"
    },
    "tags": []
   },
   "source": [
    "As we can see we have two shapes of images (160,120) and (360,360).  We will standardize the image shapes to (120,120)"
   ]
  },
  {
   "cell_type": "markdown",
   "metadata": {
    "papermill": {
     "duration": 0.018869,
     "end_time": "2020-12-29T15:57:33.069649",
     "exception": false,
     "start_time": "2020-12-29T15:57:33.050780",
     "status": "completed"
    },
    "tags": []
   },
   "source": [
    "## Model\n",
    "Here you make the model using different functionalities that Keras provides. Remember to use `Conv3D` and `MaxPooling3D` and not `Conv2D` and `Maxpooling2D` for a 3D convolution model. You would want to use `TimeDistributed` while building a Conv2D + RNN model. Also remember that the last layer is the softmax. Design the network in such a way that the model is able to give good accuracy on the least number of parameters so that it can fit in the memory of the webcam."
   ]
  },
  {
   "cell_type": "markdown",
   "metadata": {
    "papermill": {
     "duration": 0.019565,
     "end_time": "2020-12-29T15:57:33.107616",
     "exception": false,
     "start_time": "2020-12-29T15:57:33.088051",
     "status": "completed"
    },
    "tags": []
   },
   "source": [
    "#### Conv3D Model"
   ]
  },
  {
   "cell_type": "code",
   "execution_count": 7,
   "metadata": {
    "execution": {
     "iopub.execute_input": "2020-12-29T15:57:33.165537Z",
     "iopub.status.busy": "2020-12-29T15:57:33.164900Z",
     "iopub.status.idle": "2020-12-29T15:57:33.724762Z",
     "shell.execute_reply": "2020-12-29T15:57:33.723876Z"
    },
    "papermill": {
     "duration": 0.598189,
     "end_time": "2020-12-29T15:57:33.724884",
     "exception": false,
     "start_time": "2020-12-29T15:57:33.126695",
     "status": "completed"
    },
    "tags": []
   },
   "outputs": [],
   "source": [
    "from tensorflow.keras.models import Sequential, Model\n",
    "from tensorflow.keras.layers import Dense, GRU, LSTM, Flatten, TimeDistributed, Flatten, BatchNormalization, Activation, Dropout\n",
    "from tensorflow.keras.layers import Conv3D, MaxPooling3D\n",
    "from tensorflow.keras.callbacks import ModelCheckpoint, ReduceLROnPlateau, EarlyStopping\n",
    "from tensorflow.keras import optimizers\n",
    "from tensorflow.keras import initializers\n",
    "from tensorflow.keras import regularizers\n",
    "\n",
    "#write your model here\n",
    "nb_filters = [8,16,32,64]\n",
    "nb_dense = [1000, 500, 5]\n",
    "input_shape = (FRAMES, 120, 120, 3)\n",
    "\n",
    "model_a = Sequential()\n",
    "\n",
    "model_a.add(Conv3D(nb_filters[0], \n",
    "                 kernel_size=(3,3,3), \n",
    "                 input_shape=input_shape,\n",
    "                 padding='same', kernel_regularizer=regularizers.l2(0.01)))\n",
    "model_a.add(BatchNormalization())\n",
    "model_a.add(Activation('relu'))\n",
    "\n",
    "model_a.add(MaxPooling3D(pool_size=(2,2,2)))\n",
    "\n",
    "model_a.add(Conv3D(nb_filters[1], \n",
    "                 kernel_size=(3,3,3), \n",
    "                 padding='same', kernel_regularizer=regularizers.l2(0.01)))\n",
    "model_a.add(BatchNormalization())\n",
    "model_a.add(Activation('relu'))\n",
    "\n",
    "model_a.add(MaxPooling3D(pool_size=(2,2,2)))\n",
    "\n",
    "model_a.add(Conv3D(nb_filters[2], \n",
    "                 kernel_size=(3,3,3), \n",
    "                 padding='same', kernel_regularizer=regularizers.l2(0.01)))\n",
    "model_a.add(BatchNormalization())\n",
    "model_a.add(Activation('relu'))\n",
    "\n",
    "model_a.add(MaxPooling3D(pool_size=(2,2,2)))\n",
    "\n",
    "#Flatten Layers\n",
    "model_a.add(Flatten())\n",
    "\n",
    "model_a.add(Dense(nb_dense[0], activation='relu'))\n",
    "model_a.add(Dropout(0.5))\n",
    "\n",
    "model_a.add(Dense(nb_dense[1], activation='relu'))\n",
    "model_a.add(Dropout(0.5))\n",
    "\n",
    "#softmax layer\n",
    "model_a.add(Dense(nb_dense[2], activation='softmax'))"
   ]
  },
  {
   "cell_type": "markdown",
   "metadata": {
    "papermill": {
     "duration": 0.019221,
     "end_time": "2020-12-29T15:57:33.763808",
     "exception": false,
     "start_time": "2020-12-29T15:57:33.744587",
     "status": "completed"
    },
    "tags": []
   },
   "source": [
    "Now that you have written the model, the next step is to `compile` the model. When you print the `summary` of the model, you'll see the total number of parameters you have to train."
   ]
  },
  {
   "cell_type": "code",
   "execution_count": 8,
   "metadata": {
    "execution": {
     "iopub.execute_input": "2020-12-29T15:57:33.814030Z",
     "iopub.status.busy": "2020-12-29T15:57:33.813122Z",
     "iopub.status.idle": "2020-12-29T15:57:33.837895Z",
     "shell.execute_reply": "2020-12-29T15:57:33.837166Z"
    },
    "papermill": {
     "duration": 0.055011,
     "end_time": "2020-12-29T15:57:33.838046",
     "exception": false,
     "start_time": "2020-12-29T15:57:33.783035",
     "status": "completed"
    },
    "tags": []
   },
   "outputs": [
    {
     "name": "stdout",
     "output_type": "stream",
     "text": [
      "Model: \"sequential\"\n",
      "_________________________________________________________________\n",
      "Layer (type)                 Output Shape              Param #   \n",
      "=================================================================\n",
      "conv3d (Conv3D)              (None, 15, 120, 120, 8)   656       \n",
      "_________________________________________________________________\n",
      "batch_normalization (BatchNo (None, 15, 120, 120, 8)   32        \n",
      "_________________________________________________________________\n",
      "activation (Activation)      (None, 15, 120, 120, 8)   0         \n",
      "_________________________________________________________________\n",
      "max_pooling3d (MaxPooling3D) (None, 7, 60, 60, 8)      0         \n",
      "_________________________________________________________________\n",
      "conv3d_1 (Conv3D)            (None, 7, 60, 60, 16)     3472      \n",
      "_________________________________________________________________\n",
      "batch_normalization_1 (Batch (None, 7, 60, 60, 16)     64        \n",
      "_________________________________________________________________\n",
      "activation_1 (Activation)    (None, 7, 60, 60, 16)     0         \n",
      "_________________________________________________________________\n",
      "max_pooling3d_1 (MaxPooling3 (None, 3, 30, 30, 16)     0         \n",
      "_________________________________________________________________\n",
      "conv3d_2 (Conv3D)            (None, 3, 30, 30, 32)     13856     \n",
      "_________________________________________________________________\n",
      "batch_normalization_2 (Batch (None, 3, 30, 30, 32)     128       \n",
      "_________________________________________________________________\n",
      "activation_2 (Activation)    (None, 3, 30, 30, 32)     0         \n",
      "_________________________________________________________________\n",
      "max_pooling3d_2 (MaxPooling3 (None, 1, 15, 15, 32)     0         \n",
      "_________________________________________________________________\n",
      "flatten (Flatten)            (None, 7200)              0         \n",
      "_________________________________________________________________\n",
      "dense (Dense)                (None, 1000)              7201000   \n",
      "_________________________________________________________________\n",
      "dropout (Dropout)            (None, 1000)              0         \n",
      "_________________________________________________________________\n",
      "dense_1 (Dense)              (None, 500)               500500    \n",
      "_________________________________________________________________\n",
      "dropout_1 (Dropout)          (None, 500)               0         \n",
      "_________________________________________________________________\n",
      "dense_2 (Dense)              (None, 5)                 2505      \n",
      "=================================================================\n",
      "Total params: 7,722,213\n",
      "Trainable params: 7,722,101\n",
      "Non-trainable params: 112\n",
      "_________________________________________________________________\n",
      "None\n"
     ]
    }
   ],
   "source": [
    "optimizer=optimizers.Adam(lr=LEARNING_RATE)\n",
    "model_a.compile(optimizer=optimizer, loss='binary_crossentropy', metrics=['binary_accuracy']) \n",
    "print (model_a.summary())"
   ]
  },
  {
   "cell_type": "markdown",
   "metadata": {
    "papermill": {
     "duration": 0.019343,
     "end_time": "2020-12-29T15:57:33.877561",
     "exception": false,
     "start_time": "2020-12-29T15:57:33.858218",
     "status": "completed"
    },
    "tags": []
   },
   "source": [
    "Let us create the `train_generator` and the `val_generator` which will be used in `.fit_generator`."
   ]
  },
  {
   "cell_type": "code",
   "execution_count": 9,
   "metadata": {
    "execution": {
     "iopub.execute_input": "2020-12-29T15:57:33.922149Z",
     "iopub.status.busy": "2020-12-29T15:57:33.921271Z",
     "iopub.status.idle": "2020-12-29T15:57:33.924814Z",
     "shell.execute_reply": "2020-12-29T15:57:33.925399Z"
    },
    "papermill": {
     "duration": 0.027786,
     "end_time": "2020-12-29T15:57:33.925548",
     "exception": false,
     "start_time": "2020-12-29T15:57:33.897762",
     "status": "completed"
    },
    "tags": []
   },
   "outputs": [],
   "source": [
    "train_generator = generator(train_path, train_doc, BATCH_SIZE)\n",
    "val_generator = generator(val_path, val_doc, BATCH_SIZE)"
   ]
  },
  {
   "cell_type": "code",
   "execution_count": 10,
   "metadata": {
    "execution": {
     "iopub.execute_input": "2020-12-29T15:57:33.974845Z",
     "iopub.status.busy": "2020-12-29T15:57:33.973148Z",
     "iopub.status.idle": "2020-12-29T15:57:33.975624Z",
     "shell.execute_reply": "2020-12-29T15:57:33.976097Z"
    },
    "papermill": {
     "duration": 0.030089,
     "end_time": "2020-12-29T15:57:33.976203",
     "exception": false,
     "start_time": "2020-12-29T15:57:33.946114",
     "status": "completed"
    },
    "tags": []
   },
   "outputs": [],
   "source": [
    "filepath = 'best_model.h5'\n",
    "\n",
    "mc = ModelCheckpoint(filepath, monitor='val_loss', verbose=1, save_best_only=True, save_weights_only=False, mode='min', save_freq=1)\n",
    "es = EarlyStopping(monitor='val_loss', mode='min', verbose=1, patience=10)\n",
    "lr = ReduceLROnPlateau(monitor='val_loss', factor=0.1, patience=3, verbose=1, mode='min',\n",
    "                        min_delta=0.0001, cooldown=0, min_lr=0) \n",
    "callbacks_list = [mc, lr, es]"
   ]
  },
  {
   "cell_type": "markdown",
   "metadata": {
    "papermill": {
     "duration": 0.055333,
     "end_time": "2020-12-29T15:57:34.051543",
     "exception": false,
     "start_time": "2020-12-29T15:57:33.996210",
     "status": "completed"
    },
    "tags": []
   },
   "source": [
    "The `steps_per_epoch` and `validation_steps` are used by `fit_generator` to decide the number of next() calls it need to make."
   ]
  },
  {
   "cell_type": "code",
   "execution_count": 11,
   "metadata": {
    "execution": {
     "iopub.execute_input": "2020-12-29T15:57:34.100245Z",
     "iopub.status.busy": "2020-12-29T15:57:34.099525Z",
     "iopub.status.idle": "2020-12-29T15:57:34.103494Z",
     "shell.execute_reply": "2020-12-29T15:57:34.102996Z"
    },
    "papermill": {
     "duration": 0.031201,
     "end_time": "2020-12-29T15:57:34.103592",
     "exception": false,
     "start_time": "2020-12-29T15:57:34.072391",
     "status": "completed"
    },
    "tags": []
   },
   "outputs": [],
   "source": [
    "if (num_train_sequences%BATCH_SIZE) == 0:\n",
    "    steps_per_epoch = int(num_train_sequences/BATCH_SIZE)\n",
    "else:\n",
    "    steps_per_epoch = (num_train_sequences//BATCH_SIZE) + 1\n",
    "\n",
    "if (num_val_sequences%BATCH_SIZE) == 0:\n",
    "    validation_steps = int(num_val_sequences/BATCH_SIZE)\n",
    "else:\n",
    "    validation_steps = (num_val_sequences//BATCH_SIZE) + 1"
   ]
  },
  {
   "cell_type": "markdown",
   "metadata": {
    "papermill": {
     "duration": 0.021132,
     "end_time": "2020-12-29T15:57:34.145137",
     "exception": false,
     "start_time": "2020-12-29T15:57:34.124005",
     "status": "completed"
    },
    "tags": []
   },
   "source": [
    "Let us now fit the model. This will start training the model and with the help of the checkpoints, you'll be able to save the model at the end of each epoch."
   ]
  },
  {
   "cell_type": "code",
   "execution_count": 12,
   "metadata": {
    "execution": {
     "iopub.execute_input": "2020-12-29T15:57:34.192197Z",
     "iopub.status.busy": "2020-12-29T15:57:34.191557Z",
     "iopub.status.idle": "2020-12-29T17:29:49.510575Z",
     "shell.execute_reply": "2020-12-29T17:29:49.511451Z"
    },
    "papermill": {
     "duration": 5535.346146,
     "end_time": "2020-12-29T17:29:49.511682",
     "exception": false,
     "start_time": "2020-12-29T15:57:34.165536",
     "status": "completed"
    },
    "tags": []
   },
   "outputs": [
    {
     "name": "stdout",
     "output_type": "stream",
     "text": [
      "Epoch 1/50\n",
      "21/21 [==============================] - 116s 6s/step - loss: 1.2248 - binary_accuracy: 0.7149 - val_loss: 0.8611 - val_binary_accuracy: 0.8000\n",
      "Epoch 2/50\n",
      "21/21 [==============================] - 110s 5s/step - loss: 0.9681 - binary_accuracy: 0.7502 - val_loss: 0.8557 - val_binary_accuracy: 0.8000\n",
      "Epoch 3/50\n",
      "21/21 [==============================] - 111s 5s/step - loss: 0.8883 - binary_accuracy: 0.7777 - val_loss: 0.8546 - val_binary_accuracy: 0.8000\n",
      "Epoch 4/50\n",
      "21/21 [==============================] - 107s 5s/step - loss: 0.8289 - binary_accuracy: 0.7964 - val_loss: 0.8485 - val_binary_accuracy: 0.8000\n",
      "Epoch 5/50\n",
      "21/21 [==============================] - 111s 5s/step - loss: 0.7878 - binary_accuracy: 0.8142 - val_loss: 0.8422 - val_binary_accuracy: 0.8000\n",
      "Epoch 6/50\n",
      "21/21 [==============================] - 112s 5s/step - loss: 0.7595 - binary_accuracy: 0.8293 - val_loss: 0.8565 - val_binary_accuracy: 0.8000\n",
      "Epoch 7/50\n",
      "21/21 [==============================] - 113s 5s/step - loss: 0.7284 - binary_accuracy: 0.8374 - val_loss: 0.8598 - val_binary_accuracy: 0.8080\n",
      "Epoch 8/50\n",
      "21/21 [==============================] - ETA: 0s - loss: 0.6941 - binary_accuracy: 0.8495\n",
      "Epoch 00008: ReduceLROnPlateau reducing learning rate to 9.999999747378752e-06.\n",
      "21/21 [==============================] - 108s 5s/step - loss: 0.6941 - binary_accuracy: 0.8495 - val_loss: 0.8568 - val_binary_accuracy: 0.8160\n",
      "Epoch 9/50\n",
      "21/21 [==============================] - 112s 5s/step - loss: 0.6659 - binary_accuracy: 0.8637 - val_loss: 0.8579 - val_binary_accuracy: 0.8120\n",
      "Epoch 10/50\n",
      "21/21 [==============================] - 110s 5s/step - loss: 0.6586 - binary_accuracy: 0.8661 - val_loss: 0.8546 - val_binary_accuracy: 0.8160\n",
      "Epoch 11/50\n",
      "21/21 [==============================] - ETA: 0s - loss: 0.6460 - binary_accuracy: 0.8766\n",
      "Epoch 00011: ReduceLROnPlateau reducing learning rate to 9.999999747378752e-07.\n",
      "21/21 [==============================] - 109s 5s/step - loss: 0.6460 - binary_accuracy: 0.8766 - val_loss: 0.8459 - val_binary_accuracy: 0.8120\n",
      "Epoch 12/50\n",
      "21/21 [==============================] - 104s 5s/step - loss: 0.6493 - binary_accuracy: 0.8709 - val_loss: 0.8279 - val_binary_accuracy: 0.8200\n",
      "Epoch 13/50\n",
      "21/21 [==============================] - 108s 5s/step - loss: 0.6507 - binary_accuracy: 0.8769 - val_loss: 0.8105 - val_binary_accuracy: 0.8180\n",
      "Epoch 14/50\n",
      "21/21 [==============================] - 108s 5s/step - loss: 0.6449 - binary_accuracy: 0.8796 - val_loss: 0.7826 - val_binary_accuracy: 0.8260\n",
      "Epoch 15/50\n",
      "21/21 [==============================] - 109s 5s/step - loss: 0.6520 - binary_accuracy: 0.8736 - val_loss: 0.8010 - val_binary_accuracy: 0.8020\n",
      "Epoch 16/50\n",
      "21/21 [==============================] - 103s 5s/step - loss: 0.6543 - binary_accuracy: 0.8618 - val_loss: 0.7633 - val_binary_accuracy: 0.8360\n",
      "Epoch 17/50\n",
      "21/21 [==============================] - 107s 5s/step - loss: 0.6369 - binary_accuracy: 0.8760 - val_loss: 0.7393 - val_binary_accuracy: 0.8400\n",
      "Epoch 18/50\n",
      "21/21 [==============================] - 109s 5s/step - loss: 0.6499 - binary_accuracy: 0.8721 - val_loss: 0.7201 - val_binary_accuracy: 0.8440\n",
      "Epoch 19/50\n",
      "21/21 [==============================] - 111s 5s/step - loss: 0.6358 - binary_accuracy: 0.8796 - val_loss: 0.7147 - val_binary_accuracy: 0.8460\n",
      "Epoch 20/50\n",
      "21/21 [==============================] - 107s 5s/step - loss: 0.6231 - binary_accuracy: 0.8860 - val_loss: 0.7068 - val_binary_accuracy: 0.8420\n",
      "Epoch 21/50\n",
      "21/21 [==============================] - 105s 5s/step - loss: 0.6377 - binary_accuracy: 0.8778 - val_loss: 0.7042 - val_binary_accuracy: 0.8420\n",
      "Epoch 22/50\n",
      "21/21 [==============================] - 109s 5s/step - loss: 0.6374 - binary_accuracy: 0.8778 - val_loss: 0.7041 - val_binary_accuracy: 0.8420\n",
      "Epoch 23/50\n",
      "21/21 [==============================] - 108s 5s/step - loss: 0.6487 - binary_accuracy: 0.8751 - val_loss: 0.6890 - val_binary_accuracy: 0.8560\n",
      "Epoch 24/50\n",
      "21/21 [==============================] - 107s 5s/step - loss: 0.6445 - binary_accuracy: 0.8727 - val_loss: 0.6854 - val_binary_accuracy: 0.8600\n",
      "Epoch 25/50\n",
      "21/21 [==============================] - 109s 5s/step - loss: 0.6448 - binary_accuracy: 0.8739 - val_loss: 0.6854 - val_binary_accuracy: 0.8640\n",
      "Epoch 26/50\n",
      "21/21 [==============================] - 110s 5s/step - loss: 0.6260 - binary_accuracy: 0.8817 - val_loss: 0.6844 - val_binary_accuracy: 0.8600\n",
      "Epoch 27/50\n",
      "21/21 [==============================] - 110s 5s/step - loss: 0.6344 - binary_accuracy: 0.8793 - val_loss: 0.6773 - val_binary_accuracy: 0.8740\n",
      "Epoch 28/50\n",
      "21/21 [==============================] - 106s 5s/step - loss: 0.6214 - binary_accuracy: 0.8842 - val_loss: 0.6677 - val_binary_accuracy: 0.8780\n",
      "Epoch 29/50\n",
      "21/21 [==============================] - 110s 5s/step - loss: 0.6277 - binary_accuracy: 0.8805 - val_loss: 0.6738 - val_binary_accuracy: 0.8680\n",
      "Epoch 30/50\n",
      "21/21 [==============================] - 112s 5s/step - loss: 0.6219 - binary_accuracy: 0.8860 - val_loss: 0.6694 - val_binary_accuracy: 0.8840\n",
      "Epoch 31/50\n",
      "21/21 [==============================] - ETA: 0s - loss: 0.6438 - binary_accuracy: 0.8715\n",
      "Epoch 00031: ReduceLROnPlateau reducing learning rate to 9.999999974752428e-08.\n",
      "21/21 [==============================] - 125s 6s/step - loss: 0.6438 - binary_accuracy: 0.8715 - val_loss: 0.6819 - val_binary_accuracy: 0.8660\n",
      "Epoch 32/50\n",
      "21/21 [==============================] - 120s 6s/step - loss: 0.6334 - binary_accuracy: 0.8817 - val_loss: 0.6737 - val_binary_accuracy: 0.8740\n",
      "Epoch 33/50\n",
      "21/21 [==============================] - 114s 5s/step - loss: 0.6415 - binary_accuracy: 0.8709 - val_loss: 0.6669 - val_binary_accuracy: 0.8760\n",
      "Epoch 34/50\n",
      "21/21 [==============================] - 113s 5s/step - loss: 0.6267 - binary_accuracy: 0.8833 - val_loss: 0.6720 - val_binary_accuracy: 0.8700\n",
      "Epoch 35/50\n",
      "21/21 [==============================] - 112s 5s/step - loss: 0.6235 - binary_accuracy: 0.8851 - val_loss: 0.6666 - val_binary_accuracy: 0.8880\n",
      "Epoch 36/50\n",
      "21/21 [==============================] - 107s 5s/step - loss: 0.6324 - binary_accuracy: 0.8802 - val_loss: 0.6784 - val_binary_accuracy: 0.8720\n",
      "Epoch 37/50\n",
      "21/21 [==============================] - 111s 5s/step - loss: 0.6368 - binary_accuracy: 0.8796 - val_loss: 0.6749 - val_binary_accuracy: 0.8720\n",
      "Epoch 38/50\n",
      "21/21 [==============================] - ETA: 0s - loss: 0.6344 - binary_accuracy: 0.8796\n",
      "Epoch 00038: ReduceLROnPlateau reducing learning rate to 1.0000000116860975e-08.\n",
      "21/21 [==============================] - 113s 5s/step - loss: 0.6344 - binary_accuracy: 0.8796 - val_loss: 0.6843 - val_binary_accuracy: 0.8640\n",
      "Epoch 39/50\n",
      "21/21 [==============================] - 111s 5s/step - loss: 0.6192 - binary_accuracy: 0.8848 - val_loss: 0.6773 - val_binary_accuracy: 0.8740\n",
      "Epoch 40/50\n",
      "21/21 [==============================] - 108s 5s/step - loss: 0.6355 - binary_accuracy: 0.8742 - val_loss: 0.6825 - val_binary_accuracy: 0.8780\n",
      "Epoch 41/50\n",
      "21/21 [==============================] - ETA: 0s - loss: 0.6343 - binary_accuracy: 0.8796\n",
      "Epoch 00041: ReduceLROnPlateau reducing learning rate to 9.999999939225292e-10.\n",
      "21/21 [==============================] - 113s 5s/step - loss: 0.6343 - binary_accuracy: 0.8796 - val_loss: 0.6669 - val_binary_accuracy: 0.8780\n",
      "Epoch 42/50\n",
      "21/21 [==============================] - 110s 5s/step - loss: 0.6351 - binary_accuracy: 0.8772 - val_loss: 0.6753 - val_binary_accuracy: 0.8860\n",
      "Epoch 43/50\n",
      "21/21 [==============================] - 113s 5s/step - loss: 0.6137 - binary_accuracy: 0.8866 - val_loss: 0.6348 - val_binary_accuracy: 0.9040\n",
      "Epoch 44/50\n",
      "21/21 [==============================] - 108s 5s/step - loss: 0.6287 - binary_accuracy: 0.8778 - val_loss: 0.6746 - val_binary_accuracy: 0.8820\n",
      "Epoch 45/50\n",
      "21/21 [==============================] - 111s 5s/step - loss: 0.6196 - binary_accuracy: 0.8887 - val_loss: 0.6668 - val_binary_accuracy: 0.8820\n",
      "Epoch 46/50\n",
      "21/21 [==============================] - ETA: 0s - loss: 0.6306 - binary_accuracy: 0.8817\n",
      "Epoch 00046: ReduceLROnPlateau reducing learning rate to 9.999999717180686e-11.\n",
      "21/21 [==============================] - 113s 5s/step - loss: 0.6306 - binary_accuracy: 0.8817 - val_loss: 0.6871 - val_binary_accuracy: 0.8720\n",
      "Epoch 47/50\n",
      "21/21 [==============================] - 112s 5s/step - loss: 0.6352 - binary_accuracy: 0.8790 - val_loss: 0.6530 - val_binary_accuracy: 0.8820\n",
      "Epoch 48/50\n",
      "21/21 [==============================] - 107s 5s/step - loss: 0.6164 - binary_accuracy: 0.8866 - val_loss: 0.6737 - val_binary_accuracy: 0.8760\n",
      "Epoch 49/50\n",
      "21/21 [==============================] - ETA: 0s - loss: 0.6234 - binary_accuracy: 0.8842\n",
      "Epoch 00049: ReduceLROnPlateau reducing learning rate to 9.99999943962493e-12.\n",
      "21/21 [==============================] - 113s 5s/step - loss: 0.6234 - binary_accuracy: 0.8842 - val_loss: 0.6707 - val_binary_accuracy: 0.8800\n",
      "Epoch 50/50\n",
      "21/21 [==============================] - 112s 5s/step - loss: 0.6354 - binary_accuracy: 0.8814 - val_loss: 0.6572 - val_binary_accuracy: 0.8760\n"
     ]
    }
   ],
   "source": [
    "history = model_a.fit_generator(train_generator, steps_per_epoch=steps_per_epoch, epochs=NUM_EPOCHS, verbose=1, \n",
    "                        callbacks=callbacks_list, validation_data=val_generator, \n",
    "                        validation_steps=validation_steps, class_weight=None, workers=1, initial_epoch=0)"
   ]
  },
  {
   "cell_type": "markdown",
   "metadata": {
    "papermill": {
     "duration": 0.436901,
     "end_time": "2020-12-29T17:29:50.362885",
     "exception": false,
     "start_time": "2020-12-29T17:29:49.925984",
     "status": "completed"
    },
    "tags": []
   },
   "source": [
    "Plot the train and validation loss and accuracies"
   ]
  },
  {
   "cell_type": "code",
   "execution_count": 13,
   "metadata": {
    "execution": {
     "iopub.execute_input": "2020-12-29T17:29:51.248904Z",
     "iopub.status.busy": "2020-12-29T17:29:51.247652Z",
     "iopub.status.idle": "2020-12-29T17:29:51.921053Z",
     "shell.execute_reply": "2020-12-29T17:29:51.919981Z"
    },
    "papermill": {
     "duration": 1.144244,
     "end_time": "2020-12-29T17:29:51.921190",
     "exception": false,
     "start_time": "2020-12-29T17:29:50.776946",
     "status": "completed"
    },
    "tags": []
   },
   "outputs": [
    {
     "data": {
      "image/png": "[encoded data removed]",
      "text/plain": [
       "<Figure size 432x288 with 1 Axes>"
      ]
     },
     "metadata": {
      "needs_background": "light"
     },
     "output_type": "display_data"
    },
    {
     "data": {
      "image/png": "[encoded data removed]",
      "text/plain": [
       "<Figure size 432x288 with 1 Axes>"
      ]
     },
     "metadata": {
      "needs_background": "light"
     },
     "output_type": "display_data"
    }
   ],
   "source": [
    "history_frame = pd.DataFrame(history.history)\n",
    "history_frame.loc[:, ['loss', 'val_loss']].plot()\n",
    "history_frame.loc[:, ['binary_accuracy', 'val_binary_accuracy']].plot();"
   ]
  },
  {
   "cell_type": "code",
   "execution_count": 14,
   "metadata": {
    "execution": {
     "iopub.execute_input": "2020-12-29T17:29:52.776812Z",
     "iopub.status.busy": "2020-12-29T17:29:52.775676Z",
     "iopub.status.idle": "2020-12-29T17:29:52.779919Z",
     "shell.execute_reply": "2020-12-29T17:29:52.777416Z"
    },
    "papermill": {
     "duration": 0.427651,
     "end_time": "2020-12-29T17:29:52.780035",
     "exception": false,
     "start_time": "2020-12-29T17:29:52.352384",
     "status": "completed"
    },
    "tags": []
   },
   "outputs": [
    {
     "name": "stdout",
     "output_type": "stream",
     "text": [
      "Total execution time is : 94 minutes\n"
     ]
    }
   ],
   "source": [
    "# Display the exeuction time\n",
    "print('Total execution time is :',round((time.time() - start_time)/60),'minutes')"
   ]
  },
  {
   "cell_type": "code",
   "execution_count": null,
   "metadata": {
    "papermill": {
     "duration": 0.41847,
     "end_time": "2020-12-29T17:29:53.627028",
     "exception": false,
     "start_time": "2020-12-29T17:29:53.208558",
     "status": "completed"
    },
    "tags": []
   },
   "outputs": [],
   "source": []
  }
 ],
 "metadata": {
  "kernelspec": {
   "display_name": "Python 3",
   "language": "python",
   "name": "python3"
  },
  "language_info": {
   "codemirror_mode": {
    "name": "ipython",
    "version": 3
   },
   "file_extension": ".py",
   "mimetype": "text/x-python",
   "name": "python",
   "nbconvert_exporter": "python",
   "pygments_lexer": "ipython3",
   "version": "3.8.5"
  },
  "papermill": {
   "duration": 5622.878993,
   "end_time": "2020-12-29T17:29:55.688762",
   "environment_variables": {},
   "exception": null,
   "input_path": "__notebook__.ipynb",
   "output_path": "__notebook__.ipynb",
   "parameters": {},
   "start_time": "2020-12-29T15:56:12.809769",
   "version": "2.1.0"
  }
 },
 "nbformat": 4,
 "nbformat_minor": 4
}
