{
 "cells": [
  {
   "cell_type": "markdown",
   "metadata": {
    "papermill": {
     "duration": 0.018911,
     "end_time": "2021-01-08T16:18:12.042028",
     "exception": false,
     "start_time": "2021-01-08T16:18:12.023117",
     "status": "completed"
    },
    "tags": []
   },
   "source": [
    "# Gesture Recognition\n",
    "In this group project, we are going to build a CNN-RNN model with Pretrained model VGG16 that will be able to predict the 5 gestures correctly. Please import the following libraries to get started."
   ]
  },
  {
   "cell_type": "code",
   "execution_count": 1,
   "metadata": {
    "execution": {
     "iopub.execute_input": "2021-01-08T16:18:12.087868Z",
     "iopub.status.busy": "2021-01-08T16:18:12.086902Z",
     "iopub.status.idle": "2021-01-08T16:18:12.090142Z",
     "shell.execute_reply": "2021-01-08T16:18:12.089525Z"
    },
    "papermill": {
     "duration": 0.028596,
     "end_time": "2021-01-08T16:18:12.090257",
     "exception": false,
     "start_time": "2021-01-08T16:18:12.061661",
     "status": "completed"
    },
    "tags": []
   },
   "outputs": [],
   "source": [
    "import numpy as np\n",
    "import pandas as pd\n",
    "import os\n",
    "import datetime\n",
    "import time\n",
    "import warnings\n",
    "warnings.filterwarnings('ignore')\n",
    "\n",
    "start_time=time.time()"
   ]
  },
  {
   "cell_type": "markdown",
   "metadata": {
    "papermill": {
     "duration": 0.017325,
     "end_time": "2021-01-08T16:18:12.125494",
     "exception": false,
     "start_time": "2021-01-08T16:18:12.108169",
     "status": "completed"
    },
    "tags": []
   },
   "source": [
    "We set the random seed so that the results don't vary drastically."
   ]
  },
  {
   "cell_type": "code",
   "execution_count": 2,
   "metadata": {
    "execution": {
     "iopub.execute_input": "2021-01-08T16:18:12.170438Z",
     "iopub.status.busy": "2021-01-08T16:18:12.169683Z",
     "iopub.status.idle": "2021-01-08T16:18:21.317758Z",
     "shell.execute_reply": "2021-01-08T16:18:21.316654Z"
    },
    "papermill": {
     "duration": 9.1741,
     "end_time": "2021-01-08T16:18:21.317993",
     "exception": false,
     "start_time": "2021-01-08T16:18:12.143893",
     "status": "completed"
    },
    "tags": []
   },
   "outputs": [
    {
     "name": "stdout",
     "output_type": "stream",
     "text": [
      "Tensorflow version:  2.3.1\n",
      "Default GPU Device:/device:GPU:0\n"
     ]
    }
   ],
   "source": [
    "np.random.seed(30)\n",
    "import random as rn\n",
    "rn.seed(30)\n",
    "from tensorflow.keras import backend as K\n",
    "import tensorflow as tf\n",
    "print('Tensorflow version: ',tf.__version__)\n",
    "tf.random.set_seed(30)\n",
    "if tf.test.gpu_device_name():\n",
    "    print('Default GPU Device:{}'.format(tf.test.gpu_device_name()))\n",
    "else:\n",
    "    print(\"Please install GPU version of TF\")"
   ]
  },
  {
   "cell_type": "markdown",
   "metadata": {
    "papermill": {
     "duration": 0.019194,
     "end_time": "2021-01-08T16:18:21.358359",
     "exception": false,
     "start_time": "2021-01-08T16:18:21.339165",
     "status": "completed"
    },
    "tags": []
   },
   "source": [
    "In this block, you read the folder names for training and validation. You also set the `batch_size` here. Note that you set the batch size in such a way that you are able to use the GPU in full capacity. You keep increasing the batch size until the machine throws an error."
   ]
  },
  {
   "cell_type": "code",
   "execution_count": 3,
   "metadata": {
    "execution": {
     "iopub.execute_input": "2021-01-08T16:18:21.405592Z",
     "iopub.status.busy": "2021-01-08T16:18:21.404784Z",
     "iopub.status.idle": "2021-01-08T16:18:21.428549Z",
     "shell.execute_reply": "2021-01-08T16:18:21.429388Z"
    },
    "papermill": {
     "duration": 0.051968,
     "end_time": "2021-01-08T16:18:21.429590",
     "exception": false,
     "start_time": "2021-01-08T16:18:21.377622",
     "status": "completed"
    },
    "tags": []
   },
   "outputs": [
    {
     "name": "stdout",
     "output_type": "stream",
     "text": [
      "Number of frames being considered : 15\n"
     ]
    }
   ],
   "source": [
    "BASE_PATH='../input/untouched-gesture-dataset'\n",
    "#BASE_PATH='.'\n",
    "train_doc = np.random.permutation(open(BASE_PATH+'/Project_data/train.csv').readlines())\n",
    "val_doc = np.random.permutation(open(BASE_PATH+'/Project_data/val.csv').readlines())\n",
    "BATCH_SIZE = 32 #experiment with the batch size\n",
    "IMG_HEIGHT = 120\n",
    "IMG_WIDTH = 120\n",
    "LEARNING_RATE=0.0001\n",
    "FRAMES=len(list(range(1,30,2)))\n",
    "NUM_EPOCHS = 50\n",
    "print('Number of frames being considered :',FRAMES)"
   ]
  },
  {
   "cell_type": "markdown",
   "metadata": {
    "papermill": {
     "duration": 0.020042,
     "end_time": "2021-01-08T16:18:21.470528",
     "exception": false,
     "start_time": "2021-01-08T16:18:21.450486",
     "status": "completed"
    },
    "tags": []
   },
   "source": [
    "## Generator\n",
    "This is one of the most important part of the code. The overall structure of the generator has been given. In the generator, you are going to preprocess the images as you have images of 2 different dimensions as well as create a batch of video frames. You have to experiment with `img_idx`, `y`,`z` and normalization such that you get high accuracy."
   ]
  },
  {
   "cell_type": "code",
   "execution_count": 4,
   "metadata": {
    "execution": {
     "iopub.execute_input": "2021-01-08T16:18:21.547770Z",
     "iopub.status.busy": "2021-01-08T16:18:21.539249Z",
     "iopub.status.idle": "2021-01-08T16:18:21.550826Z",
     "shell.execute_reply": "2021-01-08T16:18:21.550260Z"
    },
    "papermill": {
     "duration": 0.060474,
     "end_time": "2021-01-08T16:18:21.550960",
     "exception": false,
     "start_time": "2021-01-08T16:18:21.490486",
     "status": "completed"
    },
    "tags": []
   },
   "outputs": [],
   "source": [
    "def generator(source_path, folder_list, batch_size):\n",
    "    #print( 'Source path = ', source_path, '; batch size =', batch_size)\n",
    "    # We will consider frames 10 to 20 for training\n",
    "    img_idx = range(0,30,2) #create a list of image numbers you want to use for a particular video\n",
    "    while True:\n",
    "        t = np.random.permutation(folder_list)\n",
    "        num_batches = int(len(folder_list) / batch_size) # calculate the number of batches\n",
    "        for batch in range(num_batches): # we iterate over the number of batches\n",
    "            # second parameter x set to len(img_idx) list - indicates no. of images we want to use for each video\n",
    "            # third and fourth parameters (y,z) indicate the final size of input image\n",
    "            batch_data = np.zeros((batch_size,len(img_idx),120,120,3)) # x is the number of images you use for each video, (y,z) is the final size of the input images and 3 is the number of channels RGB\n",
    "            batch_labels = np.zeros((batch_size,5)) # batch_labels is the one hot representation of the output\n",
    "            for folder in range(batch_size): # iterate over the batch_size\n",
    "                imgs = os.listdir(source_path+'/'+ t[folder + (batch*batch_size)].split(';')[0]) # read all the images in the folder\n",
    "                for idx,item in enumerate(img_idx): #  Iterate iver the frames/images of a folder to read them in\n",
    "                    image = tf.io.read_file(source_path+'/'+ t[folder + (batch*batch_size)].strip().split(';')[0]+'/'+imgs[item])\n",
    "                    image = tf.io.decode_jpeg(image,channels=3)\n",
    "                    #crop the images and resize them. Note that the images are of 2 different shape \n",
    "                    #and the conv3D will throw error if the inputs in a batch have different shapes\n",
    "                    # We will resize all the images to a standard shape of (120,120)\n",
    "                    # We will use distinct normalization methods for different channel\n",
    "                    im_resized = tf.image.resize(image,size=[IMG_HEIGHT,IMG_WIDTH],method='nearest') \n",
    "                    im_resized = tf.image.resize(tf.image.central_crop(im_resized,0.9),size=[IMG_HEIGHT,IMG_WIDTH],method='nearest')\n",
    "                    im_resized_0 = im_resized[:,:,0]\n",
    "                    im_resized_1 = im_resized[:,:,1]\n",
    "                    im_resized_2 = im_resized[:,:,2]\n",
    "                    batch_data[folder,idx,:,:,0] = (im_resized_0 - np.min(im_resized_0))/ (np.max(im_resized_0) - np.min(im_resized_0)) #normalise and feed in the image\n",
    "                    batch_data[folder,idx,:,:,1] = (im_resized_1 - np.percentile(im_resized_1,5))/ (np.percentile(im_resized_1,95) - np.percentile(im_resized_1,5)) #normalise and feed in the image\n",
    "                    batch_data[folder,idx,:,:,2] = im_resized_2/255 #normalise and feed in the image                    \n",
    "                batch_labels[folder, int(t[folder + (batch*batch_size)].strip().split(';')[2])] = 1\n",
    "            yield batch_data, batch_labels #you yield the batch_data and the batch_labels, remember what does yield do\n",
    "\n",
    "        \n",
    "        # write the code for the remaining data points which are left after full batches\n",
    "        if len(folder_list) != (num_batches * batch_size):\n",
    "            n_batch_size = len(folder_list) - (num_batches * batch_size)\n",
    "            batch_data = np.zeros((n_batch_size,len(img_idx),120,120,3))\n",
    "            batch_labels = np.zeros((n_batch_size,5))\n",
    "            for folder in range(n_batch_size): # iterate over the batch_size\n",
    "                imgs = os.listdir(source_path+'/'+ t[folder + (num_batches*n_batch_size)].split(';')[0]) # read all the images in the folder\n",
    "                for idx,item in enumerate(img_idx): #  Iterate iver the frames/images of a folder to read them in\n",
    "                    image = tf.io.read_file(source_path+'/'+ t[folder + (num_batches*n_batch_size)].strip().split(';')[0]+'/'+imgs[item])\n",
    "                    image = tf.io.decode_jpeg(image,channels=3)\n",
    "                    #crop the images and resize them. Note that the images are of 2 different shape \n",
    "                    #and the conv3D will throw error if the inputs in a batch have different shapes\n",
    "                    # We will resize all the images to a standard shape of (120,120)\n",
    "                    # We will use distinct normalization methods for different channel\n",
    "                    im_resized = tf.image.resize(image,size=[IMG_HEIGHT,IMG_WIDTH],method='nearest') \n",
    "                    im_resized = tf.image.resize(tf.image.central_crop(im_resized,0.9),size=[IMG_HEIGHT,IMG_WIDTH],method='nearest')\n",
    "                    im_resized_0 = im_resized[:,:,0]\n",
    "                    im_resized_1 = im_resized[:,:,1]\n",
    "                    im_resized_2 = im_resized[:,:,2]\n",
    "                    batch_data[folder,idx,:,:,0] = (im_resized_0 - np.min(im_resized_0))/ (np.max(im_resized_0) - np.min(im_resized_0)) #normalise and feed in the image\n",
    "                    batch_data[folder,idx,:,:,1] = (im_resized_1 - np.percentile(im_resized_1,5))/ (np.percentile(im_resized_1,95) - np.percentile(im_resized_1,5)) #normalise and feed in the image\n",
    "                    batch_data[folder,idx,:,:,2] = im_resized_2/255 #normalise and feed in the image   \n",
    "                    \n",
    "                batch_labels[folder, int(t[folder + (num_batches*n_batch_size)].strip().split(';')[2])] = 1\n",
    "            yield batch_data, batch_labels #you yield the batch_data and the batch_labels, remember what does yield do\n",
    "        "
   ]
  },
  {
   "cell_type": "markdown",
   "metadata": {
    "papermill": {
     "duration": 0.01969,
     "end_time": "2021-01-08T16:18:21.590836",
     "exception": false,
     "start_time": "2021-01-08T16:18:21.571146",
     "status": "completed"
    },
    "tags": []
   },
   "source": [
    "Note here that a video is represented above in the generator as (number of images, height, width, number of channels). Take this into consideration while creating the model architecture."
   ]
  },
  {
   "cell_type": "code",
   "execution_count": 5,
   "metadata": {
    "execution": {
     "iopub.execute_input": "2021-01-08T16:18:21.644162Z",
     "iopub.status.busy": "2021-01-08T16:18:21.643314Z",
     "iopub.status.idle": "2021-01-08T16:20:15.395001Z",
     "shell.execute_reply": "2021-01-08T16:20:15.395602Z"
    },
    "papermill": {
     "duration": 113.784012,
     "end_time": "2021-01-08T16:20:15.395797",
     "exception": false,
     "start_time": "2021-01-08T16:18:21.611785",
     "status": "completed"
    },
    "tags": []
   },
   "outputs": [
    {
     "name": "stdout",
     "output_type": "stream",
     "text": [
      "# training sequences = 663\n",
      "# training batches = 22\n",
      "# validation sequences = 100\n"
     ]
    }
   ],
   "source": [
    "from PIL import Image\n",
    "\n",
    "curr_dt_time = datetime.datetime.now()\n",
    "train_path = BASE_PATH+'/Project_data/train'\n",
    "val_path = BASE_PATH+'/Project_data/val'\n",
    "num_train_sequences = len(train_doc)\n",
    "print('# training sequences =', num_train_sequences)\n",
    "print('# training batches =', int(num_train_sequences/30))\n",
    "num_val_sequences = len(val_doc)\n",
    "print('# validation sequences =', num_val_sequences)\n",
    "\n",
    "img_sizes=[]\n",
    "for i in os.listdir(train_path):\n",
    "    if not(i.startswith('.')):\n",
    "        file_path = train_path + \"/\" + i\n",
    "        for j in os.listdir(file_path):\n",
    "            if not(j.startswith('.')):\n",
    "                im_path = file_path + \"/\" + j\n",
    "                im = Image.open(im_path)\n",
    "                img_sizes.append(im.size)"
   ]
  },
  {
   "cell_type": "code",
   "execution_count": 6,
   "metadata": {
    "execution": {
     "iopub.execute_input": "2021-01-08T16:20:15.452528Z",
     "iopub.status.busy": "2021-01-08T16:20:15.450975Z",
     "iopub.status.idle": "2021-01-08T16:20:15.455651Z",
     "shell.execute_reply": "2021-01-08T16:20:15.456202Z"
    },
    "papermill": {
     "duration": 0.037685,
     "end_time": "2021-01-08T16:20:15.456373",
     "exception": false,
     "start_time": "2021-01-08T16:20:15.418688",
     "status": "completed"
    },
    "tags": []
   },
   "outputs": [
    {
     "data": {
      "text/plain": [
       "{(160, 120), (360, 360)}"
      ]
     },
     "execution_count": 6,
     "metadata": {},
     "output_type": "execute_result"
    }
   ],
   "source": [
    "set(img_sizes)"
   ]
  },
  {
   "cell_type": "markdown",
   "metadata": {
    "papermill": {
     "duration": 0.021296,
     "end_time": "2021-01-08T16:20:15.498758",
     "exception": false,
     "start_time": "2021-01-08T16:20:15.477462",
     "status": "completed"
    },
    "tags": []
   },
   "source": [
    "As we can see we have two shapes of images (160,120) and (360,360).  We will standardize the image shapes to (120,120)"
   ]
  },
  {
   "cell_type": "markdown",
   "metadata": {
    "papermill": {
     "duration": 0.020042,
     "end_time": "2021-01-08T16:20:15.539484",
     "exception": false,
     "start_time": "2021-01-08T16:20:15.519442",
     "status": "completed"
    },
    "tags": []
   },
   "source": [
    "## Model\n",
    "Here you make the model using different functionalities that Keras provides. Remember to use `Conv3D` and `MaxPooling3D` and not `Conv2D` and `Maxpooling2D` for a 3D convolution model. You would want to use `TimeDistributed` while building a Conv2D + RNN model. Also remember that the last layer is the softmax. Design the network in such a way that the model is able to give good accuracy on the least number of parameters so that it can fit in the memory of the webcam."
   ]
  },
  {
   "cell_type": "markdown",
   "metadata": {
    "papermill": {
     "duration": 0.020464,
     "end_time": "2021-01-08T16:20:15.581286",
     "exception": false,
     "start_time": "2021-01-08T16:20:15.560822",
     "status": "completed"
    },
    "tags": []
   },
   "source": [
    "#### Conv2D + RNN Model using VGG16 pretrained model"
   ]
  },
  {
   "cell_type": "code",
   "execution_count": 7,
   "metadata": {
    "execution": {
     "iopub.execute_input": "2021-01-08T16:20:15.640874Z",
     "iopub.status.busy": "2021-01-08T16:20:15.635835Z",
     "iopub.status.idle": "2021-01-08T16:20:18.456479Z",
     "shell.execute_reply": "2021-01-08T16:20:18.455834Z"
    },
    "papermill": {
     "duration": 2.853739,
     "end_time": "2021-01-08T16:20:18.456606",
     "exception": false,
     "start_time": "2021-01-08T16:20:15.602867",
     "status": "completed"
    },
    "tags": []
   },
   "outputs": [
    {
     "name": "stdout",
     "output_type": "stream",
     "text": [
      "Downloading data from https://storage.googleapis.com/tensorflow/keras-applications/vgg16/vgg16_weights_tf_dim_ordering_tf_kernels_notop.h5\n",
      "58892288/58889256 [==============================] - 1s 0us/step\n"
     ]
    }
   ],
   "source": [
    "from tensorflow.keras.models import Sequential, Model\n",
    "from tensorflow.keras.layers import Dense, GRU, LSTM, Flatten, TimeDistributed, Flatten, BatchNormalization, Activation, Dropout\n",
    "from tensorflow.keras.layers import Conv3D, MaxPooling3D, Conv2D, MaxPooling2D\n",
    "from tensorflow.keras.callbacks import ModelCheckpoint, ReduceLROnPlateau, EarlyStopping\n",
    "from tensorflow.keras import optimizers\n",
    "from tensorflow.keras import initializers\n",
    "from tensorflow.keras import regularizers\n",
    "from tensorflow.keras.applications.vgg16 import VGG16\n",
    "\n",
    "#write your model here\n",
    "nb_filters = [8,16,32,64]\n",
    "nb_dense = [1000, 500, 8, 5]\n",
    "input_shape = (FRAMES, IMG_HEIGHT,IMG_WIDTH, 3)\n",
    "\n",
    "pretrained_model = VGG16(include_top=False, weights='imagenet', input_shape=(IMG_HEIGHT,IMG_WIDTH,3))\n",
    "x = pretrained_model.output\n",
    "x = Flatten()(x)\n",
    "\n",
    "features = Dense(64, activation='relu')(x)\n",
    "conv_model = Model(pretrained_model.input, features)\n",
    "\n",
    "for layer in pretrained_model.layers:\n",
    "    layer.trainable = False\n",
    "    \n",
    "model = Sequential()\n",
    "model.add(TimeDistributed(conv_model, input_shape=input_shape))\n",
    "model.add(GRU(32, return_sequences=True, dropout=0.5))\n",
    "model.add(GRU(16, dropout=0.5))\n",
    "model.add(Dense(nb_dense[2], activation='relu'))\n",
    "model.add(Dense(nb_dense[3], activation='sigmoid'))"
   ]
  },
  {
   "cell_type": "markdown",
   "metadata": {
    "papermill": {
     "duration": 0.026583,
     "end_time": "2021-01-08T16:20:18.510322",
     "exception": false,
     "start_time": "2021-01-08T16:20:18.483739",
     "status": "completed"
    },
    "tags": []
   },
   "source": [
    "Now that you have written the model, the next step is to `compile` the model. When you print the `summary` of the model, you'll see the total number of parameters you have to train."
   ]
  },
  {
   "cell_type": "code",
   "execution_count": 8,
   "metadata": {
    "execution": {
     "iopub.execute_input": "2021-01-08T16:20:18.586347Z",
     "iopub.status.busy": "2021-01-08T16:20:18.585632Z",
     "iopub.status.idle": "2021-01-08T16:20:18.605143Z",
     "shell.execute_reply": "2021-01-08T16:20:18.606622Z"
    },
    "papermill": {
     "duration": 0.060662,
     "end_time": "2021-01-08T16:20:18.606995",
     "exception": false,
     "start_time": "2021-01-08T16:20:18.546333",
     "status": "completed"
    },
    "tags": []
   },
   "outputs": [
    {
     "name": "stdout",
     "output_type": "stream",
     "text": [
      "Model: \"sequential\"\n",
      "_________________________________________________________________\n",
      "Layer (type)                 Output Shape              Param #   \n",
      "=================================================================\n",
      "time_distributed (TimeDistri (None, 15, 64)            15009664  \n",
      "_________________________________________________________________\n",
      "gru (GRU)                    (None, 15, 32)            9408      \n",
      "_________________________________________________________________\n",
      "gru_1 (GRU)                  (None, 16)                2400      \n",
      "_________________________________________________________________\n",
      "dense_1 (Dense)              (None, 8)                 136       \n",
      "_________________________________________________________________\n",
      "dense_2 (Dense)              (None, 5)                 45        \n",
      "=================================================================\n",
      "Total params: 15,021,653\n",
      "Trainable params: 306,965\n",
      "Non-trainable params: 14,714,688\n",
      "_________________________________________________________________\n",
      "None\n"
     ]
    }
   ],
   "source": [
    "optimizer=optimizers.Adam(lr=LEARNING_RATE)\n",
    "model.compile(optimizer=optimizer, loss='binary_crossentropy', metrics=['binary_accuracy']) \n",
    "print (model.summary())"
   ]
  },
  {
   "cell_type": "markdown",
   "metadata": {
    "papermill": {
     "duration": 0.069176,
     "end_time": "2021-01-08T16:20:18.705302",
     "exception": false,
     "start_time": "2021-01-08T16:20:18.636126",
     "status": "completed"
    },
    "tags": []
   },
   "source": [
    "Let us create the `train_generator` and the `val_generator` which will be used in `.fit_generator`."
   ]
  },
  {
   "cell_type": "code",
   "execution_count": 9,
   "metadata": {
    "execution": {
     "iopub.execute_input": "2021-01-08T16:20:18.766883Z",
     "iopub.status.busy": "2021-01-08T16:20:18.765501Z",
     "iopub.status.idle": "2021-01-08T16:20:18.767682Z",
     "shell.execute_reply": "2021-01-08T16:20:18.768239Z"
    },
    "papermill": {
     "duration": 0.035983,
     "end_time": "2021-01-08T16:20:18.768377",
     "exception": false,
     "start_time": "2021-01-08T16:20:18.732394",
     "status": "completed"
    },
    "tags": []
   },
   "outputs": [],
   "source": [
    "train_generator = generator(train_path, train_doc, BATCH_SIZE)\n",
    "val_generator = generator(val_path, val_doc, BATCH_SIZE)"
   ]
  },
  {
   "cell_type": "code",
   "execution_count": 10,
   "metadata": {
    "execution": {
     "iopub.execute_input": "2021-01-08T16:20:18.830771Z",
     "iopub.status.busy": "2021-01-08T16:20:18.829952Z",
     "iopub.status.idle": "2021-01-08T16:20:18.833884Z",
     "shell.execute_reply": "2021-01-08T16:20:18.833356Z"
    },
    "papermill": {
     "duration": 0.038548,
     "end_time": "2021-01-08T16:20:18.834002",
     "exception": false,
     "start_time": "2021-01-08T16:20:18.795454",
     "status": "completed"
    },
    "tags": []
   },
   "outputs": [],
   "source": [
    "filepath = 'best_model.h5'\n",
    "\n",
    "mc = ModelCheckpoint(filepath, monitor='val_loss', verbose=1, save_best_only=True, save_weights_only=False, mode='min', save_freq=1)\n",
    "es = EarlyStopping(monitor='val_loss', mode='min', verbose=1, patience=10)\n",
    "lr = ReduceLROnPlateau(monitor='val_loss', factor=0.1, patience=3, verbose=1, mode='min',\n",
    "                        min_delta=0.0001, cooldown=0, min_lr=0) \n",
    "callbacks_list = [mc, lr, es]"
   ]
  },
  {
   "cell_type": "markdown",
   "metadata": {
    "papermill": {
     "duration": 0.026317,
     "end_time": "2021-01-08T16:20:18.887830",
     "exception": false,
     "start_time": "2021-01-08T16:20:18.861513",
     "status": "completed"
    },
    "tags": []
   },
   "source": [
    "The `steps_per_epoch` and `validation_steps` are used by `fit_generator` to decide the number of next() calls it need to make."
   ]
  },
  {
   "cell_type": "code",
   "execution_count": 11,
   "metadata": {
    "execution": {
     "iopub.execute_input": "2021-01-08T16:20:18.950447Z",
     "iopub.status.busy": "2021-01-08T16:20:18.949538Z",
     "iopub.status.idle": "2021-01-08T16:20:18.953268Z",
     "shell.execute_reply": "2021-01-08T16:20:18.952745Z"
    },
    "papermill": {
     "duration": 0.038974,
     "end_time": "2021-01-08T16:20:18.953390",
     "exception": false,
     "start_time": "2021-01-08T16:20:18.914416",
     "status": "completed"
    },
    "tags": []
   },
   "outputs": [],
   "source": [
    "if (num_train_sequences%BATCH_SIZE) == 0:\n",
    "    steps_per_epoch = int(num_train_sequences/BATCH_SIZE)\n",
    "else:\n",
    "    steps_per_epoch = (num_train_sequences//BATCH_SIZE) + 1\n",
    "\n",
    "if (num_val_sequences%BATCH_SIZE) == 0:\n",
    "    validation_steps = int(num_val_sequences/BATCH_SIZE)\n",
    "else:\n",
    "    validation_steps = (num_val_sequences//BATCH_SIZE) + 1"
   ]
  },
  {
   "cell_type": "markdown",
   "metadata": {
    "papermill": {
     "duration": 0.0266,
     "end_time": "2021-01-08T16:20:19.006886",
     "exception": false,
     "start_time": "2021-01-08T16:20:18.980286",
     "status": "completed"
    },
    "tags": []
   },
   "source": [
    "Let us now fit the model. This will start training the model and with the help of the checkpoints, you'll be able to save the model at the end of each epoch."
   ]
  },
  {
   "cell_type": "code",
   "execution_count": 12,
   "metadata": {
    "execution": {
     "iopub.execute_input": "2021-01-08T16:20:19.068953Z",
     "iopub.status.busy": "2021-01-08T16:20:19.068216Z",
     "iopub.status.idle": "2021-01-08T18:11:06.156211Z",
     "shell.execute_reply": "2021-01-08T18:11:06.155523Z"
    },
    "papermill": {
     "duration": 6647.122156,
     "end_time": "2021-01-08T18:11:06.156367",
     "exception": false,
     "start_time": "2021-01-08T16:20:19.034211",
     "status": "completed"
    },
    "tags": []
   },
   "outputs": [
    {
     "name": "stdout",
     "output_type": "stream",
     "text": [
      "Epoch 1/50\n",
      "21/21 [==============================] - 134s 6s/step - loss: 0.6220 - binary_accuracy: 0.6805 - val_loss: 0.5950 - val_binary_accuracy: 0.6760\n",
      "Epoch 2/50\n",
      "21/21 [==============================] - 124s 6s/step - loss: 0.5987 - binary_accuracy: 0.6956 - val_loss: 0.5805 - val_binary_accuracy: 0.6760\n",
      "Epoch 3/50\n",
      "21/21 [==============================] - 123s 6s/step - loss: 0.5906 - binary_accuracy: 0.7020 - val_loss: 0.5780 - val_binary_accuracy: 0.6640\n",
      "Epoch 4/50\n",
      "21/21 [==============================] - 122s 6s/step - loss: 0.5847 - binary_accuracy: 0.7026 - val_loss: 0.5626 - val_binary_accuracy: 0.6780\n",
      "Epoch 5/50\n",
      "21/21 [==============================] - 124s 6s/step - loss: 0.5783 - binary_accuracy: 0.7201 - val_loss: 0.5543 - val_binary_accuracy: 0.7240\n",
      "Epoch 6/50\n",
      "21/21 [==============================] - 122s 6s/step - loss: 0.5651 - binary_accuracy: 0.7345 - val_loss: 0.5420 - val_binary_accuracy: 0.7440\n",
      "Epoch 7/50\n",
      "21/21 [==============================] - 129s 6s/step - loss: 0.5582 - binary_accuracy: 0.7554 - val_loss: 0.5313 - val_binary_accuracy: 0.7560\n",
      "Epoch 8/50\n",
      "21/21 [==============================] - 118s 6s/step - loss: 0.5513 - binary_accuracy: 0.7644 - val_loss: 0.5213 - val_binary_accuracy: 0.7720\n",
      "Epoch 9/50\n",
      "21/21 [==============================] - 125s 6s/step - loss: 0.5423 - binary_accuracy: 0.7677 - val_loss: 0.5169 - val_binary_accuracy: 0.7480\n",
      "Epoch 10/50\n",
      "21/21 [==============================] - 127s 6s/step - loss: 0.5277 - binary_accuracy: 0.7831 - val_loss: 0.5043 - val_binary_accuracy: 0.7700\n",
      "Epoch 11/50\n",
      "21/21 [==============================] - 127s 6s/step - loss: 0.5202 - binary_accuracy: 0.7882 - val_loss: 0.5047 - val_binary_accuracy: 0.7640\n",
      "Epoch 12/50\n",
      "21/21 [==============================] - 124s 6s/step - loss: 0.5137 - binary_accuracy: 0.7949 - val_loss: 0.4941 - val_binary_accuracy: 0.7720\n",
      "Epoch 13/50\n",
      "21/21 [==============================] - 131s 6s/step - loss: 0.5052 - binary_accuracy: 0.7879 - val_loss: 0.4847 - val_binary_accuracy: 0.7860\n",
      "Epoch 14/50\n",
      "21/21 [==============================] - 134s 6s/step - loss: 0.4942 - binary_accuracy: 0.7979 - val_loss: 0.4696 - val_binary_accuracy: 0.7780\n",
      "Epoch 15/50\n",
      "21/21 [==============================] - 134s 6s/step - loss: 0.4875 - binary_accuracy: 0.7976 - val_loss: 0.4763 - val_binary_accuracy: 0.7720\n",
      "Epoch 16/50\n",
      "21/21 [==============================] - 126s 6s/step - loss: 0.4789 - binary_accuracy: 0.8069 - val_loss: 0.4605 - val_binary_accuracy: 0.7960\n",
      "Epoch 17/50\n",
      "21/21 [==============================] - 137s 7s/step - loss: 0.4716 - binary_accuracy: 0.8118 - val_loss: 0.4540 - val_binary_accuracy: 0.7980\n",
      "Epoch 18/50\n",
      "21/21 [==============================] - 138s 7s/step - loss: 0.4628 - binary_accuracy: 0.8142 - val_loss: 0.4473 - val_binary_accuracy: 0.8060\n",
      "Epoch 19/50\n",
      "21/21 [==============================] - 142s 7s/step - loss: 0.4540 - binary_accuracy: 0.8115 - val_loss: 0.4438 - val_binary_accuracy: 0.8100\n",
      "Epoch 20/50\n",
      "21/21 [==============================] - 134s 6s/step - loss: 0.4443 - binary_accuracy: 0.8187 - val_loss: 0.4380 - val_binary_accuracy: 0.8020\n",
      "Epoch 21/50\n",
      "21/21 [==============================] - 140s 7s/step - loss: 0.4364 - binary_accuracy: 0.8181 - val_loss: 0.4270 - val_binary_accuracy: 0.8060\n",
      "Epoch 22/50\n",
      "21/21 [==============================] - 141s 7s/step - loss: 0.4277 - binary_accuracy: 0.8262 - val_loss: 0.4197 - val_binary_accuracy: 0.8020\n",
      "Epoch 23/50\n",
      "21/21 [==============================] - 139s 7s/step - loss: 0.4170 - binary_accuracy: 0.8311 - val_loss: 0.4023 - val_binary_accuracy: 0.8060\n",
      "Epoch 24/50\n",
      "21/21 [==============================] - 135s 6s/step - loss: 0.4111 - binary_accuracy: 0.8338 - val_loss: 0.4071 - val_binary_accuracy: 0.8100\n",
      "Epoch 25/50\n",
      "21/21 [==============================] - 137s 7s/step - loss: 0.4000 - binary_accuracy: 0.8386 - val_loss: 0.4021 - val_binary_accuracy: 0.8100\n",
      "Epoch 26/50\n",
      "21/21 [==============================] - 139s 7s/step - loss: 0.3945 - binary_accuracy: 0.8452 - val_loss: 0.3981 - val_binary_accuracy: 0.8060\n",
      "Epoch 27/50\n",
      "21/21 [==============================] - 137s 7s/step - loss: 0.3857 - binary_accuracy: 0.8437 - val_loss: 0.3934 - val_binary_accuracy: 0.8180\n",
      "Epoch 28/50\n",
      "21/21 [==============================] - 131s 6s/step - loss: 0.3788 - binary_accuracy: 0.8600 - val_loss: 0.3863 - val_binary_accuracy: 0.8180\n",
      "Epoch 29/50\n",
      "21/21 [==============================] - 138s 7s/step - loss: 0.3704 - binary_accuracy: 0.8567 - val_loss: 0.3831 - val_binary_accuracy: 0.8200\n",
      "Epoch 30/50\n",
      "21/21 [==============================] - 136s 6s/step - loss: 0.3645 - binary_accuracy: 0.8597 - val_loss: 0.3625 - val_binary_accuracy: 0.8420\n",
      "Epoch 31/50\n",
      "21/21 [==============================] - 137s 7s/step - loss: 0.3568 - binary_accuracy: 0.8646 - val_loss: 0.3788 - val_binary_accuracy: 0.8360\n",
      "Epoch 32/50\n",
      "21/21 [==============================] - 132s 6s/step - loss: 0.3482 - binary_accuracy: 0.8757 - val_loss: 0.3696 - val_binary_accuracy: 0.8160\n",
      "Epoch 33/50\n",
      "21/21 [==============================] - ETA: 0s - loss: 0.3457 - binary_accuracy: 0.8724\n",
      "Epoch 00033: ReduceLROnPlateau reducing learning rate to 9.999999747378752e-06.\n",
      "21/21 [==============================] - 138s 7s/step - loss: 0.3457 - binary_accuracy: 0.8724 - val_loss: 0.3651 - val_binary_accuracy: 0.8280\n",
      "Epoch 34/50\n",
      "21/21 [==============================] - 138s 7s/step - loss: 0.3402 - binary_accuracy: 0.8706 - val_loss: 0.3727 - val_binary_accuracy: 0.8260\n",
      "Epoch 35/50\n",
      "21/21 [==============================] - 134s 6s/step - loss: 0.3375 - binary_accuracy: 0.8824 - val_loss: 0.3596 - val_binary_accuracy: 0.8520\n",
      "Epoch 36/50\n",
      "21/21 [==============================] - 134s 6s/step - loss: 0.3394 - binary_accuracy: 0.8778 - val_loss: 0.3589 - val_binary_accuracy: 0.8460\n",
      "Epoch 37/50\n",
      "21/21 [==============================] - 136s 6s/step - loss: 0.3360 - binary_accuracy: 0.8817 - val_loss: 0.3608 - val_binary_accuracy: 0.8440\n",
      "Epoch 38/50\n",
      "21/21 [==============================] - 136s 6s/step - loss: 0.3365 - binary_accuracy: 0.8821 - val_loss: 0.3677 - val_binary_accuracy: 0.8320\n",
      "Epoch 39/50\n",
      "21/21 [==============================] - ETA: 0s - loss: 0.3347 - binary_accuracy: 0.8811\n",
      "Epoch 00039: ReduceLROnPlateau reducing learning rate to 9.999999747378752e-07.\n",
      "21/21 [==============================] - 133s 6s/step - loss: 0.3347 - binary_accuracy: 0.8811 - val_loss: 0.3602 - val_binary_accuracy: 0.8380\n",
      "Epoch 40/50\n",
      "21/21 [==============================] - 130s 6s/step - loss: 0.3349 - binary_accuracy: 0.8851 - val_loss: 0.3613 - val_binary_accuracy: 0.8400\n",
      "Epoch 41/50\n",
      "21/21 [==============================] - 136s 6s/step - loss: 0.3367 - binary_accuracy: 0.8836 - val_loss: 0.3613 - val_binary_accuracy: 0.8420\n",
      "Epoch 42/50\n",
      "21/21 [==============================] - ETA: 0s - loss: 0.3366 - binary_accuracy: 0.8802\n",
      "Epoch 00042: ReduceLROnPlateau reducing learning rate to 9.999999974752428e-08.\n",
      "21/21 [==============================] - 133s 6s/step - loss: 0.3366 - binary_accuracy: 0.8802 - val_loss: 0.3661 - val_binary_accuracy: 0.8440\n",
      "Epoch 43/50\n",
      "21/21 [==============================] - 134s 6s/step - loss: 0.3354 - binary_accuracy: 0.8866 - val_loss: 0.3545 - val_binary_accuracy: 0.8520\n",
      "Epoch 44/50\n",
      "21/21 [==============================] - 128s 6s/step - loss: 0.3336 - binary_accuracy: 0.8854 - val_loss: 0.3625 - val_binary_accuracy: 0.8360\n",
      "Epoch 45/50\n",
      "21/21 [==============================] - 134s 6s/step - loss: 0.3346 - binary_accuracy: 0.8824 - val_loss: 0.3595 - val_binary_accuracy: 0.8420\n",
      "Epoch 46/50\n",
      "21/21 [==============================] - ETA: 0s - loss: 0.3343 - binary_accuracy: 0.8836\n",
      "Epoch 00046: ReduceLROnPlateau reducing learning rate to 1.0000000116860975e-08.\n",
      "21/21 [==============================] - 132s 6s/step - loss: 0.3343 - binary_accuracy: 0.8836 - val_loss: 0.3618 - val_binary_accuracy: 0.8540\n",
      "Epoch 47/50\n",
      "21/21 [==============================] - 133s 6s/step - loss: 0.3356 - binary_accuracy: 0.8836 - val_loss: 0.3552 - val_binary_accuracy: 0.8320\n",
      "Epoch 48/50\n",
      "21/21 [==============================] - 128s 6s/step - loss: 0.3351 - binary_accuracy: 0.8836 - val_loss: 0.3587 - val_binary_accuracy: 0.8440\n",
      "Epoch 49/50\n",
      "21/21 [==============================] - ETA: 0s - loss: 0.3355 - binary_accuracy: 0.8845\n",
      "Epoch 00049: ReduceLROnPlateau reducing learning rate to 9.999999939225292e-10.\n",
      "21/21 [==============================] - 133s 6s/step - loss: 0.3355 - binary_accuracy: 0.8845 - val_loss: 0.3555 - val_binary_accuracy: 0.8480\n",
      "Epoch 50/50\n",
      "21/21 [==============================] - 134s 6s/step - loss: 0.3349 - binary_accuracy: 0.8830 - val_loss: 0.3606 - val_binary_accuracy: 0.8420\n"
     ]
    }
   ],
   "source": [
    "history = model.fit_generator(train_generator, steps_per_epoch=steps_per_epoch, epochs=NUM_EPOCHS, verbose=1,\n",
    "                        callbacks=callbacks_list, validation_data=val_generator, \n",
    "                        validation_steps=validation_steps, class_weight=None, workers=1, initial_epoch=0)"
   ]
  },
  {
   "cell_type": "markdown",
   "metadata": {
    "papermill": {
     "duration": 0.534884,
     "end_time": "2021-01-08T18:11:07.177366",
     "exception": false,
     "start_time": "2021-01-08T18:11:06.642482",
     "status": "completed"
    },
    "tags": []
   },
   "source": [
    "Plot the train and validation loss and accuracies"
   ]
  },
  {
   "cell_type": "code",
   "execution_count": 13,
   "metadata": {
    "execution": {
     "iopub.execute_input": "2021-01-08T18:11:08.171327Z",
     "iopub.status.busy": "2021-01-08T18:11:08.157042Z",
     "iopub.status.idle": "2021-01-08T18:11:08.893378Z",
     "shell.execute_reply": "2021-01-08T18:11:08.894057Z"
    },
    "papermill": {
     "duration": 1.228605,
     "end_time": "2021-01-08T18:11:08.894246",
     "exception": false,
     "start_time": "2021-01-08T18:11:07.665641",
     "status": "completed"
    },
    "tags": []
   },
   "outputs": [
    {
     "data": {
      "image/png": "[encoded data removed]",
      "text/plain": [
       "<Figure size 432x288 with 1 Axes>"
      ]
     },
     "metadata": {
      "needs_background": "light"
     },
     "output_type": "display_data"
    },
    {
     "data": {
      "image/png": "[encoded data removed]",
      "text/plain": [
       "<Figure size 432x288 with 1 Axes>"
      ]
     },
     "metadata": {
      "needs_background": "light"
     },
     "output_type": "display_data"
    }
   ],
   "source": [
    "history_frame = pd.DataFrame(history.history)\n",
    "history_frame.loc[:, ['loss', 'val_loss']].plot()\n",
    "history_frame.loc[:, ['binary_accuracy', 'val_binary_accuracy']].plot();"
   ]
  },
  {
   "cell_type": "code",
   "execution_count": 14,
   "metadata": {
    "execution": {
     "iopub.execute_input": "2021-01-08T18:11:09.895740Z",
     "iopub.status.busy": "2021-01-08T18:11:09.894833Z",
     "iopub.status.idle": "2021-01-08T18:11:09.900683Z",
     "shell.execute_reply": "2021-01-08T18:11:09.901293Z"
    },
    "papermill": {
     "duration": 0.49671,
     "end_time": "2021-01-08T18:11:09.901459",
     "exception": false,
     "start_time": "2021-01-08T18:11:09.404749",
     "status": "completed"
    },
    "tags": []
   },
   "outputs": [
    {
     "name": "stdout",
     "output_type": "stream",
     "text": [
      "Total execution time is : 113 minutes\n"
     ]
    }
   ],
   "source": [
    "# Display the exeuction time\n",
    "print('Total execution time is :',round((time.time() - start_time)/60),'minutes')"
   ]
  }
 ],
 "metadata": {
  "kernelspec": {
   "display_name": "Python 3",
   "language": "python",
   "name": "python3"
  },
  "language_info": {
   "codemirror_mode": {
    "name": "ipython",
    "version": 3
   },
   "file_extension": ".py",
   "mimetype": "text/x-python",
   "name": "python",
   "nbconvert_exporter": "python",
   "pygments_lexer": "ipython3",
   "version": "3.9.1"
  },
  "papermill": {
   "duration": 6784.91099,
   "end_time": "2021-01-08T18:11:12.058641",
   "environment_variables": {},
   "exception": null,
   "input_path": "__notebook__.ipynb",
   "output_path": "__notebook__.ipynb",
   "parameters": {},
   "start_time": "2021-01-08T16:18:07.147651",
   "version": "2.1.0"
  }
 },
 "nbformat": 4,
 "nbformat_minor": 4
}
