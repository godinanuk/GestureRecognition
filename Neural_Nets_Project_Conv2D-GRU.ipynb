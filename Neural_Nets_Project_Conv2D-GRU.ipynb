{
 "cells": [
  {
   "cell_type": "markdown",
   "metadata": {
    "papermill": {
     "duration": 0.020589,
     "end_time": "2020-12-29T19:50:19.577021",
     "exception": false,
     "start_time": "2020-12-29T19:50:19.556432",
     "status": "completed"
    },
    "tags": []
   },
   "source": [
    "# Gesture Recognition\n",
    "In this group project, you are going to build a CNN-RNN model with LSTM that will be able to predict the 5 gestures correctly. Please import the following libraries to get started."
   ]
  },
  {
   "cell_type": "code",
   "execution_count": 1,
   "metadata": {
    "execution": {
     "iopub.execute_input": "2020-12-29T19:50:19.622552Z",
     "iopub.status.busy": "2020-12-29T19:50:19.621583Z",
     "iopub.status.idle": "2020-12-29T19:50:19.624904Z",
     "shell.execute_reply": "2020-12-29T19:50:19.624315Z"
    },
    "papermill": {
     "duration": 0.029129,
     "end_time": "2020-12-29T19:50:19.625021",
     "exception": false,
     "start_time": "2020-12-29T19:50:19.595892",
     "status": "completed"
    },
    "tags": []
   },
   "outputs": [],
   "source": [
    "import numpy as np\n",
    "import pandas as pd\n",
    "import os\n",
    "import datetime\n",
    "import time\n",
    "import warnings\n",
    "warnings.filterwarnings('ignore')\n",
    "\n",
    "start_time=time.time()"
   ]
  },
  {
   "cell_type": "markdown",
   "metadata": {
    "papermill": {
     "duration": 0.019268,
     "end_time": "2020-12-29T19:50:19.663992",
     "exception": false,
     "start_time": "2020-12-29T19:50:19.644724",
     "status": "completed"
    },
    "tags": []
   },
   "source": [
    "We set the random seed so that the results don't vary drastically."
   ]
  },
  {
   "cell_type": "code",
   "execution_count": 2,
   "metadata": {
    "execution": {
     "iopub.execute_input": "2020-12-29T19:50:19.709399Z",
     "iopub.status.busy": "2020-12-29T19:50:19.708718Z",
     "iopub.status.idle": "2020-12-29T19:50:26.884459Z",
     "shell.execute_reply": "2020-12-29T19:50:26.885609Z"
    },
    "papermill": {
     "duration": 7.203061,
     "end_time": "2020-12-29T19:50:26.885832",
     "exception": false,
     "start_time": "2020-12-29T19:50:19.682771",
     "status": "completed"
    },
    "tags": []
   },
   "outputs": [
    {
     "name": "stdout",
     "output_type": "stream",
     "text": [
      "Tensorflow version:  2.3.1\n",
      "Default GPU Device:/device:GPU:0\n"
     ]
    }
   ],
   "source": [
    "np.random.seed(30)\n",
    "import random as rn\n",
    "rn.seed(30)\n",
    "from tensorflow.keras import backend as K\n",
    "import tensorflow as tf\n",
    "print('Tensorflow version: ',tf.__version__)\n",
    "tf.random.set_seed(30)\n",
    "if tf.test.gpu_device_name():\n",
    "    print('Default GPU Device:{}'.format(tf.test.gpu_device_name()))\n",
    "else:\n",
    "    print(\"Please install GPU version of TF\")"
   ]
  },
  {
   "cell_type": "markdown",
   "metadata": {
    "papermill": {
     "duration": 0.028915,
     "end_time": "2020-12-29T19:50:26.942071",
     "exception": false,
     "start_time": "2020-12-29T19:50:26.913156",
     "status": "completed"
    },
    "tags": []
   },
   "source": [
    "In this block, you read the folder names for training and validation. You also set the `batch_size` here. Note that you set the batch size in such a way that you are able to use the GPU in full capacity. You keep increasing the batch size until the machine throws an error."
   ]
  },
  {
   "cell_type": "code",
   "execution_count": 3,
   "metadata": {
    "execution": {
     "iopub.execute_input": "2020-12-29T19:50:27.009538Z",
     "iopub.status.busy": "2020-12-29T19:50:27.008695Z",
     "iopub.status.idle": "2020-12-29T19:50:27.049215Z",
     "shell.execute_reply": "2020-12-29T19:50:27.050506Z"
    },
    "papermill": {
     "duration": 0.079551,
     "end_time": "2020-12-29T19:50:27.050696",
     "exception": false,
     "start_time": "2020-12-29T19:50:26.971145",
     "status": "completed"
    },
    "tags": []
   },
   "outputs": [
    {
     "name": "stdout",
     "output_type": "stream",
     "text": [
      "Number of frames being considered : 15\n"
     ]
    }
   ],
   "source": [
    "BASE_PATH='../input/untouched-gesture-dataset'\n",
    "#BASE_PATH='.'\n",
    "train_doc = np.random.permutation(open(BASE_PATH+'/Project_data/train.csv').readlines())\n",
    "val_doc = np.random.permutation(open(BASE_PATH+'/Project_data/val.csv').readlines())\n",
    "BATCH_SIZE = 32 #experiment with the batch size\n",
    "IMG_HEIGHT = 120\n",
    "IMG_WIDTH = 120\n",
    "LEARNING_RATE=0.0001\n",
    "FRAMES=len(list(range(1,30,2)))\n",
    "NUM_EPOCHS = 50\n",
    "print('Number of frames being considered :',FRAMES)"
   ]
  },
  {
   "cell_type": "markdown",
   "metadata": {
    "papermill": {
     "duration": 0.028905,
     "end_time": "2020-12-29T19:50:27.108566",
     "exception": false,
     "start_time": "2020-12-29T19:50:27.079661",
     "status": "completed"
    },
    "tags": []
   },
   "source": [
    "## Generator\n",
    "This is one of the most important part of the code. The overall structure of the generator has been given. In the generator, you are going to preprocess the images as you have images of 2 different dimensions as well as create a batch of video frames. You have to experiment with `img_idx`, `y`,`z` and normalization such that you get high accuracy."
   ]
  },
  {
   "cell_type": "code",
   "execution_count": 4,
   "metadata": {
    "execution": {
     "iopub.execute_input": "2020-12-29T19:50:27.175200Z",
     "iopub.status.busy": "2020-12-29T19:50:27.174306Z",
     "iopub.status.idle": "2020-12-29T19:50:27.217542Z",
     "shell.execute_reply": "2020-12-29T19:50:27.218619Z"
    },
    "papermill": {
     "duration": 0.081755,
     "end_time": "2020-12-29T19:50:27.218794",
     "exception": false,
     "start_time": "2020-12-29T19:50:27.137039",
     "status": "completed"
    },
    "tags": []
   },
   "outputs": [],
   "source": [
    "def generator(source_path, folder_list, batch_size):\n",
    "    #print( 'Source path = ', source_path, '; batch size =', batch_size)\n",
    "    # We will consider frames 10 to 20 for training\n",
    "    img_idx = range(0,30,2) #create a list of image numbers you want to use for a particular video\n",
    "    while True:\n",
    "        t = np.random.permutation(folder_list)\n",
    "        num_batches = int(len(folder_list) / batch_size) # calculate the number of batches\n",
    "        for batch in range(num_batches): # we iterate over the number of batches\n",
    "            # second parameter x set to len(img_idx) list - indicates no. of images we want to use for each video\n",
    "            # third and fourth parameters (y,z) indicate the final size of input image\n",
    "            batch_data = np.zeros((batch_size,len(img_idx),120,120,3)) # x is the number of images you use for each video, (y,z) is the final size of the input images and 3 is the number of channels RGB\n",
    "            batch_labels = np.zeros((batch_size,5)) # batch_labels is the one hot representation of the output\n",
    "            for folder in range(batch_size): # iterate over the batch_size\n",
    "                imgs = os.listdir(source_path+'/'+ t[folder + (batch*batch_size)].split(';')[0]) # read all the images in the folder\n",
    "                for idx,item in enumerate(img_idx): #  Iterate iver the frames/images of a folder to read them in\n",
    "                    image = tf.io.read_file(source_path+'/'+ t[folder + (batch*batch_size)].strip().split(';')[0]+'/'+imgs[item])\n",
    "                    image = tf.io.decode_jpeg(image,channels=3)\n",
    "                    #crop the images and resize them. Note that the images are of 2 different shape \n",
    "                    #and the conv3D will throw error if the inputs in a batch have different shapes\n",
    "                    # We will resize all the images to a standard shape of (120,120)\n",
    "                    # We will use distinct normalization methods for different channel\n",
    "                    im_resized = tf.image.resize(image,size=[IMG_HEIGHT,IMG_WIDTH],method='nearest') \n",
    "                    im_resized = tf.image.resize(tf.image.central_crop(im_resized,0.9),size=[IMG_HEIGHT,IMG_WIDTH],method='nearest')\n",
    "                    im_resized_0 = im_resized[:,:,0]\n",
    "                    im_resized_1 = im_resized[:,:,1]\n",
    "                    im_resized_2 = im_resized[:,:,2]\n",
    "                    batch_data[folder,idx,:,:,0] = (im_resized_0 - np.min(im_resized_0))/ (np.max(im_resized_0) - np.min(im_resized_0)) #normalise and feed in the image\n",
    "                    batch_data[folder,idx,:,:,1] = (im_resized_1 - np.percentile(im_resized_1,5))/ (np.percentile(im_resized_1,95) - np.percentile(im_resized_1,5)) #normalise and feed in the image\n",
    "                    batch_data[folder,idx,:,:,2] = im_resized_2/255 #normalise and feed in the image                    \n",
    "                batch_labels[folder, int(t[folder + (batch*batch_size)].strip().split(';')[2])] = 1\n",
    "            yield batch_data, batch_labels #you yield the batch_data and the batch_labels, remember what does yield do\n",
    "\n",
    "        \n",
    "        # write the code for the remaining data points which are left after full batches\n",
    "        if len(folder_list) != (num_batches * batch_size):\n",
    "            n_batch_size = len(folder_list) - (num_batches * batch_size)\n",
    "            batch_data = np.zeros((n_batch_size,len(img_idx),120,120,3))\n",
    "            batch_labels = np.zeros((n_batch_size,5))\n",
    "            for folder in range(n_batch_size): # iterate over the batch_size\n",
    "                imgs = os.listdir(source_path+'/'+ t[folder + (num_batches*n_batch_size)].split(';')[0]) # read all the images in the folder\n",
    "                for idx,item in enumerate(img_idx): #  Iterate iver the frames/images of a folder to read them in\n",
    "                    image = tf.io.read_file(source_path+'/'+ t[folder + (num_batches*n_batch_size)].strip().split(';')[0]+'/'+imgs[item])\n",
    "                    image = tf.io.decode_jpeg(image,channels=3)\n",
    "                    #crop the images and resize them. Note that the images are of 2 different shape \n",
    "                    #and the conv3D will throw error if the inputs in a batch have different shapes\n",
    "                    # We will resize all the images to a standard shape of (120,120)\n",
    "                    # We will use distinct normalization methods for different channel\n",
    "                    im_resized = tf.image.resize(image,size=[IMG_HEIGHT,IMG_WIDTH],method='nearest') \n",
    "                    im_resized = tf.image.resize(tf.image.central_crop(im_resized,0.9),size=[IMG_HEIGHT,IMG_WIDTH],method='nearest')\n",
    "                    im_resized_0 = im_resized[:,:,0]\n",
    "                    im_resized_1 = im_resized[:,:,1]\n",
    "                    im_resized_2 = im_resized[:,:,2]\n",
    "                    batch_data[folder,idx,:,:,0] = (im_resized_0 - np.min(im_resized_0))/ (np.max(im_resized_0) - np.min(im_resized_0)) #normalise and feed in the image\n",
    "                    batch_data[folder,idx,:,:,1] = (im_resized_1 - np.percentile(im_resized_1,5))/ (np.percentile(im_resized_1,95) - np.percentile(im_resized_1,5)) #normalise and feed in the image\n",
    "                    batch_data[folder,idx,:,:,2] = im_resized_2/255 #normalise and feed in the image   \n",
    "                    \n",
    "                batch_labels[folder, int(t[folder + (num_batches*n_batch_size)].strip().split(';')[2])] = 1\n",
    "            yield batch_data, batch_labels #you yield the batch_data and the batch_labels, remember what does yield do\n",
    "        "
   ]
  },
  {
   "cell_type": "markdown",
   "metadata": {
    "papermill": {
     "duration": 0.029131,
     "end_time": "2020-12-29T19:50:27.286198",
     "exception": false,
     "start_time": "2020-12-29T19:50:27.257067",
     "status": "completed"
    },
    "tags": []
   },
   "source": [
    "Note here that a video is represented above in the generator as (number of images, height, width, number of channels). Take this into consideration while creating the model architecture."
   ]
  },
  {
   "cell_type": "code",
   "execution_count": 5,
   "metadata": {
    "execution": {
     "iopub.execute_input": "2020-12-29T19:50:27.355323Z",
     "iopub.status.busy": "2020-12-29T19:50:27.354401Z",
     "iopub.status.idle": "2020-12-29T19:53:33.505043Z",
     "shell.execute_reply": "2020-12-29T19:53:33.503894Z"
    },
    "papermill": {
     "duration": 186.190826,
     "end_time": "2020-12-29T19:53:33.505174",
     "exception": false,
     "start_time": "2020-12-29T19:50:27.314348",
     "status": "completed"
    },
    "tags": []
   },
   "outputs": [
    {
     "name": "stdout",
     "output_type": "stream",
     "text": [
      "# training sequences = 663\n",
      "# training batches = 22\n",
      "# validation sequences = 100\n"
     ]
    }
   ],
   "source": [
    "from PIL import Image\n",
    "\n",
    "curr_dt_time = datetime.datetime.now()\n",
    "train_path = BASE_PATH+'/Project_data/train'\n",
    "val_path = BASE_PATH+'/Project_data/val'\n",
    "num_train_sequences = len(train_doc)\n",
    "print('# training sequences =', num_train_sequences)\n",
    "print('# training batches =', int(num_train_sequences/30))\n",
    "num_val_sequences = len(val_doc)\n",
    "print('# validation sequences =', num_val_sequences)\n",
    "\n",
    "img_sizes=[]\n",
    "for i in os.listdir(train_path):\n",
    "    if not(i.startswith('.')):\n",
    "        file_path = train_path + \"/\" + i\n",
    "        for j in os.listdir(file_path):\n",
    "            if not(j.startswith('.')):\n",
    "                im_path = file_path + \"/\" + j\n",
    "                im = Image.open(im_path)\n",
    "                img_sizes.append(im.size)"
   ]
  },
  {
   "cell_type": "code",
   "execution_count": 6,
   "metadata": {
    "execution": {
     "iopub.execute_input": "2020-12-29T19:53:33.557100Z",
     "iopub.status.busy": "2020-12-29T19:53:33.556385Z",
     "iopub.status.idle": "2020-12-29T19:53:33.563469Z",
     "shell.execute_reply": "2020-12-29T19:53:33.562965Z"
    },
    "papermill": {
     "duration": 0.036413,
     "end_time": "2020-12-29T19:53:33.563566",
     "exception": false,
     "start_time": "2020-12-29T19:53:33.527153",
     "status": "completed"
    },
    "tags": []
   },
   "outputs": [
    {
     "data": {
      "text/plain": [
       "{(160, 120), (360, 360)}"
      ]
     },
     "execution_count": 6,
     "metadata": {},
     "output_type": "execute_result"
    }
   ],
   "source": [
    "set(img_sizes)"
   ]
  },
  {
   "cell_type": "markdown",
   "metadata": {
    "papermill": {
     "duration": 0.019877,
     "end_time": "2020-12-29T19:53:33.605089",
     "exception": false,
     "start_time": "2020-12-29T19:53:33.585212",
     "status": "completed"
    },
    "tags": []
   },
   "source": [
    "As we can see we have two shapes of images (160,120) and (360,360).  We will standardize the image shapes to (120,120)"
   ]
  },
  {
   "cell_type": "markdown",
   "metadata": {
    "papermill": {
     "duration": 0.020446,
     "end_time": "2020-12-29T19:53:33.683726",
     "exception": false,
     "start_time": "2020-12-29T19:53:33.663280",
     "status": "completed"
    },
    "tags": []
   },
   "source": [
    "## Model\n",
    "Here you make the model using different functionalities that Keras provides. Remember to use `Conv3D` and `MaxPooling3D` and not `Conv2D` and `Maxpooling2D` for a 3D convolution model. You would want to use `TimeDistributed` while building a Conv2D + RNN model. Also remember that the last layer is the softmax. Design the network in such a way that the model is able to give good accuracy on the least number of parameters so that it can fit in the memory of the webcam."
   ]
  },
  {
   "cell_type": "markdown",
   "metadata": {
    "papermill": {
     "duration": 0.020511,
     "end_time": "2020-12-29T19:53:33.724851",
     "exception": false,
     "start_time": "2020-12-29T19:53:33.704340",
     "status": "completed"
    },
    "tags": []
   },
   "source": [
    "#### Conv3D Model"
   ]
  },
  {
   "cell_type": "code",
   "execution_count": 7,
   "metadata": {
    "execution": {
     "iopub.execute_input": "2020-12-29T19:53:33.790499Z",
     "iopub.status.busy": "2020-12-29T19:53:33.789821Z",
     "iopub.status.idle": "2020-12-29T19:53:34.792198Z",
     "shell.execute_reply": "2020-12-29T19:53:34.791554Z"
    },
    "papermill": {
     "duration": 1.046851,
     "end_time": "2020-12-29T19:53:34.792312",
     "exception": false,
     "start_time": "2020-12-29T19:53:33.745461",
     "status": "completed"
    },
    "tags": []
   },
   "outputs": [],
   "source": [
    "from tensorflow.keras.models import Sequential, Model\n",
    "from tensorflow.keras.layers import Dense, GRU, LSTM, Flatten, TimeDistributed, Flatten, BatchNormalization, Activation, Dropout\n",
    "from tensorflow.keras.layers import Conv3D, MaxPooling3D, Conv2D, MaxPooling2D\n",
    "from tensorflow.keras.callbacks import ModelCheckpoint, ReduceLROnPlateau, EarlyStopping\n",
    "from tensorflow.keras import optimizers\n",
    "from tensorflow.keras import initializers\n",
    "from tensorflow.keras import regularizers\n",
    "\n",
    "#write your model here\n",
    "nb_filters = [8,16,32,64]\n",
    "nb_dense = [1000, 500, 5]\n",
    "input_shape = (FRAMES, 120, 120, 3)\n",
    "\n",
    "model_b = Sequential()\n",
    "\n",
    "model_b.add(TimeDistributed(Conv2D(32, (3,3), strides=(2,2), activation='relu', padding='same'),\n",
    "                            input_shape=input_shape))\n",
    "model_b.add(TimeDistributed(Conv2D(32, (3,3), kernel_initializer=\"he_normal\", activation='relu')))\n",
    "model_b.add(TimeDistributed(MaxPooling2D((2, 2), strides=(2,2))))\n",
    "\n",
    "model_b.add(TimeDistributed(Conv2D(64, (3,3), padding='same', activation='relu')))\n",
    "model_b.add(TimeDistributed(Conv2D(64, (3,3), padding='same', activation='relu')))\n",
    "model_b.add(TimeDistributed(MaxPooling2D((2,2), strides=(2,2))))\n",
    "\n",
    "model_b.add(TimeDistributed(Conv2D(128, (3,3), padding='same', activation='relu')))\n",
    "model_b.add(TimeDistributed(Conv2D(128, (3,3), padding='same', activation='relu')))\n",
    "model_b.add(TimeDistributed(MaxPooling2D((2,2), strides=(2,2))))\n",
    "\n",
    "model_b.add(TimeDistributed(Conv2D(256, (3,3), padding='same', activation='relu')))\n",
    "model_b.add(TimeDistributed(Conv2D(256, (3,3), padding='same', activation='relu')))\n",
    "model_b.add(TimeDistributed(MaxPooling2D((2,2), strides=(2,2))))\n",
    "        \n",
    "model_b.add(TimeDistributed(Conv2D(512, (3,3), padding='same', activation='relu')))\n",
    "model_b.add(TimeDistributed(Conv2D(512, (3,3), padding='same', activation='relu')))\n",
    "model_b.add(TimeDistributed(MaxPooling2D((2,2), strides=(2,2))))\n",
    "\n",
    "model_b.add(TimeDistributed(Flatten()))\n",
    "\n",
    "model_b.add(Dropout(0.5))\n",
    "model_b.add(GRU(256, return_sequences=False, dropout=0.5))\n",
    "\n",
    "#output layer\n",
    "model_b.add(Dense(nb_dense[2], activation='sigmoid'))"
   ]
  },
  {
   "cell_type": "markdown",
   "metadata": {
    "papermill": {
     "duration": 0.020606,
     "end_time": "2020-12-29T19:53:34.833812",
     "exception": false,
     "start_time": "2020-12-29T19:53:34.813206",
     "status": "completed"
    },
    "tags": []
   },
   "source": [
    "Now that you have written the model, the next step is to `compile` the model. When you print the `summary` of the model, you'll see the total number of parameters you have to train."
   ]
  },
  {
   "cell_type": "code",
   "execution_count": 8,
   "metadata": {
    "execution": {
     "iopub.execute_input": "2020-12-29T19:53:34.891322Z",
     "iopub.status.busy": "2020-12-29T19:53:34.890368Z",
     "iopub.status.idle": "2020-12-29T19:53:34.906354Z",
     "shell.execute_reply": "2020-12-29T19:53:34.907203Z"
    },
    "papermill": {
     "duration": 0.050335,
     "end_time": "2020-12-29T19:53:34.907403",
     "exception": false,
     "start_time": "2020-12-29T19:53:34.857068",
     "status": "completed"
    },
    "tags": []
   },
   "outputs": [
    {
     "name": "stdout",
     "output_type": "stream",
     "text": [
      "Model: \"sequential\"\n",
      "_________________________________________________________________\n",
      "Layer (type)                 Output Shape              Param #   \n",
      "=================================================================\n",
      "time_distributed (TimeDistri (None, 15, 60, 60, 32)    896       \n",
      "_________________________________________________________________\n",
      "time_distributed_1 (TimeDist (None, 15, 58, 58, 32)    9248      \n",
      "_________________________________________________________________\n",
      "time_distributed_2 (TimeDist (None, 15, 29, 29, 32)    0         \n",
      "_________________________________________________________________\n",
      "time_distributed_3 (TimeDist (None, 15, 29, 29, 64)    18496     \n",
      "_________________________________________________________________\n",
      "time_distributed_4 (TimeDist (None, 15, 29, 29, 64)    36928     \n",
      "_________________________________________________________________\n",
      "time_distributed_5 (TimeDist (None, 15, 14, 14, 64)    0         \n",
      "_________________________________________________________________\n",
      "time_distributed_6 (TimeDist (None, 15, 14, 14, 128)   73856     \n",
      "_________________________________________________________________\n",
      "time_distributed_7 (TimeDist (None, 15, 14, 14, 128)   147584    \n",
      "_________________________________________________________________\n",
      "time_distributed_8 (TimeDist (None, 15, 7, 7, 128)     0         \n",
      "_________________________________________________________________\n",
      "time_distributed_9 (TimeDist (None, 15, 7, 7, 256)     295168    \n",
      "_________________________________________________________________\n",
      "time_distributed_10 (TimeDis (None, 15, 7, 7, 256)     590080    \n",
      "_________________________________________________________________\n",
      "time_distributed_11 (TimeDis (None, 15, 3, 3, 256)     0         \n",
      "_________________________________________________________________\n",
      "time_distributed_12 (TimeDis (None, 15, 3, 3, 512)     1180160   \n",
      "_________________________________________________________________\n",
      "time_distributed_13 (TimeDis (None, 15, 3, 3, 512)     2359808   \n",
      "_________________________________________________________________\n",
      "time_distributed_14 (TimeDis (None, 15, 1, 1, 512)     0         \n",
      "_________________________________________________________________\n",
      "time_distributed_15 (TimeDis (None, 15, 512)           0         \n",
      "_________________________________________________________________\n",
      "dropout (Dropout)            (None, 15, 512)           0         \n",
      "_________________________________________________________________\n",
      "gru (GRU)                    (None, 256)               591360    \n",
      "_________________________________________________________________\n",
      "dense (Dense)                (None, 5)                 1285      \n",
      "=================================================================\n",
      "Total params: 5,304,869\n",
      "Trainable params: 5,304,869\n",
      "Non-trainable params: 0\n",
      "_________________________________________________________________\n",
      "None\n"
     ]
    }
   ],
   "source": [
    "optimizer=optimizers.Adam(lr=LEARNING_RATE)\n",
    "model_b.compile(optimizer=optimizer, loss='binary_crossentropy', metrics=['binary_accuracy']) \n",
    "print (model_b.summary())"
   ]
  },
  {
   "cell_type": "markdown",
   "metadata": {
    "papermill": {
     "duration": 0.022005,
     "end_time": "2020-12-29T19:53:34.961917",
     "exception": false,
     "start_time": "2020-12-29T19:53:34.939912",
     "status": "completed"
    },
    "tags": []
   },
   "source": [
    "Let us create the `train_generator` and the `val_generator` which will be used in `.fit_generator`."
   ]
  },
  {
   "cell_type": "code",
   "execution_count": 9,
   "metadata": {
    "execution": {
     "iopub.execute_input": "2020-12-29T19:53:35.010445Z",
     "iopub.status.busy": "2020-12-29T19:53:35.009668Z",
     "iopub.status.idle": "2020-12-29T19:53:35.012426Z",
     "shell.execute_reply": "2020-12-29T19:53:35.012910Z"
    },
    "papermill": {
     "duration": 0.029244,
     "end_time": "2020-12-29T19:53:35.013030",
     "exception": false,
     "start_time": "2020-12-29T19:53:34.983786",
     "status": "completed"
    },
    "tags": []
   },
   "outputs": [],
   "source": [
    "train_generator = generator(train_path, train_doc, BATCH_SIZE)\n",
    "val_generator = generator(val_path, val_doc, BATCH_SIZE)"
   ]
  },
  {
   "cell_type": "code",
   "execution_count": 10,
   "metadata": {
    "execution": {
     "iopub.execute_input": "2020-12-29T19:53:35.065594Z",
     "iopub.status.busy": "2020-12-29T19:53:35.063745Z",
     "iopub.status.idle": "2020-12-29T19:53:35.066443Z",
     "shell.execute_reply": "2020-12-29T19:53:35.066976Z"
    },
    "papermill": {
     "duration": 0.032716,
     "end_time": "2020-12-29T19:53:35.067166",
     "exception": false,
     "start_time": "2020-12-29T19:53:35.034450",
     "status": "completed"
    },
    "tags": []
   },
   "outputs": [],
   "source": [
    "filepath = 'best_model.h5'\n",
    "\n",
    "mc = ModelCheckpoint(filepath, monitor='val_loss', verbose=1, save_best_only=True, save_weights_only=False, mode='min', save_freq=1)\n",
    "es = EarlyStopping(monitor='val_loss', mode='min', verbose=1, patience=10)\n",
    "lr = ReduceLROnPlateau(monitor='val_loss', factor=0.1, patience=3, verbose=1, mode='min',\n",
    "                        min_delta=0.0001, cooldown=0, min_lr=0) \n",
    "callbacks_list = [mc, lr, es]"
   ]
  },
  {
   "cell_type": "markdown",
   "metadata": {
    "papermill": {
     "duration": 0.021186,
     "end_time": "2020-12-29T19:53:35.110917",
     "exception": false,
     "start_time": "2020-12-29T19:53:35.089731",
     "status": "completed"
    },
    "tags": []
   },
   "source": [
    "The `steps_per_epoch` and `validation_steps` are used by `fit_generator` to decide the number of next() calls it need to make."
   ]
  },
  {
   "cell_type": "code",
   "execution_count": 11,
   "metadata": {
    "execution": {
     "iopub.execute_input": "2020-12-29T19:53:35.160395Z",
     "iopub.status.busy": "2020-12-29T19:53:35.159518Z",
     "iopub.status.idle": "2020-12-29T19:53:35.163092Z",
     "shell.execute_reply": "2020-12-29T19:53:35.163581Z"
    },
    "papermill": {
     "duration": 0.031278,
     "end_time": "2020-12-29T19:53:35.163723",
     "exception": false,
     "start_time": "2020-12-29T19:53:35.132445",
     "status": "completed"
    },
    "tags": []
   },
   "outputs": [],
   "source": [
    "if (num_train_sequences%BATCH_SIZE) == 0:\n",
    "    steps_per_epoch = int(num_train_sequences/BATCH_SIZE)\n",
    "else:\n",
    "    steps_per_epoch = (num_train_sequences//BATCH_SIZE) + 1\n",
    "\n",
    "if (num_val_sequences%BATCH_SIZE) == 0:\n",
    "    validation_steps = int(num_val_sequences/BATCH_SIZE)\n",
    "else:\n",
    "    validation_steps = (num_val_sequences//BATCH_SIZE) + 1"
   ]
  },
  {
   "cell_type": "markdown",
   "metadata": {
    "papermill": {
     "duration": 0.021892,
     "end_time": "2020-12-29T19:53:35.208061",
     "exception": false,
     "start_time": "2020-12-29T19:53:35.186169",
     "status": "completed"
    },
    "tags": []
   },
   "source": [
    "Let us now fit the model. This will start training the model and with the help of the checkpoints, you'll be able to save the model at the end of each epoch."
   ]
  },
  {
   "cell_type": "code",
   "execution_count": 12,
   "metadata": {
    "execution": {
     "iopub.execute_input": "2020-12-29T19:53:35.258073Z",
     "iopub.status.busy": "2020-12-29T19:53:35.257311Z",
     "iopub.status.idle": "2020-12-29T20:54:26.005828Z",
     "shell.execute_reply": "2020-12-29T20:54:26.005060Z"
    },
    "papermill": {
     "duration": 3650.775681,
     "end_time": "2020-12-29T20:54:26.005967",
     "exception": false,
     "start_time": "2020-12-29T19:53:35.230286",
     "status": "completed"
    },
    "tags": []
   },
   "outputs": [
    {
     "name": "stdout",
     "output_type": "stream",
     "text": [
      "Epoch 1/50\n",
      "21/21 [==============================] - 124s 6s/step - loss: 0.5726 - binary_accuracy: 0.7828 - val_loss: 0.5180 - val_binary_accuracy: 0.8000\n",
      "Epoch 2/50\n",
      "21/21 [==============================] - 114s 5s/step - loss: 0.5092 - binary_accuracy: 0.8000 - val_loss: 0.5014 - val_binary_accuracy: 0.8000\n",
      "Epoch 3/50\n",
      "21/21 [==============================] - 113s 5s/step - loss: 0.5057 - binary_accuracy: 0.8000 - val_loss: 0.5016 - val_binary_accuracy: 0.8000\n",
      "Epoch 4/50\n",
      "21/21 [==============================] - 113s 5s/step - loss: 0.5035 - binary_accuracy: 0.8000 - val_loss: 0.4983 - val_binary_accuracy: 0.8000\n",
      "Epoch 5/50\n",
      "21/21 [==============================] - 114s 5s/step - loss: 0.5046 - binary_accuracy: 0.8000 - val_loss: 0.4979 - val_binary_accuracy: 0.8000\n",
      "Epoch 6/50\n",
      "21/21 [==============================] - 118s 6s/step - loss: 0.5015 - binary_accuracy: 0.8000 - val_loss: 0.4929 - val_binary_accuracy: 0.8000\n",
      "Epoch 7/50\n",
      "21/21 [==============================] - 108s 5s/step - loss: 0.4913 - binary_accuracy: 0.8000 - val_loss: 0.4819 - val_binary_accuracy: 0.8000\n",
      "Epoch 8/50\n",
      "21/21 [==============================] - 105s 5s/step - loss: 0.4611 - binary_accuracy: 0.8042 - val_loss: 0.4412 - val_binary_accuracy: 0.8200\n",
      "Epoch 9/50\n",
      "21/21 [==============================] - 109s 5s/step - loss: 0.4543 - binary_accuracy: 0.8054 - val_loss: 0.4362 - val_binary_accuracy: 0.8000\n",
      "Epoch 10/50\n",
      "21/21 [==============================] - 108s 5s/step - loss: 0.4299 - binary_accuracy: 0.8136 - val_loss: 0.3938 - val_binary_accuracy: 0.8320\n",
      "Epoch 11/50\n",
      "21/21 [==============================] - 109s 5s/step - loss: 0.4078 - binary_accuracy: 0.8214 - val_loss: 0.3879 - val_binary_accuracy: 0.8380\n",
      "Epoch 12/50\n",
      "21/21 [==============================] - 103s 5s/step - loss: 0.3945 - binary_accuracy: 0.8244 - val_loss: 0.3891 - val_binary_accuracy: 0.8180\n",
      "Epoch 13/50\n",
      "21/21 [==============================] - 107s 5s/step - loss: 0.3719 - binary_accuracy: 0.8335 - val_loss: 0.3894 - val_binary_accuracy: 0.8340\n",
      "Epoch 14/50\n",
      "21/21 [==============================] - 107s 5s/step - loss: 0.3726 - binary_accuracy: 0.8284 - val_loss: 0.3566 - val_binary_accuracy: 0.8540\n",
      "Epoch 15/50\n",
      "21/21 [==============================] - 110s 5s/step - loss: 0.3572 - binary_accuracy: 0.8377 - val_loss: 0.3665 - val_binary_accuracy: 0.8360\n",
      "Epoch 16/50\n",
      "21/21 [==============================] - 106s 5s/step - loss: 0.3352 - binary_accuracy: 0.8468 - val_loss: 0.3708 - val_binary_accuracy: 0.8200\n",
      "Epoch 17/50\n",
      "21/21 [==============================] - 109s 5s/step - loss: 0.3263 - binary_accuracy: 0.8434 - val_loss: 0.3565 - val_binary_accuracy: 0.8580\n",
      "Epoch 18/50\n",
      "21/21 [==============================] - 114s 5s/step - loss: 0.3198 - binary_accuracy: 0.8564 - val_loss: 0.3501 - val_binary_accuracy: 0.8340\n",
      "Epoch 19/50\n",
      "21/21 [==============================] - 109s 5s/step - loss: 0.3045 - binary_accuracy: 0.8606 - val_loss: 0.3544 - val_binary_accuracy: 0.8340\n",
      "Epoch 20/50\n",
      "21/21 [==============================] - 104s 5s/step - loss: 0.2814 - binary_accuracy: 0.8688 - val_loss: 0.3648 - val_binary_accuracy: 0.8580\n",
      "Epoch 21/50\n",
      "21/21 [==============================] - 106s 5s/step - loss: 0.2701 - binary_accuracy: 0.8745 - val_loss: 0.3499 - val_binary_accuracy: 0.8460\n",
      "Epoch 22/50\n",
      "21/21 [==============================] - 108s 5s/step - loss: 0.2625 - binary_accuracy: 0.8793 - val_loss: 0.3830 - val_binary_accuracy: 0.8300\n",
      "Epoch 23/50\n",
      "21/21 [==============================] - 109s 5s/step - loss: 0.2419 - binary_accuracy: 0.8899 - val_loss: 0.2933 - val_binary_accuracy: 0.8760\n",
      "Epoch 24/50\n",
      "21/21 [==============================] - 104s 5s/step - loss: 0.2343 - binary_accuracy: 0.8983 - val_loss: 0.3483 - val_binary_accuracy: 0.8380\n",
      "Epoch 25/50\n",
      "21/21 [==============================] - 109s 5s/step - loss: 0.2271 - binary_accuracy: 0.8998 - val_loss: 0.3609 - val_binary_accuracy: 0.8320\n",
      "Epoch 26/50\n",
      "21/21 [==============================] - ETA: 0s - loss: 0.2068 - binary_accuracy: 0.9128\n",
      "Epoch 00026: ReduceLROnPlateau reducing learning rate to 9.999999747378752e-06.\n",
      "21/21 [==============================] - 110s 5s/step - loss: 0.2068 - binary_accuracy: 0.9128 - val_loss: 0.3422 - val_binary_accuracy: 0.8260\n",
      "Epoch 27/50\n",
      "21/21 [==============================] - 109s 5s/step - loss: 0.1871 - binary_accuracy: 0.9176 - val_loss: 0.3805 - val_binary_accuracy: 0.8300\n",
      "Epoch 28/50\n",
      "21/21 [==============================] - 104s 5s/step - loss: 0.1759 - binary_accuracy: 0.9303 - val_loss: 0.3143 - val_binary_accuracy: 0.8520\n",
      "Epoch 29/50\n",
      "21/21 [==============================] - ETA: 0s - loss: 0.1652 - binary_accuracy: 0.9324\n",
      "Epoch 00029: ReduceLROnPlateau reducing learning rate to 9.999999747378752e-07.\n",
      "21/21 [==============================] - 115s 5s/step - loss: 0.1652 - binary_accuracy: 0.9324 - val_loss: 0.3570 - val_binary_accuracy: 0.8300\n",
      "Epoch 30/50\n",
      "21/21 [==============================] - 111s 5s/step - loss: 0.1647 - binary_accuracy: 0.9388 - val_loss: 0.3530 - val_binary_accuracy: 0.8300\n",
      "Epoch 31/50\n",
      "21/21 [==============================] - 120s 6s/step - loss: 0.1690 - binary_accuracy: 0.9348 - val_loss: 0.4017 - val_binary_accuracy: 0.8200\n",
      "Epoch 32/50\n",
      "21/21 [==============================] - ETA: 0s - loss: 0.1677 - binary_accuracy: 0.9357\n",
      "Epoch 00032: ReduceLROnPlateau reducing learning rate to 9.999999974752428e-08.\n",
      "21/21 [==============================] - 113s 5s/step - loss: 0.1677 - binary_accuracy: 0.9357 - val_loss: 0.3509 - val_binary_accuracy: 0.8380\n",
      "Epoch 33/50\n",
      "21/21 [==============================] - 110s 5s/step - loss: 0.1679 - binary_accuracy: 0.9345 - val_loss: 0.3338 - val_binary_accuracy: 0.8420\n",
      "Epoch 00033: early stopping\n"
     ]
    }
   ],
   "source": [
    "history = model_b.fit_generator(train_generator, steps_per_epoch=steps_per_epoch, epochs=NUM_EPOCHS, verbose=1, \n",
    "                        callbacks=callbacks_list, validation_data=val_generator, \n",
    "                        validation_steps=validation_steps, class_weight=None, workers=1, initial_epoch=0)"
   ]
  },
  {
   "cell_type": "markdown",
   "metadata": {
    "papermill": {
     "duration": 0.264147,
     "end_time": "2020-12-29T20:54:26.538416",
     "exception": false,
     "start_time": "2020-12-29T20:54:26.274269",
     "status": "completed"
    },
    "tags": []
   },
   "source": [
    "Plot the train and validation loss and accuracies"
   ]
  },
  {
   "cell_type": "code",
   "execution_count": 13,
   "metadata": {
    "execution": {
     "iopub.execute_input": "2020-12-29T20:54:27.086202Z",
     "iopub.status.busy": "2020-12-29T20:54:27.085386Z",
     "iopub.status.idle": "2020-12-29T20:54:27.540094Z",
     "shell.execute_reply": "2020-12-29T20:54:27.540595Z"
    },
    "papermill": {
     "duration": 0.734161,
     "end_time": "2020-12-29T20:54:27.540743",
     "exception": false,
     "start_time": "2020-12-29T20:54:26.806582",
     "status": "completed"
    },
    "tags": []
   },
   "outputs": [
    {
     "data": {
      "image/png": "[encoded data removed]",
      "text/plain": [
       "<Figure size 432x288 with 1 Axes>"
      ]
     },
     "metadata": {
      "needs_background": "light"
     },
     "output_type": "display_data"
    },
    {
     "data": {
      "image/png": "[encoded data removed]",
      "text/plain": [
       "<Figure size 432x288 with 1 Axes>"
      ]
     },
     "metadata": {
      "needs_background": "light"
     },
     "output_type": "display_data"
    }
   ],
   "source": [
    "history_frame = pd.DataFrame(history.history)\n",
    "history_frame.loc[:, ['loss', 'val_loss']].plot()\n",
    "history_frame.loc[:, ['binary_accuracy', 'val_binary_accuracy']].plot();"
   ]
  },
  {
   "cell_type": "code",
   "execution_count": 14,
   "metadata": {
    "execution": {
     "iopub.execute_input": "2020-12-29T20:54:28.145632Z",
     "iopub.status.busy": "2020-12-29T20:54:28.144926Z",
     "iopub.status.idle": "2020-12-29T20:54:28.149536Z",
     "shell.execute_reply": "2020-12-29T20:54:28.149035Z"
    },
    "papermill": {
     "duration": 0.295085,
     "end_time": "2020-12-29T20:54:28.149632",
     "exception": false,
     "start_time": "2020-12-29T20:54:27.854547",
     "status": "completed"
    },
    "tags": []
   },
   "outputs": [
    {
     "name": "stdout",
     "output_type": "stream",
     "text": [
      "Total execution time is : 64 minutes\n"
     ]
    }
   ],
   "source": [
    "# Display the exeuction time\n",
    "print('Total execution time is :',round((time.time() - start_time)/60),'minutes')"
   ]
  },
  {
   "cell_type": "code",
   "execution_count": null,
   "metadata": {
    "papermill": {
     "duration": 0.271261,
     "end_time": "2020-12-29T20:54:28.691535",
     "exception": false,
     "start_time": "2020-12-29T20:54:28.420274",
     "status": "completed"
    },
    "tags": []
   },
   "outputs": [],
   "source": []
  }
 ],
 "metadata": {
  "kernelspec": {
   "display_name": "Python 3",
   "language": "python",
   "name": "python3"
  },
  "language_info": {
   "codemirror_mode": {
    "name": "ipython",
    "version": 3
   },
   "file_extension": ".py",
   "mimetype": "text/x-python",
   "name": "python",
   "nbconvert_exporter": "python",
   "pygments_lexer": "ipython3",
   "version": "3.7.6"
  },
  "papermill": {
   "duration": 3854.890363,
   "end_time": "2020-12-29T20:54:30.120067",
   "environment_variables": {},
   "exception": null,
   "input_path": "__notebook__.ipynb",
   "output_path": "__notebook__.ipynb",
   "parameters": {},
   "start_time": "2020-12-29T19:50:15.229704",
   "version": "2.1.0"
  }
 },
 "nbformat": 4,
 "nbformat_minor": 4
}
