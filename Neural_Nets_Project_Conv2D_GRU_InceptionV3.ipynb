{
 "cells": [
  {
   "cell_type": "markdown",
   "metadata": {
    "papermill": {
     "duration": 0.018085,
     "end_time": "2021-01-08T21:00:53.181063",
     "exception": false,
     "start_time": "2021-01-08T21:00:53.162978",
     "status": "completed"
    },
    "tags": []
   },
   "source": [
    "# Gesture Recognition\n",
    "In this group project, you are going to build a CNN-RNN model with InceptionV3 that will be able to predict the 5 gestures correctly. Please import the following libraries to get started."
   ]
  },
  {
   "cell_type": "code",
   "execution_count": 1,
   "metadata": {
    "execution": {
     "iopub.execute_input": "2021-01-08T21:00:53.226167Z",
     "iopub.status.busy": "2021-01-08T21:00:53.225221Z",
     "iopub.status.idle": "2021-01-08T21:00:53.228426Z",
     "shell.execute_reply": "2021-01-08T21:00:53.227857Z"
    },
    "papermill": {
     "duration": 0.028533,
     "end_time": "2021-01-08T21:00:53.228532",
     "exception": false,
     "start_time": "2021-01-08T21:00:53.199999",
     "status": "completed"
    },
    "tags": []
   },
   "outputs": [],
   "source": [
    "import numpy as np\n",
    "import pandas as pd\n",
    "import os\n",
    "import datetime\n",
    "import time\n",
    "import warnings\n",
    "warnings.filterwarnings('ignore')\n",
    "\n",
    "start_time=time.time()"
   ]
  },
  {
   "cell_type": "markdown",
   "metadata": {
    "papermill": {
     "duration": 0.021284,
     "end_time": "2021-01-08T21:00:53.267621",
     "exception": false,
     "start_time": "2021-01-08T21:00:53.246337",
     "status": "completed"
    },
    "tags": []
   },
   "source": [
    "We set the random seed so that the results don't vary drastically."
   ]
  },
  {
   "cell_type": "code",
   "execution_count": 2,
   "metadata": {
    "execution": {
     "iopub.execute_input": "2021-01-08T21:00:53.314995Z",
     "iopub.status.busy": "2021-01-08T21:00:53.314021Z",
     "iopub.status.idle": "2021-01-08T21:01:00.908596Z",
     "shell.execute_reply": "2021-01-08T21:01:00.907920Z"
    },
    "papermill": {
     "duration": 7.621087,
     "end_time": "2021-01-08T21:01:00.908725",
     "exception": false,
     "start_time": "2021-01-08T21:00:53.287638",
     "status": "completed"
    },
    "tags": []
   },
   "outputs": [
    {
     "name": "stdout",
     "output_type": "stream",
     "text": [
      "Tensorflow version:  2.3.1\n",
      "Default GPU Device:/device:GPU:0\n"
     ]
    }
   ],
   "source": [
    "np.random.seed(30)\n",
    "import random as rn\n",
    "rn.seed(30)\n",
    "from tensorflow.keras import backend as K\n",
    "import tensorflow as tf\n",
    "print('Tensorflow version: ',tf.__version__)\n",
    "tf.random.set_seed(30)\n",
    "if tf.test.gpu_device_name():\n",
    "    print('Default GPU Device:{}'.format(tf.test.gpu_device_name()))\n",
    "else:\n",
    "    print(\"Please install GPU version of TF\")"
   ]
  },
  {
   "cell_type": "markdown",
   "metadata": {
    "papermill": {
     "duration": 0.019313,
     "end_time": "2021-01-08T21:01:00.946855",
     "exception": false,
     "start_time": "2021-01-08T21:01:00.927542",
     "status": "completed"
    },
    "tags": []
   },
   "source": [
    "In this block, you read the folder names for training and validation. You also set the `batch_size` here. Note that you set the batch size in such a way that you are able to use the GPU in full capacity. You keep increasing the batch size until the machine throws an error."
   ]
  },
  {
   "cell_type": "code",
   "execution_count": 3,
   "metadata": {
    "execution": {
     "iopub.execute_input": "2021-01-08T21:01:01.086313Z",
     "iopub.status.busy": "2021-01-08T21:01:01.085212Z",
     "iopub.status.idle": "2021-01-08T21:01:01.132737Z",
     "shell.execute_reply": "2021-01-08T21:01:01.129306Z"
    },
    "papermill": {
     "duration": 0.159016,
     "end_time": "2021-01-08T21:01:01.132896",
     "exception": false,
     "start_time": "2021-01-08T21:01:00.973880",
     "status": "completed"
    },
    "tags": []
   },
   "outputs": [
    {
     "name": "stdout",
     "output_type": "stream",
     "text": [
      "Number of frames being considered : 15\n"
     ]
    }
   ],
   "source": [
    "BASE_PATH='../input/untouched-gesture-dataset'\n",
    "#BASE_PATH='.'\n",
    "train_doc = np.random.permutation(open(BASE_PATH+'/Project_data/train.csv').readlines())\n",
    "val_doc = np.random.permutation(open(BASE_PATH+'/Project_data/val.csv').readlines())\n",
    "BATCH_SIZE = 32 #experiment with the batch size\n",
    "IMG_HEIGHT = 120\n",
    "IMG_WIDTH = 120\n",
    "LEARNING_RATE=0.0001\n",
    "FRAMES=len(list(range(1,30,2)))\n",
    "NUM_EPOCHS = 50\n",
    "print('Number of frames being considered :',FRAMES)"
   ]
  },
  {
   "cell_type": "markdown",
   "metadata": {
    "papermill": {
     "duration": 0.029471,
     "end_time": "2021-01-08T21:01:01.193191",
     "exception": false,
     "start_time": "2021-01-08T21:01:01.163720",
     "status": "completed"
    },
    "tags": []
   },
   "source": [
    "## Generator\n",
    "This is one of the most important part of the code. The overall structure of the generator has been given. In the generator, you are going to preprocess the images as you have images of 2 different dimensions as well as create a batch of video frames. You have to experiment with `img_idx`, `y`,`z` and normalization such that you get high accuracy."
   ]
  },
  {
   "cell_type": "code",
   "execution_count": 4,
   "metadata": {
    "execution": {
     "iopub.execute_input": "2021-01-08T21:01:01.290259Z",
     "iopub.status.busy": "2021-01-08T21:01:01.289266Z",
     "iopub.status.idle": "2021-01-08T21:01:01.313924Z",
     "shell.execute_reply": "2021-01-08T21:01:01.315249Z"
    },
    "papermill": {
     "duration": 0.090764,
     "end_time": "2021-01-08T21:01:01.315472",
     "exception": false,
     "start_time": "2021-01-08T21:01:01.224708",
     "status": "completed"
    },
    "tags": []
   },
   "outputs": [],
   "source": [
    "def generator(source_path, folder_list, batch_size):\n",
    "    #print( 'Source path = ', source_path, '; batch size =', batch_size)\n",
    "    # We will consider frames 10 to 20 for training\n",
    "    img_idx = range(0,30,2) #create a list of image numbers you want to use for a particular video\n",
    "    while True:\n",
    "        t = np.random.permutation(folder_list)\n",
    "        num_batches = int(len(folder_list) / batch_size) # calculate the number of batches\n",
    "        for batch in range(num_batches): # we iterate over the number of batches\n",
    "            # second parameter x set to len(img_idx) list - indicates no. of images we want to use for each video\n",
    "            # third and fourth parameters (y,z) indicate the final size of input image\n",
    "            batch_data = np.zeros((batch_size,len(img_idx),120,120,3)) # x is the number of images you use for each video, (y,z) is the final size of the input images and 3 is the number of channels RGB\n",
    "            batch_labels = np.zeros((batch_size,5)) # batch_labels is the one hot representation of the output\n",
    "            for folder in range(batch_size): # iterate over the batch_size\n",
    "                imgs = os.listdir(source_path+'/'+ t[folder + (batch*batch_size)].split(';')[0]) # read all the images in the folder\n",
    "                for idx,item in enumerate(img_idx): #  Iterate iver the frames/images of a folder to read them in\n",
    "                    image = tf.io.read_file(source_path+'/'+ t[folder + (batch*batch_size)].strip().split(';')[0]+'/'+imgs[item])\n",
    "                    image = tf.io.decode_jpeg(image,channels=3)\n",
    "                    #crop the images and resize them. Note that the images are of 2 different shape \n",
    "                    #and the conv3D will throw error if the inputs in a batch have different shapes\n",
    "                    # We will resize all the images to a standard shape of (120,120)\n",
    "                    # We will use distinct normalization methods for different channel\n",
    "                    im_resized = tf.image.resize(image,size=[IMG_HEIGHT,IMG_WIDTH],method='nearest') \n",
    "                    im_resized = tf.image.resize(tf.image.central_crop(im_resized,0.9),size=[IMG_HEIGHT,IMG_WIDTH],method='nearest')\n",
    "                    im_resized_0 = im_resized[:,:,0]\n",
    "                    im_resized_1 = im_resized[:,:,1]\n",
    "                    im_resized_2 = im_resized[:,:,2]\n",
    "                    batch_data[folder,idx,:,:,0] = (im_resized_0 - np.min(im_resized_0))/ (np.max(im_resized_0) - np.min(im_resized_0)) #normalise and feed in the image\n",
    "                    batch_data[folder,idx,:,:,1] = (im_resized_1 - np.percentile(im_resized_1,5))/ (np.percentile(im_resized_1,95) - np.percentile(im_resized_1,5)) #normalise and feed in the image\n",
    "                    batch_data[folder,idx,:,:,2] = im_resized_2/255 #normalise and feed in the image                    \n",
    "                batch_labels[folder, int(t[folder + (batch*batch_size)].strip().split(';')[2])] = 1\n",
    "            yield batch_data, batch_labels #you yield the batch_data and the batch_labels, remember what does yield do\n",
    "\n",
    "        \n",
    "        # write the code for the remaining data points which are left after full batches\n",
    "        if len(folder_list) != (num_batches * batch_size):\n",
    "            n_batch_size = len(folder_list) - (num_batches * batch_size)\n",
    "            batch_data = np.zeros((n_batch_size,len(img_idx),120,120,3))\n",
    "            batch_labels = np.zeros((n_batch_size,5))\n",
    "            for folder in range(n_batch_size): # iterate over the batch_size\n",
    "                imgs = os.listdir(source_path+'/'+ t[folder + (num_batches*n_batch_size)].split(';')[0]) # read all the images in the folder\n",
    "                for idx,item in enumerate(img_idx): #  Iterate iver the frames/images of a folder to read them in\n",
    "                    image = tf.io.read_file(source_path+'/'+ t[folder + (num_batches*n_batch_size)].strip().split(';')[0]+'/'+imgs[item])\n",
    "                    image = tf.io.decode_jpeg(image,channels=3)\n",
    "                    #crop the images and resize them. Note that the images are of 2 different shape \n",
    "                    #and the conv3D will throw error if the inputs in a batch have different shapes\n",
    "                    # We will resize all the images to a standard shape of (120,120)\n",
    "                    # We will use distinct normalization methods for different channel\n",
    "                    im_resized = tf.image.resize(image,size=[IMG_HEIGHT,IMG_WIDTH],method='nearest') \n",
    "                    im_resized = tf.image.resize(tf.image.central_crop(im_resized,0.9),size=[IMG_HEIGHT,IMG_WIDTH],method='nearest')\n",
    "                    im_resized_0 = im_resized[:,:,0]\n",
    "                    im_resized_1 = im_resized[:,:,1]\n",
    "                    im_resized_2 = im_resized[:,:,2]\n",
    "                    batch_data[folder,idx,:,:,0] = (im_resized_0 - np.min(im_resized_0))/ (np.max(im_resized_0) - np.min(im_resized_0)) #normalise and feed in the image\n",
    "                    batch_data[folder,idx,:,:,1] = (im_resized_1 - np.percentile(im_resized_1,5))/ (np.percentile(im_resized_1,95) - np.percentile(im_resized_1,5)) #normalise and feed in the image\n",
    "                    batch_data[folder,idx,:,:,2] = im_resized_2/255 #normalise and feed in the image   \n",
    "                    \n",
    "                batch_labels[folder, int(t[folder + (num_batches*n_batch_size)].strip().split(';')[2])] = 1\n",
    "            yield batch_data, batch_labels #you yield the batch_data and the batch_labels, remember what does yield do\n",
    "        "
   ]
  },
  {
   "cell_type": "markdown",
   "metadata": {
    "papermill": {
     "duration": 0.029452,
     "end_time": "2021-01-08T21:01:01.377349",
     "exception": false,
     "start_time": "2021-01-08T21:01:01.347897",
     "status": "completed"
    },
    "tags": []
   },
   "source": [
    "Note here that a video is represented above in the generator as (number of images, height, width, number of channels). Take this into consideration while creating the model architecture."
   ]
  },
  {
   "cell_type": "code",
   "execution_count": 5,
   "metadata": {
    "execution": {
     "iopub.execute_input": "2021-01-08T21:01:01.446549Z",
     "iopub.status.busy": "2021-01-08T21:01:01.441795Z",
     "iopub.status.idle": "2021-01-08T21:02:56.650388Z",
     "shell.execute_reply": "2021-01-08T21:02:56.649217Z"
    },
    "papermill": {
     "duration": 115.244836,
     "end_time": "2021-01-08T21:02:56.650557",
     "exception": false,
     "start_time": "2021-01-08T21:01:01.405721",
     "status": "completed"
    },
    "tags": []
   },
   "outputs": [
    {
     "name": "stdout",
     "output_type": "stream",
     "text": [
      "# training sequences = 663\n",
      "# training batches = 22\n",
      "# validation sequences = 100\n"
     ]
    }
   ],
   "source": [
    "from PIL import Image\n",
    "\n",
    "curr_dt_time = datetime.datetime.now()\n",
    "train_path = BASE_PATH+'/Project_data/train'\n",
    "val_path = BASE_PATH+'/Project_data/val'\n",
    "num_train_sequences = len(train_doc)\n",
    "print('# training sequences =', num_train_sequences)\n",
    "print('# training batches =', int(num_train_sequences/30))\n",
    "num_val_sequences = len(val_doc)\n",
    "print('# validation sequences =', num_val_sequences)\n",
    "\n",
    "img_sizes=[]\n",
    "for i in os.listdir(train_path):\n",
    "    if not(i.startswith('.')):\n",
    "        file_path = train_path + \"/\" + i\n",
    "        for j in os.listdir(file_path):\n",
    "            if not(j.startswith('.')):\n",
    "                im_path = file_path + \"/\" + j\n",
    "                im = Image.open(im_path)\n",
    "                img_sizes.append(im.size)"
   ]
  },
  {
   "cell_type": "code",
   "execution_count": 6,
   "metadata": {
    "execution": {
     "iopub.execute_input": "2021-01-08T21:02:56.698730Z",
     "iopub.status.busy": "2021-01-08T21:02:56.697844Z",
     "iopub.status.idle": "2021-01-08T21:02:56.702350Z",
     "shell.execute_reply": "2021-01-08T21:02:56.702823Z"
    },
    "papermill": {
     "duration": 0.033475,
     "end_time": "2021-01-08T21:02:56.702937",
     "exception": false,
     "start_time": "2021-01-08T21:02:56.669462",
     "status": "completed"
    },
    "tags": []
   },
   "outputs": [
    {
     "data": {
      "text/plain": [
       "{(160, 120), (360, 360)}"
      ]
     },
     "execution_count": 6,
     "metadata": {},
     "output_type": "execute_result"
    }
   ],
   "source": [
    "set(img_sizes)"
   ]
  },
  {
   "cell_type": "markdown",
   "metadata": {
    "papermill": {
     "duration": 0.019499,
     "end_time": "2021-01-08T21:02:56.741838",
     "exception": false,
     "start_time": "2021-01-08T21:02:56.722339",
     "status": "completed"
    },
    "tags": []
   },
   "source": [
    "As we can see we have two shapes of images (160,120) and (360,360).  We will standardize the image shapes to (120,120)"
   ]
  },
  {
   "cell_type": "markdown",
   "metadata": {
    "papermill": {
     "duration": 0.020151,
     "end_time": "2021-01-08T21:02:56.781982",
     "exception": false,
     "start_time": "2021-01-08T21:02:56.761831",
     "status": "completed"
    },
    "tags": []
   },
   "source": [
    "## Model\n",
    "Here you make the model using different functionalities that Keras provides. Remember to use `Conv3D` and `MaxPooling3D` and not `Conv2D` and `Maxpooling2D` for a 3D convolution model. You would want to use `TimeDistributed` while building a Conv2D + RNN model. Also remember that the last layer is the softmax. Design the network in such a way that the model is able to give good accuracy on the least number of parameters so that it can fit in the memory of the webcam."
   ]
  },
  {
   "cell_type": "markdown",
   "metadata": {
    "papermill": {
     "duration": 0.019302,
     "end_time": "2021-01-08T21:02:56.820519",
     "exception": false,
     "start_time": "2021-01-08T21:02:56.801217",
     "status": "completed"
    },
    "tags": []
   },
   "source": [
    "#### Conv2D + RNN Model using InceptionV3 pretrained model"
   ]
  },
  {
   "cell_type": "code",
   "execution_count": 7,
   "metadata": {
    "execution": {
     "iopub.execute_input": "2021-01-08T21:02:56.875384Z",
     "iopub.status.busy": "2021-01-08T21:02:56.874775Z",
     "iopub.status.idle": "2021-01-08T21:03:03.757937Z",
     "shell.execute_reply": "2021-01-08T21:03:03.756838Z"
    },
    "papermill": {
     "duration": 6.919154,
     "end_time": "2021-01-08T21:03:03.758063",
     "exception": false,
     "start_time": "2021-01-08T21:02:56.838909",
     "status": "completed"
    },
    "tags": []
   },
   "outputs": [
    {
     "name": "stdout",
     "output_type": "stream",
     "text": [
      "Downloading data from https://storage.googleapis.com/tensorflow/keras-applications/inception_v3/inception_v3_weights_tf_dim_ordering_tf_kernels_notop.h5\n",
      "87916544/87910968 [==============================] - 1s 0us/step\n"
     ]
    }
   ],
   "source": [
    "from tensorflow.keras.models import Sequential, Model\n",
    "from tensorflow.keras.layers import Dense, GRU, LSTM, Flatten, TimeDistributed, Flatten, BatchNormalization, Activation, Dropout\n",
    "from tensorflow.keras.layers import Conv3D, MaxPooling3D, Conv2D, MaxPooling2D\n",
    "from tensorflow.keras.callbacks import ModelCheckpoint, ReduceLROnPlateau, EarlyStopping\n",
    "from tensorflow.keras import optimizers\n",
    "from tensorflow.keras import initializers\n",
    "from tensorflow.keras import regularizers\n",
    "from tensorflow.keras.applications.inception_v3 import InceptionV3\n",
    "\n",
    "#write your model here\n",
    "nb_filters = [8,16,32,64]\n",
    "nb_dense = [1000, 500, 8, 5]\n",
    "input_shape = (FRAMES, IMG_HEIGHT,IMG_WIDTH, 3)\n",
    "\n",
    "pretrained_model = InceptionV3(include_top=False, weights='imagenet', input_shape=(IMG_HEIGHT,IMG_WIDTH,3))\n",
    "x = pretrained_model.output\n",
    "x = Flatten()(x)\n",
    "\n",
    "features = Dense(64, activation='relu')(x)\n",
    "conv_model = Model(pretrained_model.input, features)\n",
    "\n",
    "for layer in pretrained_model.layers:\n",
    "    layer.trainable = False\n",
    "    \n",
    "model = Sequential()\n",
    "model.add(TimeDistributed(conv_model, input_shape=input_shape))\n",
    "model.add(GRU(32, return_sequences=True, dropout=0.5))\n",
    "model.add(GRU(16, dropout=0.5))\n",
    "model.add(Dense(nb_dense[2], activation='relu'))\n",
    "model.add(Dense(nb_dense[3], activation='sigmoid'))"
   ]
  },
  {
   "cell_type": "markdown",
   "metadata": {
    "papermill": {
     "duration": 0.025988,
     "end_time": "2021-01-08T21:03:03.810344",
     "exception": false,
     "start_time": "2021-01-08T21:03:03.784356",
     "status": "completed"
    },
    "tags": []
   },
   "source": [
    "Now that you have written the model, the next step is to `compile` the model. When you print the `summary` of the model, you'll see the total number of parameters you have to train."
   ]
  },
  {
   "cell_type": "code",
   "execution_count": 8,
   "metadata": {
    "execution": {
     "iopub.execute_input": "2021-01-08T21:03:03.915683Z",
     "iopub.status.busy": "2021-01-08T21:03:03.914475Z",
     "iopub.status.idle": "2021-01-08T21:03:03.958435Z",
     "shell.execute_reply": "2021-01-08T21:03:03.959276Z"
    },
    "papermill": {
     "duration": 0.123549,
     "end_time": "2021-01-08T21:03:03.959427",
     "exception": false,
     "start_time": "2021-01-08T21:03:03.835878",
     "status": "completed"
    },
    "tags": []
   },
   "outputs": [
    {
     "name": "stdout",
     "output_type": "stream",
     "text": [
      "Model: \"sequential\"\n",
      "_________________________________________________________________\n",
      "Layer (type)                 Output Shape              Param #   \n",
      "=================================================================\n",
      "time_distributed (TimeDistri (None, 15, 64)            22327136  \n",
      "_________________________________________________________________\n",
      "gru (GRU)                    (None, 15, 32)            9408      \n",
      "_________________________________________________________________\n",
      "gru_1 (GRU)                  (None, 16)                2400      \n",
      "_________________________________________________________________\n",
      "dense_1 (Dense)              (None, 8)                 136       \n",
      "_________________________________________________________________\n",
      "dense_2 (Dense)              (None, 5)                 45        \n",
      "=================================================================\n",
      "Total params: 22,339,125\n",
      "Trainable params: 536,341\n",
      "Non-trainable params: 21,802,784\n",
      "_________________________________________________________________\n",
      "None\n"
     ]
    }
   ],
   "source": [
    "optimizer=optimizers.Adam(lr=LEARNING_RATE)\n",
    "model.compile(optimizer=optimizer, loss='binary_crossentropy', metrics=['binary_accuracy']) \n",
    "print (model.summary())"
   ]
  },
  {
   "cell_type": "markdown",
   "metadata": {
    "papermill": {
     "duration": 0.044506,
     "end_time": "2021-01-08T21:03:04.030482",
     "exception": false,
     "start_time": "2021-01-08T21:03:03.985976",
     "status": "completed"
    },
    "tags": []
   },
   "source": [
    "Let us create the `train_generator` and the `val_generator` which will be used in `.fit_generator`."
   ]
  },
  {
   "cell_type": "code",
   "execution_count": 9,
   "metadata": {
    "execution": {
     "iopub.execute_input": "2021-01-08T21:03:04.095019Z",
     "iopub.status.busy": "2021-01-08T21:03:04.094116Z",
     "iopub.status.idle": "2021-01-08T21:03:04.098453Z",
     "shell.execute_reply": "2021-01-08T21:03:04.097450Z"
    },
    "papermill": {
     "duration": 0.035292,
     "end_time": "2021-01-08T21:03:04.098564",
     "exception": false,
     "start_time": "2021-01-08T21:03:04.063272",
     "status": "completed"
    },
    "tags": []
   },
   "outputs": [],
   "source": [
    "train_generator = generator(train_path, train_doc, BATCH_SIZE)\n",
    "val_generator = generator(val_path, val_doc, BATCH_SIZE)"
   ]
  },
  {
   "cell_type": "code",
   "execution_count": 10,
   "metadata": {
    "execution": {
     "iopub.execute_input": "2021-01-08T21:03:04.159613Z",
     "iopub.status.busy": "2021-01-08T21:03:04.158852Z",
     "iopub.status.idle": "2021-01-08T21:03:04.162631Z",
     "shell.execute_reply": "2021-01-08T21:03:04.162157Z"
    },
    "papermill": {
     "duration": 0.037418,
     "end_time": "2021-01-08T21:03:04.162724",
     "exception": false,
     "start_time": "2021-01-08T21:03:04.125306",
     "status": "completed"
    },
    "tags": []
   },
   "outputs": [],
   "source": [
    "filepath = 'best_model.h5'\n",
    "\n",
    "mc = ModelCheckpoint(filepath, monitor='val_loss', verbose=1, save_best_only=True, save_weights_only=False, mode='min', save_freq=1)\n",
    "es = EarlyStopping(monitor='val_loss', mode='min', verbose=1, patience=10)\n",
    "lr = ReduceLROnPlateau(monitor='val_loss', factor=0.1, patience=3, verbose=1, mode='min',\n",
    "                        min_delta=0.0001, cooldown=0, min_lr=0) \n",
    "callbacks_list = [mc, lr, es]"
   ]
  },
  {
   "cell_type": "markdown",
   "metadata": {
    "papermill": {
     "duration": 0.027644,
     "end_time": "2021-01-08T21:03:04.217057",
     "exception": false,
     "start_time": "2021-01-08T21:03:04.189413",
     "status": "completed"
    },
    "tags": []
   },
   "source": [
    "The `steps_per_epoch` and `validation_steps` are used by `fit_generator` to decide the number of next() calls it need to make."
   ]
  },
  {
   "cell_type": "code",
   "execution_count": 11,
   "metadata": {
    "execution": {
     "iopub.execute_input": "2021-01-08T21:03:04.277784Z",
     "iopub.status.busy": "2021-01-08T21:03:04.276023Z",
     "iopub.status.idle": "2021-01-08T21:03:04.278483Z",
     "shell.execute_reply": "2021-01-08T21:03:04.278955Z"
    },
    "papermill": {
     "duration": 0.03582,
     "end_time": "2021-01-08T21:03:04.279106",
     "exception": false,
     "start_time": "2021-01-08T21:03:04.243286",
     "status": "completed"
    },
    "tags": []
   },
   "outputs": [],
   "source": [
    "if (num_train_sequences%BATCH_SIZE) == 0:\n",
    "    steps_per_epoch = int(num_train_sequences/BATCH_SIZE)\n",
    "else:\n",
    "    steps_per_epoch = (num_train_sequences//BATCH_SIZE) + 1\n",
    "\n",
    "if (num_val_sequences%BATCH_SIZE) == 0:\n",
    "    validation_steps = int(num_val_sequences/BATCH_SIZE)\n",
    "else:\n",
    "    validation_steps = (num_val_sequences//BATCH_SIZE) + 1"
   ]
  },
  {
   "cell_type": "markdown",
   "metadata": {
    "papermill": {
     "duration": 0.025927,
     "end_time": "2021-01-08T21:03:04.331374",
     "exception": false,
     "start_time": "2021-01-08T21:03:04.305447",
     "status": "completed"
    },
    "tags": []
   },
   "source": [
    "Let us now fit the model. This will start training the model and with the help of the checkpoints, you'll be able to save the model at the end of each epoch."
   ]
  },
  {
   "cell_type": "code",
   "execution_count": 12,
   "metadata": {
    "execution": {
     "iopub.execute_input": "2021-01-08T21:03:04.391587Z",
     "iopub.status.busy": "2021-01-08T21:03:04.390929Z",
     "iopub.status.idle": "2021-01-08T22:32:49.269154Z",
     "shell.execute_reply": "2021-01-08T22:32:49.268393Z"
    },
    "papermill": {
     "duration": 5384.911736,
     "end_time": "2021-01-08T22:32:49.269319",
     "exception": false,
     "start_time": "2021-01-08T21:03:04.357583",
     "status": "completed"
    },
    "tags": []
   },
   "outputs": [
    {
     "name": "stdout",
     "output_type": "stream",
     "text": [
      "Epoch 1/50\n",
      "21/21 [==============================] - 124s 6s/step - loss: 0.6564 - binary_accuracy: 0.5825 - val_loss: 0.6106 - val_binary_accuracy: 0.6840\n",
      "Epoch 2/50\n",
      "21/21 [==============================] - 114s 5s/step - loss: 0.6298 - binary_accuracy: 0.6459 - val_loss: 0.6186 - val_binary_accuracy: 0.6720\n",
      "Epoch 3/50\n",
      "21/21 [==============================] - 113s 5s/step - loss: 0.6249 - binary_accuracy: 0.6582 - val_loss: 0.5932 - val_binary_accuracy: 0.6920\n",
      "Epoch 4/50\n",
      "21/21 [==============================] - 110s 5s/step - loss: 0.6194 - binary_accuracy: 0.6600 - val_loss: 0.6020 - val_binary_accuracy: 0.6820\n",
      "Epoch 5/50\n",
      "21/21 [==============================] - 113s 5s/step - loss: 0.6105 - binary_accuracy: 0.6790 - val_loss: 0.5901 - val_binary_accuracy: 0.7000\n",
      "Epoch 6/50\n",
      "21/21 [==============================] - 109s 5s/step - loss: 0.6058 - binary_accuracy: 0.6893 - val_loss: 0.5858 - val_binary_accuracy: 0.7020\n",
      "Epoch 7/50\n",
      "21/21 [==============================] - 110s 5s/step - loss: 0.6027 - binary_accuracy: 0.6962 - val_loss: 0.5814 - val_binary_accuracy: 0.7220\n",
      "Epoch 8/50\n",
      "21/21 [==============================] - 106s 5s/step - loss: 0.6011 - binary_accuracy: 0.6899 - val_loss: 0.5831 - val_binary_accuracy: 0.7160\n",
      "Epoch 9/50\n",
      "21/21 [==============================] - 107s 5s/step - loss: 0.5937 - binary_accuracy: 0.7134 - val_loss: 0.5776 - val_binary_accuracy: 0.7240\n",
      "Epoch 10/50\n",
      "21/21 [==============================] - 108s 5s/step - loss: 0.5886 - binary_accuracy: 0.7101 - val_loss: 0.5740 - val_binary_accuracy: 0.7280\n",
      "Epoch 11/50\n",
      "21/21 [==============================] - 109s 5s/step - loss: 0.5854 - binary_accuracy: 0.7324 - val_loss: 0.5635 - val_binary_accuracy: 0.7200\n",
      "Epoch 12/50\n",
      "21/21 [==============================] - 108s 5s/step - loss: 0.5772 - binary_accuracy: 0.7357 - val_loss: 0.5511 - val_binary_accuracy: 0.7580\n",
      "Epoch 13/50\n",
      "21/21 [==============================] - 112s 5s/step - loss: 0.5646 - binary_accuracy: 0.7514 - val_loss: 0.5299 - val_binary_accuracy: 0.7820\n",
      "Epoch 14/50\n",
      "21/21 [==============================] - 119s 6s/step - loss: 0.5458 - binary_accuracy: 0.7716 - val_loss: 0.5071 - val_binary_accuracy: 0.8140\n",
      "Epoch 15/50\n",
      "21/21 [==============================] - 112s 5s/step - loss: 0.5389 - binary_accuracy: 0.7810 - val_loss: 0.5066 - val_binary_accuracy: 0.7940\n",
      "Epoch 16/50\n",
      "21/21 [==============================] - 105s 5s/step - loss: 0.5199 - binary_accuracy: 0.7894 - val_loss: 0.4961 - val_binary_accuracy: 0.8140\n",
      "Epoch 17/50\n",
      "21/21 [==============================] - 107s 5s/step - loss: 0.5102 - binary_accuracy: 0.7958 - val_loss: 0.4876 - val_binary_accuracy: 0.8060\n",
      "Epoch 18/50\n",
      "21/21 [==============================] - 108s 5s/step - loss: 0.5032 - binary_accuracy: 0.8036 - val_loss: 0.4725 - val_binary_accuracy: 0.8180\n",
      "Epoch 19/50\n",
      "21/21 [==============================] - 109s 5s/step - loss: 0.4910 - binary_accuracy: 0.8100 - val_loss: 0.4768 - val_binary_accuracy: 0.8000\n",
      "Epoch 20/50\n",
      "21/21 [==============================] - 104s 5s/step - loss: 0.4796 - binary_accuracy: 0.8193 - val_loss: 0.4670 - val_binary_accuracy: 0.8180\n",
      "Epoch 21/50\n",
      "21/21 [==============================] - 107s 5s/step - loss: 0.4722 - binary_accuracy: 0.8220 - val_loss: 0.4619 - val_binary_accuracy: 0.8160\n",
      "Epoch 22/50\n",
      "21/21 [==============================] - 108s 5s/step - loss: 0.4662 - binary_accuracy: 0.8311 - val_loss: 0.4669 - val_binary_accuracy: 0.8180\n",
      "Epoch 23/50\n",
      "21/21 [==============================] - 109s 5s/step - loss: 0.4603 - binary_accuracy: 0.8317 - val_loss: 0.4435 - val_binary_accuracy: 0.8380\n",
      "Epoch 24/50\n",
      "21/21 [==============================] - 105s 5s/step - loss: 0.4518 - binary_accuracy: 0.8413 - val_loss: 0.4539 - val_binary_accuracy: 0.8220\n",
      "Epoch 25/50\n",
      "21/21 [==============================] - 109s 5s/step - loss: 0.4430 - binary_accuracy: 0.8398 - val_loss: 0.4443 - val_binary_accuracy: 0.8260\n",
      "Epoch 26/50\n",
      "21/21 [==============================] - ETA: 0s - loss: 0.4305 - binary_accuracy: 0.8416\n",
      "Epoch 00026: ReduceLROnPlateau reducing learning rate to 9.999999747378752e-06.\n",
      "21/21 [==============================] - 118s 6s/step - loss: 0.4305 - binary_accuracy: 0.8416 - val_loss: 0.4455 - val_binary_accuracy: 0.8360\n",
      "Epoch 27/50\n",
      "21/21 [==============================] - 110s 5s/step - loss: 0.4257 - binary_accuracy: 0.8534 - val_loss: 0.4366 - val_binary_accuracy: 0.8400\n",
      "Epoch 28/50\n",
      "21/21 [==============================] - 106s 5s/step - loss: 0.4213 - binary_accuracy: 0.8543 - val_loss: 0.4455 - val_binary_accuracy: 0.8160\n",
      "Epoch 29/50\n",
      "21/21 [==============================] - 125s 6s/step - loss: 0.4217 - binary_accuracy: 0.8552 - val_loss: 0.4402 - val_binary_accuracy: 0.8300\n",
      "Epoch 30/50\n",
      "21/21 [==============================] - 112s 5s/step - loss: 0.4191 - binary_accuracy: 0.8588 - val_loss: 0.4336 - val_binary_accuracy: 0.8300\n",
      "Epoch 31/50\n",
      "21/21 [==============================] - 112s 5s/step - loss: 0.4189 - binary_accuracy: 0.8585 - val_loss: 0.4405 - val_binary_accuracy: 0.8280\n",
      "Epoch 32/50\n",
      "21/21 [==============================] - 108s 5s/step - loss: 0.4208 - binary_accuracy: 0.8528 - val_loss: 0.4430 - val_binary_accuracy: 0.8220\n",
      "Epoch 33/50\n",
      "21/21 [==============================] - ETA: 0s - loss: 0.4157 - binary_accuracy: 0.8585\n",
      "Epoch 00033: ReduceLROnPlateau reducing learning rate to 9.999999747378752e-07.\n",
      "21/21 [==============================] - 114s 5s/step - loss: 0.4157 - binary_accuracy: 0.8585 - val_loss: 0.4400 - val_binary_accuracy: 0.8300\n",
      "Epoch 34/50\n",
      "21/21 [==============================] - 110s 5s/step - loss: 0.4194 - binary_accuracy: 0.8543 - val_loss: 0.4437 - val_binary_accuracy: 0.8280\n",
      "Epoch 35/50\n",
      "21/21 [==============================] - 113s 5s/step - loss: 0.4151 - binary_accuracy: 0.8567 - val_loss: 0.4528 - val_binary_accuracy: 0.8140\n",
      "Epoch 36/50\n",
      "21/21 [==============================] - ETA: 0s - loss: 0.4140 - binary_accuracy: 0.8525\n",
      "Epoch 00036: ReduceLROnPlateau reducing learning rate to 9.999999974752428e-08.\n",
      "21/21 [==============================] - 112s 5s/step - loss: 0.4140 - binary_accuracy: 0.8525 - val_loss: 0.4405 - val_binary_accuracy: 0.8220\n",
      "Epoch 37/50\n",
      "21/21 [==============================] - 115s 5s/step - loss: 0.4174 - binary_accuracy: 0.8558 - val_loss: 0.4436 - val_binary_accuracy: 0.8200\n",
      "Epoch 38/50\n",
      "21/21 [==============================] - 114s 5s/step - loss: 0.4164 - binary_accuracy: 0.8621 - val_loss: 0.4195 - val_binary_accuracy: 0.8360\n",
      "Epoch 39/50\n",
      "21/21 [==============================] - 113s 5s/step - loss: 0.4168 - binary_accuracy: 0.8543 - val_loss: 0.4448 - val_binary_accuracy: 0.8340\n",
      "Epoch 40/50\n",
      "21/21 [==============================] - 111s 5s/step - loss: 0.4172 - binary_accuracy: 0.8531 - val_loss: 0.4369 - val_binary_accuracy: 0.8280\n",
      "Epoch 41/50\n",
      "21/21 [==============================] - ETA: 0s - loss: 0.4155 - binary_accuracy: 0.8597\n",
      "Epoch 00041: ReduceLROnPlateau reducing learning rate to 1.0000000116860975e-08.\n",
      "21/21 [==============================] - 116s 6s/step - loss: 0.4155 - binary_accuracy: 0.8597 - val_loss: 0.4488 - val_binary_accuracy: 0.8160\n",
      "Epoch 42/50\n",
      "21/21 [==============================] - 114s 5s/step - loss: 0.4193 - binary_accuracy: 0.8555 - val_loss: 0.4343 - val_binary_accuracy: 0.8260\n",
      "Epoch 43/50\n",
      "21/21 [==============================] - 115s 5s/step - loss: 0.4146 - binary_accuracy: 0.8600 - val_loss: 0.4444 - val_binary_accuracy: 0.8200\n",
      "Epoch 44/50\n",
      "21/21 [==============================] - ETA: 0s - loss: 0.4158 - binary_accuracy: 0.8534\n",
      "Epoch 00044: ReduceLROnPlateau reducing learning rate to 9.999999939225292e-10.\n",
      "21/21 [==============================] - 112s 5s/step - loss: 0.4158 - binary_accuracy: 0.8534 - val_loss: 0.4411 - val_binary_accuracy: 0.8200\n",
      "Epoch 45/50\n",
      "21/21 [==============================] - 115s 5s/step - loss: 0.4175 - binary_accuracy: 0.8489 - val_loss: 0.4415 - val_binary_accuracy: 0.8240\n",
      "Epoch 46/50\n",
      "21/21 [==============================] - 121s 6s/step - loss: 0.4168 - binary_accuracy: 0.8609 - val_loss: 0.4516 - val_binary_accuracy: 0.8100\n",
      "Epoch 47/50\n",
      "21/21 [==============================] - ETA: 0s - loss: 0.4134 - binary_accuracy: 0.8649\n",
      "Epoch 00047: ReduceLROnPlateau reducing learning rate to 9.999999717180686e-11.\n",
      "21/21 [==============================] - 116s 6s/step - loss: 0.4134 - binary_accuracy: 0.8649 - val_loss: 0.4377 - val_binary_accuracy: 0.8420\n",
      "Epoch 48/50\n",
      "21/21 [==============================] - 111s 5s/step - loss: 0.4190 - binary_accuracy: 0.8528 - val_loss: 0.4408 - val_binary_accuracy: 0.8220\n",
      "Epoch 00048: early stopping\n"
     ]
    }
   ],
   "source": [
    "history = model.fit_generator(train_generator, steps_per_epoch=steps_per_epoch, epochs=NUM_EPOCHS, verbose=1,\n",
    "                        callbacks=callbacks_list, validation_data=val_generator, \n",
    "                        validation_steps=validation_steps, class_weight=None, workers=1, initial_epoch=0)"
   ]
  },
  {
   "cell_type": "markdown",
   "metadata": {
    "papermill": {
     "duration": 0.417279,
     "end_time": "2021-01-08T22:32:50.193917",
     "exception": false,
     "start_time": "2021-01-08T22:32:49.776638",
     "status": "completed"
    },
    "tags": []
   },
   "source": [
    "Plot the train and validation loss and accuracies"
   ]
  },
  {
   "cell_type": "code",
   "execution_count": 13,
   "metadata": {
    "execution": {
     "iopub.execute_input": "2021-01-08T22:32:51.034410Z",
     "iopub.status.busy": "2021-01-08T22:32:51.033534Z",
     "iopub.status.idle": "2021-01-08T22:32:51.478686Z",
     "shell.execute_reply": "2021-01-08T22:32:51.478154Z"
    },
    "papermill": {
     "duration": 0.876198,
     "end_time": "2021-01-08T22:32:51.478838",
     "exception": false,
     "start_time": "2021-01-08T22:32:50.602640",
     "status": "completed"
    },
    "tags": []
   },
   "outputs": [
    {
     "data": {
      "image/png": "[encoded data removed]",
      "text/plain": [
       "<Figure size 432x288 with 1 Axes>"
      ]
     },
     "metadata": {
      "needs_background": "light"
     },
     "output_type": "display_data"
    },
    {
     "data": {
      "image/png": "[encoded data removed]",
      "text/plain": [
       "<Figure size 432x288 with 1 Axes>"
      ]
     },
     "metadata": {
      "needs_background": "light"
     },
     "output_type": "display_data"
    }
   ],
   "source": [
    "history_frame = pd.DataFrame(history.history)\n",
    "history_frame.loc[:, ['loss', 'val_loss']].plot()\n",
    "history_frame.loc[:, ['binary_accuracy', 'val_binary_accuracy']].plot();"
   ]
  },
  {
   "cell_type": "code",
   "execution_count": 14,
   "metadata": {
    "execution": {
     "iopub.execute_input": "2021-01-08T22:32:52.357716Z",
     "iopub.status.busy": "2021-01-08T22:32:52.356819Z",
     "iopub.status.idle": "2021-01-08T22:32:52.361425Z",
     "shell.execute_reply": "2021-01-08T22:32:52.361963Z"
    },
    "papermill": {
     "duration": 0.419307,
     "end_time": "2021-01-08T22:32:52.362102",
     "exception": false,
     "start_time": "2021-01-08T22:32:51.942795",
     "status": "completed"
    },
    "tags": []
   },
   "outputs": [
    {
     "name": "stdout",
     "output_type": "stream",
     "text": [
      "Total execution time is : 92 minutes\n"
     ]
    }
   ],
   "source": [
    "# Display the exeuction time\n",
    "print('Total execution time is :',round((time.time() - start_time)/60),'minutes')"
   ]
  }
 ],
 "metadata": {
  "kernelspec": {
   "display_name": "Python 3",
   "language": "python",
   "name": "python3"
  },
  "language_info": {
   "codemirror_mode": {
    "name": "ipython",
    "version": 3
   },
   "file_extension": ".py",
   "mimetype": "text/x-python",
   "name": "python",
   "nbconvert_exporter": "python",
   "pygments_lexer": "ipython3",
   "version": "3.9.1"
  },
  "papermill": {
   "duration": 5525.783975,
   "end_time": "2021-01-08T22:32:54.482010",
   "environment_variables": {},
   "exception": null,
   "input_path": "__notebook__.ipynb",
   "output_path": "__notebook__.ipynb",
   "parameters": {},
   "start_time": "2021-01-08T21:00:48.698035",
   "version": "2.1.0"
  }
 },
 "nbformat": 4,
 "nbformat_minor": 4
}
